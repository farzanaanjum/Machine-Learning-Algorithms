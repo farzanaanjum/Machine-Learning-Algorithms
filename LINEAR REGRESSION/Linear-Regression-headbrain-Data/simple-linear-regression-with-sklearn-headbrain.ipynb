{
 "cells": [
  {
   "cell_type": "markdown",
   "metadata": {
    "papermill": {
     "duration": 0.026595,
     "end_time": "2021-01-09T10:00:56.249503",
     "exception": false,
     "start_time": "2021-01-09T10:00:56.222908",
     "status": "completed"
    },
    "tags": []
   },
   "source": [
    "### Machine Learning Algorithm - Regression"
   ]
  },
  {
   "cell_type": "markdown",
   "metadata": {
    "papermill": {
     "duration": 0.024484,
     "end_time": "2021-01-09T10:00:56.298863",
     "exception": false,
     "start_time": "2021-01-09T10:00:56.274379",
     "status": "completed"
    },
    "tags": []
   },
   "source": [
    "#### Simple Linear Regression - SKLearn"
   ]
  },
  {
   "cell_type": "markdown",
   "metadata": {
    "papermill": {
     "duration": 0.024879,
     "end_time": "2021-01-09T10:00:56.348793",
     "exception": false,
     "start_time": "2021-01-09T10:00:56.323914",
     "status": "completed"
    },
    "tags": []
   },
   "source": [
    "Implementation using Python (NumPy, Pandas, Matplotlib, Seaborn & Scikit-Learn)"
   ]
  },
  {
   "cell_type": "code",
   "execution_count": 1,
   "metadata": {
    "execution": {
     "iopub.execute_input": "2021-01-09T10:00:56.404723Z",
     "iopub.status.busy": "2021-01-09T10:00:56.403971Z",
     "iopub.status.idle": "2021-01-09T10:00:57.410369Z",
     "shell.execute_reply": "2021-01-09T10:00:57.409294Z"
    },
    "papermill": {
     "duration": 1.036858,
     "end_time": "2021-01-09T10:00:57.410603",
     "exception": false,
     "start_time": "2021-01-09T10:00:56.373745",
     "status": "completed"
    },
    "tags": []
   },
   "outputs": [],
   "source": [
    "# Importing libraries\n",
    "# -------------------\n",
    "import numpy as np\n",
    "import pandas as pd\n",
    "\n",
    "import matplotlib.pyplot as plt\n",
    "import seaborn as sns"
   ]
  },
  {
   "cell_type": "code",
   "execution_count": 2,
   "metadata": {
    "execution": {
     "iopub.execute_input": "2021-01-09T10:00:57.473147Z",
     "iopub.status.busy": "2021-01-09T10:00:57.472378Z",
     "iopub.status.idle": "2021-01-09T10:00:57.487040Z",
     "shell.execute_reply": "2021-01-09T10:00:57.486274Z"
    },
    "papermill": {
     "duration": 0.050675,
     "end_time": "2021-01-09T10:00:57.487165",
     "exception": false,
     "start_time": "2021-01-09T10:00:57.436490",
     "status": "completed"
    },
    "tags": []
   },
   "outputs": [],
   "source": [
    "# Importing the dataset\n",
    "# ---------------------\n",
    "dataset = pd.read_csv('headbrain.csv')"
   ]
  },
  {
   "cell_type": "code",
   "execution_count": 3,
   "metadata": {
    "execution": {
     "iopub.execute_input": "2021-01-09T10:00:57.544945Z",
     "iopub.status.busy": "2021-01-09T10:00:57.544031Z",
     "iopub.status.idle": "2021-01-09T10:00:57.548596Z",
     "shell.execute_reply": "2021-01-09T10:00:57.548030Z"
    },
    "papermill": {
     "duration": 0.036099,
     "end_time": "2021-01-09T10:00:57.548714",
     "exception": false,
     "start_time": "2021-01-09T10:00:57.512615",
     "status": "completed"
    },
    "tags": []
   },
   "outputs": [
    {
     "data": {
      "text/plain": [
       "(237, 4)"
      ]
     },
     "execution_count": 3,
     "metadata": {},
     "output_type": "execute_result"
    }
   ],
   "source": [
    "dataset.shape"
   ]
  },
  {
   "cell_type": "code",
   "execution_count": 4,
   "metadata": {
    "execution": {
     "iopub.execute_input": "2021-01-09T10:00:57.611161Z",
     "iopub.status.busy": "2021-01-09T10:00:57.610477Z",
     "iopub.status.idle": "2021-01-09T10:00:57.623536Z",
     "shell.execute_reply": "2021-01-09T10:00:57.624067Z"
    },
    "papermill": {
     "duration": 0.049171,
     "end_time": "2021-01-09T10:00:57.624208",
     "exception": false,
     "start_time": "2021-01-09T10:00:57.575037",
     "status": "completed"
    },
    "tags": []
   },
   "outputs": [
    {
     "data": {
      "text/html": [
       "<div>\n",
       "<style scoped>\n",
       "    .dataframe tbody tr th:only-of-type {\n",
       "        vertical-align: middle;\n",
       "    }\n",
       "\n",
       "    .dataframe tbody tr th {\n",
       "        vertical-align: top;\n",
       "    }\n",
       "\n",
       "    .dataframe thead th {\n",
       "        text-align: right;\n",
       "    }\n",
       "</style>\n",
       "<table border=\"1\" class=\"dataframe\">\n",
       "  <thead>\n",
       "    <tr style=\"text-align: right;\">\n",
       "      <th></th>\n",
       "      <th>Gender</th>\n",
       "      <th>Age Range</th>\n",
       "      <th>Head Size(cm^3)</th>\n",
       "      <th>Brain Weight(grams)</th>\n",
       "    </tr>\n",
       "  </thead>\n",
       "  <tbody>\n",
       "    <tr>\n",
       "      <th>0</th>\n",
       "      <td>1</td>\n",
       "      <td>1</td>\n",
       "      <td>4512</td>\n",
       "      <td>1530</td>\n",
       "    </tr>\n",
       "    <tr>\n",
       "      <th>1</th>\n",
       "      <td>1</td>\n",
       "      <td>1</td>\n",
       "      <td>3738</td>\n",
       "      <td>1297</td>\n",
       "    </tr>\n",
       "    <tr>\n",
       "      <th>2</th>\n",
       "      <td>1</td>\n",
       "      <td>1</td>\n",
       "      <td>4261</td>\n",
       "      <td>1335</td>\n",
       "    </tr>\n",
       "    <tr>\n",
       "      <th>3</th>\n",
       "      <td>1</td>\n",
       "      <td>1</td>\n",
       "      <td>3777</td>\n",
       "      <td>1282</td>\n",
       "    </tr>\n",
       "    <tr>\n",
       "      <th>4</th>\n",
       "      <td>1</td>\n",
       "      <td>1</td>\n",
       "      <td>4177</td>\n",
       "      <td>1590</td>\n",
       "    </tr>\n",
       "  </tbody>\n",
       "</table>\n",
       "</div>"
      ],
      "text/plain": [
       "   Gender  Age Range  Head Size(cm^3)  Brain Weight(grams)\n",
       "0       1          1             4512                 1530\n",
       "1       1          1             3738                 1297\n",
       "2       1          1             4261                 1335\n",
       "3       1          1             3777                 1282\n",
       "4       1          1             4177                 1590"
      ]
     },
     "execution_count": 4,
     "metadata": {},
     "output_type": "execute_result"
    }
   ],
   "source": [
    "dataset.head()"
   ]
  },
  {
   "cell_type": "code",
   "execution_count": 5,
   "metadata": {
    "execution": {
     "iopub.execute_input": "2021-01-09T10:00:57.682400Z",
     "iopub.status.busy": "2021-01-09T10:00:57.681701Z",
     "iopub.status.idle": "2021-01-09T10:00:57.691965Z",
     "shell.execute_reply": "2021-01-09T10:00:57.691397Z"
    },
    "papermill": {
     "duration": 0.040679,
     "end_time": "2021-01-09T10:00:57.692083",
     "exception": false,
     "start_time": "2021-01-09T10:00:57.651404",
     "status": "completed"
    },
    "tags": []
   },
   "outputs": [
    {
     "data": {
      "text/html": [
       "<div>\n",
       "<style scoped>\n",
       "    .dataframe tbody tr th:only-of-type {\n",
       "        vertical-align: middle;\n",
       "    }\n",
       "\n",
       "    .dataframe tbody tr th {\n",
       "        vertical-align: top;\n",
       "    }\n",
       "\n",
       "    .dataframe thead th {\n",
       "        text-align: right;\n",
       "    }\n",
       "</style>\n",
       "<table border=\"1\" class=\"dataframe\">\n",
       "  <thead>\n",
       "    <tr style=\"text-align: right;\">\n",
       "      <th></th>\n",
       "      <th>Gender</th>\n",
       "      <th>Age Range</th>\n",
       "      <th>Head Size(cm^3)</th>\n",
       "      <th>Brain Weight(grams)</th>\n",
       "    </tr>\n",
       "  </thead>\n",
       "  <tbody>\n",
       "    <tr>\n",
       "      <th>232</th>\n",
       "      <td>2</td>\n",
       "      <td>2</td>\n",
       "      <td>3214</td>\n",
       "      <td>1110</td>\n",
       "    </tr>\n",
       "    <tr>\n",
       "      <th>233</th>\n",
       "      <td>2</td>\n",
       "      <td>2</td>\n",
       "      <td>3394</td>\n",
       "      <td>1215</td>\n",
       "    </tr>\n",
       "    <tr>\n",
       "      <th>234</th>\n",
       "      <td>2</td>\n",
       "      <td>2</td>\n",
       "      <td>3233</td>\n",
       "      <td>1104</td>\n",
       "    </tr>\n",
       "    <tr>\n",
       "      <th>235</th>\n",
       "      <td>2</td>\n",
       "      <td>2</td>\n",
       "      <td>3352</td>\n",
       "      <td>1170</td>\n",
       "    </tr>\n",
       "    <tr>\n",
       "      <th>236</th>\n",
       "      <td>2</td>\n",
       "      <td>2</td>\n",
       "      <td>3391</td>\n",
       "      <td>1120</td>\n",
       "    </tr>\n",
       "  </tbody>\n",
       "</table>\n",
       "</div>"
      ],
      "text/plain": [
       "     Gender  Age Range  Head Size(cm^3)  Brain Weight(grams)\n",
       "232       2          2             3214                 1110\n",
       "233       2          2             3394                 1215\n",
       "234       2          2             3233                 1104\n",
       "235       2          2             3352                 1170\n",
       "236       2          2             3391                 1120"
      ]
     },
     "execution_count": 5,
     "metadata": {},
     "output_type": "execute_result"
    }
   ],
   "source": [
    "dataset.tail()"
   ]
  },
  {
   "cell_type": "code",
   "execution_count": 6,
   "metadata": {
    "execution": {
     "iopub.execute_input": "2021-01-09T10:00:57.756625Z",
     "iopub.status.busy": "2021-01-09T10:00:57.755934Z",
     "iopub.status.idle": "2021-01-09T10:00:57.760653Z",
     "shell.execute_reply": "2021-01-09T10:00:57.760091Z"
    },
    "papermill": {
     "duration": 0.040785,
     "end_time": "2021-01-09T10:00:57.760775",
     "exception": false,
     "start_time": "2021-01-09T10:00:57.719990",
     "status": "completed"
    },
    "tags": []
   },
   "outputs": [
    {
     "data": {
      "text/plain": [
       "Gender                 0\n",
       "Age Range              0\n",
       "Head Size(cm^3)        0\n",
       "Brain Weight(grams)    0\n",
       "dtype: int64"
      ]
     },
     "execution_count": 6,
     "metadata": {},
     "output_type": "execute_result"
    }
   ],
   "source": [
    "# Checking for null values\n",
    "dataset.isnull().sum()"
   ]
  },
  {
   "cell_type": "code",
   "execution_count": 7,
   "metadata": {
    "execution": {
     "iopub.execute_input": "2021-01-09T10:00:57.823454Z",
     "iopub.status.busy": "2021-01-09T10:00:57.822680Z",
     "iopub.status.idle": "2021-01-09T10:00:57.826363Z",
     "shell.execute_reply": "2021-01-09T10:00:57.826897Z"
    },
    "papermill": {
     "duration": 0.038313,
     "end_time": "2021-01-09T10:00:57.827041",
     "exception": false,
     "start_time": "2021-01-09T10:00:57.788728",
     "status": "completed"
    },
    "tags": []
   },
   "outputs": [
    {
     "data": {
      "text/plain": [
       "2"
      ]
     },
     "execution_count": 7,
     "metadata": {},
     "output_type": "execute_result"
    }
   ],
   "source": [
    "dataset['Age Range'].max()"
   ]
  },
  {
   "cell_type": "code",
   "execution_count": 8,
   "metadata": {
    "execution": {
     "iopub.execute_input": "2021-01-09T10:00:57.890642Z",
     "iopub.status.busy": "2021-01-09T10:00:57.889922Z",
     "iopub.status.idle": "2021-01-09T10:00:57.892737Z",
     "shell.execute_reply": "2021-01-09T10:00:57.893208Z"
    },
    "papermill": {
     "duration": 0.037839,
     "end_time": "2021-01-09T10:00:57.893355",
     "exception": false,
     "start_time": "2021-01-09T10:00:57.855516",
     "status": "completed"
    },
    "tags": []
   },
   "outputs": [
    {
     "data": {
      "text/plain": [
       "1"
      ]
     },
     "execution_count": 8,
     "metadata": {},
     "output_type": "execute_result"
    }
   ],
   "source": [
    "dataset['Age Range'].min()"
   ]
  },
  {
   "cell_type": "code",
   "execution_count": 9,
   "metadata": {
    "execution": {
     "iopub.execute_input": "2021-01-09T10:00:57.956284Z",
     "iopub.status.busy": "2021-01-09T10:00:57.955669Z",
     "iopub.status.idle": "2021-01-09T10:00:58.224053Z",
     "shell.execute_reply": "2021-01-09T10:00:58.223484Z"
    },
    "papermill": {
     "duration": 0.301366,
     "end_time": "2021-01-09T10:00:58.224171",
     "exception": false,
     "start_time": "2021-01-09T10:00:57.922805",
     "status": "completed"
    },
    "tags": []
   },
   "outputs": [
    {
     "data": {
      "image/png": "[encoded data removed]",
      "text/plain": [
       "<Figure size 432x288 with 1 Axes>"
      ]
     },
     "metadata": {
      "needs_background": "light"
     },
     "output_type": "display_data"
    }
   ],
   "source": [
    "sns.scatterplot(data=dataset, x=\"Head Size(cm^3)\", y=\"Brain Weight(grams)\")\n",
    "plt.show()"
   ]
  },
  {
   "cell_type": "code",
   "execution_count": 10,
   "metadata": {
    "execution": {
     "iopub.execute_input": "2021-01-09T10:00:58.296676Z",
     "iopub.status.busy": "2021-01-09T10:00:58.291225Z",
     "iopub.status.idle": "2021-01-09T10:00:58.901842Z",
     "shell.execute_reply": "2021-01-09T10:00:58.902295Z"
    },
    "papermill": {
     "duration": 0.648211,
     "end_time": "2021-01-09T10:00:58.902470",
     "exception": false,
     "start_time": "2021-01-09T10:00:58.254259",
     "status": "completed"
    },
    "tags": []
   },
   "outputs": [
    {
     "data": {
      "image/png": "[encoded data removed]",
      "text/plain": [
       "<Figure size 404.875x360 with 1 Axes>"
      ]
     },
     "metadata": {
      "needs_background": "light"
     },
     "output_type": "display_data"
    }
   ],
   "source": [
    "sns.lmplot(x='Head Size(cm^3)', y='Brain Weight(grams)', hue='Gender', data=dataset)\n",
    "plt.show()"
   ]
  },
  {
   "cell_type": "code",
   "execution_count": 11,
   "metadata": {
    "execution": {
     "iopub.execute_input": "2021-01-09T10:00:58.971526Z",
     "iopub.status.busy": "2021-01-09T10:00:58.970778Z",
     "iopub.status.idle": "2021-01-09T10:00:59.565413Z",
     "shell.execute_reply": "2021-01-09T10:00:59.565965Z"
    },
    "papermill": {
     "duration": 0.632222,
     "end_time": "2021-01-09T10:00:59.566119",
     "exception": false,
     "start_time": "2021-01-09T10:00:58.933897",
     "status": "completed"
    },
    "tags": []
   },
   "outputs": [
    {
     "data": {
      "image/png": "[encoded data removed]",
      "text/plain": [
       "<Figure size 422.375x360 with 1 Axes>"
      ]
     },
     "metadata": {
      "needs_background": "light"
     },
     "output_type": "display_data"
    }
   ],
   "source": [
    "sns.lmplot(x='Head Size(cm^3)', y='Brain Weight(grams)', hue='Age Range', data=dataset)\n",
    "plt.show()"
   ]
  },
  {
   "cell_type": "code",
   "execution_count": 12,
   "metadata": {
    "execution": {
     "iopub.execute_input": "2021-01-09T10:00:59.636627Z",
     "iopub.status.busy": "2021-01-09T10:00:59.635930Z",
     "iopub.status.idle": "2021-01-09T10:00:59.947406Z",
     "shell.execute_reply": "2021-01-09T10:00:59.948004Z"
    },
    "papermill": {
     "duration": 0.347952,
     "end_time": "2021-01-09T10:00:59.948155",
     "exception": false,
     "start_time": "2021-01-09T10:00:59.600203",
     "status": "completed"
    },
    "tags": []
   },
   "outputs": [
    {
     "data": {
      "image/png": "[encoded data removed]",
      "text/plain": [
       "<Figure size 432x288 with 1 Axes>"
      ]
     },
     "metadata": {
      "needs_background": "light"
     },
     "output_type": "display_data"
    }
   ],
   "source": [
    "sns.regplot(x=dataset['Head Size(cm^3)'], y=dataset['Brain Weight(grams)'])\n",
    "plt.show()"
   ]
  },
  {
   "cell_type": "code",
   "execution_count": 13,
   "metadata": {
    "execution": {
     "iopub.execute_input": "2021-01-09T10:01:00.022091Z",
     "iopub.status.busy": "2021-01-09T10:01:00.021464Z",
     "iopub.status.idle": "2021-01-09T10:01:00.047383Z",
     "shell.execute_reply": "2021-01-09T10:01:00.046758Z"
    },
    "papermill": {
     "duration": 0.065199,
     "end_time": "2021-01-09T10:01:00.047511",
     "exception": false,
     "start_time": "2021-01-09T10:00:59.982312",
     "status": "completed"
    },
    "tags": []
   },
   "outputs": [
    {
     "data": {
      "text/html": [
       "<div>\n",
       "<style scoped>\n",
       "    .dataframe tbody tr th:only-of-type {\n",
       "        vertical-align: middle;\n",
       "    }\n",
       "\n",
       "    .dataframe tbody tr th {\n",
       "        vertical-align: top;\n",
       "    }\n",
       "\n",
       "    .dataframe thead th {\n",
       "        text-align: right;\n",
       "    }\n",
       "</style>\n",
       "<table border=\"1\" class=\"dataframe\">\n",
       "  <thead>\n",
       "    <tr style=\"text-align: right;\">\n",
       "      <th></th>\n",
       "      <th>Gender</th>\n",
       "      <th>Age Range</th>\n",
       "      <th>Head Size(cm^3)</th>\n",
       "      <th>Brain Weight(grams)</th>\n",
       "    </tr>\n",
       "  </thead>\n",
       "  <tbody>\n",
       "    <tr>\n",
       "      <th>count</th>\n",
       "      <td>237.000000</td>\n",
       "      <td>237.000000</td>\n",
       "      <td>237.000000</td>\n",
       "      <td>237.000000</td>\n",
       "    </tr>\n",
       "    <tr>\n",
       "      <th>mean</th>\n",
       "      <td>1.434599</td>\n",
       "      <td>1.535865</td>\n",
       "      <td>3633.991561</td>\n",
       "      <td>1282.873418</td>\n",
       "    </tr>\n",
       "    <tr>\n",
       "      <th>std</th>\n",
       "      <td>0.496753</td>\n",
       "      <td>0.499768</td>\n",
       "      <td>365.261422</td>\n",
       "      <td>120.340446</td>\n",
       "    </tr>\n",
       "    <tr>\n",
       "      <th>min</th>\n",
       "      <td>1.000000</td>\n",
       "      <td>1.000000</td>\n",
       "      <td>2720.000000</td>\n",
       "      <td>955.000000</td>\n",
       "    </tr>\n",
       "    <tr>\n",
       "      <th>25%</th>\n",
       "      <td>1.000000</td>\n",
       "      <td>1.000000</td>\n",
       "      <td>3389.000000</td>\n",
       "      <td>1207.000000</td>\n",
       "    </tr>\n",
       "    <tr>\n",
       "      <th>50%</th>\n",
       "      <td>1.000000</td>\n",
       "      <td>2.000000</td>\n",
       "      <td>3614.000000</td>\n",
       "      <td>1280.000000</td>\n",
       "    </tr>\n",
       "    <tr>\n",
       "      <th>75%</th>\n",
       "      <td>2.000000</td>\n",
       "      <td>2.000000</td>\n",
       "      <td>3876.000000</td>\n",
       "      <td>1350.000000</td>\n",
       "    </tr>\n",
       "    <tr>\n",
       "      <th>max</th>\n",
       "      <td>2.000000</td>\n",
       "      <td>2.000000</td>\n",
       "      <td>4747.000000</td>\n",
       "      <td>1635.000000</td>\n",
       "    </tr>\n",
       "  </tbody>\n",
       "</table>\n",
       "</div>"
      ],
      "text/plain": [
       "           Gender   Age Range  Head Size(cm^3)  Brain Weight(grams)\n",
       "count  237.000000  237.000000       237.000000           237.000000\n",
       "mean     1.434599    1.535865      3633.991561          1282.873418\n",
       "std      0.496753    0.499768       365.261422           120.340446\n",
       "min      1.000000    1.000000      2720.000000           955.000000\n",
       "25%      1.000000    1.000000      3389.000000          1207.000000\n",
       "50%      1.000000    2.000000      3614.000000          1280.000000\n",
       "75%      2.000000    2.000000      3876.000000          1350.000000\n",
       "max      2.000000    2.000000      4747.000000          1635.000000"
      ]
     },
     "execution_count": 13,
     "metadata": {},
     "output_type": "execute_result"
    }
   ],
   "source": [
    "dataset.describe()"
   ]
  },
  {
   "cell_type": "code",
   "execution_count": 14,
   "metadata": {
    "execution": {
     "iopub.execute_input": "2021-01-09T10:01:00.132153Z",
     "iopub.status.busy": "2021-01-09T10:01:00.131199Z",
     "iopub.status.idle": "2021-01-09T10:01:00.135301Z",
     "shell.execute_reply": "2021-01-09T10:01:00.134805Z"
    },
    "papermill": {
     "duration": 0.052392,
     "end_time": "2021-01-09T10:01:00.135433",
     "exception": false,
     "start_time": "2021-01-09T10:01:00.083041",
     "status": "completed"
    },
    "tags": []
   },
   "outputs": [
    {
     "name": "stdout",
     "output_type": "stream",
     "text": [
      "<class 'pandas.core.frame.DataFrame'>\n",
      "RangeIndex: 237 entries, 0 to 236\n",
      "Data columns (total 4 columns):\n",
      " #   Column               Non-Null Count  Dtype\n",
      "---  ------               --------------  -----\n",
      " 0   Gender               237 non-null    int64\n",
      " 1   Age Range            237 non-null    int64\n",
      " 2   Head Size(cm^3)      237 non-null    int64\n",
      " 3   Brain Weight(grams)  237 non-null    int64\n",
      "dtypes: int64(4)\n",
      "memory usage: 7.5 KB\n"
     ]
    }
   ],
   "source": [
    "dataset.info()"
   ]
  },
  {
   "cell_type": "code",
   "execution_count": 15,
   "metadata": {
    "execution": {
     "iopub.execute_input": "2021-01-09T10:01:00.213495Z",
     "iopub.status.busy": "2021-01-09T10:01:00.212809Z",
     "iopub.status.idle": "2021-01-09T10:01:00.215650Z",
     "shell.execute_reply": "2021-01-09T10:01:00.214982Z"
    },
    "papermill": {
     "duration": 0.044078,
     "end_time": "2021-01-09T10:01:00.215765",
     "exception": false,
     "start_time": "2021-01-09T10:01:00.171687",
     "status": "completed"
    },
    "tags": []
   },
   "outputs": [],
   "source": [
    "X = dataset.iloc[:, 2].values    # predictor \n",
    "y = dataset.iloc[:, 3].values    # target"
   ]
  },
  {
   "cell_type": "code",
   "execution_count": 16,
   "metadata": {
    "execution": {
     "iopub.execute_input": "2021-01-09T10:01:00.315007Z",
     "iopub.status.busy": "2021-01-09T10:01:00.294209Z",
     "iopub.status.idle": "2021-01-09T10:01:00.481872Z",
     "shell.execute_reply": "2021-01-09T10:01:00.482343Z"
    },
    "papermill": {
     "duration": 0.231141,
     "end_time": "2021-01-09T10:01:00.482510",
     "exception": false,
     "start_time": "2021-01-09T10:01:00.251369",
     "status": "completed"
    },
    "tags": []
   },
   "outputs": [
    {
     "data": {
      "image/png": "[encoded data removed]",
      "text/plain": [
       "<Figure size 432x288 with 1 Axes>"
      ]
     },
     "metadata": {
      "needs_background": "light"
     },
     "output_type": "display_data"
    }
   ],
   "source": [
    "# Plot the Input Data\n",
    "# -------------------\n",
    "plt.scatter(X, y, color='green', label='Data Points')\n",
    "plt.xlabel('Head Size in cm3')\n",
    "plt.ylabel('Brain Weight in grams')\n",
    "plt.legend()\n",
    "plt.show()"
   ]
  },
  {
   "cell_type": "code",
   "execution_count": 18,
   "metadata": {
    "execution": {
     "iopub.execute_input": "2021-01-09T10:01:00.631999Z",
     "iopub.status.busy": "2021-01-09T10:01:00.631363Z",
     "iopub.status.idle": "2021-01-09T10:01:00.930094Z",
     "shell.execute_reply": "2021-01-09T10:01:00.929484Z"
    },
    "papermill": {
     "duration": 0.337849,
     "end_time": "2021-01-09T10:01:00.930220",
     "exception": false,
     "start_time": "2021-01-09T10:01:00.592371",
     "status": "completed"
    },
    "tags": []
   },
   "outputs": [],
   "source": [
    "from sklearn.linear_model import LinearRegression"
   ]
  },
  {
   "cell_type": "code",
   "execution_count": 19,
   "metadata": {
    "execution": {
     "iopub.execute_input": "2021-01-09T10:01:01.011593Z",
     "iopub.status.busy": "2021-01-09T10:01:01.010914Z",
     "iopub.status.idle": "2021-01-09T10:01:01.014383Z",
     "shell.execute_reply": "2021-01-09T10:01:01.013868Z"
    },
    "papermill": {
     "duration": 0.046476,
     "end_time": "2021-01-09T10:01:01.014544",
     "exception": false,
     "start_time": "2021-01-09T10:01:00.968068",
     "status": "completed"
    },
    "tags": []
   },
   "outputs": [],
   "source": [
    "# Simple Linear Regression - using Scikit-Learn\n",
    "# ---------------------------------------------\n",
    "# Model definition\n",
    "# ----------------\n",
    "model = LinearRegression()   # Ordinary least squares (OLS) Linear Regression"
   ]
  },
  {
   "cell_type": "markdown",
   "metadata": {
    "papermill": {
     "duration": 0.036489,
     "end_time": "2021-01-09T10:01:01.088282",
     "exception": false,
     "start_time": "2021-01-09T10:01:01.051793",
     "status": "completed"
    },
    "tags": []
   },
   "source": [
    "Link: https://scikit-learn.org/stable/modules/linear_model.html#ordinary-least-squares"
   ]
  },
  {
   "cell_type": "code",
   "execution_count": 20,
   "metadata": {
    "execution": {
     "iopub.execute_input": "2021-01-09T10:01:01.165961Z",
     "iopub.status.busy": "2021-01-09T10:01:01.165222Z",
     "iopub.status.idle": "2021-01-09T10:01:01.170906Z",
     "shell.execute_reply": "2021-01-09T10:01:01.170229Z"
    },
    "papermill": {
     "duration": 0.045656,
     "end_time": "2021-01-09T10:01:01.171018",
     "exception": false,
     "start_time": "2021-01-09T10:01:01.125362",
     "status": "completed"
    },
    "tags": []
   },
   "outputs": [
    {
     "data": {
      "text/plain": [
       "(237,)"
      ]
     },
     "execution_count": 20,
     "metadata": {},
     "output_type": "execute_result"
    }
   ],
   "source": [
    "X.shape"
   ]
  },
  {
   "cell_type": "code",
   "execution_count": 21,
   "metadata": {
    "execution": {
     "iopub.execute_input": "2021-01-09T10:01:01.251329Z",
     "iopub.status.busy": "2021-01-09T10:01:01.250485Z",
     "iopub.status.idle": "2021-01-09T10:01:01.253308Z",
     "shell.execute_reply": "2021-01-09T10:01:01.252808Z"
    },
    "papermill": {
     "duration": 0.045153,
     "end_time": "2021-01-09T10:01:01.253443",
     "exception": false,
     "start_time": "2021-01-09T10:01:01.208290",
     "status": "completed"
    },
    "tags": []
   },
   "outputs": [],
   "source": [
    "X = X.reshape((len(X), 1))  # We cannot use rank 1 matrices in sklearn so we reshape"
   ]
  },
  {
   "cell_type": "code",
   "execution_count": 22,
   "metadata": {
    "execution": {
     "iopub.execute_input": "2021-01-09T10:01:01.362274Z",
     "iopub.status.busy": "2021-01-09T10:01:01.361261Z",
     "iopub.status.idle": "2021-01-09T10:01:01.368612Z",
     "shell.execute_reply": "2021-01-09T10:01:01.369392Z"
    },
    "papermill": {
     "duration": 0.076953,
     "end_time": "2021-01-09T10:01:01.369624",
     "exception": false,
     "start_time": "2021-01-09T10:01:01.292671",
     "status": "completed"
    },
    "tags": []
   },
   "outputs": [
    {
     "data": {
      "text/plain": [
       "(237, 1)"
      ]
     },
     "execution_count": 22,
     "metadata": {},
     "output_type": "execute_result"
    }
   ],
   "source": [
    "X.shape"
   ]
  },
  {
   "cell_type": "code",
   "execution_count": 23,
   "metadata": {
    "execution": {
     "iopub.execute_input": "2021-01-09T10:01:01.472154Z",
     "iopub.status.busy": "2021-01-09T10:01:01.471060Z",
     "iopub.status.idle": "2021-01-09T10:01:01.485496Z",
     "shell.execute_reply": "2021-01-09T10:01:01.486238Z"
    },
    "papermill": {
     "duration": 0.066122,
     "end_time": "2021-01-09T10:01:01.486485",
     "exception": false,
     "start_time": "2021-01-09T10:01:01.420363",
     "status": "completed"
    },
    "tags": []
   },
   "outputs": [
    {
     "data": {
      "text/plain": [
       "LinearRegression(copy_X=True, fit_intercept=True, n_jobs=None, normalize=False)"
      ]
     },
     "execution_count": 23,
     "metadata": {},
     "output_type": "execute_result"
    }
   ],
   "source": [
    "# Model fitting\n",
    "# -------------\n",
    "model.fit(X, y)   "
   ]
  },
  {
   "cell_type": "code",
   "execution_count": 24,
   "metadata": {
    "execution": {
     "iopub.execute_input": "2021-01-09T10:01:01.625503Z",
     "iopub.status.busy": "2021-01-09T10:01:01.622518Z",
     "iopub.status.idle": "2021-01-09T10:01:01.629975Z",
     "shell.execute_reply": "2021-01-09T10:01:01.629279Z"
    },
    "papermill": {
     "duration": 0.079157,
     "end_time": "2021-01-09T10:01:01.630124",
     "exception": false,
     "start_time": "2021-01-09T10:01:01.550967",
     "status": "completed"
    },
    "tags": []
   },
   "outputs": [
    {
     "data": {
      "text/plain": [
       "array([0.26342934])"
      ]
     },
     "execution_count": 24,
     "metadata": {},
     "output_type": "execute_result"
    }
   ],
   "source": [
    "model.coef_"
   ]
  },
  {
   "cell_type": "code",
   "execution_count": 25,
   "metadata": {
    "execution": {
     "iopub.execute_input": "2021-01-09T10:01:01.728169Z",
     "iopub.status.busy": "2021-01-09T10:01:01.727298Z",
     "iopub.status.idle": "2021-01-09T10:01:01.730638Z",
     "shell.execute_reply": "2021-01-09T10:01:01.731141Z"
    },
    "papermill": {
     "duration": 0.049438,
     "end_time": "2021-01-09T10:01:01.731292",
     "exception": false,
     "start_time": "2021-01-09T10:01:01.681854",
     "status": "completed"
    },
    "tags": []
   },
   "outputs": [
    {
     "data": {
      "text/plain": [
       "325.5734210494428"
      ]
     },
     "execution_count": 25,
     "metadata": {},
     "output_type": "execute_result"
    }
   ],
   "source": [
    "model.intercept_"
   ]
  },
  {
   "cell_type": "code",
   "execution_count": 26,
   "metadata": {
    "execution": {
     "iopub.execute_input": "2021-01-09T10:01:01.815270Z",
     "iopub.status.busy": "2021-01-09T10:01:01.814206Z",
     "iopub.status.idle": "2021-01-09T10:01:01.817994Z",
     "shell.execute_reply": "2021-01-09T10:01:01.818559Z"
    },
    "papermill": {
     "duration": 0.047593,
     "end_time": "2021-01-09T10:01:01.818723",
     "exception": false,
     "start_time": "2021-01-09T10:01:01.771130",
     "status": "completed"
    },
    "tags": []
   },
   "outputs": [],
   "source": [
    "# X"
   ]
  },
  {
   "cell_type": "code",
   "execution_count": 27,
   "metadata": {
    "execution": {
     "iopub.execute_input": "2021-01-09T10:01:01.905585Z",
     "iopub.status.busy": "2021-01-09T10:01:01.903599Z",
     "iopub.status.idle": "2021-01-09T10:01:01.907565Z",
     "shell.execute_reply": "2021-01-09T10:01:01.908160Z"
    },
    "papermill": {
     "duration": 0.048495,
     "end_time": "2021-01-09T10:01:01.908302",
     "exception": false,
     "start_time": "2021-01-09T10:01:01.859807",
     "status": "completed"
    },
    "tags": []
   },
   "outputs": [],
   "source": [
    "# Model prediction\n",
    "# ----------------\n",
    "y_pred = model.predict(X)"
   ]
  },
  {
   "cell_type": "code",
   "execution_count": 28,
   "metadata": {
    "execution": {
     "iopub.execute_input": "2021-01-09T10:01:01.994311Z",
     "iopub.status.busy": "2021-01-09T10:01:01.993196Z",
     "iopub.status.idle": "2021-01-09T10:01:01.997691Z",
     "shell.execute_reply": "2021-01-09T10:01:01.998204Z"
    },
    "papermill": {
     "duration": 0.049774,
     "end_time": "2021-01-09T10:01:01.998359",
     "exception": false,
     "start_time": "2021-01-09T10:01:01.948585",
     "status": "completed"
    },
    "tags": []
   },
   "outputs": [],
   "source": [
    "# y_pred"
   ]
  },
  {
   "cell_type": "code",
   "execution_count": 29,
   "metadata": {
    "execution": {
     "iopub.execute_input": "2021-01-09T10:01:02.084845Z",
     "iopub.status.busy": "2021-01-09T10:01:02.083841Z",
     "iopub.status.idle": "2021-01-09T10:01:02.281554Z",
     "shell.execute_reply": "2021-01-09T10:01:02.282096Z"
    },
    "papermill": {
     "duration": 0.241961,
     "end_time": "2021-01-09T10:01:02.282243",
     "exception": false,
     "start_time": "2021-01-09T10:01:02.040282",
     "status": "completed"
    },
    "tags": []
   },
   "outputs": [
    {
     "data": {
      "image/png": "[encoded data removed]",
      "text/plain": [
       "<Figure size 432x288 with 1 Axes>"
      ]
     },
     "metadata": {
      "needs_background": "light"
     },
     "output_type": "display_data"
    }
   ],
   "source": [
    "# Visualising: Plotting Values and Regression Line\n",
    "# -------------------------------------------------\n",
    "# Ploting Values \n",
    "plt.scatter(X, y, color='green', label='Scatter Points')\n",
    "# Ploting Regression Line\n",
    "plt.plot(X, y_pred, color='blue', label='Regression Line')\n",
    "\n",
    "plt.title('Head Size vs Brain Weight')\n",
    "plt.xlabel('Head Size(cm^3)')\n",
    "plt.ylabel('Brain Weight(grams)')\n",
    "plt.legend()\n",
    "plt.show()"
   ]
  },
  {
   "cell_type": "markdown",
   "metadata": {
    "papermill": {
     "duration": 0.040523,
     "end_time": "2021-01-09T10:01:02.364202",
     "exception": false,
     "start_time": "2021-01-09T10:01:02.323679",
     "status": "completed"
    },
    "tags": []
   },
   "source": [
    "R–squared value is the statistical measure to show how close the data are to the fitted regression line."
   ]
  },
  {
   "cell_type": "code",
   "execution_count": 31,
   "metadata": {
    "execution": {
     "iopub.execute_input": "2021-01-09T10:01:02.449934Z",
     "iopub.status.busy": "2021-01-09T10:01:02.448933Z",
     "iopub.status.idle": "2021-01-09T10:01:02.455591Z",
     "shell.execute_reply": "2021-01-09T10:01:02.456111Z"
    },
    "papermill": {
     "duration": 0.051161,
     "end_time": "2021-01-09T10:01:02.456251",
     "exception": false,
     "start_time": "2021-01-09T10:01:02.405090",
     "status": "completed"
    },
    "tags": []
   },
   "outputs": [
    {
     "data": {
      "text/plain": [
       "0.639311719957"
      ]
     },
     "execution_count": 31,
     "metadata": {},
     "output_type": "execute_result"
    }
   ],
   "source": [
    "model.score(X, y)  # Returns the coefficient of determination R^2 of the prediction"
   ]
  },
  {
   "cell_type": "markdown",
   "metadata": {
    "papermill": {
     "duration": 0.041634,
     "end_time": "2021-01-09T10:01:02.547969",
     "exception": false,
     "start_time": "2021-01-09T10:01:02.506335",
     "status": "completed"
    },
    "tags": []
   },
   "source": [
    "R-squared score: 1 is perfect prediction."
   ]
  },
  {
   "cell_type": "code",
   "execution_count": 32,
   "metadata": {
    "execution": {
     "iopub.execute_input": "2021-01-09T10:01:02.718455Z",
     "iopub.status.busy": "2021-01-09T10:01:02.717825Z",
     "iopub.status.idle": "2021-01-09T10:01:02.722746Z",
     "shell.execute_reply": "2021-01-09T10:01:02.722147Z"
    },
    "papermill": {
     "duration": 0.048962,
     "end_time": "2021-01-09T10:01:02.722876",
     "exception": false,
     "start_time": "2021-01-09T10:01:02.673914",
     "status": "completed"
    },
    "tags": []
   },
   "outputs": [],
   "source": [
    "from sklearn.metrics import r2_score"
   ]
  },
  {
   "cell_type": "code",
   "execution_count": 33,
   "metadata": {
    "execution": {
     "iopub.execute_input": "2021-01-09T10:01:02.812734Z",
     "iopub.status.busy": "2021-01-09T10:01:02.812077Z",
     "iopub.status.idle": "2021-01-09T10:01:02.816126Z",
     "shell.execute_reply": "2021-01-09T10:01:02.816605Z"
    },
    "papermill": {
     "duration": 0.051237,
     "end_time": "2021-01-09T10:01:02.816750",
     "exception": false,
     "start_time": "2021-01-09T10:01:02.765513",
     "status": "completed"
    },
    "tags": []
   },
   "outputs": [],
   "source": [
    "# Model evaluation\n",
    "# ----------------\n",
    "r_squared_score = r2_score(y, y_pred)  # R^2 (coefficient of determination) regression score function"
   ]
  },
  {
   "cell_type": "code",
   "execution_count": 34,
   "metadata": {
    "execution": {
     "iopub.execute_input": "2021-01-09T10:01:02.905718Z",
     "iopub.status.busy": "2021-01-09T10:01:02.904972Z",
     "iopub.status.idle": "2021-01-09T10:01:02.911389Z",
     "shell.execute_reply": "2021-01-09T10:01:02.910829Z"
    },
    "papermill": {
     "duration": 0.052028,
     "end_time": "2021-01-09T10:01:02.911545",
     "exception": false,
     "start_time": "2021-01-09T10:01:02.859517",
     "status": "completed"
    },
    "tags": []
   },
   "outputs": [
    {
     "name": "stdout",
     "output_type": "stream",
     "text": [
      "63.93 %\n"
     ]
    }
   ],
   "source": [
    "print((r_squared_score * 100).round(2), \"%\")"
   ]
  },
  {
   "cell_type": "code",
   "execution_count": null,
   "metadata": {
    "papermill": {
     "duration": 0.043405,
     "end_time": "2021-01-09T10:01:02.997696",
     "exception": false,
     "start_time": "2021-01-09T10:01:02.954291",
     "status": "completed"
    },
    "tags": []
   },
   "outputs": [],
   "source": []
  }
 ],
 "metadata": {
  "kernelspec": {
   "display_name": "Python 3",
   "language": "python",
   "name": "python3"
  },
  "language_info": {
   "codemirror_mode": {
    "name": "ipython",
    "version": 3
   },
   "file_extension": ".py",
   "mimetype": "text/x-python",
   "name": "python",
   "nbconvert_exporter": "python",
   "pygments_lexer": "ipython3",
   "version": "3.7.6"
  },
  "papermill": {
   "duration": 11.949753,
   "end_time": "2021-01-09T10:01:03.233740",
   "environment_variables": {},
   "exception": null,
   "input_path": "__notebook__.ipynb",
   "output_path": "__notebook__.ipynb",
   "parameters": {},
   "start_time": "2021-01-09T10:00:51.283987",
   "version": "2.1.0"
  }
 },
 "nbformat": 4,
 "nbformat_minor": 4
}
