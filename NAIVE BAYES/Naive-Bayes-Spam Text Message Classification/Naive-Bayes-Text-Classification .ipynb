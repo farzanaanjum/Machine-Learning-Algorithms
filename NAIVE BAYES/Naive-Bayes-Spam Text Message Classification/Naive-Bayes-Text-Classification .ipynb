{
 "cells": [
  {
   "cell_type": "markdown",
   "metadata": {},
   "source": [
    "# Naive Bayes Text Classif"
   ]
  },
  {
   "cell_type": "code",
   "execution_count": 1,
   "metadata": {
    "_uuid": "d6fb32fd69316596e236eab5fb8cf77c848508c3"
   },
   "outputs": [],
   "source": [
    "import pandas as pd\n",
    "import numpy as np\n",
    "from nltk.tokenize import word_tokenize\n",
    "from nltk import pos_tag\n",
    "from nltk.corpus import stopwords\n",
    "from nltk.stem import WordNetLemmatizer\n",
    "from sklearn.preprocessing import LabelEncoder\n",
    "from collections import defaultdict\n",
    "from nltk.corpus import wordnet as wn\n",
    "from sklearn.feature_extraction.text import TfidfVectorizer\n",
    "from sklearn import model_selection, naive_bayes, svm\n",
    "from sklearn.metrics import accuracy_score\n",
    "from sklearn.metrics import classification_report\n",
    "from sklearn.metrics import confusion_matrix\n",
    "import matplotlib.pyplot as plt\n",
    "import seaborn as sns\n",
    "\n",
    "import warnings\n",
    "warnings.simplefilter(action='ignore')"
   ]
  },
  {
   "cell_type": "code",
   "execution_count": 2,
   "metadata": {
    "_uuid": "aca2f1d9da3f35d104763166fe4d25448410d8f2"
   },
   "outputs": [
    {
     "data": {
      "text/html": [
       "<div>\n",
       "<style scoped>\n",
       "    .dataframe tbody tr th:only-of-type {\n",
       "        vertical-align: middle;\n",
       "    }\n",
       "\n",
       "    .dataframe tbody tr th {\n",
       "        vertical-align: top;\n",
       "    }\n",
       "\n",
       "    .dataframe thead th {\n",
       "        text-align: right;\n",
       "    }\n",
       "</style>\n",
       "<table border=\"1\" class=\"dataframe\">\n",
       "  <thead>\n",
       "    <tr style=\"text-align: right;\">\n",
       "      <th></th>\n",
       "      <th>category</th>\n",
       "      <th>text</th>\n",
       "    </tr>\n",
       "  </thead>\n",
       "  <tbody>\n",
       "    <tr>\n",
       "      <th>0</th>\n",
       "      <td>tech</td>\n",
       "      <td>tv future in the hands of viewers with home th...</td>\n",
       "    </tr>\n",
       "    <tr>\n",
       "      <th>1</th>\n",
       "      <td>business</td>\n",
       "      <td>worldcom boss  left books alone  former worldc...</td>\n",
       "    </tr>\n",
       "    <tr>\n",
       "      <th>2</th>\n",
       "      <td>sport</td>\n",
       "      <td>tigers wary of farrell  gamble  leicester say ...</td>\n",
       "    </tr>\n",
       "    <tr>\n",
       "      <th>3</th>\n",
       "      <td>sport</td>\n",
       "      <td>yeading face newcastle in fa cup premiership s...</td>\n",
       "    </tr>\n",
       "    <tr>\n",
       "      <th>4</th>\n",
       "      <td>entertainment</td>\n",
       "      <td>ocean s twelve raids box office ocean s twelve...</td>\n",
       "    </tr>\n",
       "  </tbody>\n",
       "</table>\n",
       "</div>"
      ],
      "text/plain": [
       "        category                                               text\n",
       "0           tech  tv future in the hands of viewers with home th...\n",
       "1       business  worldcom boss  left books alone  former worldc...\n",
       "2          sport  tigers wary of farrell  gamble  leicester say ...\n",
       "3          sport  yeading face newcastle in fa cup premiership s...\n",
       "4  entertainment  ocean s twelve raids box office ocean s twelve..."
      ]
     },
     "execution_count": 2,
     "metadata": {},
     "output_type": "execute_result"
    }
   ],
   "source": [
    "np.random.seed(500)\n",
    "Corpus = pd.read_csv('bbc-text.csv', delimiter=',', encoding='latin-1')\n",
    "Corpus.head()"
   ]
  },
  {
   "cell_type": "code",
   "execution_count": 3,
   "metadata": {
    "_uuid": "95a8b5d6f19cf42d4f55c6d2842faf1d0d55c1d0",
    "scrolled": true
   },
   "outputs": [
    {
     "name": "stdout",
     "output_type": "stream",
     "text": [
      "<class 'pandas.core.frame.DataFrame'>\n",
      "RangeIndex: 2225 entries, 0 to 2224\n",
      "Data columns (total 2 columns):\n",
      " #   Column    Non-Null Count  Dtype \n",
      "---  ------    --------------  ----- \n",
      " 0   category  2225 non-null   object\n",
      " 1   text      2225 non-null   object\n",
      "dtypes: object(2)\n",
      "memory usage: 34.9+ KB\n"
     ]
    }
   ],
   "source": [
    "Corpus.info()"
   ]
  },
  {
   "cell_type": "code",
   "execution_count": 4,
   "metadata": {
    "_uuid": "a12002f521dd8eaeb0f69a932cbf23815ffd09d7"
   },
   "outputs": [
    {
     "data": {
      "text/plain": [
       "Text(0.5, 1.0, 'CountPlot')"
      ]
     },
     "execution_count": 4,
     "metadata": {},
     "output_type": "execute_result"
    },
    {
     "data": {
      "image/png": "[encoded data removed]",
      "text/plain": [
       "<Figure size 432x288 with 1 Axes>"
      ]
     },
     "metadata": {
      "needs_background": "light"
     },
     "output_type": "display_data"
    }
   ],
   "source": [
    "sns.countplot(Corpus.category)\n",
    "plt.xlabel('Category')\n",
    "plt.title('CountPlot')"
   ]
  },
  {
   "cell_type": "code",
   "execution_count": 5,
   "metadata": {
    "_uuid": "a1a345c1683e2fcc7173ecae867a5da87f2dde24"
   },
   "outputs": [
    {
     "data": {
      "text/html": [
       "<div>\n",
       "<style scoped>\n",
       "    .dataframe tbody tr th:only-of-type {\n",
       "        vertical-align: middle;\n",
       "    }\n",
       "\n",
       "    .dataframe tbody tr th {\n",
       "        vertical-align: top;\n",
       "    }\n",
       "\n",
       "    .dataframe thead th {\n",
       "        text-align: right;\n",
       "    }\n",
       "</style>\n",
       "<table border=\"1\" class=\"dataframe\">\n",
       "  <thead>\n",
       "    <tr style=\"text-align: right;\">\n",
       "      <th></th>\n",
       "      <th>category</th>\n",
       "      <th>text</th>\n",
       "      <th>text_original</th>\n",
       "    </tr>\n",
       "  </thead>\n",
       "  <tbody>\n",
       "    <tr>\n",
       "      <th>0</th>\n",
       "      <td>tech</td>\n",
       "      <td>[tv, future, in, the, hands, of, viewers, with...</td>\n",
       "      <td>tv future in the hands of viewers with home th...</td>\n",
       "    </tr>\n",
       "    <tr>\n",
       "      <th>1</th>\n",
       "      <td>business</td>\n",
       "      <td>[worldcom, boss, left, books, alone, former, w...</td>\n",
       "      <td>worldcom boss  left books alone  former worldc...</td>\n",
       "    </tr>\n",
       "    <tr>\n",
       "      <th>2</th>\n",
       "      <td>sport</td>\n",
       "      <td>[tigers, wary, of, farrell, gamble, leicester,...</td>\n",
       "      <td>tigers wary of farrell  gamble  leicester say ...</td>\n",
       "    </tr>\n",
       "    <tr>\n",
       "      <th>3</th>\n",
       "      <td>sport</td>\n",
       "      <td>[yeading, face, newcastle, in, fa, cup, premie...</td>\n",
       "      <td>yeading face newcastle in fa cup premiership s...</td>\n",
       "    </tr>\n",
       "    <tr>\n",
       "      <th>4</th>\n",
       "      <td>entertainment</td>\n",
       "      <td>[ocean, s, twelve, raids, box, office, ocean, ...</td>\n",
       "      <td>ocean s twelve raids box office ocean s twelve...</td>\n",
       "    </tr>\n",
       "  </tbody>\n",
       "</table>\n",
       "</div>"
      ],
      "text/plain": [
       "        category                                               text  \\\n",
       "0           tech  [tv, future, in, the, hands, of, viewers, with...   \n",
       "1       business  [worldcom, boss, left, books, alone, former, w...   \n",
       "2          sport  [tigers, wary, of, farrell, gamble, leicester,...   \n",
       "3          sport  [yeading, face, newcastle, in, fa, cup, premie...   \n",
       "4  entertainment  [ocean, s, twelve, raids, box, office, ocean, ...   \n",
       "\n",
       "                                       text_original  \n",
       "0  tv future in the hands of viewers with home th...  \n",
       "1  worldcom boss  left books alone  former worldc...  \n",
       "2  tigers wary of farrell  gamble  leicester say ...  \n",
       "3  yeading face newcastle in fa cup premiership s...  \n",
       "4  ocean s twelve raids box office ocean s twelve...  "
      ]
     },
     "execution_count": 5,
     "metadata": {},
     "output_type": "execute_result"
    }
   ],
   "source": [
    "# 1. Removing Blank Spaces\n",
    "Corpus['text'].dropna(inplace=True)\n",
    "\n",
    "# 2. Changing all text to lowercase\n",
    "Corpus['text_original'] = Corpus['text']\n",
    "Corpus['text'] = [entry.lower() for entry in Corpus['text']]\n",
    "\n",
    "# 3. Tokenization-In this each entry in the corpus will be broken into set of words\n",
    "Corpus['text']= [word_tokenize(entry) for entry in Corpus['text']]\n",
    "\n",
    "# 4. Remove Stop words, Non-Numeric and perfoming Word Stemming/Lemmenting.\n",
    "# WordNetLemmatizer requires Pos tags to understand if the word is noun or verb or adjective etc. By default it is set to Noun\n",
    "tag_map = defaultdict(lambda : wn.NOUN)\n",
    "tag_map['J'] = wn.ADJ\n",
    "tag_map['V'] = wn.VERB\n",
    "tag_map['R'] = wn.ADV\n",
    "\n",
    "Corpus.head()"
   ]
  },
  {
   "cell_type": "code",
   "execution_count": 6,
   "metadata": {},
   "outputs": [],
   "source": [
    "for index,entry in enumerate(Corpus['text']):\n",
    "    # Declaring Empty List to store the words that follow the rules for this step\n",
    "    Final_words = []\n",
    "    # Initializing WordNetLemmatizer()\n",
    "    word_Lemmatized = WordNetLemmatizer()\n",
    "    # pos_tag function below will provide the 'tag' i.e if the word is Noun(N) or Verb(V) or something else.\n",
    "    for word, tag in pos_tag(entry):\n",
    "        # Below condition is to check for Stop words and consider only alphabets\n",
    "        if word not in stopwords.words('english') and word.isalpha():\n",
    "            word_Final = word_Lemmatized.lemmatize(word,tag_map[tag[0]])\n",
    "            Final_words.append(word_Final)\n",
    "    # The final processed set of words for each iteration will be stored in 'text_final'\n",
    "    Corpus.loc[index,'text_final'] = str(Final_words)"
   ]
  },
  {
   "cell_type": "code",
   "execution_count": 7,
   "metadata": {},
   "outputs": [],
   "source": [
    "Corpus.drop(['text'], axis=1)\n",
    "output_path = 'preprocessed_data.csv'\n",
    "Corpus.to_csv(output_path, index=False)"
   ]
  },
  {
   "cell_type": "markdown",
   "metadata": {},
   "source": [
    "<a href=\"preprocessed_data.csv\"> Output file</a>"
   ]
  },
  {
   "cell_type": "code",
   "execution_count": 8,
   "metadata": {
    "_uuid": "aa3386af09469682c66cc53a1830a4e42f0e70b6",
    "scrolled": true
   },
   "outputs": [],
   "source": [
    "Train_X, Test_X, Train_Y, Test_Y = model_selection.train_test_split(Corpus['text_final'],Corpus['category'],test_size=0.3)"
   ]
  },
  {
   "cell_type": "code",
   "execution_count": 9,
   "metadata": {
    "_uuid": "bdca14f2b8cd7bd7cb5ee66fd40ea522217c03c6"
   },
   "outputs": [],
   "source": [
    "Encoder = LabelEncoder()\n",
    "Train_Y = Encoder.fit_transform(Train_Y)\n",
    "Test_Y = Encoder.fit_transform(Test_Y)"
   ]
  },
  {
   "cell_type": "code",
   "execution_count": 10,
   "metadata": {},
   "outputs": [
    {
     "name": "stdout",
     "output_type": "stream",
     "text": [
      "{'tv': 4648, 'future': 1835, 'hand': 1996, 'viewer': 4790, 'home': 2095, 'theatre': 4487, 'system': 4407, 'plasma': 3322, 'digital': 1238, 'video': 4786, 'recorder': 3631, 'move': 2907, 'living': 2608, 'room': 3830, 'way': 4859, 'people': 3249, 'watch': 4855, 'different': 1234, 'five': 1724, 'year': 4979, 'time': 4526, 'accord': 31, 'expert': 1581, 'panel': 3187, 'gather': 1861, 'annual': 200, 'consumer': 954, 'electronics': 1427, 'show': 4048, 'la': 2485, 'discuss': 1266, 'new': 2992, 'technology': 4445, 'impact': 2181, 'one': 3090, 'favourite': 1652, 'lead': 2524, 'trend': 4607, 'programme': 3476, 'content': 961, 'deliver': 1165, 'via': 4778, 'network': 2987, 'cable': 622, 'satellite': 3898, 'telecom': 4450, 'company': 869, 'broadband': 571, 'service': 3993, 'provider': 3514, 'front': 1814, 'portable': 3366, 'device': 1225, 'ce': 694, 'personal': 3269, 'pvr': 3539, 'box': 532, 'like': 2588, 'tivo': 4532, 'uk': 4662, 'allow': 139, 'record': 3630, 'store': 4272, 'play': 3325, 'pause': 3229, 'forward': 1777, 'wind': 4915, 'want': 4840, 'essentially': 1510, 'much': 2922, 'also': 148, 'set': 3995, 'big': 448, 'business': 608, 'japan': 2360, 'slow': 4111, 'take': 4414, 'europe': 1524, 'lack': 2491, 'programming': 3478, 'advert': 78, 'forget': 1764, 'channel': 723, 'schedule': 3920, 'put': 3537, 'together': 4535, 'entertainment': 1483, 'worried': 4954, 'mean': 2763, 'term': 4469, 'advertising': 80, 'revenue': 3767, 'well': 4881, 'brand': 541, 'identity': 2159, 'loyalty': 2646, 'although': 151, 'moment': 2869, 'concern': 904, 'raise': 3577, 'particularly': 3203, 'grow': 1956, 'happen': 2007, 'today': 4534, 'see': 3963, 'nine': 3011, 'month': 2879, 'adam': 54, 'bbc': 394, 'broadcast': 572, 'tell': 4459, 'news': 2995, 'website': 4871, 'issue': 2339, 'lose': 2635, 'yet': 4984, 'commercial': 854, 'broadcaster': 573, 'important': 2188, 'everyone': 1540, 'talk': 4420, 'rather': 3592, 'say': 3908, 'tim': 4525, 'communication': 867, 'firm': 1716, 'reality': 3609, 'connection': 926, 'anybody': 207, 'producer': 3465, 'add': 57, 'challenge': 716, 'hard': 2010, 'promote': 3485, 'choice': 757, 'senior': 3974, 'vice': 4780, 'president': 3423, 'guide': 1968, 'group': 1955, 'find': 1705, 'could': 1013, 'google': 1919, 'book': 508, 'search': 3949, 'engine': 1469, 'instead': 2269, 'help': 2048, 'kind': 2466, 'model': 2863, 'might': 2819, 'work': 4945, 'young': 4987, 'ipod': 2318, 'generation': 1872, 'use': 4738, 'control': 976, 'gadget': 1836, 'suit': 4338, 'recognise': 3625, 'old': 3084, 'comfortable': 847, 'familiar': 1630, 'know': 2478, 'get': 1887, 'perhaps': 3261, 'mr': 2916, 'suggest': 4335, 'end': 1460, 'kid': 2461, 'push': 3536, 'button': 612, 'already': 147, 'everything': 1541, 'possible': 3380, 'available': 330, 'ultimately': 4667, 'market': 2722, 'many': 2707, 'enhance': 1474, 'experience': 1578, 'lcd': 2522, 'crystal': 1059, 'display': 1274, 'launch': 2515, 'capability': 645, 'build': 592, 'external': 1601, 'example': 1550, 'dvd': 1366, 'even': 1530, 'instant': 2268, 'replay': 3711, 'function': 1829, 'hour': 2116, 'microsoft': 2811, 'chief': 748, 'bill': 449, 'gate': 1859, 'announce': 198, 'keynote': 2454, 'speech': 4189, 'partnership': 3206, 'call': 628, 'window': 4916, 'pc': 3234, 'mobile': 2859, 'reflect': 3651, 'increase': 2209, 'free': 1801, 'multimedia': 2923, 'worldcom': 4951, 'bos': 521, 'leave': 2537, 'alone': 144, 'former': 1769, 'bernie': 436, 'ebbers': 1387, 'accuse': 36, 'oversee': 3156, 'fraud': 1798, 'never': 2988, 'make': 2683, 'accounting': 33, 'decision': 1136, 'witness': 4932, 'juror': 2423, 'david': 1112, 'myers': 2942, 'comment': 851, 'question': 3553, 'defence': 1147, 'lawyer': 2520, 'argue': 248, 'responsible': 3745, 'problem': 3458, 'phone': 3289, 'collapse': 831, 'prosecutor': 3502, 'claim': 781, 'loss': 2636, 'hide': 2060, 'protect': 3505, 'share': 4014, 'plead': 3331, 'guilty': 1971, 'assist': 282, 'monday': 2871, 'reid': 3672, 'try': 4632, 'distance': 1278, 'client': 799, 'allegation': 133, 'cross': 1052, 'ask': 275, 'ever': 1534, 'aware': 338, 'reply': 3712, 'entry': 1489, 'press': 3426, 'admit': 68, 'order': 3118, 'false': 1628, 'request': 3723, 'financial': 1702, 'officer': 3075, 'scott': 3934, 'sullivan': 4340, 'paint': 3179, 'later': 2512, 'trial': 4609, 'behind': 414, 'house': 2117, 'card': 654, 'team': 4438, 'meanwhile': 2766, 'look': 2628, 'portray': 3372, 'admission': 67, 'graduate': 1931, 'economist': 1392, 'whatever': 4888, 'ability': 7, 'transform': 4588, 'relative': 3679, 'unknown': 4709, 'giant': 1889, 'investor': 2313, 'late': 2511, 'mount': 2902, 'however': 2125, 'competition': 876, 'boom': 510, 'finally': 1700, 'shareholder': 4015, 'worker': 4946, 'job': 2373, 'expect': 1572, 'last': 2510, 'two': 4653, 'face': 1609, 'substantial': 4321, 'jail': 2349, 'sentence': 3978, 'firmly': 1717, 'declare': 1138, 'tiger': 4521, 'farrell': 1643, 'gamble': 1841, 'leicester': 2552, 'rush': 3862, 'bid': 445, 'andy': 181, 'great': 1940, 'britain': 567, 'rugby': 3851, 'league': 2529, 'captain': 650, 'decide': 1134, 'switch': 4402, 'code': 823, 'else': 1435, 'involve': 2316, 'process': 3461, 'still': 4264, 'away': 340, 'go': 1909, 'next': 2999, 'stage': 4230, 'boss': 522, 'john': 2378, 'radio': 3571, 'lot': 2637, 'least': 2536, 'medical': 2770, 'situation': 4089, 'persistent': 3267, 'knee': 2474, 'operation': 3104, 'week': 4874, 'ago': 104, 'another': 202, 'three': 4506, 'saracen': 3896, 'believe': 420, 'head': 2026, 'list': 2600, 'union': 4699, 'club': 816, 'interested': 2293, 'sign': 4062, 'game': 1843, 'across': 43, 'would': 4960, 'back': 347, 'initially': 2248, 'sure': 4362, 'step': 4254, 'centre': 707, 'think': 4495, 'england': 1472, 'prefer': 3404, 'progress': 3479, 'position': 3376, 'row': 3842, 'skill': 4093, 'within': 4930, 'jury': 2424, 'whether': 4891, 'divide': 1287, 'balance': 360, 'strike': 4292, 'cost': 1010, 'option': 3115, 'bring': 564, 'replacement': 3710, 'newcastle': 2993, 'fa': 1608, 'cup': 1070, 'premiership': 3410, 'side': 4056, 'united': 4704, 'trip': 4619, 'premier': 3408, 'leader': 2525, 'third': 4497, 'round': 3837, 'highlight': 2064, 'draw': 1334, 'potential': 3386, 'beat': 399, 'second': 3954, 'conference': 913, 'exeter': 1565, 'city': 778, 'knock': 2477, 'saturday': 3901, 'travel': 4597, 'trafford': 4581, 'meet': 2773, 'holder': 2086, 'manchester': 2695, 'unite': 4703, 'january': 2359, 'arsenal': 262, 'stoke': 4268, 'chelsea': 742, 'host': 2112, 'hold': 2085, 'brentford': 552, 'sunday': 4347, 'win': 4914, 'martin': 2729, 'allen': 137, 'griffin': 1951, 'park': 3193, 'number': 3048, 'difficult': 1235, 'championship': 719, 'weekend': 4875, 'everton': 1536, 'visit': 4808, 'liverpool': 2607, 'burnley': 603, 'palace': 3184, 'sunderland': 4348, 'fulham': 1824, 'carling': 663, 'bolton': 500, 'aston': 292, 'villa': 4792, 'sheffield': 4026, 'norwich': 3035, 'blackburn': 467, 'west': 4885, 'ham': 1992, 'cardiff': 655, 'north': 3031, 'respectively': 3740, 'southampton': 4162, 'northampton': 3032, 'earlier': 1370, 'season': 3950, 'middlesbrough': 2813, 'either': 1417, 'county': 1022, 'spur': 4215, 'entertain': 1482, 'brighton': 562, 'white': 4895, 'hart': 2021, 'lane': 2501, 'man': 2691, 'utd': 4746, 'blackpool': 468, 'derby': 1196, 'wolf': 4934, 'millwall': 2835, 'tottenham': 4555, 'reading': 3604, 'birmingham': 458, 'leeds': 2540, 'boston': 523, 'charlton': 731, 'bournemouth': 528, 'portsmouth': 3374, 'forest': 1762, 'match': 2739, 'ocean': 3064, 'twelve': 4649, 'raid': 3574, 'office': 3074, 'crime': 1042, 'sequel': 3983, 'star': 4239, 'george': 1880, 'brad': 538, 'julia': 2408, 'robert': 3806, 'straight': 4275, 'chart': 732, 'ticket': 4518, 'sale': 3884, 'studio': 4304, 'estimate': 1514, 'follow': 1749, 'master': 2738, 'criminal': 1043, 'pull': 3527, 'major': 2681, 'national': 2956, 'place': 3314, 'top': 4548, 'express': 1595, 'tom': 4540, 'hank': 2003, 'festive': 1676, 'comedy': 846, 'christmas': 762, 'triumph': 4621, 'mark': 2721, 'opening': 3100, 'december': 1131, 'release': 3682, 'film': 1695, 'lord': 2633, 'ring': 3791, 'trilogy': 4616, 'narrowly': 2951, 'predecessor': 3401, 'open': 3098, 'total': 4553, 'remake': 3692, 'frank': 1794, 'rat': 3590, 'pack': 3171, 'direct': 1242, 'director': 1246, 'steven': 4259, 'return': 3762, 'hit': 2076, 'reunite': 3763, 'matt': 2743, 'garcia': 1852, 'catherine': 686, 'join': 2381, 'cast': 679, 'fun': 1828, 'good': 1918, 'holiday': 2089, 'movie': 2909, 'dan': 1096, 'distribution': 1281, 'warner': 4846, 'critic': 1047, 'less': 2563, 'project': 3480, 'los': 2634, 'angeles': 185, 'label': 2487, 'review': 3769, 'york': 4985, 'dub': 1352, 'howard': 2124, 'michael': 2807, 'peter': 3276, 'tory': 4551, 'act': 44, 'attack': 302, 'labour': 2490, 'rattle': 3595, 'opposition': 3111, 'upbeat': 4720, 'party': 3207, 'spring': 4211, 'campaign': 634, 'tactic': 4411, 'prove': 3512, 'debate': 1125, 'something': 4143, 'someone': 4142, 'somewhere': 4146, 'little': 2605, 'bit': 461, 'common': 863, 'four': 1783, 'stance': 4235, 'government': 1924, 'legislation': 2549, 'country': 1020, 'risk': 3798, 'behave': 412, 'playing': 3328, 'sake': 3882, 'anything': 210, 'far': 1638, 'compare': 870, 'fagin': 1616, 'fly': 1742, 'pig': 3301, 'morning': 2887, 'environment': 1490, 'secretary': 3957, 'margaret': 2713, 'reject': 3675, 'pm': 3340, 'real': 3606, 'duty': 1365, 'focus': 1745, 'proposal': 3497, 'really': 3610, 'poor': 3358, 'judgement': 2405, 'behalf': 411, 'policy': 3349, 'school': 3923, 'tax': 4430, 'immigration': 2180, 'voter': 4823, 'since': 4078, 'beginning': 410, 'election': 1421, 'political': 3351, 'weather': 4868, 'deny': 1186, 'politics': 3354, 'case': 676, 'whose': 4899, 'cancel': 640, 'seven': 4000, 'grab': 1927, 'headline': 2028, 'mrs': 2917, 'human': 2133, 'blair': 469, 'plan': 3316, 'quota': 3561, 'medium': 2772, 'coverage': 1027, 'racist': 3567, 'sense': 3975, 'pledge': 3334, 'hospital': 2111, 'discipline': 1258, 'promise': 3483, 'rid': 3783, 'give': 1897, 'chance': 720, 'decent': 1132, 'state': 4241, 'education': 1403, 'come': 843, 'ordinary': 3119, 'family': 1631, 'teenage': 4446, 'apply': 225, 'cambridge': 631, 'gordon': 1920, 'brown': 580, 'love': 2641, 'stress': 4288, 'commitment': 859, 'cut': 1081, 'red': 3637, 'tape': 4423, 'basic': 385, 'pension': 3246, 'line': 2594, 'earnings': 1374, 'finish': 1710, 'appeal': 219, 'activist': 47, 'day': 1117, 'able': 8, 'child': 749, 'mine': 2837, 'part': 3199, 'famous': 1632, 'alan': 119, 'milburn': 2826, 'confirm': 918, 'always': 153, 'strategy': 4281, 'vision': 4807, 'reference': 3648, 'appearance': 221, 'perfectly': 3257, 'entitle': 1487, 'pose': 3375, 'working': 4948, 'damage': 1092, 'public': 3521, 'spending': 4193, 'prepare': 3414, 'name': 2947, 'poll': 3355, 'date': 1108, 'tony': 4546, 'likely': 2589, 'may': 2751, 'parliament': 3195, 'break': 548, 'editor': 1400, 'learn': 2533, 'andrew': 180, 'marr': 2724, 'queen': 3550, 'april': 233, 'recently': 3621, 'down': 1319, 'street': 4285, 'timing': 4527, 'matter': 2744, 'prime': 3439, 'minister': 2841, 'spokeswoman': 4202, 'signal': 4063, 'westminster': 4887, 'key': 2452, 'need': 2971, 'finance': 1701, 'cover': 1026, 'budget': 590, 'pass': 3209, 'close': 809, 'session': 3994, 'seek': 3965, 'serious': 3988, 'organise': 3121, 'id': 2154, 'wednesday': 4873, 'almost': 142, 'nobody': 3018, 'level': 2568, 'inside': 2259, 'soon': 4150, 'short': 4040, 'whip': 4893, 'officially': 3077, 'june': 2415, 'general': 1869, 'recent': 3620, 'favour': 1651, 'henman': 2051, 'hop': 2103, 'dubai': 1353, 'seed': 3964, 'slump': 4116, 'defeat': 1146, 'ivan': 2345, 'ljubicic': 2610, 'eighth': 1416, 'victory': 4785, 'british': 568, 'course': 1024, 'halt': 1990, 'rain': 3576, 'intervene': 2302, 'seal': 3947, 'fourth': 1784, 'spanish': 4172, 'fifth': 1686, 'tommy': 4542, 'secure': 3961, 'nicolas': 3006, 'germany': 1884, 'afterwards': 97, 'incredibly': 2214, 'keep': 2439, 'till': 4524, 'score': 3930, 'happy': 2008, 'form': 1765, 'wilkinson': 4907, 'fit': 1722, 'edinburgh': 1397, 'jonny': 2389, 'injury': 2253, 'injure': 2251, 'october': 3065, 'training': 4585, 'start': 4240, 'heineken': 2045, 'murrayfield': 2932, 'bench': 426, 'rob': 3803, 'fine': 1707, 'hope': 2104, 'autumn': 329, 'international': 2297, 'upper': 4727, 'right': 3789, 'arm': 251, 'subsequently': 4317, 'replace': 3709, 'jason': 2362, 'robinson': 3809, 'charlie': 730, 'hodgson': 2081, 'canada': 638, 'south': 4161, 'africa': 94, 'australia': 319, 'disrupt': 1276, 'muscle': 2933, 'eight': 1415, 'sideline': 4057, 'shoulder': 4046, 'sustain': 4384, 'world': 4950, 'final': 1698, 'war': 4841, 'sixth': 4091, 'suitable': 4339, 'lucas': 2649, 'minute': 2846, 'revenge': 3766, 'dark': 1104, 'violent': 4798, 'series': 3987, 'cbs': 692, 'air': 113, 'predict': 3402, 'rating': 3594, 'advise': 82, 'parent': 3191, 'scene': 3918, 'roughly': 3836, 'equivalent': 1500, 'previous': 3433, 'carry': 672, 'guidance': 1967, 'original': 3124, 'chronicle': 764, 'evil': 1544, 'planet': 3318, 'pact': 3174, 'emotional': 1449, 'tragedy': 4582, 'berlin': 433, 'cheer': 740, 'german': 1883, 'festival': 1675, 'member': 2780, 'rise': 3797, 'movement': 2908, 'arrest': 259, 'brother': 579, 'distribute': 1280, 'leaflet': 2528, 'condemn': 910, 'tyranny': 4658, 'hitler': 2077, 'marc': 2711, 'feeling': 1665, 'responsibility': 3744, 'legacy': 2543, 'must': 2939, 'somehow': 4141, 'idea': 2155, 'alive': 132, 'preserve': 3421, 'archive': 241, 'east': 1379, 'secret': 3956, 'police': 3347, 'discovery': 1263, 'closely': 810, 'survive': 4377, 'include': 2204, 'sister': 4085, 'ensure': 1479, 'historical': 2074, 'first': 1718, 'summer': 4343, 'drop': 1345, 'munich': 2927, 'university': 4708, 'regime': 3659, 'six': 4090, 'intense': 2286, 'saw': 3907, 'charge': 727, 'vie': 4787, 'prize': 3454, 'african': 95, 'version': 4775, 'opera': 3101, 'shoot': 4034, 'town': 4567, 'language': 2502, 'story': 4274, 'perform': 3258, 'music': 2935, 'debut': 1127, 'performance': 3259, 'feature': 1656, 'nominate': 3022, 'golden': 1916, 'bear': 397, 'award': 337, 'virgin': 4800, 'blue': 485, 'australian': 320, 'airline': 116, 'plunge': 3338, 'warn': 4845, 'fall': 1627, 'full': 1825, 'profit': 3472, 'march': 2712, 'low': 2643, 'sluggish': 4115, 'demand': 1170, 'report': 3713, 'previously': 3434, 'november': 3044, 'continue': 967, 'executive': 1562, 'own': 3164, 'richard': 3780, 'struggle': 4301, 'pressure': 3427, 'rival': 3799, 'passenger': 3211, 'forecast': 1759, 'quarter': 3548, 'august': 318, 'due': 1355, 'tough': 4558, 'half': 1985, 'fuel': 1822, 'domestic': 1299, 'carrier': 670, 'qantas': 3540, 'fight': 1687, 'sky': 4096, 'recover': 3633, 'slightly': 4104, 'patrick': 3224, 'corporation': 1005, 'crude': 1056, 'oil': 3083, 'price': 3435, 'cold': 827, 'barrel': 381, 'freeze': 1806, 'temperature': 4460, 'heavy': 2042, 'heat': 2039, 'stock': 4266, 'fresh': 1810, 'value': 4753, 'dollar': 1297, 'tuesday': 4635, 'opec': 3096, 'reason': 3612, 'output': 3143, 'peak': 3237, 'reach': 3599, 'average': 331, 'brent': 551, 'london': 2625, 'trading': 4576, 'western': 4886, 'america': 161, 'decline': 1139, 'euro': 1522, 'serve': 3991, 'sharply': 4019, 'chris': 759, 'strategist': 4280, 'weaken': 4862, 'obviously': 3060, 'high': 2061, 'several': 4002, 'production': 3467, 'unlikely': 4712, 'cite': 774, 'strong': 4298, 'asia': 271, 'agree': 105, 'supply': 4356, 'reuters': 3764, 'unless': 4710, 'global': 1902, 'excessive': 1555, 'arrival': 260, 'northern': 3033, 'hemisphere': 2049, 'attention': 306, 'stockpile': 4267, 'force': 1756, 'ease': 1377, 'hague': 1981, 'ambition': 158, 'conservative': 933, 'william': 4908, 'stand': 4236, 'leadership': 2526, 'daily': 1088, 'telegraph': 4452, 'life': 2583, 'dominate': 1302, 'rule': 3852, 'paper': 3189, 'remain': 3691, 'mp': 2912, 'wife': 4905, 'publish': 3525, 'biography': 456, 'write': 4965, 'newspaper': 2997, 'definitely': 1154, 'determination': 1217, 'stay': 4247, 'central': 706, 'role': 3820, 'disappoint': 1251, 'collins': 836, 'shadow': 4007, 'huge': 2129, 'boost': 511, 'become': 405, 'feel': 1664, 'fortunate': 1774, 'age': 99, 'entire': 1485, 'career': 658, 'cabinet': 620, 'branch': 540, 'thing': 4494, 'maybe': 2752, 'drive': 1340, 'moya': 2910, 'davis': 1113, 'carlos': 664, 'describe': 1198, 'spain': 4168, 'roddick': 3816, 'usa': 4734, 'seville': 4004, 'miss': 2850, 'wake': 4830, 'night': 3009, 'dream': 1335, 'energy': 1464, 'live': 2606, 'title': 4531, 'nickname': 3005, 'nervous': 2982, 'obsess': 3057, 'goal': 1910, 'incredible': 2212, 'winning': 4922, 'point': 3343, 'opportunity': 3108, 'let': 2565, 'wait': 4829, 'remarkable': 3694, 'rafael': 3573, 'nadal': 2945, 'single': 4082, 'player': 3327, 'coach': 819, 'rest': 3746, 'tennis': 4466, 'clay': 792, 'surface': 4364, 'guy': 1976, 'court': 1025, 'mix': 2856, 'constantly': 944, 'certainly': 711, 'appropriate': 230, 'couple': 1023, 'event': 1532, 'best': 437, 'stuff': 4306, 'olympic': 3088, 'stadium': 4227, 'felt': 1668, 'whole': 4897, 'american': 162, 'convert': 987, 'bottom': 525, 'care': 657, 'simple': 4073, 'korean': 2482, 'credit': 1039, 'rescue': 3726, 'korea': 2481, 'large': 2507, 'trillion': 4615, 'lg': 2572, 'threaten': 4505, 'debt': 1126, 'creditor': 1040, 'consortium': 940, 'million': 2834, 'customer': 1080, 'send': 3973, 'economy': 1393, 'deal': 1122, 'avoid': 335, 'bankruptcy': 372, 'trigger': 4614, 'massive': 2737, 'agreement': 106, 'funding': 1832, 'aid': 111, 'development': 1224, 'bank': 368, 'equity': 1499, 'purpose': 3534, 'capital': 648, 'kim': 2465, 'analyst': 174, 'security': 3962, 'slowly': 4113, 'crisis': 1045, 'bubble': 588, 'burst': 604, 'fell': 1666, 'repayment': 3706, 'september': 3982, 'throw': 4512, 'exchange': 1556, 'exceed': 1551, 'asset': 281, 'run': 3855, 'stem': 4253, 'cell': 701, 'research': 3727, 'controversial': 978, 'presidential': 3424, 'bush': 607, 'oppose': 3109, 'extend': 1597, 'moral': 2884, 'embrace': 1444, 'science': 3925, 'victim': 4782, 'motor': 2898, 'disease': 1268, 'offer': 3072, 'suffer': 4333, 'devastate': 1220, 'illness': 2169, 'develop': 1221, 'body': 495, 'type': 4655, 'scientist': 3926, 'laboratory': 2489, 'specific': 4181, 'heart': 2038, 'brain': 539, 'acknowledge': 40, 'genuine': 1877, 'change': 722, 'past': 3216, 'optimistic': 3114, 'politician': 3353, 'create': 1032, 'framework': 1790, 'benefit': 428, 'briton': 569, 'around': 255, 'society': 4130, 'quality': 3546, 'soul': 4157, 'respect': 3739, 'multiple': 2925, 'possibly': 3381, 'easy': 1384, 'answer': 203, 'necessary': 2969, 'do': 1291, 'achieve': 38, 'actor': 49, 'christopher': 763, 'advocate': 86, 'horse': 2110, 'accident': 27, 'remark': 3693, 'woman': 4935, 'committee': 860, 'connors': 929, 'jimmy': 2372, 'relationship': 3678, 'association': 287, 'spent': 4194, 'lta': 2648, 'elite': 1433, 'winter': 4924, 'camp': 633, 'attitude': 307, 'arrangement': 257, 'confuse': 921, 'leading': 2527, 'junior': 2418, 'greg': 1947, 'rusedski': 3861, 'anne': 196, 'amazing': 155, 'site': 4088, 'speak': 4175, 'impress': 2191, 'every': 1537, 'practice': 3398, 'interest': 2292, 'desire': 1202, 'passion': 3213, 'surround': 4373, 'importance': 2187, 'buy': 613, 'effort': 1413, 'speaking': 4177, 'sport': 4205, 'fantastic': 1636, 'consider': 934, 'hopefully': 2106, 'individual': 2226, 'clear': 794, 'word': 4944, 'stake': 4231, 'reputation': 3722, 'successful': 4326, 'wimbledon': 4913, 'tournament': 4563, 'japanese': 2361, 'banking': 370, 'battle': 392, 'withdraw': 4928, 'takeover': 4415, 'ufj': 4661, 'holding': 2087, 'enable': 1456, 'latter': 2514, 'merge': 2794, 'mitsubishi': 2854, 'tokyo': 4536, 'counterpart': 1019, 'friday': 1811, 'conclude': 908, 'yen': 4981, 'exit': 1569, 'profile': 3471, 'history': 2075, 'fierce': 1684, 'table': 4408, 'management': 2693, 'absorb': 16, 'accept': 22, 'merger': 2795, 'statement': 4242, 'ongoing': 3092, 'integration': 2279, 'approve': 232, 'turn': 4643, 'tie': 4519, 'venture': 4767, 'speculation': 4188, 'increasingly': 2211, 'alliance': 138, 'maker': 2684, 'survival': 4376, 'independent': 2219, 'argonaut': 247, 'harry': 2019, 'potter': 3388, 'sack': 3872, 'employee': 1453, 'severe': 4003, 'cash': 677, 'administrator': 66, 'online': 3093, 'sell': 3971, 'save': 3905, 'suspend': 4381, 'developer': 1223, 'along': 145, 'headquarters': 2029, 'operate': 3102, 'provide': 3513, 'healthy': 2033, 'flow': 1741, 'software': 4132, 'constant': 943, 'publisher': 3526, 'trouble': 4625, 'emerge': 1445, 'delay': 1160, 'contract': 969, 'measure': 2767, 'fire': 1713, 'redundancy': 3644, 'suspect': 4380, 'staff': 4228, 'employ': 1452, 'monster': 2878, 'base': 384, 'partner': 3205, 'spend': 4192, 'partly': 3204, 'premise': 3411, 'hopeful': 2105, 'expression': 1596, 'quick': 3555, 'receive': 3619, 'wage': 4828, 'pay': 3231, 'warning': 4847, 'fbi': 1653, 'virus': 4804, 'federal': 1659, 'investigation': 2311, 'computer': 897, 'spread': 4209, 'address': 62, 'recipient': 3624, 'access': 25, 'illegal': 2167, 'message': 2799, 'internet': 2299, 'monitor': 2874, 'complaint': 882, 'center': 705, 'attachment': 301, 'contain': 957, 'click': 798, 'infect': 2235, 'agency': 100, 'user': 4742, 'unsolicited': 4716, 'similar': 4069, 'engage': 1467, 'manner': 2701, 'investigate': 2310, 'shut': 4054, 'account': 32, 'communicate': 866, 'breach': 547, 'incident': 2203, 'appear': 220, 'halo': 1989, 'herald': 2054, 'traffic': 4580, 'explosion': 1590, 'popularity': 3363, 'gaming': 1848, 'spell': 4191, 'net': 2984, 'monitoring': 2875, 'analysis': 173, 'xbox': 4971, 'cope': 996, 'bandwidth': 367, 'popular': 3362, 'connect': 925, 'gamers': 1847, 'others': 3131, 'surge': 4366, 'industry': 2233, 'intelligent': 2284, 'amount': 168, 'attribute': 312, 'reserve': 3730, 'main': 2677, 'factor': 1612, 'lag': 2495, 'gamer': 1846, 'mouse': 2905, 'keyboard': 2453, 'tend': 4464, 'lindsay': 2593, 'competitive': 877, 'operator': 3105, 'fast': 1645, 'hugely': 2130, 'bates': 389, 'ken': 2443, 'complete': 883, 'chairman': 715, 'gmt': 1908, 'delight': 1164, 'ahead': 109, 'belong': 424, 'fan': 1633, 'bat': 388, 'fund': 1830, 'reveal': 3765, 'road': 3802, 'ground': 1954, 'jon': 2386, 'task': 4426, 'sort': 4155, 'added': 58, 'light': 2587, 'long': 2626, 'tunnel': 4639, 'totally': 4554, 'board': 491, 'succeed': 4324, 'reduce': 3641, 'solve': 4139, 'percent': 3253, 'overcome': 3152, 'success': 4325, 'background': 349, 'period': 3262, 'unpaid': 4715, 'capacity': 647, 'contact': 956, 'consultant': 951, 'loan': 2617, 'understood': 4688, 'taylor': 4433, 'refuse': 3655, 'detail': 1211, 'figure': 1690, 'money': 2873, 'current': 1074, 'person': 3268, 'stretch': 4289, 'internal': 2296, 'stamford': 4232, 'bridge': 556, 'invest': 2309, 'sebastien': 3952, 'fail': 1618, 'administration': 65, 'football': 1755, 'investment': 2312, 'prospect': 3503, 'cole': 828, 'lengthy': 2558, 'striker': 4293, 'pick': 3298, 'holland': 2090, 'action': 45, 'bad': 352, 'leary': 2535, 'ankle': 195, 'unable': 4671, 'shortage': 4041, 'fitness': 1723, 'broken': 576, 'moore': 2883, 'manager': 2694, 'department': 1187, 'audio': 315, 'dimension': 1239, 'closer': 811, 'sound': 4158, 'small': 4118, 'jump': 2413, 'disappear': 1250, 'heard': 2036, 'cinema': 768, 'speaker': 4176, 'manage': 2692, 'quite': 3560, 'seem': 3967, 'nice': 3001, 'proper': 3493, 'standard': 4237, 'handset': 2001, 'chip': 755, 'produce': 3464, 'console': 938, 'efficient': 1412, 'dr': 1326, 'alastair': 121, 'basically': 386, 'fool': 1752, 'ear': 1369, 'area': 243, 'actually': 52, 'certain': 710, 'information': 2242, 'effectively': 1410, 'structure': 4300, 'understand': 4686, 'processing': 3462, 'impression': 2193, 'left': 2541, 'listener': 2602, 'fact': 1611, 'source': 4160, 'shape': 4013, 'cause': 688, 'difference': 1233, 'downloading': 1322, 'often': 3082, 'screen': 3937, 'definition': 1155, 'immersive': 2178, 'fishing': 1721, 'field': 1683, 'song': 4148, 'significantly': 4065, 'improve': 2195, 'efficiency': 1411, 'processor': 3463, 'otherwise': 3132, 'explain': 1583, 'european': 1525, 'vodafone': 4815, 'advanced': 75, 'indian': 2222, 'successfully': 4327, 'defend': 1148, 'finalist': 1699, 'spaniard': 4171, 'donate': 1305, 'relief': 3685, 'asian': 272, 'tsunami': 4633, 'throughout': 4511, 'thai': 4481, 'winner': 4921, 'closing': 812, 'bounce': 526, 'decider': 1135, 'contribution': 974, 'disaster': 1255, 'thailand': 4482, 'kill': 2462, 'atp': 299, 'contribute': 973, 'fee': 1662, 'emergency': 1446, 'tour': 4560, 'sponsor': 4203, 'mercedes': 2792, 'donation': 1306, 'honour': 2101, 'dicaprio': 1230, 'leonardo': 2561, 'santa': 3894, 'barbara': 374, 'present': 3418, 'scorsese': 3931, 'aviator': 333, 'lifetime': 2585, 'achievement': 39, 'completely': 884, 'excite': 1557, 'begin': 409, 'horror': 2109, 'onto': 3095, 'romeo': 3826, 'gang': 1849, 'california': 627, 'anniversary': 197, 'coincide': 826, 'portrayal': 3373, 'hughes': 2132, 'veteran': 4776, 'actress': 50, 'jane': 2357, 'russell': 3863, 'outlaw': 3140, 'quest': 3552, 'pole': 3346, 'oscar': 3128, 'race': 3564, 'nomination': 3023, 'gig': 1892, 'aim': 112, 'rock': 3814, 'crowd': 1053, 'bar': 373, 'enjoy': 1475, 'outfit': 3137, 'concert': 906, 'venue': 4768, 'clip': 806, 'swap': 4391, 'data': 1106, 'faster': 1646, 'download': 1320, 'band': 366, 'pound': 3389, 'spokesperson': 4201, 'hall': 1988, 'except': 1553, 'virtually': 4803, 'stream': 4284, 'dip': 1241, 'ms': 2918, 'persuade': 3273, 'regular': 3666, 'terror': 4473, 'citizen': 776, 'involvement': 2317, 'terrorism': 4474, 'outline': 3141, 'law': 2517, 'detention': 1216, 'foreign': 1760, 'without': 4931, 'charles': 729, 'clarke': 784, 'anyone': 209, 'subject': 4311, 'curfew': 1072, 'abuse': 17, 'power': 3392, 'deport': 1190, 'detainee': 1214, 'mainly': 2678, 'belmarsh': 423, 'prison': 3447, 'introduce': 2305, 'origin': 3123, 'egypt': 1414, 'torture': 4550, 'death': 1124, 'propose': 3498, 'prompt': 3489, 'restriction': 3751, 'limit': 2591, 'telephone': 4454, 'intelligence': 2283, 'significant': 4064, 'threat': 4504, 'clive': 807, 'prosecution': 3501, 'preference': 3405, 'scrutiny': 3943, 'judge': 2404, 'nation': 2955, 'prevent': 3431, 'terrorist': 4475, 'intercept': 2291, 'evidence': 1543, 'men': 2783, 'indefinitely': 2217, 'worry': 4955, 'special': 4179, 'generally': 1870, 'clearly': 796, 'recruit': 3635, 'view': 4789, 'liberal': 2575, 'democrat': 1173, 'spokesman': 4200, 'oaten': 3050, 'proof': 3491, 'indeed': 2216, 'liberty': 2577, 'opt': 3112, 'writer': 4966, 'hill': 2069, 'die': 1232, 'classic': 788, 'cancer': 641, 'jamie': 2354, 'lee': 2539, 'curtis': 1077, 'carpenter': 668, 'worldwide': 4952, 'escape': 1506, 'assistant': 284, 'rank': 3582, 'regard': 3657, 'pioneer': 3305, 'commonly': 864, 'assume': 288, 'script': 3941, 'realise': 3607, 'niche': 3002, 'capable': 646, 'talented': 4419, 'ii': 2165, 'friend': 1812, 'string': 4294, 'nominee': 3024, 'king': 2467, 'adventure': 77, 'stephen': 4255, 'adaptation': 56, 'dead': 1119, 'zone': 4998, 'clue': 817, 'pursue': 3535, 'twin': 4652, 'tower': 4566, 'early': 1371, 'royal': 3845, 'mood': 2881, 'prince': 3440, 'parker': 3194, 'await': 336, 'reaction': 3601, 'marry': 2726, 'civil': 779, 'ceremony': 709, 'castle': 680, 'support': 4357, 'majority': 2682, 'thursday': 4515, 'dinner': 1240, 'engagement': 1468, 'earth': 1375, 'reporter': 3715, 'absolutely': 15, 'marriage': 2725, 'wish': 4927, 'luck': 2650, 'wedding': 4872, 'st': 4223, 'archbishop': 238, 'williams': 4909, 'sensitive': 3977, 'husband': 2143, 'supreme': 4361, 'governor': 1925, 'church': 766, 'diana': 1227, 'disappointment': 1254, 'treat': 4600, 'wale': 4831, 'please': 3332, 'kennedy': 2444, 'sensible': 3976, 'bowl': 530, 'numerous': 3049, 'mostly': 2893, 'trust': 4629, 'pain': 3176, 'attend': 304, 'private': 3450, 'firefox': 1714, 'browser': 582, 'explorer': 1589, 'web': 4869, 'especially': 1507, 'program': 3475, 'mozilla': 2911, 'foundation': 1781, 'february': 1657, 'core': 1001, 'phoenix': 3288, 'gain': 1837, 'praise': 3400, 'ie': 2163, 'organisation': 3120, 'vulnerability': 4826, 'population': 3364, 'july': 2412, 'surfer': 4365, 'publicly': 3524, 'few': 1679, 'hole': 2088, 'innovation': 2256, 'instance': 2267, 'page': 3175, 'arrange': 256, 'easily': 1378, 'block': 477, 'text': 4479, 'browse': 581, 'powerful': 3393, 'hundred': 2136, 'extra': 1602, 'extension': 1598, 'creator': 1036, 'result': 3754, 'homeland': 2096, 'vocal': 4814, 'attempt': 303, 'target': 4424, 'ten': 4463, 'ad': 53, 'surplus': 4369, 'alternative': 150, 'celebrity': 700, 'paul': 3227, 'eastenders': 1380, 'johnson': 2380, 'strictly': 4291, 'ice': 2151, 'dancing': 1099, 'television': 4457, 'presenter': 3420, 'pair': 3181, 'professional': 3469, 'audience': 314, 'vote': 4822, 'bruce': 583, 'forsyth': 1771, 'hot': 2113, 'heel': 2043, 'practise': 3399, 'dance': 1097, 'contest': 962, 'duo': 1361, 'dean': 1123, 'itv': 2344, 'thin': 4493, 'contestant': 963, 'routine': 3840, 'crown': 1054, 'mtv': 2920, 'ozzy': 3168, 'osbourne': 3127, 'episode': 1493, 'camera': 632, 'black': 466, 'singer': 4081, 'rome': 3825, 'sharon': 4017, 'everybody': 1538, 'enough': 1477, 'currently': 1075, 'talent': 4418, 'alongside': 146, 'simon': 4071, 'louis': 2639, 'walsh': 4838, 'driving': 1342, 'earn': 1373, 'renew': 3702, 'metal': 2801, 'artist': 268, 'magazine': 2672, 'simpson': 4075, 'tap': 4422, 'suppose': 4360, 'kick': 2458, 'brit': 566, 'insurance': 2275, 'marsh': 2727, 'attorney': 308, 'spitzer': 4198, 'obtain': 3058, 'plea': 3330, 'ranking': 3583, 'joshua': 2393, 'count': 1016, 'scheme': 3921, 'longer': 2627, 'rig': 3788, 'fixed': 1726, 'settle': 3998, 'lawsuit': 2519, 'file': 1692, 'settlement': 3999, 'neither': 2979, 'jonathan': 2387, 'ill': 2166, 'health': 2031, 'visitor': 4809, 'resignation': 3733, 'privilege': 3452, 'conduct': 912, 'constituency': 945, 'intend': 2285, 'sir': 4084, 'stanley': 4238, 'resign': 3732, 'protest': 3507, 'inquiry': 2258, 'allege': 134, 'english': 1473, 'suspension': 4382, 'wrong': 4968, 'apology': 216, 'mps': 2915, 'chamber': 717, 'insist': 2262, 'error': 1505, 'represent': 3717, 'bristol': 565, 'snap': 4125, 'sony': 4149, 'psp': 3518, 'playstation': 3329, 'thousand': 4503, 'queue': 3554, 'ship': 4032, 'retailer': 3757, 'handheld': 1998, 'despite': 1206, 'dominance': 1300, 'nintendo': 3012, 'hendrix': 2050, 'museum': 2934, 'dedicate': 1140, 'father': 1649, 'wholesale': 4898, 'local': 2619, 'authority': 325, 'supporter': 4358, 'guitarist': 1973, 'mayor': 2753, 'destroy': 1209, 'ray': 3597, 'marshall': 2728, 'james': 2353, 'building': 593, 'land': 2497, 'housing': 2122, 'plot': 3336, 'deadline': 1120, 'community': 868, 'official': 3076, 'property': 3495, 'perspective': 3272, 'temporary': 4461, 'simply': 4074, 'district': 1283, 'widely': 4901, 'drug': 1346, 'cap': 644, 'watchdog': 4856, 'fear': 1655, 'donor': 1308, 'spark': 4174, 'electoral': 1422, 'commission': 856, 'worth': 4959, 'candidate': 642, 'campaigning': 636, 'nearly': 2967, 'gift': 1891, 'suspicion': 4383, 'taxpayer': 4432, 'acceptable': 23, 'principle': 3442, 'introduction': 2306, 'departure': 1188, 'exist': 1567, 'ban': 365, 'urge': 4731, 'income': 2206, 'scottish': 3935, 'welsh': 4882, 'assembly': 278, 'ireland': 2326, 'turnout': 4646, 'shift': 4030, 'double': 1315, 'sam': 3885, 'doubt': 1316, 'vital': 4811, 'maintain': 2680, 'democracy': 1172, 'adequately': 63, 'visible': 4806, 'accessible': 26, 'reluctant': 3688, 'unhappy': 4695, 'wide': 4900, 'consensus': 931, 'radical': 3570, 'growth': 1957, 'reverse': 3768, 'shrink': 4053, 'upset': 4728, 'sustained': 4386, 'recovery': 3634, 'expansion': 1571, 'statistic': 4244, 'zero': 4996, 'export': 1591, 'track': 4572, 'unemployment': 4690, 'welfare': 4880, 'daimlerchrysler': 1089, 'siemens': 4060, 'trim': 4617, 'outweigh': 3150, 'weakness': 4863, 'competitiveness': 878, 'product': 3466, 'overseas': 3155, 'effect': 1408, 'eurozone': 1526, 'rate': 3591, 'inflation': 2238, 'crackdown': 1029, 'ruth': 3866, 'kelly': 2442, 'serial': 3986, 'pupil': 3532, 'initiative': 2249, 'penalty': 3244, 'notice': 3040, 'tackle': 4410, 'authorise': 324, 'absence': 13, 'permit': 3265, 'classroom': 789, 'class': 787, 'adopt': 69, 'attendance': 305, 'behaviour': 413, 'improvement': 2197, 'sweep': 4396, 'patrol': 3225, 'hotspot': 2115, 'twice': 4650, 'addition': 60, 'youngster': 4988, 'accompany': 30, 'seize': 3968, 'tool': 4547, 'crack': 1028, 'federer': 1661, 'roger': 3818, 'trophy': 4624, 'test': 4477, 'deep': 1143, 'tense': 4467, 'tiebreak': 4520, 'swiss': 4401, 'cool': 992, 'though': 4501, 'style': 4309, 'indoor': 2230, 'confidence': 915, 'rhythm': 3778, 'showing': 4051, 'badly': 353, 'suddenly': 4331, 'loose': 2631, 'ball': 362, 'overall': 3151, 'positive': 3377, 'slight': 4103, 'adjust': 64, 'nationwide': 2958, 'halve': 1991, 'mortgage': 2891, 'approval': 231, 'near': 2966, 'alex': 126, 'downturn': 1324, 'barclays': 376, 'pace': 3169, 'range': 3580, 'slowdown': 4112, 'lending': 2556, 'disappointed': 1252, 'solid': 4136, 'confident': 916, 'medal': 2768, 'circuit': 770, 'scot': 3932, 'hurdle': 2140, 'jose': 2390, 'meeting': 2774, 'madrid': 2670, 'learning': 2534, 'athlete': 295, 'equal': 1494, 'sweden': 4394, 'iaaf': 2147, 'grand': 1935, 'prix': 3453, 'slash': 4099, 'clock': 808, 'wireless': 4926, 'nature': 2961, 'province': 3515, 'china': 753, 'instal': 2265, 'activity': 48, 'image': 2170, 'colleague': 832, 'observe': 3055, 'feed': 1663, 'tiny': 4529, 'researcher': 3728, 'foster': 1778, 'intel': 2281, 'infrastructure': 2243, 'arrive': 261, 'walk': 4833, 'disk': 1270, 'notebook': 3038, 'cultural': 1067, 'link': 2595, 'globe': 1904, 'lab': 2486, 'incorporate': 2208, 'collaboration': 830, 'federation': 1660, 'primary': 3438, 'hook': 2102, 'peer': 3239, 'culture': 1068, 'founder': 1782, 'elli': 1434, 'franz': 1796, 'ferdinand': 1671, 'frontman': 1816, 'kapranos': 2430, 'musician': 2937, 'lecture': 2538, 'discussion': 1267, 'thrive': 4510, 'bed': 406, 'prestigious': 3428, 'scotland': 3933, 'century': 708, 'element': 1428, 'musical': 2936, 'require': 3724, 'ally': 141, 'particular': 3202, 'glasgow': 1900, 'album': 123, 'mercury': 2793, 'listen': 2601, 'restrict': 3750, 'troubled': 4626, 'scissor': 3927, 'towards': 4565, 'define': 1153, 'encourage': 1458, 'creativity': 1035, 'fellow': 1667, 'composer': 889, 'soviet': 4165, 'mikhail': 2823, 'author': 323, 'professor': 3470, 'upcoming': 4721, 'exercise': 1564, 'discover': 1262, 'scrap': 3936, 'licence': 2579, 'voice': 4817, 'wealthy': 4865, 'etc': 1516, 'art': 264, 'lottery': 2638, 'grant': 1936, 'diversity': 1285, 'merit': 2796, 'genuinely': 1878, 'seriously': 3989, 'appreciate': 228, 'snow': 4126, 'fundamental': 1831, 'sorry': 4154, 'lucky': 2651, 'subsidy': 4319, 'corporate': 1004, 'sponsorship': 4204, 'yes': 4982, 'joy': 2399, 'mass': 2736, 'sit': 4086, 'thumb': 4513, 'waste': 4854, 'pop': 3360, 'reinforce': 3674, 'treasury': 4599, 'charity': 728, 'facility': 1610, 'equipment': 1498, 'cheap': 737, 'beyond': 442, 'extent': 1600, 'condition': 911, 'flourish': 1740, 'mould': 2901, 'willing': 4910, 'breakthrough': 550, 'modern': 2866, 'pretty': 3430, 'convince': 990, 'generate': 1871, 'financially': 1703, 'penalise': 3243, 'sector': 3960, 'artistic': 269, 'specifically': 4182, 'design': 1200, 'pocket': 3341, 'creative': 1034, 'solution': 4138, 'jamieson': 2355, 'justice': 2425, 'hurt': 2142, 'celtic': 702, 'ranger': 3581, 'stop': 4270, 'associate': 285, 'objective': 3052, 'clash': 786, 'section': 3959, 'jack': 2346, 'mcconnell': 2755, 'representative': 3719, 'summit': 4344, 'among': 166, 'invite': 2315, 'squeeze': 4221, 'tension': 4468, 'violence': 4797, 'religious': 3687, 'identify': 2158, 'indicate': 2223, 'additional': 61, 'inappropriate': 2199, 'educational': 1404, 'stick': 4262, 'intention': 2288, 'lib': 2574, 'dems': 1179, 'commissioner': 857, 'survey': 4375, 'tps': 4570, 'marketing': 2723, 'eu': 1521, 'directive': 1244, 'privacy': 3449, 'electronic': 1426, 'membership': 2781, 'identification': 2157, 'legal': 2544, 'advice': 81, 'subscriber': 4314, 'phil': 3284, 'jones': 2388, 'register': 3663, 'voting': 4824, 'regulation': 3669, 'summary': 4342, 'check': 739, 'depend': 1189, 'dem': 1169, 'matthew': 2745, 'occasion': 3061, 'therefore': 4491, 'guideline': 1969, 'appoint': 226, 'choose': 758, 'immediately': 2176, 'relate': 3676, 'prof': 3468, 'opinion': 3106, 'approach': 229, 'affect': 88, 'strengthen': 4287, 'oxford': 3167, 'train': 4584, 'college': 835, 'switzerland': 4403, 'proud': 3511, 'eye': 1607, 'economic': 1390, 'index': 2220, 'morgan': 2885, 'optimism': 3113, 'contrast': 972, 'quarterly': 3549, 'manufacturer': 2705, 'weak': 4861, 'blame': 471, 'trader': 4575, 'strength': 4286, 'slide': 4102, 'recession': 3623, 'reform': 3653, 'lewsey': 2571, 'josh': 2392, 'wasp': 4852, 'wing': 4919, 'bundle': 597, 'referee': 3647, 'kaplan': 2429, 'touch': 4556, 'turnover': 4647, 'whistle': 4894, 'irish': 2327, 'scoop': 3928, 'surprise': 4370, 'cueto': 1065, 'offside': 3081, 'technique': 4443, 'salary': 3883, 'mandatory': 2696, 'retirement': 3761, 'consult': 949, 'overhaul': 3153, 'affordable': 91, 'sustainable': 4385, 'expensive': 1577, 'green': 1943, 'consultation': 952, 'widespread': 4904, 'anger': 186, 'chancellor': 721, 'servant': 3990, 'trade': 4574, 'congress': 924, 'dave': 1110, 'unison': 4701, 'provision': 3516, 'raw': 3596, 'nh': 3000, 'bonus': 507, 'afford': 90, 'conflict': 919, 'rethink': 3759, 'apart': 214, 'generous': 1874, 'mutual': 2941, 'insurer': 2276, 'criticism': 1050, 'axa': 343, 'sun': 4345, 'gill': 1895, 'division': 1289, 'historic': 2073, 'float': 1736, 'lift': 2586, 'drink': 1337, 'food': 1751, 'france': 1791, 'wall': 4836, 'journal': 2395, 'french': 1807, 'spirit': 4197, 'paris': 3192, 'slip': 4106, 'acquisition': 42, 'purchase': 3533, 'luxury': 2659, 'wine': 4918, 'chain': 713, 'consolidation': 939, 'portfolio': 3368, 'rover': 3841, 'ferguson': 1672, 'barry': 383, 'midfielder': 2815, 'transfer': 4587, 'negotiation': 2975, 'midnight': 2817, 'concede': 900, 'determine': 1218, 'pensioner': 3247, 'saving': 3906, 'payment': 3232, 'discount': 1261, 'ed': 1394, 'scandal': 3913, 'compete': 875, 'household': 2118, 'ukraine': 4664, 'privatisation': 3451, 'dozen': 1325, 'corruption': 1008, 'viktor': 4791, 'yushchenko': 4994, 'mention': 2787, 'oust': 3133, 'separate': 3980, 'brussels': 585, 'atlantic': 297, 'treaty': 4602, 'transparent': 4594, 'spotlight': 4208, 'nerve': 2981, 'steel': 4251, 'rich': 3779, 'reward': 3774, 'relation': 3677, 'ready': 3605, 'topic': 4549, 'visa': 4805, 'requirement': 3725, 'deserve': 1199, 'honest': 2098, 'response': 3743, 'associated': 286, 'interview': 2304, 'difficulty': 1236, 'wto': 4970, 'mandelson': 2697, 'careful': 659, 'russia': 3864, 'border': 513, 'moscow': 2892, 'eternal': 1517, 'strategic': 4279, 'henson': 2053, 'lion': 2597, 'zealand': 4995, 'gavin': 1862, 'clean': 793, 'mathew': 2742, 'tait': 4413, 'outside': 3146, 'brian': 554, 'driscoll': 1339, 'midfield': 2814, 'wales': 4832, 'direction': 1243, 'bet': 438, 'tight': 4522, 'prop': 3492, 'julian': 2409, 'selection': 3970, 'vickery': 4781, 'frame': 1789, 'harm': 2014, 'joe': 2375, 'worsley': 4958, 'nothing': 3039, 'catch': 683, 'smith': 4122, 'hogg': 2084, 'robust': 3812, 'woodward': 4942, 'italy': 2341, 'arcy': 242, 'injured': 2252, 'combination': 840, 'connell': 927, 'edge': 1396, 'malcolm': 2687, 'shane': 4011, 'byrne': 617, 'character': 726, 'italian': 2340, 'peel': 3238, 'trail': 4583, 'possession': 3378, 'kirwan': 2470, 'successive': 4329, 'teach': 4436, 'mistake': 2852, 'aggressive': 103, 'calm': 630, 'pitch': 3312, 'recall': 3618, 'experienced': 1579, 'draft': 1327, 'maso': 2735, 'flanker': 1729, 'bergamasco': 432, 'paterson': 3220, 'craig': 1030, 'capt': 649, 'kerr': 2449, 'murray': 2931, 'douglas': 1318, 'ross': 3833, 'de': 1118, 'marigny': 2717, 'masi': 2734, 'nitoglia': 3017, 'orquera': 3126, 'lo': 2615, 'cicero': 767, 'bortolami': 519, 'ca': 618, 'del': 1158, 'robertson': 3807, 'regulator': 3670, 'recommend': 3627, 'painkiller': 3178, 'stroke': 4297, 'advisory': 85, 'verdict': 4771, 'hear': 2035, 'shop': 4037, 'patient': 3222, 'justify': 2426, 'increased': 2210, 'shelf': 4027, 'tumble': 4637, 'aside': 273, 'alarm': 120, 'bell': 421, 'note': 3037, 'harmful': 2015, 'announcement': 199, 'unique': 4700, 'graham': 1933, 'safety': 3878, 'calculation': 626, 'handling': 2000, 'medicine': 2771, 'doctor': 1292, 'cautious': 690, 'ax': 342, 'journalist': 2396, 'afternoon': 96, 'react': 3600, 'reader': 3603, 'amid': 164, 'ballot': 364, 'voluntary': 4821, 'strongly': 4299, 'tear': 4439, 'procedure': 3459, 'jeremy': 2367, 'ignore': 2164, 'tabloid': 4409, 'format': 1768, 'circulation': 772, 'size': 4092, 'guardian': 1962, 'continental': 966, 'frederick': 1800, 'colour': 837, 'coming': 849, 'print': 3443, 'publication': 3522, 'attractive': 311, 'corp': 1003, 'unit': 4702, 'mirror': 2847, 'mail': 2676, 'plant': 3321, 'dual': 1351, 'twickenham': 4651, 'failure': 1621, 'boy': 533, 'sight': 4061, 'regret': 3665, 'email': 1439, 'fully': 1827, 'tobacco': 4533, 'smoking': 4124, 'clinton': 805, 'washington': 4851, 'reynolds': 3776, 'manipulate': 2699, 'addiction': 59, 'teenager': 4447, 'lie': 2582, 'danger': 1100, 'contrary': 971, 'impose': 2189, 'columbia': 838, 'sue': 4332, 'illegally': 2168, 'landmark': 2499, 'ruling': 3853, 'unexpected': 4691, 'competitor': 879, 'slam': 4098, 'retire': 3760, 'surgery': 4367, 'wta': 4969, 'elena': 1429, 'dementieva': 1171, 'comeback': 844, 'region': 3661, 'india': 2221, 'rupee': 3859, 'utility': 4747, 'bt': 587, 'ofcom': 3068, 'surpass': 4368, 'per': 3251, 'netherlands': 2986, 'used': 4739, 'copper': 997, 'speed': 4190, 'dramatic': 1332, 'satisfy': 3900, 'retail': 3756, 'telecommunication': 4451, 'influence': 2239, 'loop': 2629, 'install': 2266, 'hardware': 2012, 'ntl': 3045, 'route': 3839, 'percentage': 3254, 'fiat': 1680, 'gm': 1907, 'car': 653, 'outright': 3145, 'pile': 3302, 'opel': 3097, 'saab': 3871, 'auto': 326, 'combine': 841, 'footage': 1754, 'diverse': 1284, 'lover': 2642, 'publicity': 3523, 'newcomer': 2994, 'attract': 309, 'soap': 4127, 'controller': 977, 'exciting': 1559, 'era': 1501, 'ultimate': 4666, 'natural': 2960, 'offering': 3073, 'exact': 1547, 'slot': 4109, 'transmit': 4592, 'buzz': 616, 'blogging': 481, 'bug': 591, 'blog': 479, 'msn': 2919, 'space': 4166, 'aol': 213, 'log': 2623, 'upload': 4725, 'photo': 3291, 'blake': 470, 'phenomenon': 3283, 'blogger': 480, 'accurate': 34, 'existence': 1568, 'speculate': 4187, 'regularly': 3667, 'indonesia': 2228, 'economics': 1391, 'reportedly': 3714, 'originally': 3125, 'owe': 3162, 'package': 3172, 'unnecessary': 4714, 'normal': 3028, 'deficit': 1152, 'indonesian': 2229, 'soft': 4131, 'aceh': 37, 'nevertheless': 2990, 'deputy': 1195, 'true': 4627, 'sri': 4222, 'lanka': 2503, 'criticise': 1049, 'rely': 3689, 'resource': 3738, 'lower': 2644, 'borrow': 516, 'separately': 3981, 'monthly': 2880, 'lesson': 2564, 'hutt': 2144, 'essential': 1509, 'plaid': 3315, 'cymru': 1084, 'agenda': 101, 'valley': 4751, 'tremendous': 4605, 'length': 2557, 'treatment': 4601, 'useful': 4740, 'respond': 3741, 'priority': 3446, 'consistent': 936, 'overshadow': 3157, 'removal': 3698, 'told': 4537, 'baby': 346, 'apparent': 217, 'underlying': 4684, 'corner': 1002, 'singapore': 4080, 'ministry': 2843, 'advance': 74, 'manufacturing': 2706, 'modest': 2867, 'gross': 1953, 'gdp': 1866, 'drag': 1328, 'jp': 2400, 'chase': 734, 'weigh': 4877, 'soar': 4128, 'consecutive': 930, 'sum': 4341, 'vaccine': 4749, 'chest': 745, 'joint': 2382, 'institute': 2270, 'marginal': 2715, 'joseph': 2391, 'rowntree': 3843, 'constitutional': 947, 'mcdonald': 2756, 'independence': 2218, 'offence': 3069, 'declaration': 1137, 'student': 4303, 'youth': 4989, 'traditional': 4578, 'fixture': 1727, 'properly': 3494, 'phillips': 3286, 'shame': 4010, 'enter': 1480, 'humphreys': 2135, 'darren': 1105, 'morris': 2889, 'martyn': 2731, 'sweeney': 4395, 'tuc': 4634, 'submission': 4312, 'examine': 1549, 'childcare': 750, 'manufacture': 2704, 'frontline': 1815, 'practical': 3397, 'poverty': 3391, 'tech': 4440, 'disabled': 1248, 'aspect': 276, 'thanks': 4484, 'technological': 4444, 'grid': 1950, 'yesterday': 4983, 'adapt': 55, 'vehicle': 4763, 'motorcycle': 2899, 'roy': 3844, 'gear': 1868, 'leg': 2542, 'invent': 2307, 'foot': 1753, 'govern': 1922, 'eventually': 1533, 'invention': 2308, 'isle': 2335, 'keen': 2438, 'prejudice': 3406, 'joke': 2384, 'rally': 3578, 'variety': 4757, 'driver': 1341, 'automatic': 327, 'steer': 4252, 'wheel': 4889, 'tradition': 4577, 'champion': 718, 'modify': 2868, 'daughter': 1109, 'climb': 802, 'seat': 3951, 'sydney': 4404, 'marathon': 2710, 'trevor': 4608, 'engineering': 1471, 'minor': 2844, 'remove': 3699, 'yukos': 4993, 'russian': 3865, 'auction': 313, 'yuganskneftegas': 4992, 'yugansk': 4991, 'gas': 1858, 'gazprom': 1864, 'baikal': 358, 'rosneft': 3832, 'submit': 4313, 'houston': 2123, 'dispute': 1275, 'chapter': 725, 'filing': 1693, 'regain': 3656, 'vow': 4825, 'jurisdiction': 2422, 'dismiss': 1272, 'clark': 783, 'hearing': 2037, 'argument': 249, 'forum': 1776, 'chunk': 765, 'profitable': 3474, 'punish': 3530, 'khodorkovsky': 2457, 'evasion': 1528, 'repeatedly': 3708, 'bail': 359, 'glory': 1905, 'anfield': 183, 'uefa': 4660, 'technical': 4441, 'contender': 960, 'battery': 391, 'advantage': 76, 'thought': 4502, 'disadvantage': 1249, 'perfect': 3256, 'enthusiasm': 1484, 'plenty': 3335, 'mental': 2785, 'vary': 4759, 'physical': 3295, 'physically': 3296, 'mentally': 2786, 'rb': 3598, 'hamstring': 1995, 'undergo': 4681, 'kevin': 2451, 'maggs': 2673, 'obvious': 3059, 'horgan': 2108, 'ulster': 4665, 'squad': 4219, 'wasps': 4853, 'johnny': 2379, 'connor': 928, 'denis': 1182, 'leamy': 2531, 'murphy': 2930, 'hickie': 2058, 'gara': 1851, 'stringer': 4295, 'hayes': 2022, 'easterby': 1381, 'foley': 1748, 'horan': 2107, 'callaghan': 629, 'miller': 2833, 'dempsey': 1178, 'basis': 387, 'menatep': 2784, 'convict': 988, 'object': 3051, 'running': 3857, 'fiction': 1681, 'politically': 3352, 'motivate': 2896, 'vladimir': 4813, 'putin': 3538, 'rein': 3673, 'protection': 3506, 'texas': 4478, 'suggestion': 4336, 'violate': 4795, 'sec': 3953, 'unnamed': 4713, 'agent': 102, 'slogan': 4107, 'shortly': 4044, 'prosecute': 3500, 'bribe': 555, 'juan': 2402, 'antonio': 206, 'lopez': 2632, 'mourinho': 2904, 'streak': 4283, 'qualify': 3545, 'following': 1750, 'straw': 4282, 'welcome': 4879, 'pakistan': 3182, 'bus': 606, 'cooperation': 994, 'peace': 3236, 'decade': 1129, 'holy': 2094, 'pakistani': 3183, 'rail': 3575, 'nuclear': 3046, 'mumbai': 2926, 'bombay': 503, 'fox': 1786, 'minority': 2845, 'broadcasting': 574, 'subsidiary': 4318, 'robot': 3810, 'retain': 3758, 'institution': 2271, 'cent': 704, 'hollywood': 2091, 'rebuild': 3617, 'insight': 2261, 'cry': 1058, 'mother': 2894, 'turkish': 4642, 'neighbour': 2976, 'belgian': 417, 'screening': 3938, 'jude': 2403, 'hoffman': 2082, 'animation': 193, 'incredibles': 2213, 'crew': 1041, 'rapper': 3587, 'millennium': 2832, 'jointly': 2383, 'un': 4670, 'norway': 3034, 'legally': 2546, 'bind': 454, 'barrier': 382, 'hilary': 2068, 'disguise': 1269, 'chinese': 754, 'dam': 1091, 'defy': 1156, 'beijing': 415, 'gorge': 1921, 'construction': 948, 'environmental': 1491, 'underground': 4682, 'assessment': 280, 'comply': 887, 'yuan': 4990, 'electricity': 1425, 'factory': 1613, 'river': 3801, 'sand': 3892, 'cult': 1066, 'kasabian': 2431, 'blend': 474, 'shortlist': 4043, 'keane': 2435, 'sea': 3944, 'scare': 3915, 'pirate': 3308, 'trio': 4618, 'spot': 4206, 'pub': 3520, 'hey': 2057, 'inspire': 2264, 'genre': 1876, 'hip': 2071, 'guitar': 1972, 'roll': 3821, 'killer': 2463, 'remote': 3697, 'water': 4857, 'unusual': 4717, 'orange': 3116, 'critical': 1048, 'acclaim': 28, 'comparison': 871, 'stone': 4269, 'typical': 4656, 'reception': 3622, 'embark': 1441, 'upon': 4726, 'patch': 3217, 'rapid': 3585, 'sufficient': 4334, 'dangerous': 1101, 'wood': 4940, 'slovakia': 4110, 'argentina': 245, 'hantuchova': 2006, 'dutchman': 1364, 'mixed': 2857, 'alicia': 130, 'pleased': 3333, 'preparation': 3413, 'substitute': 4323, 'goldsmith': 1917, 'iraq': 2323, 'legality': 2545, 'eve': 1529, 'crucial': 1055, 'resist': 3734, 'confidential': 917, 'consumption': 955, 'exactly': 1548, 'dossier': 1314, 'weapon': 4866, 'destruction': 1210, 'personally': 3271, 'solicitor': 4135, 'qc': 3542, 'military': 2828, 'council': 1014, 'resolution': 3735, 'robin': 3808, 'cook': 991, 'parliamentary': 3196, 'mislead': 2849, 'formal': 1766, 'fair': 1622, 'butler': 611, 'absolute': 14, 'convention': 982, 'sanction': 3891, 'burger': 600, 'ben': 425, 'argentine': 246, 'tribute': 4611, 'amaze': 154, 'irb': 2325, 'gloucester': 1906, 'amnesty': 165, 'outrage': 3144, 'khan': 2456, 'guantanamo': 1959, 'bay': 393, 'cuba': 1063, 'prisoner': 3448, 'translate': 4590, 'faith': 1624, 'governance': 1923, 'gap': 1850, 'relevant': 3683, 'letter': 2566, 'social': 4129, 'read': 3602, 'dent': 1185, 'swede': 4393, 'johansson': 2377, 'belgium': 418, 'olivier': 3086, 'rochus': 3813, 'lleyton': 2613, 'hewitt': 2056, 'concentration': 902, 'rebound': 3616, 'relatively': 3680, 'delivery': 1166, 'abn': 9, 'amro': 170, 'blast': 473, 'saudi': 3902, 'arabia': 235, 'briefly': 559, 'exporter': 1592, 'scenario': 3917, 'lansdowne': 2504, 'frustration': 1819, 'piece': 3300, 'heavily': 2041, 'query': 3551, 'refer': 3646, 'wipe': 4925, 'angle': 187, 'danny': 1103, 'grewcock': 1949, 'ronan': 3828, 'corry': 1009, 'brilliant': 563, 'kicking': 2460, 'component': 888, 'outstanding': 3148, 'defensive': 1151, 'equally': 1496, 'superb': 4351, 'stevens': 4260, 'steam': 4250, 'suck': 4330, 'unfortunately': 4694, 'volume': 4820, 'mike': 2822, 'ford': 1758, 'bow': 529, 'revise': 3770, 'negative': 2973, 'worrying': 4956, 'implication': 2185, 'phase': 3281, 'upward': 4729, 'carefully': 660, 'indication': 2224, 'observer': 3056, 'picture': 3299, 'apparently': 218, 'kanye': 2428, 'prominence': 3481, 'solo': 4137, 'crash': 1031, 'subsequent': 4316, 'commercially': 855, 'rap': 3584, 'chicago': 746, 'sample': 3887, 'revive': 3772, 'update': 4722, 'god': 1912, 'mainstream': 2679, 'recognition': 3626, 'door': 1310, 'jackson': 2347, 'fracture': 1788, 'sink': 4083, 'thank': 4483, 'inch': 2202, 'sharp': 4018, 'largely': 2508, 'gun': 1974, 'girl': 1896, 'quickly': 3556, 'foxx': 1787, 'influential': 2240, 'housewife': 2121, 'desperate': 1204, 'drama': 1331, 'proportion': 3496, 'freeview': 1805, 'ownership': 3166, 'portion': 3369, 'mauresmo': 2747, 'maria': 2716, 'vera': 4770, 'svetlana': 4388, 'kuznetsova': 2484, 'serena': 3984, 'split': 4199, 'ninth': 3013, 'overtake': 3158, 'davenport': 1111, 'usher': 4743, 'mad': 2668, 'clijsters': 800, 'sometimes': 4144, 'atmosphere': 298, 'excitement': 1558, 'lisbon': 2599, 'tone': 4544, 'dutch': 1363, 'assess': 279, 'conclusion': 909, 'status': 4245, 'employment': 1455, 'ink': 2254, 'dry': 1349, 'circumstance': 773, 'employer': 1454, 'habit': 1978, 'creation': 1033, 'inclusion': 2205, 'broad': 570, 'thus': 4516, 'narrow': 2950, 'indicator': 2225, 'emphasis': 1450, 'necessarily': 2968, 'anymore': 208, 'sail': 3880, 'belief': 419, 'ambitious': 159, 'palmer': 3186, 'innovative': 2257, 'workforce': 4947, 'manuel': 2703, 'recommendation': 3628, 'article': 266, 'command': 850, 'weekly': 4876, 'adviser': 83, 'various': 4758, 'edition': 1399, 'novel': 3043, 'blunkett': 487, 'limited': 2592, 'hamper': 1994, 'mexico': 2806, 'jet': 2369, 'bafta': 354, 'rent': 3703, 'flat': 1731, 'calculate': 625, 'ethnic': 1520, 'skin': 4094, 'religion': 3686, 'discrimination': 1265, 'son': 4147, 'immigrant': 2179, 'racial': 3565, 'enterprise': 1481, 'tolerance': 4538, 'muslim': 2938, 'terrible': 4471, 'select': 3969, 'abolish': 10, 'compulsory': 895, 'sex': 4005, 'urban': 4730, 'spare': 4173, 'incentive': 2201, 'highly': 2065, 'loyal': 2645, 'exclusive': 1561, 'nigel': 3008, 'consultancy': 950, 'tout': 4564, 'possibility': 3379, 'subscription': 4315, 'ian': 2148, 'fogg': 1746, 'jupiter': 2420, 'mcclaren': 2754, 'steve': 4258, 'boro': 515, 'expense': 1576, 'idol': 2161, 'extremely': 1605, 'passage': 3210, 'hong': 2099, 'kong': 2480, 'territory': 4472, 'pool': 3357, 'presentation': 3419, 'stiff': 4263, 'spin': 4196, 'abroad': 12, 'native': 2959, 'mexican': 2805, 'rarely': 3589, 'millan': 2831, 'san': 3890, 'usually': 4745, 'globally': 1903, 'station': 4243, 'impossible': 2190, 'navigate': 2962, 'dj': 1290, 'eminem': 1447, 'latin': 2513, 'exposure': 1594, 'anywhere': 212, 'cuban': 1064, 'surprising': 4372, 'expand': 1570, 'boyd': 534, 'correspondent': 1007, 'import': 2186, 'commerce': 853, 'appetite': 222, 'cheese': 741, 'clamp': 782, 'unfair': 4692, 'currency': 1073, 'undervalue': 4689, 'rapidly': 3586, 'widen': 4902, 'jam': 2351, 'universal': 4706, 'appointment': 227, 'found': 1780, 'island': 2334, 'carter': 673, 'inherit': 2246, 'rick': 3782, 'beastie': 398, 'enemy': 1463, 'blow': 484, 'underline': 4683, 'qatar': 3541, 'wild': 4906, 'thomas': 4498, 'hail': 1982, 'organiser': 3122, 'epic': 1492, 'celebrate': 698, 'silver': 4068, 'spacey': 4167, 'keanu': 2436, 'reef': 3645, 'academy': 20, 'fill': 1694, 'carpet': 669, 'beckham': 404, 'skipper': 4095, 'bernabeu': 434, 'momentum': 2870, 'terry': 4476, 'beach': 396, 'boys': 535, 'beverly': 441, 'evolve': 1546, 'rip': 3795, 'murder': 2929, 'tate': 4428, 'rumour': 3854, 'circulate': 771, 'taking': 4416, 'trap': 4596, 'distributor': 1282, 'forthcoming': 1772, 'gateshead': 1860, 'safe': 3875, 'oliver': 3085, 'letwin': 2567, 'teacher': 4437, 'lay': 2521, 'bust': 609, 'platform': 3324, 'stability': 4224, 'warm': 4844, 'minimum': 2839, 'flexibility': 1734, 'maternity': 2741, 'interactive': 2290, 'brave': 543, 'keeper': 2440, 'quiet': 3557, 'damien': 1095, 'duff': 1357, 'kezman': 2455, 'gallas': 1838, 'header': 2027, 'robbie': 3805, 'fowler': 1785, 'lampard': 2496, 'tip': 4530, 'volley': 4819, 'deprive': 1193, 'robben': 3804, 'drogba': 1344, 'shaun': 4020, 'eriksson': 1504, 'thatcher': 4486, 'shot': 4045, 'parry': 3198, 'swiftly': 4399, 'divert': 1286, 'gudjohnsen': 1963, 'path': 3221, 'cech': 697, 'sheet': 4025, 'czech': 1086, 'republic': 3720, 'dunne': 1360, 'post': 3382, 'sub': 4310, 'mill': 2830, 'yorkshire': 4986, 'mutu': 2940, 'adrian': 71, 'substance': 4320, 'consideration': 935, 'fifa': 1685, 'disciplinary': 1257, 'doping': 1312, 'inform': 2241, 'michelle': 2809, 'prepared': 3415, 'sexual': 4006, 'broadway': 575, 'christian': 761, 'revival': 3771, 'preview': 3432, 'philip': 3285, 'unchanged': 4678, 'cunningham': 1069, 'jim': 2371, 'agriculture': 108, 'affair': 87, 'controversy': 980, 'bone': 505, 'quit': 3559, 'alert': 125, 'carmaker': 665, 'van': 4755, 'suv': 4387, 'affected': 89, 'fault': 1650, 'leak': 2530, 'healthcare': 2032, 'screensaver': 3940, 'spam': 4169, 'portal': 3367, 'lycos': 2660, 'spammer': 4170, 'server': 3992, 'filter': 1696, 'load': 2616, 'gigabyte': 1893, 'typically': 4657, 'offset': 3079, 'burden': 598, 'weight': 4878, 'offensive': 3071, 'reddy': 3638, 'flag': 1728, 'generic': 1873, 'pharmaceutical': 3280, 'patent': 3218, 'poorly': 3359, 'petrol': 3277, 'sweet': 4397, 'refine': 3650, 'citigroup': 775, 'cooper': 993, 'coast': 822, 'elsewhere': 1436, 'bp': 536, 'anticipate': 205, 'ibm': 2149, 'intellectual': 2282, 'freely': 1803, 'database': 1107, 'operating': 3103, 'linux': 2596, 'undermine': 4685, 'liken': 2590, 'stuart': 4302, 'cohen': 825, 'lobby': 2618, 'programmer': 3477, 'storage': 4271, 'benitez': 430, 'finger': 1708, 'goalkeeper': 1911, 'gerrard': 1885, 'costly': 1011, 'disappointing': 1253, 'csa': 1060, 'failing': 1620, 'angry': 189, 'enforce': 1465, 'penny': 3245, 'doug': 1317, 'audit': 316, 'stag': 4229, 'seventh': 4001, 'guess': 1965, 'fold': 1747, 'cruise': 1057, 'setting': 3997, 'prototype': 3510, 'internationally': 2298, 'seafarer': 3945, 'passport': 3214, 'owner': 3165, 'document': 1293, 'fingerprint': 1709, 'caribbean': 662, 'machine': 2664, 'nationality': 2957, 'explore': 1588, 'commit': 858, 'specification': 4183, 'port': 3365, 'ratify': 3593, 'combat': 839, 'whilst': 4892, 'guarantee': 1960, 'safer': 3877, 'piracy': 3307, 'depp': 1192, 'reduced': 3642, 'loophole': 2630, 'reduction': 3643, 'postpone': 3385, 'libertine': 2576, 'drake': 1330, 'endure': 1462, 'thunderbird': 4514, 'opener': 3099, 'disc': 1256, 'neck': 2970, 'davy': 1115, 'frustrate': 1818, 'colin': 829, 'ruddock': 3850, 'tempt': 4462, 'osprey': 3129, 'painful': 3177, 'evening': 1531, 'kingdom': 2468, 'swell': 4398, 'thierry': 4492, 'amplify': 169, 'buyer': 614, 'gerhard': 1882, 'schroeder': 3924, 'lifestyle': 2584, 'scope': 3929, 'playback': 3326, 'nokia': 3021, 'incompatible': 2207, 'evolution': 1545, 'convergence': 984, 'pipeline': 3306, 'normally': 3029, 'drm': 1343, 'lock': 2622, 'transaction': 4586, 'supplier': 4355, 'dominant': 1301, 'smart': 4119, 'ec': 1388, 'perry': 3266, 'jerry': 2368, 'remember': 3695, 'sing': 4079, 'theme': 4489, 'tune': 4638, 'pilot': 3303, 'birthday': 460, 'lyric': 2662, 'slug': 4114, 'fancy': 1634, 'shooter': 4035, 'encounter': 1457, 'soldier': 4133, 'zombie': 4997, 'alien': 131, 'guard': 1961, 'gameplay': 1845, 'genius': 1875, 'vast': 4760, 'array': 258, 'bizarre': 464, 'tank': 4421, 'visual': 4810, 'blockbuster': 478, 'safin': 3879, 'marat': 2709, 'nightmare': 3010, 'study': 4305, 'earmark': 1372, 'planning': 3320, 'expenditure': 1575, 'earthquake': 1376, 'wave': 4858, 'southern': 4164, 'developed': 1222, 'billion': 451, 'resort': 3737, 'tourist': 4562, 'lloyd': 2614, 'marine': 2718, 'hurricane': 2141, 'unclear': 4679, 'serge': 3985, 'unlike': 4711, 'zurich': 4999, 'malaysia': 2686, 'edward': 1406, 'maldives': 2688, 'village': 4793, 'jan': 2356, 'overturn': 3159, 'setback': 3996, 'anthony': 204, 'smoke': 4123, 'hammer': 1993, 'hotel': 2114, 'unified': 4696, 'apple': 223, 'mac': 2663, 'mini': 2838, 'desktop': 1203, 'evans': 1527, 'macworld': 2667, 'deeply': 1144, 'plus': 3339, 'netcraft': 2985, 'offline': 3078, 'nick': 3004, 'pro': 3455, 'premium': 3412, 'perception': 3255, 'memory': 2782, 'traditionally': 4579, 'odd': 3066, 'upgrade': 4723, 'gartner': 1856, 'category': 685, 'computing': 898, 'greene': 1944, 'maurice': 2748, 'athens': 294, 'bronze': 578, 'greece': 1941, 'justin': 2427, 'sprint': 4213, 'middle': 2812, 'gold': 1915, 'relay': 3681, 'resume': 3755, 'outdoor': 3136, 'blind': 475, 'map': 2708, 'victor': 4783, 'wong': 4938, 'graphic': 1937, 'specialist': 4180, 'photograph': 3292, 'pen': 3242, 'individually': 2227, 'pixel': 3313, 'scale': 3910, 'application': 224, 'scan': 3912, 'mind': 2836, 'industrial': 2232, 'dramatically': 1333, 'outlook': 3142, 'worsen': 4957, 'jobless': 2374, 'brush': 584, 'stan': 4234, 'thompson': 4499, 'foul': 1779, 'bellamy': 422, 'busy': 610, 'juninho': 2417, 'sheridan': 4029, 'collect': 833, 'intervention': 2303, 'yard': 4978, 'defender': 1150, 'burn': 602, 'gibson': 1890, 'morrison': 2890, 'wilson': 4912, 'lennon': 2559, 'bennett': 431, 'circle': 769, 'victoria': 4784, 'promising': 3484, 'eddie': 1395, 'performer': 3260, 'dame': 1094, 'samuel': 3889, 'probably': 3456, 'messaging': 2800, 'transmission': 4591, 'megabit': 2775, 'mile': 2827, 'kent': 2445, 'rural': 3860, 'steal': 4249, 'bob': 493, 'principal': 3441, 'wider': 4903, 'hybrid': 2145, 'fix': 1725, 'voip': 4818, 'motorola': 2900, 'itunes': 2343, 'confront': 920, 'enormous': 1476, 'greek': 1942, 'sprinter': 4214, 'kostas': 2483, 'kenteris': 2446, 'katerina': 2433, 'thanou': 4485, 'olympics': 3089, 'athletics': 296, 'explanation': 1584, 'unacceptable': 4672, 'tzekos': 4659, 'medallist': 2769, 'tel': 4448, 'aviv': 334, 'fake': 1625, 'dope': 1311, 'violation': 4796, 'arbitration': 237, 'runner': 3856, 'innocent': 2255, 'slim': 4105, 'triple': 4620, 'outstrip': 3149, 'theft': 4488, 'andreas': 179, 'copy': 998, 'gta': 1958, 'estimated': 1515, 'adult': 73, 'certificate': 712, 'nanny': 2948, 'uncover': 4680, 'judicial': 2406, 'negotiate': 2974, 'webpage': 4870, 'amazon': 156, 'permission': 3264, 'directly': 1245, 'library': 2578, 'unfortunate': 4693, 'entirely': 1486, 'tag': 4412, 'none': 3025, 'trick': 4612, 'comic': 848, 'slice': 4101, 'marvel': 2732, 'extraordinary': 1603, 'everyday': 1539, 'jewish': 2370, 'romania': 3823, 'imagination': 2171, 'hack': 1979, 'wonder': 4936, 'super': 4350, 'bombard': 502, 'forever': 1763, 'frequently': 1809, 'pour': 3390, 'universe': 4707, 'bite': 462, 'icon': 2152, 'hero': 2055, 'iron': 2328, 'edit': 1398, 'bankrupt': 371, 'winger': 4920, 'ali': 129, 'ideal': 2156, 'chat': 735, 'barely': 377, 'fare': 1639, 'toyota': 4569, 'nissan': 3015, 'accelerate': 21, 'assault': 277, 'brien': 560, 'encouraging': 1459, 'effective': 1409, 'adoption': 70, 'proceeding': 3460, 'infringement': 2245, 'us': 4733, 'infringe': 2244, 'afraid': 93, 'cafe': 623, 'rental': 3704, 'female': 1669, 'delta': 1168, 'male': 2689, 'duet': 1356, 'mcfadden': 2757, 'pea': 3235, 'bag': 356, 'harbour': 2009, 'natalie': 2953, 'sandra': 3893, 'stunt': 4308, 'taste': 4427, 'noise': 3020, 'poster': 3384, 'shock': 4033, 'delegate': 1161, 'pundit': 3529, 'fortune': 1775, 'mountain': 2903, 'custody': 1078, 'suicide': 4337, 'vulnerable': 4827, 'alcohol': 124, 'obligation': 3053, 'scholes': 3922, 'hang': 2002, 'offender': 3070, 'knife': 2475, 'wonderful': 4937, 'stewart': 4261, 'unveil': 4718, 'stern': 4256, 'paramount': 3190, 'ukip': 4663, 'allegedly': 136, 'empire': 1451, 'mep': 2790, 'manifesto': 2698, 'constitution': 946, 'quote': 3562, 'runway': 3858, 'reap': 3611, 'bdo': 395, 'uncertainty': 4677, 'protester': 3508, 'demonstrate': 1176, 'degree': 1157, 'israel': 2337, 'guest': 1966, 'woolf': 4943, 'veto': 4777, 'chair': 714, 'falconer': 1626, 'safeguard': 3876, 'judiciary': 2407, 'overlook': 3154, 'establish': 1512, 'breakfast': 549, 'frost': 1817, 'concentrate': 901, 'peston': 3274, 'animosity': 194, 'prescott': 3416, 'deliberately': 1163, 'manoeuvre': 2702, 'understanding': 4687, 'friendly': 1813, 'rift': 3787, 'squabble': 4218, 'electorate': 1423, 'square': 4220, 'cate': 684, 'blanchett': 472, 'imelda': 2173, 'staunton': 4246, 'diane': 1228, 'helen': 2046, 'bond': 504, 'sunshine': 4349, 'spotless': 4207, 'neverland': 2989, 'diary': 1229, 'kate': 2432, 'winslet': 4923, 'nod': 3019, 'owen': 3163, 'repeat': 3707, 'supporting': 4359, 'portman': 3370, 'julie': 2410, 'leigh': 2553, 'mann': 2700, 'liam': 2573, 'repay': 3705, 'expectation': 1573, 'opponent': 3107, 'peg': 3240, 'neil': 2977, 'milan': 2824, 'baros': 380, 'pas': 3208, 'bowyer': 531, 'luis': 2655, 'withdrawal': 4929, 'bernard': 435, 'souness': 4159, 'dyer': 1367, 'harrison': 2018, 'benchmark': 427, 'curb': 1071, 'hike': 2067, 'moderate': 2865, 'commonwealth': 865, 'hunt': 2137, 'storm': 4273, 'hunting': 2139, 'bryan': 586, 'tomlinson': 4541, 'formerly': 1770, 'knight': 2476, 'occur': 3063, 'demonstration': 1177, 'dog': 1295, 'countryside': 1021, 'interpretation': 2300, 'somebody': 4140, 'amendment': 160, 'duncan': 1358, 'expected': 1574, 'andrea': 178, 'newsnight': 2996, 'making': 2685, 'taxation': 4431, 'rebate': 3615, 'beauty': 403, 'complain': 881, 'thoroughly': 4500, 'lady': 2494, 'funeral': 1833, 'gb': 1865, 'impressive': 2194, 'yell': 4980, 'clinch': 803, 'nottingham': 3042, 'offshore': 3080, 'charter': 733, 'regulate': 3668, 'forced': 1757, 'shell': 4028, 'punishment': 3531, 'listing': 2603, 'highbury': 2062, 'keegan': 2437, 'shearer': 4022, 'simonetti': 4072, 'anonymous': 201, 'uniform': 4697, 'amongst': 167, 'fictional': 1682, 'flight': 1735, 'ride': 3784, 'material': 2740, 'reasonable': 3613, 'fairly': 1623, 'barcelona': 375, 'hint': 2070, 'ac': 18, 'laptop': 2506, 'toshiba': 4552, 'contributor': 975, 'vendor': 4764, 'resolve': 3736, 'compatriot': 873, 'brazilian': 546, 'deutsche': 1219, 'boerse': 497, 'woo': 4939, 'lse': 2647, 'euronext': 1523, 'bidding': 447, 'amsterdam': 171, 'assurance': 290, 'bidder': 446, 'combined': 842, 'martinez': 2730, 'drunk': 1348, 'secondary': 3955, 'highland': 2063, 'binge': 455, 'drinking': 1338, 'promotion': 3487, 'councillor': 1015, 'irresponsible': 2330, 'spree': 4210, 'consequence': 932, 'context': 964, 'legend': 2547, 'grammy': 1934, 'collection': 834, 'glad': 1899, 'georgia': 1881, 'contemporary': 959, 'spear': 4178, 'recording': 3632, 'rod': 3815, 'elvis': 1438, 'joss': 2394, 'kinnock': 2469, 'acceptance': 24, 'democratic': 1174, 'reservation': 3729, 'substantially': 4322, 'fiscal': 1719, 'wreck': 4962, 'borrowing': 517, 'farmer': 1641, 'capture': 652, 'mission': 2851, 'eliminate': 1432, 'hardly': 2011, 'enforcement': 1466, 'exploration': 1587, 'fantasy': 1637, 'elderly': 1419, 'inevitable': 2234, 'abandon': 2, 'anyway': 211, 'sooner': 4151, 'restore': 3749, 'afghanistan': 92, 'equip': 1497, 'pretend': 3429, 'rivalry': 3800, 'dirty': 1247, 'walker': 4834, 'frankfurt': 1795, 'monopoly': 2876, 'commentator': 852, 'formally': 1767, 'gizmondo': 1898, 'catalogue': 682, 'navigation': 2963, 'gprs': 1926, 'bluetooth': 486, 'multiplayer': 2924, 'lucy': 2653, 'birth': 459, 'immediate': 2175, 'essex': 1511, 'fashion': 1644, 'designer': 1201, 'florida': 1739, 'painting': 3180, 'disney': 1273, 'shark': 4016, 'tale': 4417, 'pin': 3304, 'tighten': 4523, 'shopper': 4038, 'implementation': 2184, 'plastic': 3323, 'altogether': 152, 'scam': 3911, 'holmes': 2092, 'jumper': 2414, 'accolade': 29, 'personality': 3270, 'lenovo': 2560, 'dell': 1167, 'margin': 2714, 'impressed': 2192, 'tomorrow': 4543, 'ruud': 3867, 'nistelrooy': 3016, 'shout': 4047, 'wayne': 4860, 'rooney': 3831, 'ronaldo': 3827, 'ryan': 3869, 'giggs': 1894, 'turkey': 4641, 'motivation': 2897, 'wealth': 4864, 'photographer': 3293, 'max': 2749, 'jurgen': 2421, 'den': 1180, 'handle': 1999, 'mm': 2858, 'automatically': 328, 'daniel': 1102, 'documentary': 1294, 'beautiful': 402, 'costume': 1012, 'alfa': 128, 'dismantle': 1271, 'insult': 2274, 'extreme': 1604, 'integrity': 2280, 'iran': 2321, 'alleged': 135, 'hidden': 2059, 'gallery': 1839, 'exhibition': 1566, 'savage': 3904, 'aragones': 236, 'racism': 3566, 'fin': 1697, 'henry': 2052, 'maximum': 2750, 'reyes': 3775, 'arsene': 263, 'wenger': 4884, 'cheat': 738, 'promotional': 3488, 'norman': 3030, 'expose': 1593, 'bath': 390, 'embargo': 1440, 'prediction': 3403, 'criterion': 1046, 'ancram': 175, 'chepkemei': 744, 'susan': 4379, 'kenyan': 2448, 'paula': 3228, 'radcliffe': 3569, 'depth': 1194, 'ethiopia': 1518, 'turner': 4645, 'dublin': 1354, 'eric': 1502, 'rare': 3588, 'nathalie': 2954, 'dechy': 1133, 'bookmaker': 509, 'succession': 4328, 'insider': 2260, 'odds': 3067, 'fame': 1629, 'hugh': 2131, 'melzer': 2779, 'melbourne': 2778, 'disruption': 1277, 'resident': 3731, 'asylum': 293, 'seeker': 3966, 'conviction': 989, 'oblige': 3054, 'registration': 3664, 'fish': 1720, 'biopic': 457, 'romantic': 3824, 'shall': 4009, 'guild': 1970, 'destination': 1207, 'qualifier': 3544, 'gardener': 1854, 'aaas': 1, 'dig': 1237, 'infection': 2237, 'claxton': 791, 'mcilroy': 2759, 'sotherton': 4156, 'steroid': 4257, 'leap': 2532, 'idowu': 2162, 'indoors': 2231, 'steady': 4248, 'promptly': 3490, 'citizenship': 777, 'aaa': 0, 'accusation': 35, 'devon': 1226, 'animal': 191, 'farm': 1640, 'rifle': 3786, 'conversation': 985, 'bobby': 494, 'desperately': 1205, 'confusion': 922, 'aircraft': 115, 'airbus': 114, 'boeing': 496, 'arise': 250, 'plane': 3317, 'nielsen': 3007, 'animated': 192, 'modem': 2864, 'engineer': 1470, 'usb': 4737, 'norfolk': 3027, 'integrate': 2278, 'attraction': 310, 'downloads': 1323, 'magic': 2674, 'christ': 760, 'warrior': 4849, 'somewhat': 4145, 'symbol': 4406, 'kit': 2471, 'celebration': 699, 'scrum': 3942, 'smile': 4121, 'excellent': 1552, 'awesome': 341, 'flaw': 1732, 'exploit': 1586, 'springbok': 4212, 'method': 2802, 'swansea': 4390, 'thriller': 4509, 'unbeaten': 4675, 'llanelli': 2611, 'floor': 1738, 'urgent': 4732, 'embarrass': 1442, 'wembley': 4883, 'hansen': 2005, 'thwart': 4517, 'telco': 4449, 'iptv': 2319, 'protocol': 3509, 'compression': 892, 'potentially': 3387, 'bollywood': 499, 'sbc': 3909, 'stade': 4226, 'dragon': 1329, 'hal': 1984, 'luscombe': 2657, 'endorse': 1461, 'laporte': 2505, 'yannick': 4976, 'julien': 2411, 'rougerie': 3834, 'pelous': 3241, 'dominici': 1304, 'delaigue': 1159, 'yachvili': 4974, 'betsen': 440, 'bourgoin': 527, 'harinordoquy': 2013, 'michalak': 2808, 'shanklin': 4012, 'sidoli': 4059, 'yapp': 4977, 'angola': 188, 'grip': 1952, 'primarily': 3437, 'trace': 4571, 'clearance': 795, 'reconstruction': 3629, 'pattern': 3226, 'gunner': 1975, 'gradually': 1930, 'sitcom': 4087, 'comedian': 845, 'metropolitan': 2804, 'nicholas': 3003, 'sceptical': 3919, 'napster': 2949, 'gary': 1857, 'kerry': 2450, 'fed': 1658, 'kenya': 2447, 'eduvision': 1405, 'conventional': 983, 'con': 899, 'roof': 3829, 'vastly': 4761, 'domain': 1298, 'interface': 2295, 'knowledge': 2479, 'brewer': 553, 'beer': 407, 'mature': 2746, 'dividend': 1288, 'continued': 968, 'poland': 3345, 'merrill': 2797, 'lynch': 2661, 'windows': 4917, 'dominic': 1303, 'worm': 4953, 'canadian': 639, 'usual': 4744, 'cycle': 1083, 'theory': 4490, 'overwhelm': 3160, 'ons': 3094, 'carolina': 667, 'kluft': 2472, 'smash': 4120, 'fraser': 1797, 'ashley': 270, 'tariff': 4425, 'tindall': 4528, 'noon': 3026, 'cement': 703, 'eastern': 1382, 'presence': 3417, 'tonne': 4545, 'mittal': 2855, 'munster': 2928, 'captaincy': 651, 'imagine': 2172, 'copyright': 1000, 'copying': 999, 'cd': 693, 'educate': 1402, 'awareness': 339, 'silva': 4067, 'arnold': 254, 'labor': 2488, 'prior': 3445, 'caution': 689, 'unveils': 4719, 'civilian': 780, 'airport': 117, 'ge': 1867, 'variant': 4756, 'journey': 2397, 'hub': 2128, 'patricia': 3223, 'keith': 2441, 'myskina': 2943, 'chile': 752, 'fernando': 1673, 'rubber': 3847, 'mario': 2719, 'wrist': 4964, 'venus': 4769, 'probe': 3457, 'francisco': 1793, 'detailed': 1212, 'architecture': 240, 'gambling': 1842, 'casino': 678, 'complex': 885, 'default': 1145, 'pr': 3396, 'counter': 1017, 'espn': 1508, 'ea': 1368, 'sims': 4076, 'similarly': 4070, 'stir': 4265, 'active': 46, 'landscape': 2500, 'virtual': 4802, 'licensing': 2581, 'controversially': 979, 'graphical': 1938, 'satisfied': 3899, 'mode': 2862, 'interesting': 2294, 'stable': 4225, 'truly': 4628, 'conversion': 986, 'boot': 512, 'touchline': 4557, 'halfway': 1986, 'clever': 797, 'outcome': 3135, 'gareth': 1855, 'fortnight': 1773, 'podcast': 3342, 'downloadable': 1321, 'microphone': 2810, 'curry': 1076, 'scar': 3914, 'hype': 2146, 'wow': 4961, 'buck': 589, 'advertise': 79, 'coffee': 824, 'meps': 2791, 'billboard': 450, 'lucrative': 2652, 'sophisticated': 4152, 'denmark': 1183, 'hdtv': 2025, 'drummer': 1347, 'sean': 3948, 'plug': 3337, 'eat': 1385, 'embassy': 1443, 'wash': 4850, 'seller': 3972, 'ringtones': 3792, 'flynn': 1743, 'rack': 3568, 'regulatory': 3671, 'transparency': 4593, 'harris': 2017, 'spectator': 4184, 'hoddle': 2080, 'gray': 1939, 'saint': 3881, 'lure': 2656, 'cairn': 624, 'ftse': 1821, 'hire': 2072, 'pentagon': 3248, 'virginia': 4801, 'apologise': 215, 'fate': 1648, 'truth': 4631, 'catholic': 687, 'compensation': 874, 'campaigner': 635, 'preliminary': 3407, 'provoke': 3517, 'damaging': 1093, 'macintosh': 2665, 'flash': 1730, 'fuss': 1834, 'superior': 4353, 'sideways': 4058, 'heap': 2034, 'clint': 804, 'eastwood': 1383, 'alexander': 127, 'payne': 3233, 'screenplay': 3939, 'abortion': 11, 'garden': 1853, 'fahrenheit': 1617, 'consistently': 937, 'finding': 1706, 'fighter': 1688, 'bulk': 595, 'rogue': 3819, 'failed': 1619, 'warcraft': 4842, 'jamelia': 2352, 'destiny': 1208, 'bomb': 501, 'abba': 3, 'albeit': 122, 'occupy': 3062, 'regional': 3662, 'levy': 2569, 'troop': 4623, 'writing': 4967, 'fletcher': 1733, 'strange': 4278, 'mary': 2733, 'honorary': 2100, 'angel': 184, 'compromise': 894, 'overwhelming': 3161, 'hunter': 2138, 'locally': 2620, 'shake': 4008, 'tremor': 4606, 'compute': 896, 'ghosn': 1888, 'renault': 3700, 'turnaround': 4644, 'le': 2523, 'transition': 4589, 'implement': 2183, 'stamp': 4233, 'allowance': 140, 'lender': 2555, 'knapman': 2473, 'comprise': 893, 'petroleum': 3278, 'bump': 596, 'junk': 2419, 'idle': 2160, 'denial': 1181, 'sleep': 4100, 'cluley': 818, 'sophos': 4153, 'na': 2944, 'richards': 3781, 'backbencher': 348, 'pave': 3230, 'strict': 4290, 'metre': 2803, 'exclude': 1560, 'dick': 1231, 'presidency': 3422, 'shortfall': 4042, 'transport': 4595, 'republican': 3721, 'jeff': 2366, 'wear': 4867, 'dress': 1336, 'baftas': 355, 'thrill': 4508, 'ruck': 3849, 'spill': 4195, 'interval': 2301, 'joel': 2376, 'ossie': 3130, 'jungle': 2416, 'humour': 2134, 'clothing': 815, 'dallaglio': 1090, 'lawrence': 2518, 'assure': 291, 'crop': 1051, 'grade': 1929, 'el': 1418, 'prominent': 3482, 'brief': 557, 'andre': 177, 'agassi': 98, 'compile': 880, 'pete': 3275, 'rem': 3690, 'lad': 2492, 'baroness': 379, 'menzies': 2789, 'campbell': 637, 'disclosure': 1260, 'shed': 4023, 'shrek': 4052, 'jeeves': 2365, 'compatible': 872, 'passing': 3212, 'bright': 561, 'rough': 3835, 'immense': 2177, 'toll': 4539, 'abbott': 5, 'glazer': 1901, 'expire': 1582, 'premiere': 3409, 'childhood': 751, 'acquire': 41, 'fulfil': 1823, 'extensive': 1599, 'cripple': 1044, 'restructure': 3752, 'coal': 820, 'textile': 4480, 'pit': 3311, 'tender': 4465, 'counterfeit': 1018, 'monetary': 2872, 'livingstone': 2609, 'nazi': 2964, 'wright': 4963, 'gay': 1863, 'restaurant': 3748, 'mpc': 2914, 'halifax': 1987, 'shaw': 4021, 'concerned': 905, 'archer': 239, 'cbi': 691, 'commodity': 861, 'item': 2342, 'reliance': 3684, 'factual': 1614, 'lush': 2658, 'consume': 953, 'brazil': 545, 'deccan': 1130, 'clause': 790, 'ryanair': 3870, 'entrepreneur': 1488, 'backing': 350, 'literally': 2604, 'outbreak': 3134, 'electric': 1424, 'cebit': 696, 'workplace': 4949, 'convenient': 981, 'xp': 4972, 'samsung': 3888, 'analogue': 172, 'megapixel': 2776, 'interact': 2289, 'sole': 4134, 'clothes': 814, 'anderson': 176, 'freeman': 1804, 'comprehensive': 890, 'austrian': 322, 'saulnier': 3903, 'haas': 1977, 'balco': 361, 'conte': 958, 'defendant': 1149, 'fiji': 1691, 'motion': 2895, 'financing': 1704, 'advisor': 84, 'injunction': 2250, 'climate': 801, 'davos': 1114, 'jacques': 2348, 'chirac': 756, 'elect': 1420, 'palestinian': 3185, 'abbas': 4, 'bono': 506, 'refugee': 3654, 'porto': 3371, 'outsource': 3147, 'spy': 4216, 'fat': 1647, 'valuable': 4752, 'tribunal': 4610, 'milanesi': 2825, 'ericsson': 1503, 'walkman': 4835, 'strain': 4277, 'beatles': 400, 'tree': 4603, 'jr': 2401, 'sentiment': 3979, 'height': 2044, 'casual': 681, 'detect': 1215, 'israeli': 2338, 'baghdad': 357, 'fannie': 1635, 'mae': 2671, 'irregularity': 2329, 'restate': 3747, 'reporting': 3716, 'auditor': 317, 'instrument': 2273, 'freddie': 1799, 'handful': 1997, 'surely': 4363, 'valid': 4750, 'conspiracy': 941, 'participate': 3200, 'enron': 1478, 'feud': 1678, 'presley': 3425, 'experiment': 1580, 'creature': 1037, 'physic': 3294, 'franchise': 1792, 'rightly': 3790, 'umbrella': 4669, 'deem': 1142, 'arthur': 265, 'neeson': 2972, 'referendum': 3649, 'planned': 3319, 'carnival': 666, 'arab': 234, 'iraqi': 2324, 'baa': 345, 'aviation': 332, 'heathrow': 2040, 'cartridge': 675, 'hp': 2126, 'printer': 3444, 'secretly': 3958, 'render': 3701, 'echo': 1389, 'grace': 1928, 'technically': 4442, 'menu': 2788, 'toy': 4568, 'chemical': 743, 'sm': 4117, 'morquendi': 2888, 'excess': 1554, 'dedicated': 1141, 'concept': 903, 'eligible': 1431, 'trek': 4604, 'coalition': 821, 'hell': 2047, 'notify': 3041, 'gregory': 1948, 'carroll': 671, 'tuition': 4636, 'spectrum': 4186, 'warren': 4848, 'jowell': 2398, 'academic': 19, 'ladbrokes': 2493, 'dancer': 1098, 'bez': 443, 'initial': 2247, 'freedom': 1802, 'venezuela': 4765, 'venezuelan': 4766, 'chavez': 736, 'agricultural': 107, 'promoter': 3486, 'brando': 542, 'correct': 1006, 'banker': 369, 'kilroy': 2464, 'swing': 4400, 'bureaucracy': 599, 'threshold': 4507, 'cannes': 643, 'mess': 2798, 'rubbish': 3848, 'olly': 3087, 'barkley': 378, 'da': 1087, 'broker': 577, 'detain': 1213, 'burglar': 601, 'householder': 2119, 'artificial': 267, 'kicker': 2459, 'proposed': 3499, 'icann': 2150, 'postal': 3383, 'tourism': 4561, 'legitimate': 2550, 'sheer': 4024, 'malicious': 2690, 'pump': 3528, 'infected': 2236, 'hogan': 2083, 'usage': 4736, 'outing': 3138, 'uphold': 4724, 'cop': 995, 'holocaust': 2093, 'ira': 2320, 'islamic': 2333, 'participation': 3201, 'invisible': 2314, 'blood': 483, 'surveillance': 4374, 'swear': 4392, 'opposite': 3110, 'remind': 3696, 'extremist': 1606, 'sadly': 3874, 'respondent': 3742, 'islam': 2332, 'assumption': 289, 'survivor': 4378, 'pirated': 3309, 'phonographic': 3290, 'bpi': 537, 'profitability': 3473, 'restructuring': 3753, 'blur': 488, 'unity': 4705, 'wmc': 4933, 'mining': 2840, 'xstrata': 4973, 'deposit': 1191, 'delete': 1162, 'closure': 813, 'mirza': 2848, 'bulgaria': 594, 'neill': 2978, 'arnesen': 253, 'robson': 3811, 'kay': 2434, 'gervais': 1886, 'dec': 1128, 'pompey': 3356, 'redknapp': 3640, 'yahoo': 4975, 'arena': 244, 'blinkx': 476, 'license': 2580, 'estate': 1513, 'ranch': 3579, 'verge': 4772, 'surprised': 4371, 'imf': 2174, 'straightforward': 4276, 'lewis': 2570, 'moody': 2882, 'dawson': 1116, 'borthwick': 518, 'hazell': 2023, 'credibility': 1038, 'concession': 907, 'revolution': 3773, 'sick': 4055, 'congratulate': 923, 'ism': 2336, 'whitehall': 4896, 'boateng': 492, 'laser': 2509, 'location': 2621, 'billionaire': 452, 'explode': 1585, 'harsh': 2020, 'nasdaq': 2952, 'representation': 3718, 'equality': 1495, 'emotion': 1448, 'reflection': 3652, 'bittorrent': 463, 'alter': 149, 'bore': 514, 'shine': 4031, 'anil': 190, 'ambani': 157, 'monsanto': 2877, 'compliance': 886, 'poppins': 3361, 'laura': 2516, 'compress': 891, 'telephony': 4455, 'firewall': 1715, 'healey': 2030, 'biarritz': 444, 'leslie': 2562, 'begg': 408, 'mubanga': 2921, 'louise': 2640, 'ward': 4843, 'realistic': 3608, 'morientes': 2886, 'rafa': 3572, 'confess': 914, 'tycoon': 4654, 'poise': 3344, 'fcc': 1654, 'shopping': 4039, 'whereas': 4890, 'gameboy': 1844, 'madonna': 2669, 'elton': 1437, 'vega': 4762, 'strip': 4296, 'mouth': 2906, 'contractor': 970, 'improved': 2196, 'shooting': 4036, 'chaos': 724, 'bury': 605, 'everquest': 1535, 'sad': 3873, 'fade': 1615, 'mcmanus': 2761, 'magnier': 2675, 'harrier': 2016, 'marion': 2720, 'ongc': 3091, 'permanent': 3263, 'bravery': 544, 'duran': 1362, 'santini': 3895, 'tricky': 4613, 'assistance': 283, 'cartoon': 674, 'thinking': 4496, 'stun': 4307, 'donofrio': 1307, 'mobility': 2860, 'integral': 2277, 'gogh': 1914, 'inbev': 2200, 'actual': 51, 'intent': 2287, 'bnp': 490, 'traveller': 4598, 'attach': 300, 'mcletchie': 2760, 'betamax': 439, 'graeme': 1932, 'rio': 3793, 'neville': 2991, 'finnish': 1711, 'flood': 1737, 'greet': 1946, 'qualification': 3543, 'willis': 4911, 'uncertain': 4676, 'discriminate': 1264, 'bening': 429, 'swank': 4389, 'niro': 3014, 'perceive': 3252, 'sarah': 3897, 'carers': 661, 'migrant': 2820, 'migration': 2821, 'backwards': 351, 'simultaneously': 4077, 'hiv': 2078, 'reassure': 3614, 'continent': 965, 'vivendi': 4812, 'doherty': 1296, 'austria': 321, 'rodgers': 3817, 'pires': 3310, 'phenomenal': 3282, 'greenspan': 1945, 'rom': 3822, 'jailhouse': 2350, 'telewest': 4458, 'terrestrial': 4470, 'bmw': 489, 'instruction': 2272, 'mpaa': 2913, 'tracker': 4573, 'isinbayeva': 2331, 'supercomputer': 4352, 'abc': 6, 'army': 252, 'tautou': 4429, 'vinci': 4794, 'ba': 344, 'airway': 118, 'misuse': 2853, 'demographic': 1175, 'viacom': 4779, 'nbc': 2965, 'ridiculous': 3785, 'quinn': 3558, 'ppi': 3395, 'janet': 2358, 'cea': 695, 'samoa': 3886, 'ministerial': 2842, 'wallace': 4837, 'showcase': 4049, 'ferrero': 1674, 'hijack': 2066, 'geoff': 1879, 'bogdanovic': 498, 'deaf': 1121, 'buying': 615, 'packet': 3173, 'fiorina': 1712, 'briefing': 558, 'borussia': 520, 'dortmund': 1313, 'seagrave': 3946, 'hacker': 1980, 'bot': 524, 'commodore': 862, 'doom': 1309, 'mel': 2777, 'hsdpa': 2127, 'frequency': 1808, 'silicon': 4066, 'showcasing': 4050, 'pride': 3436, 'meant': 2765, 'macrovision': 2666, 'ripguard': 3796, 'ebay': 1386, 'custom': 1079, 'veritas': 4773, 'midland': 2816, 'hockney': 2079, 'prosperity': 3504, 'supermarket': 4354, 'almunia': 143, 'eviction': 1542, 'mido': 2818, 'trojan': 4622, 'walter': 4839, 'billy': 453, 'riot': 3794, 'guerrouj': 1964, 'policing': 3348, 'constable': 942, 'nuisance': 3047, 'csos': 1062, 'cyprus': 1085, 'fuller': 1826, 'leinster': 2554, 'fsa': 1820, 'disclose': 1259, 'orchestra': 3117, 'recycle': 3636, 'inadequate': 2198, 'eff': 1407, 'chidambaram': 747, 'patenting': 3219, 'distract': 1279, 'bekele': 416, 'ethiopian': 1519, 'polish': 3350, 'nestle': 2983, 'iconic': 2153, 'jazz': 2364, 'jaynes': 2363, 'useless': 4741, 'unaware': 4674, 'newton': 2998, 'spyware': 4217, 'phishing': 3287, 'impetus': 2182, 'ahold': 110, 'hansard': 2004, 'televise': 4456, 'unauthorised': 4673, 'elgindy': 1430, 'wooden': 4941, 'skype': 4097, 'landline': 2498, 'qwest': 3563, 'mci': 2758, 'verizon': 4774, 'lufthansa': 2654, 'tci': 4435, 'redford': 3639, 'sundance': 4346, 'amicus': 163, 'indecency': 2215, 'llewellyn': 2612, 'scarlet': 3916, 'mda': 2762, 'cabir': 621, 'symbian': 4405, 'pew': 3279, 'desailly': 1197, 'godzilla': 1913, 'rwanda': 3868, 'login': 2624, 'valve': 4754, 'parmalat': 3197, 'iranian': 2322, 'turkcell': 4640, 'milk': 2829, 'lehmann': 2551, 'galloway': 1840, 'meaning': 2764, 'dtt': 1350, 'hd': 2024, 'housemate': 2120, 'cab': 619, 'cyber': 1082, 'outkast': 3139, 'roundabout': 3838, 'nostalgia': 3036, 'mock': 2861, 'psychological': 3519, 'vieira': 4788, 'paniccia': 3188, 'umaga': 4668, 'jol': 2385, 'nelly': 2980, 'clarkson': 785, 'legendary': 2548, 'rfid': 3777, 'telekom': 4453, 'beattie': 401, 'reggae': 3658, 'southcorp': 4163, 'cardinal': 656, 'inspector': 2263, 'fockers': 1744, 'password': 3215, 'dennis': 1184, 'ballet': 363, 'viotti': 4799, 'fenice': 1670, 'tb': 4434, 'faroe': 1642, 'phytopharm': 3297, 'toulousain': 4559, 'bloglines': 482, 'lira': 2598, 'unilever': 4698, 'csi': 1061, 'quango': 3547, 'fightstar': 1689, 'forensic': 1761, 'trusted': 4630, 'nair': 2946, 'hailey': 1983, 'anelka': 182, 'dundee': 1359, 'honda': 2097, 'spector': 4185, 'adriano': 72, 'pacific': 3170, 'rsa': 3846, 'vogts': 4816, 'usada': 4735, 'peoplesoft': 3250, 'edu': 1401, 'feta': 1677, 'exeem': 1563, 'sloncek': 4108, 'regiment': 3660, 'uwb': 4748, 'bjorn': 465, 'powys': 3394, 'asimo': 274}\n"
     ]
    }
   ],
   "source": [
    "Tfidf_vect = TfidfVectorizer(max_features=5000)\n",
    "Tfidf_vect.fit(Corpus['text_final'])\n",
    "Train_X_Tfidf = Tfidf_vect.transform(Train_X)\n",
    "Test_X_Tfidf = Tfidf_vect.transform(Test_X)\n",
    "\n",
    "print(Tfidf_vect.vocabulary_)"
   ]
  },
  {
   "cell_type": "code",
   "execution_count": 11,
   "metadata": {
    "scrolled": true
   },
   "outputs": [
    {
     "name": "stdout",
     "output_type": "stream",
     "text": [
      "  (0, 4979)\t0.06931933035044019\n",
      "  (0, 4960)\t0.037914104389267775\n",
      "  (0, 4753)\t0.08383961772275399\n",
      "  (0, 4702)\t0.09593679898778092\n",
      "  (0, 4635)\t0.0786631968812092\n",
      "  (0, 4597)\t0.09593679898778092\n",
      "  (0, 4526)\t0.0877035181651098\n",
      "  (0, 4366)\t0.11500145284106822\n",
      "  (0, 4318)\t0.12255568186878617\n",
      "  (0, 4196)\t0.13139590081218508\n",
      "  (0, 4014)\t0.13789878072463674\n",
      "  (0, 3993)\t0.12753866989965373\n",
      "  (0, 3971)\t0.22101358196938484\n",
      "  (0, 3908)\t0.07695798567012196\n",
      "  (0, 3746)\t0.09199233469166736\n",
      "  (0, 3727)\t0.0786631968812092\n",
      "  (0, 3560)\t0.0880857356149831\n",
      "  (0, 3474)\t0.12513933180815848\n",
      "  (0, 3473)\t0.1418722481881557\n",
      "  (0, 3472)\t0.08937826734122511\n",
      "  (0, 3458)\t0.06530254087879524\n",
      "  (0, 3358)\t0.0880857356149831\n",
      "  (0, 3284)\t0.11225139452624366\n",
      "  (0, 2995)\t0.06364610304861103\n",
      "  (0, 2988)\t0.07474538115179438\n",
      "  :\t:\n",
      "  (1556, 564)\t0.02232054838182654\n",
      "  (1556, 471)\t0.03209695144949085\n",
      "  (1556, 420)\t0.04038342338262111\n",
      "  (1556, 419)\t0.03843834665272805\n",
      "  (1556, 405)\t0.019618697998008465\n",
      "  (1556, 394)\t0.018530840158364523\n",
      "  (1556, 390)\t0.040006144534447514\n",
      "  (1556, 279)\t0.03658061355768519\n",
      "  (1556, 275)\t0.04521898420706039\n",
      "  (1556, 273)\t0.03755383140823579\n",
      "  (1556, 229)\t0.029341489209579536\n",
      "  (1556, 210)\t0.0283346070612955\n",
      "  (1556, 198)\t0.11597550624889919\n",
      "  (1556, 189)\t0.03755383140823579\n",
      "  (1556, 162)\t0.025224376449559955\n",
      "  (1556, 154)\t0.04061385534036486\n",
      "  (1556, 139)\t0.06561338040234893\n",
      "  (1556, 119)\t0.030199928191903\n",
      "  (1556, 109)\t0.023927597447566642\n",
      "  (1556, 104)\t0.024850535147298694\n",
      "  (1556, 100)\t0.1419681100968755\n",
      "  (1556, 88)\t0.029341489209579536\n",
      "  (1556, 79)\t0.04372919876009787\n",
      "  (1556, 57)\t0.06325731132728352\n",
      "  (1556, 15)\t0.03425962484029439\n"
     ]
    }
   ],
   "source": [
    "print(Train_X_Tfidf)"
   ]
  },
  {
   "cell_type": "code",
   "execution_count": 12,
   "metadata": {
    "_uuid": "78fff25b8be1de575bff071a2027f3dd2b11b911"
   },
   "outputs": [
    {
     "name": "stdout",
     "output_type": "stream",
     "text": [
      "Naive Bayes Accuracy Score ->  97.30538922155688\n"
     ]
    }
   ],
   "source": [
    "## fit the training dataset on the NB classifier\n",
    "Naive = naive_bayes.MultinomialNB()\n",
    "Naive.fit(Train_X_Tfidf,Train_Y)\n",
    "\n",
    "## predict the labels on validation dataset#\n",
    "predictions_NB = Naive.predict(Test_X_Tfidf)\n",
    "\n",
    "## Use accuracy_score function to get the accuracy\n",
    "print(\"Naive Bayes Accuracy Score -> \",accuracy_score(predictions_NB, Test_Y)*100)"
   ]
  },
  {
   "cell_type": "code",
   "execution_count": 13,
   "metadata": {},
   "outputs": [
    {
     "data": {
      "text/plain": [
       "(1557, 5000)"
      ]
     },
     "execution_count": 13,
     "metadata": {},
     "output_type": "execute_result"
    }
   ],
   "source": [
    "Train_X_Tfidf.shape"
   ]
  },
  {
   "cell_type": "code",
   "execution_count": 14,
   "metadata": {},
   "outputs": [
    {
     "name": "stdout",
     "output_type": "stream",
     "text": [
      "              precision    recall  f1-score   support\n",
      "\n",
      "           0       0.97      0.96      0.97       161\n",
      "           1       0.99      0.98      0.99       120\n",
      "           2       0.94      0.97      0.95       125\n",
      "           3       0.99      0.99      0.99       136\n",
      "           4       0.98      0.96      0.97       126\n",
      "\n",
      "    accuracy                           0.97       668\n",
      "   macro avg       0.97      0.97      0.97       668\n",
      "weighted avg       0.97      0.97      0.97       668\n",
      "\n"
     ]
    }
   ],
   "source": [
    "print(classification_report(Test_Y, predictions_NB))"
   ]
  }
 ],
 "metadata": {
  "kernelspec": {
   "display_name": "Python 3",
   "language": "python",
   "name": "python3"
  },
  "language_info": {
   "codemirror_mode": {
    "name": "ipython",
    "version": 3
   },
   "file_extension": ".py",
   "mimetype": "text/x-python",
   "name": "python",
   "nbconvert_exporter": "python",
   "pygments_lexer": "ipython3",
   "version": "3.7.6"
  }
 },
 "nbformat": 4,
 "nbformat_minor": 1
}
