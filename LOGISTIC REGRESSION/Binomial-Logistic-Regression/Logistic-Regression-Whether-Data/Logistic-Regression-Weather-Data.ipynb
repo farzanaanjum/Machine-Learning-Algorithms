{
 "cells": [
  {
   "cell_type": "markdown",
   "id": "813df560",
   "metadata": {
    "papermill": {
     "duration": 0.066091,
     "end_time": "2021-10-11T21:25:51.836171",
     "exception": false,
     "start_time": "2021-10-11T21:25:51.770080",
     "status": "completed"
    },
    "tags": []
   },
   "source": [
    "\n",
    "  # Logistic Regression With Wheather Data"
   ]
  },
  {
   "cell_type": "markdown",
   "id": "b7ce7057",
   "metadata": {},
   "source": [
    "<a class=\"anchor\" id=\"0.1\"></a>\n",
    "# **Table of Contents**\n",
    "\n",
    "\n",
    "1.\t[Introduction to Logistic Regression](#1)\n",
    "2.\t[Logistic Regression intuition](#2)\n",
    "3.\t[Assumptions of Logistic Regression](#3)\n",
    "4.\t[Types of Logistic Regression](#4)\n",
    "5.\t[Import libraries](#5)\n",
    "6.\t[Import dataset](#6)\n",
    "7.\t[Exploratory data analysis](#7)\n",
    "8.\t[Categorical Variables](#8)\n",
    "9.\t[Continous Variables](#9)\n",
    "10.\t[Missing Values](#10)\n",
    "11.\t[Splitting Data into Training and Test Sets](#11)\n",
    "12.\t[Categorical Features (Feature Engineering)](#12)\n",
    "13.\t[Continuous Features (Feature Engineering)](#13)\n",
    "14.\t[Response Variable](#14)\n",
    "15.\t[Scaling](#15)\n",
    "16.\t[Model Training and Results](#16)\n",
    "17.\t[Confusion matrix](#17)\n",
    "18.\t[Classification metrices](#18)\n",
    "19.\t[ROC - AUC](#19)\n",
    "20.\t[k-Fold Cross Validation](#20)\n",
    "21.\t[Hyperparameter Optimization using GridSearch CV](#21)\n",
    "22. [Results and conclusion](#22)\n"
   ]
  },
  {
   "cell_type": "markdown",
   "id": "cf34eedc",
   "metadata": {},
   "source": [
    "# **1. Introduction to Logistic Regression** <a class=\"anchor\" id=\"1\"></a>\n",
    "\n",
    "\n",
    "[Table of Contents](#0.1)\n",
    "\n",
    "\n",
    "When data scientists may come across a new classification problem, the first algorithm that may come across their mind is **Logistic Regression**. It is a supervised learning classification algorithm which is used to predict observations to a discrete set of classes. Practically, it is used to classify observations into different categories. Hence, its output is discrete in nature. **Logistic Regression** is also called **Logit Regression**. It is one of the most simple, straightforward and versatile classification algorithms which is used to solve classification problems."
   ]
  },
  {
   "cell_type": "markdown",
   "id": "9e03ad28",
   "metadata": {},
   "source": [
    "# **2. Logistic Regression intuition** <a class=\"anchor\" id=\"2\"></a>\n",
    "\n",
    "\n",
    "[Table of Contents](#0.1)\n",
    "\n",
    "\n",
    "In statistics, the **Logistic Regression model** is a widely used statistical model which is primarily used for classification purposes. It means that given a set of observations, Logistic Regression algorithm helps us to classify these observations into two or more discrete classes. So, the target variable is discrete in nature.\n",
    "\n",
    "\n",
    "The Logistic Regression algorithm works as follows -"
   ]
  },
  {
   "cell_type": "markdown",
   "id": "1c89bbee",
   "metadata": {},
   "source": [
    "## **Implement linear equation**\n",
    "\n",
    "\n",
    "Logistic Regression algorithm works by implementing a linear equation with independent or explanatory variables to predict a response value. For example, we consider the example of number of hours studied and probability of passing the exam. Here, number of hours studied is the explanatory variable and it is denoted by x1. Probability of passing the exam is the response or target variable and it is denoted by z.\n",
    "\n",
    "\n",
    "If we have one explanatory variable (x1) and one response variable (z), then the linear equation would be given mathematically with the following equation-\n",
    "\n",
    "    z = β0 + β1x1    \n",
    "\n",
    "Here, the coefficients β0 and β1 are the parameters of the model.\n",
    "\n",
    "\n",
    "If there are multiple explanatory variables, then the above equation can be extended to\n",
    "\n",
    "    z = β0 + β1x1+ β2x2+……..+ βnxn\n",
    "    \n",
    "Here, the coefficients β0, β1, β2 and βn are the parameters of the model.\n",
    "\n",
    "So, the predicted response value is given by the above equations and is denoted by z."
   ]
  },
  {
   "cell_type": "markdown",
   "id": "2a9487a3",
   "metadata": {},
   "source": [
    "## **Sigmoid Function**\n",
    "\n",
    "This predicted response value, denoted by z is then converted into a probability value that lie between 0 and 1. We use the sigmoid function in order to map predicted values to probability values. This sigmoid function then maps any real value into a probability value between 0 and 1.\n",
    "\n",
    "In machine learning, sigmoid function is used to map predictions to probabilities. The sigmoid function has an S shaped curve. It is also called sigmoid curve.\n",
    "\n",
    "A Sigmoid function is a special case of the Logistic function. It is given by the following mathematical formula.\n",
    "\n",
    "Graphically, we can represent sigmoid function with the following graph."
   ]
  },
  {
   "cell_type": "markdown",
   "id": "49bd36fc",
   "metadata": {},
   "source": [
    "### Sigmoid Function\n",
    "\n",
    "![Sigmoid Function](https://miro.medium.com/max/970/1*Xu7B5y9gp0iL5ooBj7LtWw.png)"
   ]
  },
  {
   "cell_type": "markdown",
   "id": "50a0cd42",
   "metadata": {},
   "source": [
    "## **Decision boundary**\n",
    "\n",
    "The sigmoid function returns a probability value between 0 and 1. This probability value is then mapped to a discrete class which is either “0” or “1”. In order to map this probability value to a discrete class (pass/fail, yes/no, true/false), we select a threshold value. This threshold value is called Decision boundary. Above this threshold value, we will map the probability values into class 1 and below which we will map values into class 0.\n",
    "\n",
    "Mathematically, it can be expressed as follows:-\n",
    "\n",
    "p ≥ 0.5 => class = 1\n",
    "\n",
    "p < 0.5 => class = 0 \n",
    "\n",
    "Generally, the decision boundary is set to 0.5. So, if the probability value is 0.8 (> 0.5), we will map this observation to class 1. Similarly, if the probability value is 0.2 (< 0.5), we will map this observation to class 0. This is represented in the graph below-"
   ]
  },
  {
   "cell_type": "markdown",
   "id": "b822f25c",
   "metadata": {},
   "source": [
    "![Decision boundary in sigmoid function](https://ml-cheatsheet.readthedocs.io/en/latest/_images/logistic_regression_sigmoid_w_threshold.png)"
   ]
  },
  {
   "cell_type": "markdown",
   "id": "2ce02035",
   "metadata": {},
   "source": [
    "## **Making predictions**\n",
    "\n",
    "Now, we know about sigmoid function and decision boundary in logistic regression. We can use our knowledge of sigmoid function and decision boundary to write a prediction function. A prediction function in logistic regression returns the probability of the observation being positive, Yes or True. We call this as class 1 and it is denoted by P(class = 1). If the probability inches closer to one, then we will be more confident about our model that the observation is in class 1, otherwise it is in class 0.\n"
   ]
  },
  {
   "cell_type": "markdown",
   "id": "716a7edf",
   "metadata": {},
   "source": [
    "# **3. Assumptions of Logistic Regression** <a class=\"anchor\" id=\"3\"></a>\n",
    "\n",
    "\n",
    "[Table of Contents](#0.1)\n",
    "\n",
    "\n",
    "The Logistic Regression model requires several key assumptions. These are as follows:-\n",
    "\n",
    "1. Logistic Regression model requires the dependent variable to be binary, multinomial or ordinal in nature.\n",
    "\n",
    "2. It requires the observations to be independent of each other. So, the observations should not come from repeated measurements.\n",
    "\n",
    "3. Logistic Regression algorithm requires little or no multicollinearity among the independent variables. It means that the independent variables should not be too highly correlated with each other.\n",
    "\n",
    "4. Logistic Regression model assumes linearity of independent variables and log odds.\n",
    "\n",
    "5. The success of Logistic Regression model depends on the sample sizes. Typically, it requires a large sample size to achieve the high accuracy."
   ]
  },
  {
   "cell_type": "markdown",
   "id": "47182322",
   "metadata": {},
   "source": [
    "# **4. Types of Logistic Regression** <a class=\"anchor\" id=\"4\"></a>\n",
    "\n",
    "\n",
    "[Table of Contents](#0.1)\n",
    "\n",
    "\n",
    "Logistic Regression model can be classified into three groups based on the target variable categories. These three groups are described below:-\n",
    "\n",
    "### 1. Binary Logistic Regression\n",
    "\n",
    "In Binary Logistic Regression, the target variable has two possible categories. The common examples of categories are yes or no, good or bad, true or false, spam or no spam and pass or fail.\n",
    "\n",
    "\n",
    "### 2. Multinomial Logistic Regression\n",
    "\n",
    "In Multinomial Logistic Regression, the target variable has three or more categories which are not in any particular order. So, there are three or more nominal categories. The examples include the type of categories of fruits - apple, mango, orange and banana.\n",
    "\n",
    "\n",
    "### 3. Ordinal Logistic Regression\n",
    "\n",
    "In Ordinal Logistic Regression, the target variable has three or more ordinal categories. So, there is intrinsic order involved with the categories. For example, the student performance can be categorized as poor, average, good and excellent.\n"
   ]
  },
  {
   "cell_type": "markdown",
   "id": "f133f742",
   "metadata": {},
   "source": [
    "# **5. Import libraries** <a class=\"anchor\" id=\"5\"></a>\n",
    "\n",
    "\n",
    "[Table of Contents](#0.1)"
   ]
  },
  {
   "cell_type": "code",
   "execution_count": 1,
   "id": "0cc2060d",
   "metadata": {
    "_cell_guid": "b1076dfc-b9ad-4769-8c92-a6c4dae69d19",
    "_uuid": "8f2839f25d086af736a60e9eeb907d3b93b6e0e5",
    "execution": {
     "iopub.execute_input": "2021-10-11T21:25:51.954178Z",
     "iopub.status.busy": "2021-10-11T21:25:51.953124Z",
     "iopub.status.idle": "2021-10-11T21:25:53.679535Z",
     "shell.execute_reply": "2021-10-11T21:25:53.678246Z",
     "shell.execute_reply.started": "2021-10-11T21:06:15.310052Z"
    },
    "papermill": {
     "duration": 1.792463,
     "end_time": "2021-10-11T21:25:53.679735",
     "exception": false,
     "start_time": "2021-10-11T21:25:51.887272",
     "status": "completed"
    },
    "tags": []
   },
   "outputs": [],
   "source": [
    "import numpy as np # linear algebra\n",
    "import pandas as pd # data processing, CSV file I/O (e.g. pd.read_csv)\n",
    "import os\n",
    "import datetime\n",
    "import matplotlib.pyplot as plt\n",
    "import seaborn as sns"
   ]
  },
  {
   "cell_type": "markdown",
   "id": "3c131827",
   "metadata": {},
   "source": [
    "# **6. Import dataset** <a class=\"anchor\" id=\"6\"></a>\n",
    "\n",
    "\n",
    "[Table of Contents](#0.1)"
   ]
  },
  {
   "cell_type": "code",
   "execution_count": 2,
   "id": "70eb2c66",
   "metadata": {},
   "outputs": [],
   "source": [
    "data = pd.read_csv('weatherAUS.csv')"
   ]
  },
  {
   "cell_type": "markdown",
   "id": "84cae8ed",
   "metadata": {},
   "source": [
    "# **7. Exploratory data analysis** <a class=\"anchor\" id=\"7\"></a>\n",
    "\n",
    "\n",
    "[Table of Contents](#0.1)\n",
    "\n",
    "\n",
    "Now, I will explore the data to gain insights about the data. "
   ]
  },
  {
   "cell_type": "code",
   "execution_count": 3,
   "id": "281fa672",
   "metadata": {
    "execution": {
     "iopub.execute_input": "2021-10-11T21:25:53.786654Z",
     "iopub.status.busy": "2021-10-11T21:25:53.785943Z",
     "iopub.status.idle": "2021-10-11T21:25:53.817815Z",
     "shell.execute_reply": "2021-10-11T21:25:53.818322Z",
     "shell.execute_reply.started": "2021-10-11T21:06:16.861029Z"
    },
    "papermill": {
     "duration": 0.087591,
     "end_time": "2021-10-11T21:25:53.818536",
     "exception": false,
     "start_time": "2021-10-11T21:25:53.730945",
     "status": "completed"
    },
    "tags": []
   },
   "outputs": [
    {
     "data": {
      "text/plain": [
       "(145460, 23)"
      ]
     },
     "execution_count": 3,
     "metadata": {},
     "output_type": "execute_result"
    }
   ],
   "source": [
    "# Dataframe Dimensions: How many rows and columns are there?\n",
    "data = data.copy()\n",
    "data.shape"
   ]
  },
  {
   "cell_type": "markdown",
   "id": "b12e3ec8",
   "metadata": {
    "papermill": {
     "duration": 0.050611,
     "end_time": "2021-10-11T21:25:53.920338",
     "exception": false,
     "start_time": "2021-10-11T21:25:53.869727",
     "status": "completed"
    },
    "tags": []
   },
   "source": [
    "We see that there are a little under 150,000 rows in 23 columns. Lets take a sneak peek at the data:"
   ]
  },
  {
   "cell_type": "code",
   "execution_count": 4,
   "id": "717fc305",
   "metadata": {
    "execution": {
     "iopub.execute_input": "2021-10-11T21:25:54.036477Z",
     "iopub.status.busy": "2021-10-11T21:25:54.035744Z",
     "iopub.status.idle": "2021-10-11T21:25:54.053031Z",
     "shell.execute_reply": "2021-10-11T21:25:54.053561Z",
     "shell.execute_reply.started": "2021-10-11T21:06:16.892926Z"
    },
    "papermill": {
     "duration": 0.0826,
     "end_time": "2021-10-11T21:25:54.053764",
     "exception": false,
     "start_time": "2021-10-11T21:25:53.971164",
     "status": "completed"
    },
    "tags": []
   },
   "outputs": [
    {
     "data": {
      "text/html": [
       "<div>\n",
       "<style scoped>\n",
       "    .dataframe tbody tr th:only-of-type {\n",
       "        vertical-align: middle;\n",
       "    }\n",
       "\n",
       "    .dataframe tbody tr th {\n",
       "        vertical-align: top;\n",
       "    }\n",
       "\n",
       "    .dataframe thead th {\n",
       "        text-align: right;\n",
       "    }\n",
       "</style>\n",
       "<table border=\"1\" class=\"dataframe\">\n",
       "  <thead>\n",
       "    <tr style=\"text-align: right;\">\n",
       "      <th></th>\n",
       "      <th>0</th>\n",
       "      <th>1</th>\n",
       "      <th>2</th>\n",
       "      <th>3</th>\n",
       "      <th>4</th>\n",
       "    </tr>\n",
       "  </thead>\n",
       "  <tbody>\n",
       "    <tr>\n",
       "      <th>Date</th>\n",
       "      <td>2008-12-01</td>\n",
       "      <td>2008-12-02</td>\n",
       "      <td>2008-12-03</td>\n",
       "      <td>2008-12-04</td>\n",
       "      <td>2008-12-05</td>\n",
       "    </tr>\n",
       "    <tr>\n",
       "      <th>Location</th>\n",
       "      <td>Albury</td>\n",
       "      <td>Albury</td>\n",
       "      <td>Albury</td>\n",
       "      <td>Albury</td>\n",
       "      <td>Albury</td>\n",
       "    </tr>\n",
       "    <tr>\n",
       "      <th>MinTemp</th>\n",
       "      <td>13.4</td>\n",
       "      <td>7.4</td>\n",
       "      <td>12.9</td>\n",
       "      <td>9.2</td>\n",
       "      <td>17.5</td>\n",
       "    </tr>\n",
       "    <tr>\n",
       "      <th>MaxTemp</th>\n",
       "      <td>22.9</td>\n",
       "      <td>25.1</td>\n",
       "      <td>25.7</td>\n",
       "      <td>28</td>\n",
       "      <td>32.3</td>\n",
       "    </tr>\n",
       "    <tr>\n",
       "      <th>Rainfall</th>\n",
       "      <td>0.6</td>\n",
       "      <td>0</td>\n",
       "      <td>0</td>\n",
       "      <td>0</td>\n",
       "      <td>1</td>\n",
       "    </tr>\n",
       "    <tr>\n",
       "      <th>Evaporation</th>\n",
       "      <td>NaN</td>\n",
       "      <td>NaN</td>\n",
       "      <td>NaN</td>\n",
       "      <td>NaN</td>\n",
       "      <td>NaN</td>\n",
       "    </tr>\n",
       "    <tr>\n",
       "      <th>Sunshine</th>\n",
       "      <td>NaN</td>\n",
       "      <td>NaN</td>\n",
       "      <td>NaN</td>\n",
       "      <td>NaN</td>\n",
       "      <td>NaN</td>\n",
       "    </tr>\n",
       "    <tr>\n",
       "      <th>WindGustDir</th>\n",
       "      <td>W</td>\n",
       "      <td>WNW</td>\n",
       "      <td>WSW</td>\n",
       "      <td>NE</td>\n",
       "      <td>W</td>\n",
       "    </tr>\n",
       "    <tr>\n",
       "      <th>WindGustSpeed</th>\n",
       "      <td>44</td>\n",
       "      <td>44</td>\n",
       "      <td>46</td>\n",
       "      <td>24</td>\n",
       "      <td>41</td>\n",
       "    </tr>\n",
       "    <tr>\n",
       "      <th>WindDir9am</th>\n",
       "      <td>W</td>\n",
       "      <td>NNW</td>\n",
       "      <td>W</td>\n",
       "      <td>SE</td>\n",
       "      <td>ENE</td>\n",
       "    </tr>\n",
       "    <tr>\n",
       "      <th>WindDir3pm</th>\n",
       "      <td>WNW</td>\n",
       "      <td>WSW</td>\n",
       "      <td>WSW</td>\n",
       "      <td>E</td>\n",
       "      <td>NW</td>\n",
       "    </tr>\n",
       "    <tr>\n",
       "      <th>WindSpeed9am</th>\n",
       "      <td>20</td>\n",
       "      <td>4</td>\n",
       "      <td>19</td>\n",
       "      <td>11</td>\n",
       "      <td>7</td>\n",
       "    </tr>\n",
       "    <tr>\n",
       "      <th>WindSpeed3pm</th>\n",
       "      <td>24</td>\n",
       "      <td>22</td>\n",
       "      <td>26</td>\n",
       "      <td>9</td>\n",
       "      <td>20</td>\n",
       "    </tr>\n",
       "    <tr>\n",
       "      <th>Humidity9am</th>\n",
       "      <td>71</td>\n",
       "      <td>44</td>\n",
       "      <td>38</td>\n",
       "      <td>45</td>\n",
       "      <td>82</td>\n",
       "    </tr>\n",
       "    <tr>\n",
       "      <th>Humidity3pm</th>\n",
       "      <td>22</td>\n",
       "      <td>25</td>\n",
       "      <td>30</td>\n",
       "      <td>16</td>\n",
       "      <td>33</td>\n",
       "    </tr>\n",
       "    <tr>\n",
       "      <th>Pressure9am</th>\n",
       "      <td>1007.7</td>\n",
       "      <td>1010.6</td>\n",
       "      <td>1007.6</td>\n",
       "      <td>1017.6</td>\n",
       "      <td>1010.8</td>\n",
       "    </tr>\n",
       "    <tr>\n",
       "      <th>Pressure3pm</th>\n",
       "      <td>1007.1</td>\n",
       "      <td>1007.8</td>\n",
       "      <td>1008.7</td>\n",
       "      <td>1012.8</td>\n",
       "      <td>1006</td>\n",
       "    </tr>\n",
       "    <tr>\n",
       "      <th>Cloud9am</th>\n",
       "      <td>8</td>\n",
       "      <td>NaN</td>\n",
       "      <td>NaN</td>\n",
       "      <td>NaN</td>\n",
       "      <td>7</td>\n",
       "    </tr>\n",
       "    <tr>\n",
       "      <th>Cloud3pm</th>\n",
       "      <td>NaN</td>\n",
       "      <td>NaN</td>\n",
       "      <td>2</td>\n",
       "      <td>NaN</td>\n",
       "      <td>8</td>\n",
       "    </tr>\n",
       "    <tr>\n",
       "      <th>Temp9am</th>\n",
       "      <td>16.9</td>\n",
       "      <td>17.2</td>\n",
       "      <td>21</td>\n",
       "      <td>18.1</td>\n",
       "      <td>17.8</td>\n",
       "    </tr>\n",
       "    <tr>\n",
       "      <th>Temp3pm</th>\n",
       "      <td>21.8</td>\n",
       "      <td>24.3</td>\n",
       "      <td>23.2</td>\n",
       "      <td>26.5</td>\n",
       "      <td>29.7</td>\n",
       "    </tr>\n",
       "    <tr>\n",
       "      <th>RainToday</th>\n",
       "      <td>No</td>\n",
       "      <td>No</td>\n",
       "      <td>No</td>\n",
       "      <td>No</td>\n",
       "      <td>No</td>\n",
       "    </tr>\n",
       "    <tr>\n",
       "      <th>RainTomorrow</th>\n",
       "      <td>No</td>\n",
       "      <td>No</td>\n",
       "      <td>No</td>\n",
       "      <td>No</td>\n",
       "      <td>No</td>\n",
       "    </tr>\n",
       "  </tbody>\n",
       "</table>\n",
       "</div>"
      ],
      "text/plain": [
       "                        0           1           2           3           4\n",
       "Date           2008-12-01  2008-12-02  2008-12-03  2008-12-04  2008-12-05\n",
       "Location           Albury      Albury      Albury      Albury      Albury\n",
       "MinTemp              13.4         7.4        12.9         9.2        17.5\n",
       "MaxTemp              22.9        25.1        25.7          28        32.3\n",
       "Rainfall              0.6           0           0           0           1\n",
       "Evaporation           NaN         NaN         NaN         NaN         NaN\n",
       "Sunshine              NaN         NaN         NaN         NaN         NaN\n",
       "WindGustDir             W         WNW         WSW          NE           W\n",
       "WindGustSpeed          44          44          46          24          41\n",
       "WindDir9am              W         NNW           W          SE         ENE\n",
       "WindDir3pm            WNW         WSW         WSW           E          NW\n",
       "WindSpeed9am           20           4          19          11           7\n",
       "WindSpeed3pm           24          22          26           9          20\n",
       "Humidity9am            71          44          38          45          82\n",
       "Humidity3pm            22          25          30          16          33\n",
       "Pressure9am        1007.7      1010.6      1007.6      1017.6      1010.8\n",
       "Pressure3pm        1007.1      1007.8      1008.7      1012.8        1006\n",
       "Cloud9am                8         NaN         NaN         NaN           7\n",
       "Cloud3pm              NaN         NaN           2         NaN           8\n",
       "Temp9am              16.9        17.2          21        18.1        17.8\n",
       "Temp3pm              21.8        24.3        23.2        26.5        29.7\n",
       "RainToday              No          No          No          No          No\n",
       "RainTomorrow           No          No          No          No          No"
      ]
     },
     "execution_count": 4,
     "metadata": {},
     "output_type": "execute_result"
    }
   ],
   "source": [
    "data.head().T"
   ]
  },
  {
   "cell_type": "code",
   "execution_count": 5,
   "id": "768e52b0",
   "metadata": {
    "execution": {
     "iopub.execute_input": "2021-10-11T21:25:54.164154Z",
     "iopub.status.busy": "2021-10-11T21:25:54.162841Z",
     "iopub.status.idle": "2021-10-11T21:25:54.303784Z",
     "shell.execute_reply": "2021-10-11T21:25:54.304368Z",
     "shell.execute_reply.started": "2021-10-11T21:06:16.921192Z"
    },
    "papermill": {
     "duration": 0.199343,
     "end_time": "2021-10-11T21:25:54.304665",
     "exception": false,
     "start_time": "2021-10-11T21:25:54.105322",
     "status": "completed"
    },
    "tags": []
   },
   "outputs": [
    {
     "name": "stdout",
     "output_type": "stream",
     "text": [
      "<class 'pandas.core.frame.DataFrame'>\n",
      "RangeIndex: 145460 entries, 0 to 145459\n",
      "Data columns (total 23 columns):\n",
      " #   Column         Non-Null Count   Dtype  \n",
      "---  ------         --------------   -----  \n",
      " 0   Date           145460 non-null  object \n",
      " 1   Location       145460 non-null  object \n",
      " 2   MinTemp        143975 non-null  float64\n",
      " 3   MaxTemp        144199 non-null  float64\n",
      " 4   Rainfall       142199 non-null  float64\n",
      " 5   Evaporation    82670 non-null   float64\n",
      " 6   Sunshine       75625 non-null   float64\n",
      " 7   WindGustDir    135134 non-null  object \n",
      " 8   WindGustSpeed  135197 non-null  float64\n",
      " 9   WindDir9am     134894 non-null  object \n",
      " 10  WindDir3pm     141232 non-null  object \n",
      " 11  WindSpeed9am   143693 non-null  float64\n",
      " 12  WindSpeed3pm   142398 non-null  float64\n",
      " 13  Humidity9am    142806 non-null  float64\n",
      " 14  Humidity3pm    140953 non-null  float64\n",
      " 15  Pressure9am    130395 non-null  float64\n",
      " 16  Pressure3pm    130432 non-null  float64\n",
      " 17  Cloud9am       89572 non-null   float64\n",
      " 18  Cloud3pm       86102 non-null   float64\n",
      " 19  Temp9am        143693 non-null  float64\n",
      " 20  Temp3pm        141851 non-null  float64\n",
      " 21  RainToday      142199 non-null  object \n",
      " 22  RainTomorrow   142193 non-null  object \n",
      "dtypes: float64(16), object(7)\n",
      "memory usage: 25.5+ MB\n"
     ]
    }
   ],
   "source": [
    "data.info()"
   ]
  },
  {
   "cell_type": "markdown",
   "id": "8a0be55e",
   "metadata": {
    "papermill": {
     "duration": 0.051497,
     "end_time": "2021-10-11T21:25:54.409156",
     "exception": false,
     "start_time": "2021-10-11T21:25:54.357659",
     "status": "completed"
    },
    "tags": []
   },
   "source": [
    "# **8. Categorical Variables** <a class=\"anchor\" id=\"7\"></a>\n",
    "Lets take a quick look at our categorical variables\n",
    "\n",
    "[Table of Contents](#0.1)\n"
   ]
  },
  {
   "cell_type": "code",
   "execution_count": 6,
   "id": "20d65c2d",
   "metadata": {
    "execution": {
     "iopub.execute_input": "2021-10-11T21:25:54.530978Z",
     "iopub.status.busy": "2021-10-11T21:25:54.526068Z",
     "iopub.status.idle": "2021-10-11T21:25:54.642744Z",
     "shell.execute_reply": "2021-10-11T21:25:54.642081Z",
     "shell.execute_reply.started": "2021-10-11T21:06:17.063707Z"
    },
    "papermill": {
     "duration": 0.181983,
     "end_time": "2021-10-11T21:25:54.642897",
     "exception": false,
     "start_time": "2021-10-11T21:25:54.460914",
     "status": "completed"
    },
    "tags": []
   },
   "outputs": [
    {
     "data": {
      "text/plain": [
       "Date            3436\n",
       "Location          49\n",
       "WindGustDir       16\n",
       "WindDir9am        16\n",
       "WindDir3pm        16\n",
       "RainToday          2\n",
       "RainTomorrow       2\n",
       "dtype: int64"
      ]
     },
     "execution_count": 6,
     "metadata": {},
     "output_type": "execute_result"
    }
   ],
   "source": [
    "# Unique values in categorical variables\n",
    "cat_col = data.select_dtypes(include=['object'])\n",
    "cat_col.nunique()"
   ]
  },
  {
   "cell_type": "markdown",
   "id": "5a727367",
   "metadata": {
    "papermill": {
     "duration": 0.051507,
     "end_time": "2021-10-11T21:25:54.746289",
     "exception": false,
     "start_time": "2021-10-11T21:25:54.694782",
     "status": "completed"
    },
    "tags": []
   },
   "source": [
    "It seems like there's a pre-defined set of directions (16 unique values) for columns pertaining to wind direction. There are also two dummy variables for `RainToday` and `RainTomorrow`. Lastly, there are 49 unique values in `Location`, which is assumed to be all in Australia. \n",
    "\n",
    "The `Date` column also has a high number of unique values, which is something that will need to be adjusted before it goes into any model. Any columns with high cardinality will require some type of pre"
   ]
  },
  {
   "cell_type": "code",
   "execution_count": 7,
   "id": "62ae7385",
   "metadata": {
    "execution": {
     "iopub.execute_input": "2021-10-11T21:25:54.856791Z",
     "iopub.status.busy": "2021-10-11T21:25:54.855764Z",
     "iopub.status.idle": "2021-10-11T21:25:54.881196Z",
     "shell.execute_reply": "2021-10-11T21:25:54.881820Z",
     "shell.execute_reply.started": "2021-10-11T21:06:17.184374Z"
    },
    "papermill": {
     "duration": 0.082806,
     "end_time": "2021-10-11T21:25:54.882016",
     "exception": false,
     "start_time": "2021-10-11T21:25:54.799210",
     "status": "completed"
    },
    "tags": []
   },
   "outputs": [
    {
     "data": {
      "text/plain": [
       "Canberra            3436\n",
       "Sydney              3344\n",
       "Perth               3193\n",
       "Hobart              3193\n",
       "Darwin              3193\n",
       "Brisbane            3193\n",
       "Melbourne           3193\n",
       "Adelaide            3193\n",
       "MountGambier        3040\n",
       "Ballarat            3040\n",
       "Townsville          3040\n",
       "MountGinini         3040\n",
       "Wollongong          3040\n",
       "Albany              3040\n",
       "Bendigo             3040\n",
       "Albury              3040\n",
       "Launceston          3040\n",
       "AliceSprings        3040\n",
       "Cairns              3040\n",
       "GoldCoast           3040\n",
       "Newcastle           3039\n",
       "Penrith             3039\n",
       "Tuggeranong         3039\n",
       "Cobar               3009\n",
       "Richmond            3009\n",
       "WaggaWagga          3009\n",
       "Nuriootpa           3009\n",
       "Williamtown         3009\n",
       "PearceRAAF          3009\n",
       "Woomera             3009\n",
       "Moree               3009\n",
       "Watsonia            3009\n",
       "Sale                3009\n",
       "PerthAirport        3009\n",
       "CoffsHarbour        3009\n",
       "Dartmoor            3009\n",
       "SydneyAirport       3009\n",
       "Portland            3009\n",
       "Witchcliffe         3009\n",
       "MelbourneAirport    3009\n",
       "NorfolkIsland       3009\n",
       "BadgerysCreek       3009\n",
       "Mildura             3009\n",
       "Walpole             3006\n",
       "NorahHead           3004\n",
       "SalmonGums          3001\n",
       "Nhil                1578\n",
       "Uluru               1578\n",
       "Katherine           1578\n",
       "Name: Location, dtype: int64"
      ]
     },
     "execution_count": 7,
     "metadata": {},
     "output_type": "execute_result"
    }
   ],
   "source": [
    "data['Location'].value_counts()"
   ]
  },
  {
   "cell_type": "markdown",
   "id": "31f5f806",
   "metadata": {
    "papermill": {
     "duration": 0.051856,
     "end_time": "2021-10-11T21:25:54.986264",
     "exception": false,
     "start_time": "2021-10-11T21:25:54.934408",
     "status": "completed"
    },
    "tags": []
   },
   "source": [
    "The `Location` column does not seem to have a huge issue, although we will have to do more digging to see. \n",
    "\n",
    "`RainTomorrow` will be the response variable, as that is the column we are trying to predict.\n",
    "\n",
    "## Problems with Categorical Variables\n",
    "\n",
    "Before doing any feature engineering, lets look at the number of missing values in the categorical columns\n"
   ]
  },
  {
   "cell_type": "code",
   "execution_count": 8,
   "id": "26b30708",
   "metadata": {
    "execution": {
     "iopub.execute_input": "2021-10-11T21:25:55.203950Z",
     "iopub.status.busy": "2021-10-11T21:25:55.202916Z",
     "iopub.status.idle": "2021-10-11T21:25:55.213187Z",
     "shell.execute_reply": "2021-10-11T21:25:55.212617Z",
     "shell.execute_reply.started": "2021-10-11T21:06:17.212066Z"
    },
    "papermill": {
     "duration": 0.174793,
     "end_time": "2021-10-11T21:25:55.213345",
     "exception": false,
     "start_time": "2021-10-11T21:25:55.038552",
     "status": "completed"
    },
    "tags": []
   },
   "outputs": [
    {
     "data": {
      "text/plain": [
       "Date                0\n",
       "Location            0\n",
       "WindGustDir     10326\n",
       "WindDir9am      10566\n",
       "WindDir3pm       4228\n",
       "RainToday        3261\n",
       "RainTomorrow     3267\n",
       "dtype: int64"
      ]
     },
     "execution_count": 8,
     "metadata": {},
     "output_type": "execute_result"
    }
   ],
   "source": [
    "cat_col.isna().sum()"
   ]
  },
  {
   "cell_type": "markdown",
   "id": "da3bb248",
   "metadata": {
    "papermill": {
     "duration": 0.052487,
     "end_time": "2021-10-11T21:25:55.319110",
     "exception": false,
     "start_time": "2021-10-11T21:25:55.266623",
     "status": "completed"
    },
    "tags": []
   },
   "source": [
    "There seems to be a (relatively) high number of missing values in `WindGustDir` and `WindDir9am`. We will deal with these afterwards. For now, we see that there are no missing values with `Date`, which is a good sign for our next steps in feature engineering.\n",
    "\n",
    "## `Date` Column\n",
    "\n",
    "As mentioned, we want to do some feature engineering to lower the cardinality of the `Date` column. It seems reasonable to break the `Date` column down into:\n",
    "* `Year`\n",
    "* `Month`\n",
    "* `Day`"
   ]
  },
  {
   "cell_type": "code",
   "execution_count": 9,
   "id": "e9ca16e3",
   "metadata": {
    "execution": {
     "iopub.execute_input": "2021-10-11T21:25:55.478411Z",
     "iopub.status.busy": "2021-10-11T21:25:55.477661Z",
     "iopub.status.idle": "2021-10-11T21:25:55.693479Z",
     "shell.execute_reply": "2021-10-11T21:25:55.692873Z",
     "shell.execute_reply.started": "2021-10-11T21:06:17.339267Z"
    },
    "papermill": {
     "duration": 0.321557,
     "end_time": "2021-10-11T21:25:55.693648",
     "exception": false,
     "start_time": "2021-10-11T21:25:55.372091",
     "status": "completed"
    },
    "tags": []
   },
   "outputs": [
    {
     "name": "stdout",
     "output_type": "stream",
     "text": [
      "<class 'pandas.core.frame.DataFrame'>\n",
      "RangeIndex: 145460 entries, 0 to 145459\n",
      "Data columns (total 25 columns):\n",
      " #   Column         Non-Null Count   Dtype  \n",
      "---  ------         --------------   -----  \n",
      " 0   Location       145460 non-null  object \n",
      " 1   MinTemp        143975 non-null  float64\n",
      " 2   MaxTemp        144199 non-null  float64\n",
      " 3   Rainfall       142199 non-null  float64\n",
      " 4   Evaporation    82670 non-null   float64\n",
      " 5   Sunshine       75625 non-null   float64\n",
      " 6   WindGustDir    135134 non-null  object \n",
      " 7   WindGustSpeed  135197 non-null  float64\n",
      " 8   WindDir9am     134894 non-null  object \n",
      " 9   WindDir3pm     141232 non-null  object \n",
      " 10  WindSpeed9am   143693 non-null  float64\n",
      " 11  WindSpeed3pm   142398 non-null  float64\n",
      " 12  Humidity9am    142806 non-null  float64\n",
      " 13  Humidity3pm    140953 non-null  float64\n",
      " 14  Pressure9am    130395 non-null  float64\n",
      " 15  Pressure3pm    130432 non-null  float64\n",
      " 16  Cloud9am       89572 non-null   float64\n",
      " 17  Cloud3pm       86102 non-null   float64\n",
      " 18  Temp9am        143693 non-null  float64\n",
      " 19  Temp3pm        141851 non-null  float64\n",
      " 20  RainToday      142199 non-null  object \n",
      " 21  RainTomorrow   142193 non-null  object \n",
      " 22  Year           145460 non-null  int64  \n",
      " 23  Month          145460 non-null  int64  \n",
      " 24  Day            145460 non-null  int64  \n",
      "dtypes: float64(16), int64(3), object(6)\n",
      "memory usage: 27.7+ MB\n"
     ]
    }
   ],
   "source": [
    "# Breaking down date column to Year, Month and Date\n",
    "\n",
    "data['Date'] = pd.to_datetime(data['Date']) # parse as datatime\n",
    "\n",
    "data['Year'] = data['Date'].dt.year\n",
    "data['Month'] = data['Date'].dt.month\n",
    "data['Day'] = data['Date'].dt.day\n",
    "\n",
    "data[['Date', 'Year', 'Month', 'Day']] # preview changes made\n",
    "\n",
    "data.drop('Date', axis=1, inplace = True)\n",
    "data.info()"
   ]
  },
  {
   "cell_type": "markdown",
   "id": "bff56e83",
   "metadata": {
    "papermill": {
     "duration": 0.055998,
     "end_time": "2021-10-11T21:25:55.803151",
     "exception": false,
     "start_time": "2021-10-11T21:25:55.747153",
     "status": "completed"
    },
    "tags": []
   },
   "source": [
    "## `Location` Column"
   ]
  },
  {
   "cell_type": "code",
   "execution_count": 10,
   "id": "a0bb476a",
   "metadata": {
    "execution": {
     "iopub.execute_input": "2021-10-11T21:25:55.952881Z",
     "iopub.status.busy": "2021-10-11T21:25:55.951779Z",
     "iopub.status.idle": "2021-10-11T21:25:55.957681Z",
     "shell.execute_reply": "2021-10-11T21:25:55.957113Z",
     "shell.execute_reply.started": "2021-10-11T21:06:17.593867Z"
    },
    "papermill": {
     "duration": 0.100974,
     "end_time": "2021-10-11T21:25:55.957837",
     "exception": false,
     "start_time": "2021-10-11T21:25:55.856863",
     "status": "completed"
    },
    "tags": []
   },
   "outputs": [
    {
     "name": "stdout",
     "output_type": "stream",
     "text": [
      "Canberra            3436\n",
      "Sydney              3344\n",
      "Perth               3193\n",
      "Hobart              3193\n",
      "Darwin              3193\n",
      "Brisbane            3193\n",
      "Melbourne           3193\n",
      "Adelaide            3193\n",
      "MountGambier        3040\n",
      "Ballarat            3040\n",
      "Townsville          3040\n",
      "MountGinini         3040\n",
      "Wollongong          3040\n",
      "Albany              3040\n",
      "Bendigo             3040\n",
      "Albury              3040\n",
      "Launceston          3040\n",
      "AliceSprings        3040\n",
      "Cairns              3040\n",
      "GoldCoast           3040\n",
      "Newcastle           3039\n",
      "Penrith             3039\n",
      "Tuggeranong         3039\n",
      "Cobar               3009\n",
      "Richmond            3009\n",
      "WaggaWagga          3009\n",
      "Nuriootpa           3009\n",
      "Williamtown         3009\n",
      "PearceRAAF          3009\n",
      "Woomera             3009\n",
      "Moree               3009\n",
      "Watsonia            3009\n",
      "Sale                3009\n",
      "PerthAirport        3009\n",
      "CoffsHarbour        3009\n",
      "Dartmoor            3009\n",
      "SydneyAirport       3009\n",
      "Portland            3009\n",
      "Witchcliffe         3009\n",
      "MelbourneAirport    3009\n",
      "NorfolkIsland       3009\n",
      "BadgerysCreek       3009\n",
      "Mildura             3009\n",
      "Walpole             3006\n",
      "NorahHead           3004\n",
      "SalmonGums          3001\n",
      "Nhil                1578\n",
      "Uluru               1578\n",
      "Katherine           1578\n",
      "Name: Location, dtype: int64\n",
      "\n",
      "\n",
      "Missing Values: 0\n"
     ]
    }
   ],
   "source": [
    "# Unique Values\n",
    "print(data['Location'].value_counts())\n",
    "print(\"\")\n",
    "print(\"\")\n",
    "print(f\"Missing Values: {data['Location'].isna().sum()}\")"
   ]
  },
  {
   "cell_type": "markdown",
   "id": "9b82434b",
   "metadata": {
    "papermill": {
     "duration": 0.053995,
     "end_time": "2021-10-11T21:25:56.065670",
     "exception": false,
     "start_time": "2021-10-11T21:25:56.011675",
     "status": "completed"
    },
    "tags": []
   },
   "source": [
    "The distribution of these value counts are quite nice. It seems that all we need to do is to capture this data using dummy variables. The best way to do this is to employ One-Hot Encoding"
   ]
  },
  {
   "cell_type": "code",
   "execution_count": 11,
   "id": "9f0b3822",
   "metadata": {
    "execution": {
     "iopub.execute_input": "2021-10-11T21:25:56.188419Z",
     "iopub.status.busy": "2021-10-11T21:25:56.181015Z",
     "iopub.status.idle": "2021-10-11T21:25:56.220480Z",
     "shell.execute_reply": "2021-10-11T21:25:56.220969Z",
     "shell.execute_reply.started": "2021-10-11T21:06:17.640491Z"
    },
    "papermill": {
     "duration": 0.101716,
     "end_time": "2021-10-11T21:25:56.221161",
     "exception": false,
     "start_time": "2021-10-11T21:25:56.119445",
     "status": "completed"
    },
    "tags": []
   },
   "outputs": [
    {
     "data": {
      "text/html": [
       "<div>\n",
       "<style scoped>\n",
       "    .dataframe tbody tr th:only-of-type {\n",
       "        vertical-align: middle;\n",
       "    }\n",
       "\n",
       "    .dataframe tbody tr th {\n",
       "        vertical-align: top;\n",
       "    }\n",
       "\n",
       "    .dataframe thead th {\n",
       "        text-align: right;\n",
       "    }\n",
       "</style>\n",
       "<table border=\"1\" class=\"dataframe\">\n",
       "  <thead>\n",
       "    <tr style=\"text-align: right;\">\n",
       "      <th></th>\n",
       "      <th>Albany</th>\n",
       "      <th>Albury</th>\n",
       "      <th>AliceSprings</th>\n",
       "      <th>BadgerysCreek</th>\n",
       "      <th>Ballarat</th>\n",
       "      <th>Bendigo</th>\n",
       "      <th>Brisbane</th>\n",
       "      <th>Cairns</th>\n",
       "      <th>Canberra</th>\n",
       "      <th>Cobar</th>\n",
       "      <th>...</th>\n",
       "      <th>Townsville</th>\n",
       "      <th>Tuggeranong</th>\n",
       "      <th>Uluru</th>\n",
       "      <th>WaggaWagga</th>\n",
       "      <th>Walpole</th>\n",
       "      <th>Watsonia</th>\n",
       "      <th>Williamtown</th>\n",
       "      <th>Witchcliffe</th>\n",
       "      <th>Wollongong</th>\n",
       "      <th>Woomera</th>\n",
       "    </tr>\n",
       "  </thead>\n",
       "  <tbody>\n",
       "    <tr>\n",
       "      <th>0</th>\n",
       "      <td>0</td>\n",
       "      <td>1</td>\n",
       "      <td>0</td>\n",
       "      <td>0</td>\n",
       "      <td>0</td>\n",
       "      <td>0</td>\n",
       "      <td>0</td>\n",
       "      <td>0</td>\n",
       "      <td>0</td>\n",
       "      <td>0</td>\n",
       "      <td>...</td>\n",
       "      <td>0</td>\n",
       "      <td>0</td>\n",
       "      <td>0</td>\n",
       "      <td>0</td>\n",
       "      <td>0</td>\n",
       "      <td>0</td>\n",
       "      <td>0</td>\n",
       "      <td>0</td>\n",
       "      <td>0</td>\n",
       "      <td>0</td>\n",
       "    </tr>\n",
       "    <tr>\n",
       "      <th>1</th>\n",
       "      <td>0</td>\n",
       "      <td>1</td>\n",
       "      <td>0</td>\n",
       "      <td>0</td>\n",
       "      <td>0</td>\n",
       "      <td>0</td>\n",
       "      <td>0</td>\n",
       "      <td>0</td>\n",
       "      <td>0</td>\n",
       "      <td>0</td>\n",
       "      <td>...</td>\n",
       "      <td>0</td>\n",
       "      <td>0</td>\n",
       "      <td>0</td>\n",
       "      <td>0</td>\n",
       "      <td>0</td>\n",
       "      <td>0</td>\n",
       "      <td>0</td>\n",
       "      <td>0</td>\n",
       "      <td>0</td>\n",
       "      <td>0</td>\n",
       "    </tr>\n",
       "    <tr>\n",
       "      <th>2</th>\n",
       "      <td>0</td>\n",
       "      <td>1</td>\n",
       "      <td>0</td>\n",
       "      <td>0</td>\n",
       "      <td>0</td>\n",
       "      <td>0</td>\n",
       "      <td>0</td>\n",
       "      <td>0</td>\n",
       "      <td>0</td>\n",
       "      <td>0</td>\n",
       "      <td>...</td>\n",
       "      <td>0</td>\n",
       "      <td>0</td>\n",
       "      <td>0</td>\n",
       "      <td>0</td>\n",
       "      <td>0</td>\n",
       "      <td>0</td>\n",
       "      <td>0</td>\n",
       "      <td>0</td>\n",
       "      <td>0</td>\n",
       "      <td>0</td>\n",
       "    </tr>\n",
       "    <tr>\n",
       "      <th>3</th>\n",
       "      <td>0</td>\n",
       "      <td>1</td>\n",
       "      <td>0</td>\n",
       "      <td>0</td>\n",
       "      <td>0</td>\n",
       "      <td>0</td>\n",
       "      <td>0</td>\n",
       "      <td>0</td>\n",
       "      <td>0</td>\n",
       "      <td>0</td>\n",
       "      <td>...</td>\n",
       "      <td>0</td>\n",
       "      <td>0</td>\n",
       "      <td>0</td>\n",
       "      <td>0</td>\n",
       "      <td>0</td>\n",
       "      <td>0</td>\n",
       "      <td>0</td>\n",
       "      <td>0</td>\n",
       "      <td>0</td>\n",
       "      <td>0</td>\n",
       "    </tr>\n",
       "    <tr>\n",
       "      <th>4</th>\n",
       "      <td>0</td>\n",
       "      <td>1</td>\n",
       "      <td>0</td>\n",
       "      <td>0</td>\n",
       "      <td>0</td>\n",
       "      <td>0</td>\n",
       "      <td>0</td>\n",
       "      <td>0</td>\n",
       "      <td>0</td>\n",
       "      <td>0</td>\n",
       "      <td>...</td>\n",
       "      <td>0</td>\n",
       "      <td>0</td>\n",
       "      <td>0</td>\n",
       "      <td>0</td>\n",
       "      <td>0</td>\n",
       "      <td>0</td>\n",
       "      <td>0</td>\n",
       "      <td>0</td>\n",
       "      <td>0</td>\n",
       "      <td>0</td>\n",
       "    </tr>\n",
       "  </tbody>\n",
       "</table>\n",
       "<p>5 rows × 48 columns</p>\n",
       "</div>"
      ],
      "text/plain": [
       "   Albany  Albury  AliceSprings  BadgerysCreek  Ballarat  Bendigo  Brisbane  \\\n",
       "0       0       1             0              0         0        0         0   \n",
       "1       0       1             0              0         0        0         0   \n",
       "2       0       1             0              0         0        0         0   \n",
       "3       0       1             0              0         0        0         0   \n",
       "4       0       1             0              0         0        0         0   \n",
       "\n",
       "   Cairns  Canberra  Cobar  ...  Townsville  Tuggeranong  Uluru  WaggaWagga  \\\n",
       "0       0         0      0  ...           0            0      0           0   \n",
       "1       0         0      0  ...           0            0      0           0   \n",
       "2       0         0      0  ...           0            0      0           0   \n",
       "3       0         0      0  ...           0            0      0           0   \n",
       "4       0         0      0  ...           0            0      0           0   \n",
       "\n",
       "   Walpole  Watsonia  Williamtown  Witchcliffe  Wollongong  Woomera  \n",
       "0        0         0            0            0           0        0  \n",
       "1        0         0            0            0           0        0  \n",
       "2        0         0            0            0           0        0  \n",
       "3        0         0            0            0           0        0  \n",
       "4        0         0            0            0           0        0  \n",
       "\n",
       "[5 rows x 48 columns]"
      ]
     },
     "execution_count": 11,
     "metadata": {},
     "output_type": "execute_result"
    }
   ],
   "source": [
    "# One Hot Encoding (Preview) for Location column\n",
    "pd.get_dummies(data.Location, drop_first=True).head() # 'drop first' means that we drop the first value if everything else is 0"
   ]
  },
  {
   "cell_type": "markdown",
   "id": "f8785e43",
   "metadata": {
    "papermill": {
     "duration": 0.053987,
     "end_time": "2021-10-11T21:25:56.329096",
     "exception": false,
     "start_time": "2021-10-11T21:25:56.275109",
     "status": "completed"
    },
    "tags": []
   },
   "source": [
    "What we have now is 48 columns that represent our `Location` column. Instead of having one column that explains what location the data is from, now we have a dummy variable that represents this. This means that in every row of data, only one row will have a $1$ that denotes where the `Location` is. Additionally, if everything is $0$, this means that it is referring to 'Albany'. See [here](https://www.dataindependent.com/pandas/pandas-get-dummies/) for more information on `drop_first = True` parameter.\n",
    "\n",
    "## `WindGustDir` Column"
   ]
  },
  {
   "cell_type": "code",
   "execution_count": 12,
   "id": "bdd42328",
   "metadata": {
    "execution": {
     "iopub.execute_input": "2021-10-11T21:25:56.441536Z",
     "iopub.status.busy": "2021-10-11T21:25:56.440565Z",
     "iopub.status.idle": "2021-10-11T21:25:56.484108Z",
     "shell.execute_reply": "2021-10-11T21:25:56.484773Z",
     "shell.execute_reply.started": "2021-10-11T21:06:17.688782Z"
    },
    "papermill": {
     "duration": 0.101707,
     "end_time": "2021-10-11T21:25:56.484972",
     "exception": false,
     "start_time": "2021-10-11T21:25:56.383265",
     "status": "completed"
    },
    "tags": []
   },
   "outputs": [
    {
     "name": "stdout",
     "output_type": "stream",
     "text": [
      "W      9915\n",
      "SE     9418\n",
      "N      9313\n",
      "SSE    9216\n",
      "E      9181\n",
      "S      9168\n",
      "WSW    9069\n",
      "SW     8967\n",
      "SSW    8736\n",
      "WNW    8252\n",
      "NW     8122\n",
      "ENE    8104\n",
      "ESE    7372\n",
      "NE     7133\n",
      "NNW    6620\n",
      "NNE    6548\n",
      "Name: WindGustDir, dtype: int64\n",
      "\n",
      "\n",
      "Missing Values: 10326\n"
     ]
    }
   ],
   "source": [
    "# Unique Values\n",
    "print(data['WindGustDir'].value_counts())\n",
    "print(\"\")\n",
    "print(\"\")\n",
    "print(f\"Missing Values: {data['WindGustDir'].isna().sum()}\")"
   ]
  },
  {
   "cell_type": "markdown",
   "id": "853e479d",
   "metadata": {
    "papermill": {
     "duration": 0.054038,
     "end_time": "2021-10-11T21:25:56.593085",
     "exception": false,
     "start_time": "2021-10-11T21:25:56.539047",
     "status": "completed"
    },
    "tags": []
   },
   "source": [
    "We can employ the same type of One-Hot encoding, but implement an additional value `NaN` for missing values. The reason why we are doing this is because we are not sure why there are missing values. It is best to leave it in. "
   ]
  },
  {
   "cell_type": "code",
   "execution_count": 13,
   "id": "9b6982c5",
   "metadata": {
    "execution": {
     "iopub.execute_input": "2021-10-11T21:25:56.705864Z",
     "iopub.status.busy": "2021-10-11T21:25:56.704920Z",
     "iopub.status.idle": "2021-10-11T21:25:56.743317Z",
     "shell.execute_reply": "2021-10-11T21:25:56.743882Z",
     "shell.execute_reply.started": "2021-10-11T21:06:17.735329Z"
    },
    "papermill": {
     "duration": 0.096782,
     "end_time": "2021-10-11T21:25:56.744080",
     "exception": false,
     "start_time": "2021-10-11T21:25:56.647298",
     "status": "completed"
    },
    "tags": []
   },
   "outputs": [
    {
     "data": {
      "text/html": [
       "<div>\n",
       "<style scoped>\n",
       "    .dataframe tbody tr th:only-of-type {\n",
       "        vertical-align: middle;\n",
       "    }\n",
       "\n",
       "    .dataframe tbody tr th {\n",
       "        vertical-align: top;\n",
       "    }\n",
       "\n",
       "    .dataframe thead th {\n",
       "        text-align: right;\n",
       "    }\n",
       "</style>\n",
       "<table border=\"1\" class=\"dataframe\">\n",
       "  <thead>\n",
       "    <tr style=\"text-align: right;\">\n",
       "      <th></th>\n",
       "      <th>ENE</th>\n",
       "      <th>ESE</th>\n",
       "      <th>N</th>\n",
       "      <th>NE</th>\n",
       "      <th>NNE</th>\n",
       "      <th>NNW</th>\n",
       "      <th>NW</th>\n",
       "      <th>S</th>\n",
       "      <th>SE</th>\n",
       "      <th>SSE</th>\n",
       "      <th>SSW</th>\n",
       "      <th>SW</th>\n",
       "      <th>W</th>\n",
       "      <th>WNW</th>\n",
       "      <th>WSW</th>\n",
       "      <th>NaN</th>\n",
       "    </tr>\n",
       "  </thead>\n",
       "  <tbody>\n",
       "    <tr>\n",
       "      <th>0</th>\n",
       "      <td>0</td>\n",
       "      <td>0</td>\n",
       "      <td>0</td>\n",
       "      <td>0</td>\n",
       "      <td>0</td>\n",
       "      <td>0</td>\n",
       "      <td>0</td>\n",
       "      <td>0</td>\n",
       "      <td>0</td>\n",
       "      <td>0</td>\n",
       "      <td>0</td>\n",
       "      <td>0</td>\n",
       "      <td>1</td>\n",
       "      <td>0</td>\n",
       "      <td>0</td>\n",
       "      <td>0</td>\n",
       "    </tr>\n",
       "    <tr>\n",
       "      <th>1</th>\n",
       "      <td>0</td>\n",
       "      <td>0</td>\n",
       "      <td>0</td>\n",
       "      <td>0</td>\n",
       "      <td>0</td>\n",
       "      <td>0</td>\n",
       "      <td>0</td>\n",
       "      <td>0</td>\n",
       "      <td>0</td>\n",
       "      <td>0</td>\n",
       "      <td>0</td>\n",
       "      <td>0</td>\n",
       "      <td>0</td>\n",
       "      <td>1</td>\n",
       "      <td>0</td>\n",
       "      <td>0</td>\n",
       "    </tr>\n",
       "    <tr>\n",
       "      <th>2</th>\n",
       "      <td>0</td>\n",
       "      <td>0</td>\n",
       "      <td>0</td>\n",
       "      <td>0</td>\n",
       "      <td>0</td>\n",
       "      <td>0</td>\n",
       "      <td>0</td>\n",
       "      <td>0</td>\n",
       "      <td>0</td>\n",
       "      <td>0</td>\n",
       "      <td>0</td>\n",
       "      <td>0</td>\n",
       "      <td>0</td>\n",
       "      <td>0</td>\n",
       "      <td>1</td>\n",
       "      <td>0</td>\n",
       "    </tr>\n",
       "    <tr>\n",
       "      <th>3</th>\n",
       "      <td>0</td>\n",
       "      <td>0</td>\n",
       "      <td>0</td>\n",
       "      <td>1</td>\n",
       "      <td>0</td>\n",
       "      <td>0</td>\n",
       "      <td>0</td>\n",
       "      <td>0</td>\n",
       "      <td>0</td>\n",
       "      <td>0</td>\n",
       "      <td>0</td>\n",
       "      <td>0</td>\n",
       "      <td>0</td>\n",
       "      <td>0</td>\n",
       "      <td>0</td>\n",
       "      <td>0</td>\n",
       "    </tr>\n",
       "    <tr>\n",
       "      <th>4</th>\n",
       "      <td>0</td>\n",
       "      <td>0</td>\n",
       "      <td>0</td>\n",
       "      <td>0</td>\n",
       "      <td>0</td>\n",
       "      <td>0</td>\n",
       "      <td>0</td>\n",
       "      <td>0</td>\n",
       "      <td>0</td>\n",
       "      <td>0</td>\n",
       "      <td>0</td>\n",
       "      <td>0</td>\n",
       "      <td>1</td>\n",
       "      <td>0</td>\n",
       "      <td>0</td>\n",
       "      <td>0</td>\n",
       "    </tr>\n",
       "  </tbody>\n",
       "</table>\n",
       "</div>"
      ],
      "text/plain": [
       "   ENE  ESE  N  NE  NNE  NNW  NW  S  SE  SSE  SSW  SW  W  WNW  WSW  NaN\n",
       "0    0    0  0   0    0    0   0  0   0    0    0   0  1    0    0    0\n",
       "1    0    0  0   0    0    0   0  0   0    0    0   0  0    1    0    0\n",
       "2    0    0  0   0    0    0   0  0   0    0    0   0  0    0    1    0\n",
       "3    0    0  0   1    0    0   0  0   0    0    0   0  0    0    0    0\n",
       "4    0    0  0   0    0    0   0  0   0    0    0   0  1    0    0    0"
      ]
     },
     "execution_count": 13,
     "metadata": {},
     "output_type": "execute_result"
    }
   ],
   "source": [
    "# One-Hot Encoding (Preview) of 'WindGustDir'\n",
    "\n",
    "pd.get_dummies(data.WindGustDir, drop_first=True, dummy_na=True).head()"
   ]
  },
  {
   "cell_type": "markdown",
   "id": "dc1cf8b3",
   "metadata": {
    "papermill": {
     "duration": 0.055378,
     "end_time": "2021-10-11T21:25:56.854303",
     "exception": false,
     "start_time": "2021-10-11T21:25:56.798925",
     "status": "completed"
    },
    "tags": []
   },
   "source": [
    "## `WindDir9am` Column"
   ]
  },
  {
   "cell_type": "code",
   "execution_count": 14,
   "id": "1a23da7c",
   "metadata": {
    "execution": {
     "iopub.execute_input": "2021-10-11T21:25:56.970304Z",
     "iopub.status.busy": "2021-10-11T21:25:56.969604Z",
     "iopub.status.idle": "2021-10-11T21:25:57.013252Z",
     "shell.execute_reply": "2021-10-11T21:25:57.013877Z",
     "shell.execute_reply.started": "2021-10-11T21:06:17.779169Z"
    },
    "papermill": {
     "duration": 0.102646,
     "end_time": "2021-10-11T21:25:57.014080",
     "exception": false,
     "start_time": "2021-10-11T21:25:56.911434",
     "status": "completed"
    },
    "tags": []
   },
   "outputs": [
    {
     "name": "stdout",
     "output_type": "stream",
     "text": [
      "N      11758\n",
      "SE      9287\n",
      "E       9176\n",
      "SSE     9112\n",
      "NW      8749\n",
      "S       8659\n",
      "W       8459\n",
      "SW      8423\n",
      "NNE     8129\n",
      "NNW     7980\n",
      "ENE     7836\n",
      "NE      7671\n",
      "ESE     7630\n",
      "SSW     7587\n",
      "WNW     7414\n",
      "WSW     7024\n",
      "Name: WindDir9am, dtype: int64\n",
      "\n",
      "\n",
      "Missing Values: 10566\n"
     ]
    }
   ],
   "source": [
    "# Unique Values\n",
    "print(data['WindDir9am'].value_counts())\n",
    "print(\"\")\n",
    "print(\"\")\n",
    "print(f\"Missing Values: {data['WindDir9am'].isna().sum()}\")"
   ]
  },
  {
   "cell_type": "markdown",
   "id": "755fab45",
   "metadata": {
    "papermill": {
     "duration": 0.055098,
     "end_time": "2021-10-11T21:25:57.124735",
     "exception": false,
     "start_time": "2021-10-11T21:25:57.069637",
     "status": "completed"
    },
    "tags": []
   },
   "source": [
    "This is quite similar to our previous column, where we should employ One-Hot encoding while taking missing values into account."
   ]
  },
  {
   "cell_type": "code",
   "execution_count": 15,
   "id": "c3043617",
   "metadata": {
    "execution": {
     "iopub.execute_input": "2021-10-11T21:25:57.239578Z",
     "iopub.status.busy": "2021-10-11T21:25:57.238865Z",
     "iopub.status.idle": "2021-10-11T21:25:57.278671Z",
     "shell.execute_reply": "2021-10-11T21:25:57.278100Z",
     "shell.execute_reply.started": "2021-10-11T21:06:17.825614Z"
    },
    "papermill": {
     "duration": 0.098684,
     "end_time": "2021-10-11T21:25:57.278824",
     "exception": false,
     "start_time": "2021-10-11T21:25:57.180140",
     "status": "completed"
    },
    "tags": []
   },
   "outputs": [
    {
     "data": {
      "text/html": [
       "<div>\n",
       "<style scoped>\n",
       "    .dataframe tbody tr th:only-of-type {\n",
       "        vertical-align: middle;\n",
       "    }\n",
       "\n",
       "    .dataframe tbody tr th {\n",
       "        vertical-align: top;\n",
       "    }\n",
       "\n",
       "    .dataframe thead th {\n",
       "        text-align: right;\n",
       "    }\n",
       "</style>\n",
       "<table border=\"1\" class=\"dataframe\">\n",
       "  <thead>\n",
       "    <tr style=\"text-align: right;\">\n",
       "      <th></th>\n",
       "      <th>ENE</th>\n",
       "      <th>ESE</th>\n",
       "      <th>N</th>\n",
       "      <th>NE</th>\n",
       "      <th>NNE</th>\n",
       "      <th>NNW</th>\n",
       "      <th>NW</th>\n",
       "      <th>S</th>\n",
       "      <th>SE</th>\n",
       "      <th>SSE</th>\n",
       "      <th>SSW</th>\n",
       "      <th>SW</th>\n",
       "      <th>W</th>\n",
       "      <th>WNW</th>\n",
       "      <th>WSW</th>\n",
       "      <th>NaN</th>\n",
       "    </tr>\n",
       "  </thead>\n",
       "  <tbody>\n",
       "    <tr>\n",
       "      <th>0</th>\n",
       "      <td>0</td>\n",
       "      <td>0</td>\n",
       "      <td>0</td>\n",
       "      <td>0</td>\n",
       "      <td>0</td>\n",
       "      <td>0</td>\n",
       "      <td>0</td>\n",
       "      <td>0</td>\n",
       "      <td>0</td>\n",
       "      <td>0</td>\n",
       "      <td>0</td>\n",
       "      <td>0</td>\n",
       "      <td>1</td>\n",
       "      <td>0</td>\n",
       "      <td>0</td>\n",
       "      <td>0</td>\n",
       "    </tr>\n",
       "    <tr>\n",
       "      <th>1</th>\n",
       "      <td>0</td>\n",
       "      <td>0</td>\n",
       "      <td>0</td>\n",
       "      <td>0</td>\n",
       "      <td>0</td>\n",
       "      <td>1</td>\n",
       "      <td>0</td>\n",
       "      <td>0</td>\n",
       "      <td>0</td>\n",
       "      <td>0</td>\n",
       "      <td>0</td>\n",
       "      <td>0</td>\n",
       "      <td>0</td>\n",
       "      <td>0</td>\n",
       "      <td>0</td>\n",
       "      <td>0</td>\n",
       "    </tr>\n",
       "    <tr>\n",
       "      <th>2</th>\n",
       "      <td>0</td>\n",
       "      <td>0</td>\n",
       "      <td>0</td>\n",
       "      <td>0</td>\n",
       "      <td>0</td>\n",
       "      <td>0</td>\n",
       "      <td>0</td>\n",
       "      <td>0</td>\n",
       "      <td>0</td>\n",
       "      <td>0</td>\n",
       "      <td>0</td>\n",
       "      <td>0</td>\n",
       "      <td>1</td>\n",
       "      <td>0</td>\n",
       "      <td>0</td>\n",
       "      <td>0</td>\n",
       "    </tr>\n",
       "    <tr>\n",
       "      <th>3</th>\n",
       "      <td>0</td>\n",
       "      <td>0</td>\n",
       "      <td>0</td>\n",
       "      <td>0</td>\n",
       "      <td>0</td>\n",
       "      <td>0</td>\n",
       "      <td>0</td>\n",
       "      <td>0</td>\n",
       "      <td>1</td>\n",
       "      <td>0</td>\n",
       "      <td>0</td>\n",
       "      <td>0</td>\n",
       "      <td>0</td>\n",
       "      <td>0</td>\n",
       "      <td>0</td>\n",
       "      <td>0</td>\n",
       "    </tr>\n",
       "    <tr>\n",
       "      <th>4</th>\n",
       "      <td>1</td>\n",
       "      <td>0</td>\n",
       "      <td>0</td>\n",
       "      <td>0</td>\n",
       "      <td>0</td>\n",
       "      <td>0</td>\n",
       "      <td>0</td>\n",
       "      <td>0</td>\n",
       "      <td>0</td>\n",
       "      <td>0</td>\n",
       "      <td>0</td>\n",
       "      <td>0</td>\n",
       "      <td>0</td>\n",
       "      <td>0</td>\n",
       "      <td>0</td>\n",
       "      <td>0</td>\n",
       "    </tr>\n",
       "  </tbody>\n",
       "</table>\n",
       "</div>"
      ],
      "text/plain": [
       "   ENE  ESE  N  NE  NNE  NNW  NW  S  SE  SSE  SSW  SW  W  WNW  WSW  NaN\n",
       "0    0    0  0   0    0    0   0  0   0    0    0   0  1    0    0    0\n",
       "1    0    0  0   0    0    1   0  0   0    0    0   0  0    0    0    0\n",
       "2    0    0  0   0    0    0   0  0   0    0    0   0  1    0    0    0\n",
       "3    0    0  0   0    0    0   0  0   1    0    0   0  0    0    0    0\n",
       "4    1    0  0   0    0    0   0  0   0    0    0   0  0    0    0    0"
      ]
     },
     "execution_count": 15,
     "metadata": {},
     "output_type": "execute_result"
    }
   ],
   "source": [
    "# One Hot Encoding (Preview) for WindDir9am column\n",
    "\n",
    "pd.get_dummies(data.WindDir9am, drop_first=True, dummy_na=True).head()"
   ]
  },
  {
   "cell_type": "markdown",
   "id": "d7be5ac4",
   "metadata": {
    "papermill": {
     "duration": 0.057001,
     "end_time": "2021-10-11T21:25:57.391813",
     "exception": false,
     "start_time": "2021-10-11T21:25:57.334812",
     "status": "completed"
    },
    "tags": []
   },
   "source": [
    "## `WindDir3pm` Column"
   ]
  },
  {
   "cell_type": "code",
   "execution_count": 16,
   "id": "95bfe23a",
   "metadata": {
    "execution": {
     "iopub.execute_input": "2021-10-11T21:25:57.548048Z",
     "iopub.status.busy": "2021-10-11T21:25:57.547302Z",
     "iopub.status.idle": "2021-10-11T21:25:57.552619Z",
     "shell.execute_reply": "2021-10-11T21:25:57.552090Z",
     "shell.execute_reply.started": "2021-10-11T21:06:17.87237Z"
    },
    "papermill": {
     "duration": 0.104915,
     "end_time": "2021-10-11T21:25:57.552783",
     "exception": false,
     "start_time": "2021-10-11T21:25:57.447868",
     "status": "completed"
    },
    "tags": []
   },
   "outputs": [
    {
     "name": "stdout",
     "output_type": "stream",
     "text": [
      "SE     10838\n",
      "W      10110\n",
      "S       9926\n",
      "WSW     9518\n",
      "SSE     9399\n",
      "SW      9354\n",
      "N       8890\n",
      "WNW     8874\n",
      "NW      8610\n",
      "ESE     8505\n",
      "E       8472\n",
      "NE      8263\n",
      "SSW     8156\n",
      "NNW     7870\n",
      "ENE     7857\n",
      "NNE     6590\n",
      "Name: WindDir3pm, dtype: int64\n",
      "\n",
      "\n",
      "Missing Values: 4228\n"
     ]
    }
   ],
   "source": [
    "# Unique Values\n",
    "print(data['WindDir3pm'].value_counts())\n",
    "print(\"\")\n",
    "print(\"\")\n",
    "print(f\"Missing Values: {data['WindDir3pm'].isna().sum()}\")"
   ]
  },
  {
   "cell_type": "markdown",
   "id": "ee4da19a",
   "metadata": {
    "papermill": {
     "duration": 0.055772,
     "end_time": "2021-10-11T21:25:57.665081",
     "exception": false,
     "start_time": "2021-10-11T21:25:57.609309",
     "status": "completed"
    },
    "tags": []
   },
   "source": [
    "A little less missing values compared to the previous few columns. Lets apply the same type of encoding as well."
   ]
  },
  {
   "cell_type": "code",
   "execution_count": 17,
   "id": "53c97e73",
   "metadata": {
    "execution": {
     "iopub.execute_input": "2021-10-11T21:25:57.803065Z",
     "iopub.status.busy": "2021-10-11T21:25:57.802332Z",
     "iopub.status.idle": "2021-10-11T21:25:57.822784Z",
     "shell.execute_reply": "2021-10-11T21:25:57.822129Z",
     "shell.execute_reply.started": "2021-10-11T21:06:17.920559Z"
    },
    "papermill": {
     "duration": 0.101121,
     "end_time": "2021-10-11T21:25:57.822939",
     "exception": false,
     "start_time": "2021-10-11T21:25:57.721818",
     "status": "completed"
    },
    "tags": []
   },
   "outputs": [
    {
     "data": {
      "text/html": [
       "<div>\n",
       "<style scoped>\n",
       "    .dataframe tbody tr th:only-of-type {\n",
       "        vertical-align: middle;\n",
       "    }\n",
       "\n",
       "    .dataframe tbody tr th {\n",
       "        vertical-align: top;\n",
       "    }\n",
       "\n",
       "    .dataframe thead th {\n",
       "        text-align: right;\n",
       "    }\n",
       "</style>\n",
       "<table border=\"1\" class=\"dataframe\">\n",
       "  <thead>\n",
       "    <tr style=\"text-align: right;\">\n",
       "      <th></th>\n",
       "      <th>ENE</th>\n",
       "      <th>ESE</th>\n",
       "      <th>N</th>\n",
       "      <th>NE</th>\n",
       "      <th>NNE</th>\n",
       "      <th>NNW</th>\n",
       "      <th>NW</th>\n",
       "      <th>S</th>\n",
       "      <th>SE</th>\n",
       "      <th>SSE</th>\n",
       "      <th>SSW</th>\n",
       "      <th>SW</th>\n",
       "      <th>W</th>\n",
       "      <th>WNW</th>\n",
       "      <th>WSW</th>\n",
       "      <th>NaN</th>\n",
       "    </tr>\n",
       "  </thead>\n",
       "  <tbody>\n",
       "    <tr>\n",
       "      <th>0</th>\n",
       "      <td>0</td>\n",
       "      <td>0</td>\n",
       "      <td>0</td>\n",
       "      <td>0</td>\n",
       "      <td>0</td>\n",
       "      <td>0</td>\n",
       "      <td>0</td>\n",
       "      <td>0</td>\n",
       "      <td>0</td>\n",
       "      <td>0</td>\n",
       "      <td>0</td>\n",
       "      <td>0</td>\n",
       "      <td>0</td>\n",
       "      <td>1</td>\n",
       "      <td>0</td>\n",
       "      <td>0</td>\n",
       "    </tr>\n",
       "    <tr>\n",
       "      <th>1</th>\n",
       "      <td>0</td>\n",
       "      <td>0</td>\n",
       "      <td>0</td>\n",
       "      <td>0</td>\n",
       "      <td>0</td>\n",
       "      <td>0</td>\n",
       "      <td>0</td>\n",
       "      <td>0</td>\n",
       "      <td>0</td>\n",
       "      <td>0</td>\n",
       "      <td>0</td>\n",
       "      <td>0</td>\n",
       "      <td>0</td>\n",
       "      <td>0</td>\n",
       "      <td>1</td>\n",
       "      <td>0</td>\n",
       "    </tr>\n",
       "    <tr>\n",
       "      <th>2</th>\n",
       "      <td>0</td>\n",
       "      <td>0</td>\n",
       "      <td>0</td>\n",
       "      <td>0</td>\n",
       "      <td>0</td>\n",
       "      <td>0</td>\n",
       "      <td>0</td>\n",
       "      <td>0</td>\n",
       "      <td>0</td>\n",
       "      <td>0</td>\n",
       "      <td>0</td>\n",
       "      <td>0</td>\n",
       "      <td>0</td>\n",
       "      <td>0</td>\n",
       "      <td>1</td>\n",
       "      <td>0</td>\n",
       "    </tr>\n",
       "    <tr>\n",
       "      <th>3</th>\n",
       "      <td>0</td>\n",
       "      <td>0</td>\n",
       "      <td>0</td>\n",
       "      <td>0</td>\n",
       "      <td>0</td>\n",
       "      <td>0</td>\n",
       "      <td>0</td>\n",
       "      <td>0</td>\n",
       "      <td>0</td>\n",
       "      <td>0</td>\n",
       "      <td>0</td>\n",
       "      <td>0</td>\n",
       "      <td>0</td>\n",
       "      <td>0</td>\n",
       "      <td>0</td>\n",
       "      <td>0</td>\n",
       "    </tr>\n",
       "    <tr>\n",
       "      <th>4</th>\n",
       "      <td>0</td>\n",
       "      <td>0</td>\n",
       "      <td>0</td>\n",
       "      <td>0</td>\n",
       "      <td>0</td>\n",
       "      <td>0</td>\n",
       "      <td>1</td>\n",
       "      <td>0</td>\n",
       "      <td>0</td>\n",
       "      <td>0</td>\n",
       "      <td>0</td>\n",
       "      <td>0</td>\n",
       "      <td>0</td>\n",
       "      <td>0</td>\n",
       "      <td>0</td>\n",
       "      <td>0</td>\n",
       "    </tr>\n",
       "  </tbody>\n",
       "</table>\n",
       "</div>"
      ],
      "text/plain": [
       "   ENE  ESE  N  NE  NNE  NNW  NW  S  SE  SSE  SSW  SW  W  WNW  WSW  NaN\n",
       "0    0    0  0   0    0    0   0  0   0    0    0   0  0    1    0    0\n",
       "1    0    0  0   0    0    0   0  0   0    0    0   0  0    0    1    0\n",
       "2    0    0  0   0    0    0   0  0   0    0    0   0  0    0    1    0\n",
       "3    0    0  0   0    0    0   0  0   0    0    0   0  0    0    0    0\n",
       "4    0    0  0   0    0    0   1  0   0    0    0   0  0    0    0    0"
      ]
     },
     "execution_count": 17,
     "metadata": {},
     "output_type": "execute_result"
    }
   ],
   "source": [
    "# One Hot Encoding (Preview) for WindDir3pm column\n",
    "\n",
    "pd.get_dummies(data.WindDir3pm, drop_first=True, dummy_na=True).head()"
   ]
  },
  {
   "cell_type": "markdown",
   "id": "eac75f18",
   "metadata": {
    "papermill": {
     "duration": 0.056555,
     "end_time": "2021-10-11T21:25:57.936784",
     "exception": false,
     "start_time": "2021-10-11T21:25:57.880229",
     "status": "completed"
    },
    "tags": []
   },
   "source": [
    "## `RainToday` Column"
   ]
  },
  {
   "cell_type": "code",
   "execution_count": 18,
   "id": "f3df64ef",
   "metadata": {
    "execution": {
     "iopub.execute_input": "2021-10-11T21:25:58.099372Z",
     "iopub.status.busy": "2021-10-11T21:25:58.098366Z",
     "iopub.status.idle": "2021-10-11T21:25:58.103399Z",
     "shell.execute_reply": "2021-10-11T21:25:58.102779Z",
     "shell.execute_reply.started": "2021-10-11T21:06:17.969026Z"
    },
    "papermill": {
     "duration": 0.108239,
     "end_time": "2021-10-11T21:25:58.103574",
     "exception": false,
     "start_time": "2021-10-11T21:25:57.995335",
     "status": "completed"
    },
    "tags": []
   },
   "outputs": [
    {
     "name": "stdout",
     "output_type": "stream",
     "text": [
      "No     110319\n",
      "Yes     31880\n",
      "Name: RainToday, dtype: int64\n",
      "\n",
      "\n",
      "Missing Values: 3261\n"
     ]
    }
   ],
   "source": [
    "print(data['RainToday'].value_counts())\n",
    "print(\"\")\n",
    "print(\"\")\n",
    "print(f\"Missing Values: {data['RainToday'].isna().sum()}\")"
   ]
  },
  {
   "cell_type": "markdown",
   "id": "36dee084",
   "metadata": {
    "papermill": {
     "duration": 0.059289,
     "end_time": "2021-10-11T21:25:58.222567",
     "exception": false,
     "start_time": "2021-10-11T21:25:58.163278",
     "status": "completed"
    },
    "tags": []
   },
   "source": [
    "Based on the same thought process, it is best to do One-Hot Encoding."
   ]
  },
  {
   "cell_type": "code",
   "execution_count": 19,
   "id": "aa93e658",
   "metadata": {
    "execution": {
     "iopub.execute_input": "2021-10-11T21:25:58.347981Z",
     "iopub.status.busy": "2021-10-11T21:25:58.347254Z",
     "iopub.status.idle": "2021-10-11T21:25:58.370388Z",
     "shell.execute_reply": "2021-10-11T21:25:58.370980Z",
     "shell.execute_reply.started": "2021-10-11T21:06:18.016602Z"
    },
    "papermill": {
     "duration": 0.091325,
     "end_time": "2021-10-11T21:25:58.371200",
     "exception": false,
     "start_time": "2021-10-11T21:25:58.279875",
     "status": "completed"
    },
    "tags": []
   },
   "outputs": [
    {
     "data": {
      "text/html": [
       "<div>\n",
       "<style scoped>\n",
       "    .dataframe tbody tr th:only-of-type {\n",
       "        vertical-align: middle;\n",
       "    }\n",
       "\n",
       "    .dataframe tbody tr th {\n",
       "        vertical-align: top;\n",
       "    }\n",
       "\n",
       "    .dataframe thead th {\n",
       "        text-align: right;\n",
       "    }\n",
       "</style>\n",
       "<table border=\"1\" class=\"dataframe\">\n",
       "  <thead>\n",
       "    <tr style=\"text-align: right;\">\n",
       "      <th></th>\n",
       "      <th>Yes</th>\n",
       "      <th>NaN</th>\n",
       "    </tr>\n",
       "  </thead>\n",
       "  <tbody>\n",
       "    <tr>\n",
       "      <th>0</th>\n",
       "      <td>0</td>\n",
       "      <td>0</td>\n",
       "    </tr>\n",
       "    <tr>\n",
       "      <th>1</th>\n",
       "      <td>0</td>\n",
       "      <td>0</td>\n",
       "    </tr>\n",
       "    <tr>\n",
       "      <th>2</th>\n",
       "      <td>0</td>\n",
       "      <td>0</td>\n",
       "    </tr>\n",
       "    <tr>\n",
       "      <th>3</th>\n",
       "      <td>0</td>\n",
       "      <td>0</td>\n",
       "    </tr>\n",
       "    <tr>\n",
       "      <th>4</th>\n",
       "      <td>0</td>\n",
       "      <td>0</td>\n",
       "    </tr>\n",
       "  </tbody>\n",
       "</table>\n",
       "</div>"
      ],
      "text/plain": [
       "   Yes  NaN\n",
       "0    0    0\n",
       "1    0    0\n",
       "2    0    0\n",
       "3    0    0\n",
       "4    0    0"
      ]
     },
     "execution_count": 19,
     "metadata": {},
     "output_type": "execute_result"
    }
   ],
   "source": [
    "pd.get_dummies(data.RainToday, drop_first=True, dummy_na=True).head()"
   ]
  },
  {
   "cell_type": "markdown",
   "id": "a02a5b8c",
   "metadata": {
    "papermill": {
     "duration": 0.057339,
     "end_time": "2021-10-11T21:25:58.486338",
     "exception": false,
     "start_time": "2021-10-11T21:25:58.428999",
     "status": "completed"
    },
    "tags": []
   },
   "source": [
    "# **9. Continous Variables** <a class=\"anchor\" id=\"7\"></a>\n",
    "\n",
    "[Table of Contents](#0.1)\n",
    "\n",
    "Now, lets look at the continous variables.\n"
   ]
  },
  {
   "cell_type": "code",
   "execution_count": 20,
   "id": "397c2ec8",
   "metadata": {
    "execution": {
     "iopub.execute_input": "2021-10-11T21:25:58.605450Z",
     "iopub.status.busy": "2021-10-11T21:25:58.604802Z",
     "iopub.status.idle": "2021-10-11T21:25:58.636215Z",
     "shell.execute_reply": "2021-10-11T21:25:58.636696Z",
     "shell.execute_reply.started": "2021-10-11T21:06:18.051981Z"
    },
    "papermill": {
     "duration": 0.092854,
     "end_time": "2021-10-11T21:25:58.636912",
     "exception": false,
     "start_time": "2021-10-11T21:25:58.544058",
     "status": "completed"
    },
    "tags": []
   },
   "outputs": [
    {
     "data": {
      "text/plain": [
       "MinTemp           1485\n",
       "MaxTemp           1261\n",
       "Rainfall          3261\n",
       "Evaporation      62790\n",
       "Sunshine         69835\n",
       "WindGustSpeed    10263\n",
       "WindSpeed9am      1767\n",
       "WindSpeed3pm      3062\n",
       "Humidity9am       2654\n",
       "Humidity3pm       4507\n",
       "Pressure9am      15065\n",
       "Pressure3pm      15028\n",
       "Cloud9am         55888\n",
       "Cloud3pm         59358\n",
       "Temp9am           1767\n",
       "Temp3pm           3609\n",
       "dtype: int64"
      ]
     },
     "execution_count": 20,
     "metadata": {},
     "output_type": "execute_result"
    }
   ],
   "source": [
    "# Missing Values\n",
    "\n",
    "var_data = data.select_dtypes(include=['float64'])\n",
    "var_data.isna().sum()"
   ]
  },
  {
   "cell_type": "code",
   "execution_count": 21,
   "id": "e4888173",
   "metadata": {
    "execution": {
     "iopub.execute_input": "2021-10-11T21:25:58.757356Z",
     "iopub.status.busy": "2021-10-11T21:25:58.756661Z",
     "iopub.status.idle": "2021-10-11T21:25:58.930804Z",
     "shell.execute_reply": "2021-10-11T21:25:58.930208Z",
     "shell.execute_reply.started": "2021-10-11T21:06:18.082354Z"
    },
    "papermill": {
     "duration": 0.235681,
     "end_time": "2021-10-11T21:25:58.930958",
     "exception": false,
     "start_time": "2021-10-11T21:25:58.695277",
     "status": "completed"
    },
    "tags": []
   },
   "outputs": [
    {
     "data": {
      "text/html": [
       "<div>\n",
       "<style scoped>\n",
       "    .dataframe tbody tr th:only-of-type {\n",
       "        vertical-align: middle;\n",
       "    }\n",
       "\n",
       "    .dataframe tbody tr th {\n",
       "        vertical-align: top;\n",
       "    }\n",
       "\n",
       "    .dataframe thead th {\n",
       "        text-align: right;\n",
       "    }\n",
       "</style>\n",
       "<table border=\"1\" class=\"dataframe\">\n",
       "  <thead>\n",
       "    <tr style=\"text-align: right;\">\n",
       "      <th></th>\n",
       "      <th>MinTemp</th>\n",
       "      <th>MaxTemp</th>\n",
       "      <th>Rainfall</th>\n",
       "      <th>Evaporation</th>\n",
       "      <th>Sunshine</th>\n",
       "      <th>WindGustSpeed</th>\n",
       "      <th>WindSpeed9am</th>\n",
       "      <th>WindSpeed3pm</th>\n",
       "      <th>Humidity9am</th>\n",
       "      <th>Humidity3pm</th>\n",
       "      <th>Pressure9am</th>\n",
       "      <th>Pressure3pm</th>\n",
       "      <th>Cloud9am</th>\n",
       "      <th>Cloud3pm</th>\n",
       "      <th>Temp9am</th>\n",
       "      <th>Temp3pm</th>\n",
       "    </tr>\n",
       "  </thead>\n",
       "  <tbody>\n",
       "    <tr>\n",
       "      <th>count</th>\n",
       "      <td>143975.0</td>\n",
       "      <td>144199.0</td>\n",
       "      <td>142199.0</td>\n",
       "      <td>82670.0</td>\n",
       "      <td>75625.0</td>\n",
       "      <td>135197.0</td>\n",
       "      <td>143693.0</td>\n",
       "      <td>142398.0</td>\n",
       "      <td>142806.0</td>\n",
       "      <td>140953.0</td>\n",
       "      <td>130395.0</td>\n",
       "      <td>130432.0</td>\n",
       "      <td>89572.0</td>\n",
       "      <td>86102.0</td>\n",
       "      <td>143693.0</td>\n",
       "      <td>141851.0</td>\n",
       "    </tr>\n",
       "    <tr>\n",
       "      <th>mean</th>\n",
       "      <td>12.0</td>\n",
       "      <td>23.0</td>\n",
       "      <td>2.0</td>\n",
       "      <td>5.0</td>\n",
       "      <td>8.0</td>\n",
       "      <td>40.0</td>\n",
       "      <td>14.0</td>\n",
       "      <td>19.0</td>\n",
       "      <td>69.0</td>\n",
       "      <td>52.0</td>\n",
       "      <td>1018.0</td>\n",
       "      <td>1015.0</td>\n",
       "      <td>4.0</td>\n",
       "      <td>5.0</td>\n",
       "      <td>17.0</td>\n",
       "      <td>22.0</td>\n",
       "    </tr>\n",
       "    <tr>\n",
       "      <th>std</th>\n",
       "      <td>6.0</td>\n",
       "      <td>7.0</td>\n",
       "      <td>8.0</td>\n",
       "      <td>4.0</td>\n",
       "      <td>4.0</td>\n",
       "      <td>14.0</td>\n",
       "      <td>9.0</td>\n",
       "      <td>9.0</td>\n",
       "      <td>19.0</td>\n",
       "      <td>21.0</td>\n",
       "      <td>7.0</td>\n",
       "      <td>7.0</td>\n",
       "      <td>3.0</td>\n",
       "      <td>3.0</td>\n",
       "      <td>6.0</td>\n",
       "      <td>7.0</td>\n",
       "    </tr>\n",
       "    <tr>\n",
       "      <th>min</th>\n",
       "      <td>-8.0</td>\n",
       "      <td>-5.0</td>\n",
       "      <td>0.0</td>\n",
       "      <td>0.0</td>\n",
       "      <td>0.0</td>\n",
       "      <td>6.0</td>\n",
       "      <td>0.0</td>\n",
       "      <td>0.0</td>\n",
       "      <td>0.0</td>\n",
       "      <td>0.0</td>\n",
       "      <td>980.0</td>\n",
       "      <td>977.0</td>\n",
       "      <td>0.0</td>\n",
       "      <td>0.0</td>\n",
       "      <td>-7.0</td>\n",
       "      <td>-5.0</td>\n",
       "    </tr>\n",
       "    <tr>\n",
       "      <th>25%</th>\n",
       "      <td>8.0</td>\n",
       "      <td>18.0</td>\n",
       "      <td>0.0</td>\n",
       "      <td>3.0</td>\n",
       "      <td>5.0</td>\n",
       "      <td>31.0</td>\n",
       "      <td>7.0</td>\n",
       "      <td>13.0</td>\n",
       "      <td>57.0</td>\n",
       "      <td>37.0</td>\n",
       "      <td>1013.0</td>\n",
       "      <td>1010.0</td>\n",
       "      <td>1.0</td>\n",
       "      <td>2.0</td>\n",
       "      <td>12.0</td>\n",
       "      <td>17.0</td>\n",
       "    </tr>\n",
       "    <tr>\n",
       "      <th>50%</th>\n",
       "      <td>12.0</td>\n",
       "      <td>23.0</td>\n",
       "      <td>0.0</td>\n",
       "      <td>5.0</td>\n",
       "      <td>8.0</td>\n",
       "      <td>39.0</td>\n",
       "      <td>13.0</td>\n",
       "      <td>19.0</td>\n",
       "      <td>70.0</td>\n",
       "      <td>52.0</td>\n",
       "      <td>1018.0</td>\n",
       "      <td>1015.0</td>\n",
       "      <td>5.0</td>\n",
       "      <td>5.0</td>\n",
       "      <td>17.0</td>\n",
       "      <td>21.0</td>\n",
       "    </tr>\n",
       "    <tr>\n",
       "      <th>75%</th>\n",
       "      <td>17.0</td>\n",
       "      <td>28.0</td>\n",
       "      <td>1.0</td>\n",
       "      <td>7.0</td>\n",
       "      <td>11.0</td>\n",
       "      <td>48.0</td>\n",
       "      <td>19.0</td>\n",
       "      <td>24.0</td>\n",
       "      <td>83.0</td>\n",
       "      <td>66.0</td>\n",
       "      <td>1022.0</td>\n",
       "      <td>1020.0</td>\n",
       "      <td>7.0</td>\n",
       "      <td>7.0</td>\n",
       "      <td>22.0</td>\n",
       "      <td>26.0</td>\n",
       "    </tr>\n",
       "    <tr>\n",
       "      <th>max</th>\n",
       "      <td>34.0</td>\n",
       "      <td>48.0</td>\n",
       "      <td>371.0</td>\n",
       "      <td>145.0</td>\n",
       "      <td>14.0</td>\n",
       "      <td>135.0</td>\n",
       "      <td>130.0</td>\n",
       "      <td>87.0</td>\n",
       "      <td>100.0</td>\n",
       "      <td>100.0</td>\n",
       "      <td>1041.0</td>\n",
       "      <td>1040.0</td>\n",
       "      <td>9.0</td>\n",
       "      <td>9.0</td>\n",
       "      <td>40.0</td>\n",
       "      <td>47.0</td>\n",
       "    </tr>\n",
       "  </tbody>\n",
       "</table>\n",
       "</div>"
      ],
      "text/plain": [
       "        MinTemp   MaxTemp  Rainfall  Evaporation  Sunshine  WindGustSpeed  \\\n",
       "count  143975.0  144199.0  142199.0      82670.0   75625.0       135197.0   \n",
       "mean       12.0      23.0       2.0          5.0       8.0           40.0   \n",
       "std         6.0       7.0       8.0          4.0       4.0           14.0   \n",
       "min        -8.0      -5.0       0.0          0.0       0.0            6.0   \n",
       "25%         8.0      18.0       0.0          3.0       5.0           31.0   \n",
       "50%        12.0      23.0       0.0          5.0       8.0           39.0   \n",
       "75%        17.0      28.0       1.0          7.0      11.0           48.0   \n",
       "max        34.0      48.0     371.0        145.0      14.0          135.0   \n",
       "\n",
       "       WindSpeed9am  WindSpeed3pm  Humidity9am  Humidity3pm  Pressure9am  \\\n",
       "count      143693.0      142398.0     142806.0     140953.0     130395.0   \n",
       "mean           14.0          19.0         69.0         52.0       1018.0   \n",
       "std             9.0           9.0         19.0         21.0          7.0   \n",
       "min             0.0           0.0          0.0          0.0        980.0   \n",
       "25%             7.0          13.0         57.0         37.0       1013.0   \n",
       "50%            13.0          19.0         70.0         52.0       1018.0   \n",
       "75%            19.0          24.0         83.0         66.0       1022.0   \n",
       "max           130.0          87.0        100.0        100.0       1041.0   \n",
       "\n",
       "       Pressure3pm  Cloud9am  Cloud3pm   Temp9am   Temp3pm  \n",
       "count     130432.0   89572.0   86102.0  143693.0  141851.0  \n",
       "mean        1015.0       4.0       5.0      17.0      22.0  \n",
       "std            7.0       3.0       3.0       6.0       7.0  \n",
       "min          977.0       0.0       0.0      -7.0      -5.0  \n",
       "25%         1010.0       1.0       2.0      12.0      17.0  \n",
       "50%         1015.0       5.0       5.0      17.0      21.0  \n",
       "75%         1020.0       7.0       7.0      22.0      26.0  \n",
       "max         1040.0       9.0       9.0      40.0      47.0  "
      ]
     },
     "execution_count": 21,
     "metadata": {},
     "output_type": "execute_result"
    }
   ],
   "source": [
    "# Continuous variables\n",
    "\n",
    "var_data = data.select_dtypes(include=['float64'])\n",
    "var_data.describe().apply(round) # round the data to first decimal place"
   ]
  },
  {
   "cell_type": "markdown",
   "id": "641f34d7",
   "metadata": {
    "papermill": {
     "duration": 0.058245,
     "end_time": "2021-10-11T21:25:59.047997",
     "exception": false,
     "start_time": "2021-10-11T21:25:58.989752",
     "status": "completed"
    },
    "tags": []
   },
   "source": [
    "Based on the table above, there may be outliers in `Rainfall`, `Evaporation`,`Windspeed9am` and `Windspeed3pm`. This is inferred from the difference between the row `max` and the other rows, and how far it is away from `75%`. Lets visualize this to further explore this intuition.\n",
    "\n",
    "## Outliers in `Rainfall`, `Evaporation`, `Windspeed9am`, `Windspeed3pm` \n"
   ]
  },
  {
   "cell_type": "code",
   "execution_count": 22,
   "id": "ab36e096",
   "metadata": {
    "execution": {
     "iopub.execute_input": "2021-10-11T21:25:59.191243Z",
     "iopub.status.busy": "2021-10-11T21:25:59.190428Z",
     "iopub.status.idle": "2021-10-11T21:25:59.952874Z",
     "shell.execute_reply": "2021-10-11T21:25:59.953772Z",
     "shell.execute_reply.started": "2021-10-11T21:06:18.240778Z"
    },
    "papermill": {
     "duration": 0.847324,
     "end_time": "2021-10-11T21:25:59.953976",
     "exception": false,
     "start_time": "2021-10-11T21:25:59.106652",
     "status": "completed"
    },
    "tags": []
   },
   "outputs": [
    {
     "data": {
      "image/png": "[encoded data removed]",
      "text/plain": [
       "<Figure size 720x720 with 4 Axes>"
      ]
     },
     "metadata": {
      "needs_background": "light"
     },
     "output_type": "display_data"
    }
   ],
   "source": [
    "fig, axes = plt.subplots(4,1, figsize=(10, 10), sharey=False)\n",
    "fig.suptitle('Distribution of (some) continuous variables')\n",
    "\n",
    "# Rainfall\n",
    "sns.boxplot(x= 'Rainfall', data = data, palette = 'Set2', ax = axes[0])\n",
    "axes[0].set_title(\"\")\n",
    "\n",
    "# Evaporation\n",
    "sns.boxplot(x= 'Evaporation', data = data, palette = 'Set2', ax = axes[1])\n",
    "axes[1].set_title(\"\")\n",
    "\n",
    "# Windspeed (9AM)\n",
    "sns.boxplot(x= 'WindSpeed9am', data = data, palette = 'Set2', ax = axes[2])\n",
    "axes[2].set_title(\"\")\n",
    "\n",
    "# Windspeed (3PM)\n",
    "sns.boxplot(x= 'WindSpeed3pm', data = data, palette = 'Set2', ax = axes[3])\n",
    "axes[3].set_title(\"\")\n",
    "\n",
    "plt.tight_layout()"
   ]
  },
  {
   "cell_type": "markdown",
   "id": "d929ded4",
   "metadata": {
    "papermill": {
     "duration": 0.062722,
     "end_time": "2021-10-11T21:26:00.077672",
     "exception": false,
     "start_time": "2021-10-11T21:26:00.014950",
     "status": "completed"
    },
    "tags": []
   },
   "source": [
    "In fact, there are a lot of outliers in these four columns. Before removing any outliers, I should check how these columns are distributed. Any type of drastic skew will change the way I remove these outliers."
   ]
  },
  {
   "cell_type": "code",
   "execution_count": 23,
   "id": "25fc394f",
   "metadata": {
    "execution": {
     "iopub.execute_input": "2021-10-11T21:26:00.208165Z",
     "iopub.status.busy": "2021-10-11T21:26:00.202789Z",
     "iopub.status.idle": "2021-10-11T21:26:01.360761Z",
     "shell.execute_reply": "2021-10-11T21:26:01.361234Z",
     "shell.execute_reply.started": "2021-10-11T21:06:19.029228Z"
    },
    "papermill": {
     "duration": 1.222598,
     "end_time": "2021-10-11T21:26:01.361437",
     "exception": false,
     "start_time": "2021-10-11T21:26:00.138839",
     "status": "completed"
    },
    "tags": []
   },
   "outputs": [
    {
     "data": {
      "image/png": "[encoded data removed]",
      "text/plain": [
       "<Figure size 720x720 with 4 Axes>"
      ]
     },
     "metadata": {
      "needs_background": "light"
     },
     "output_type": "display_data"
    }
   ],
   "source": [
    "fig, axes = plt.subplots(4,1, figsize=(10, 10), sharey=False)\n",
    "fig.suptitle('Distribution of (some) continuous variables')\n",
    "\n",
    "# Rainfall\n",
    "sns.histplot(x= 'Rainfall', data = data, palette = 'Set2', ax = axes[0], bins = 10)\n",
    "axes[0].set_title(\"\")\n",
    "\n",
    "# Evaporation\n",
    "sns.histplot(x= 'Evaporation', data = data, palette = 'Set2', ax = axes[1], bins = 10)\n",
    "axes[1].set_title(\"\")\n",
    "\n",
    "# Windspeed (9AM)\n",
    "sns.histplot(x= 'WindSpeed9am', data = data, palette = 'Set2', ax = axes[2], bins = 10)\n",
    "axes[2].set_title(\"\")\n",
    "\n",
    "# Windspeed (3PM)\n",
    "sns.histplot(x= 'WindSpeed3pm', data = data, palette = 'Set2', ax = axes[3], bins = 10)\n",
    "axes[3].set_title(\"\")\n",
    "\n",
    "plt.tight_layout()"
   ]
  },
  {
   "cell_type": "markdown",
   "id": "2f46f1e9",
   "metadata": {
    "papermill": {
     "duration": 0.060759,
     "end_time": "2021-10-11T21:26:01.483324",
     "exception": false,
     "start_time": "2021-10-11T21:26:01.422565",
     "status": "completed"
    },
    "tags": []
   },
   "source": [
    "All four of these columns are heavily right-skewed, so we should employ a way to remove outliers using the IQR range."
   ]
  },
  {
   "cell_type": "code",
   "execution_count": 24,
   "id": "aef74cbd",
   "metadata": {
    "execution": {
     "iopub.execute_input": "2021-10-11T21:26:01.613680Z",
     "iopub.status.busy": "2021-10-11T21:26:01.609340Z",
     "iopub.status.idle": "2021-10-11T21:26:01.666905Z",
     "shell.execute_reply": "2021-10-11T21:26:01.666270Z",
     "shell.execute_reply.started": "2021-10-11T21:06:20.122219Z"
    },
    "papermill": {
     "duration": 0.12235,
     "end_time": "2021-10-11T21:26:01.667079",
     "exception": false,
     "start_time": "2021-10-11T21:26:01.544729",
     "status": "completed"
    },
    "tags": []
   },
   "outputs": [
    {
     "name": "stdout",
     "output_type": "stream",
     "text": [
      "Rainfall outliers are values < -2.4 or > 3.2\n",
      "Evaporation outliers are values < -11.8 or > 21.8\n",
      "WindSpeed9am outliers are values < -29.0 or > 55.0\n",
      "WindSpeed3pm outliers are values < -20.0 or > 57.0\n"
     ]
    }
   ],
   "source": [
    "# Calculating IQR, Upper and Lower bounds for all four columns\n",
    "\n",
    "for column in ['Rainfall', 'Evaporation', 'WindSpeed9am', 'WindSpeed3pm']:\n",
    "    IQR = data[column].quantile(0.75) - data[column].quantile(0.25)\n",
    "    Lower_fence = data[column].quantile(0.25) - (IQR * 3)\n",
    "    Upper_fence = data[column].quantile(0.75) + (IQR * 3)\n",
    "    print(f'{column} outliers are values < {round(Lower_fence,2)} or > {round(Upper_fence,2)}')"
   ]
  },
  {
   "cell_type": "markdown",
   "id": "bd0fedea",
   "metadata": {
    "papermill": {
     "duration": 0.061854,
     "end_time": "2021-10-11T21:26:01.793363",
     "exception": false,
     "start_time": "2021-10-11T21:26:01.731509",
     "status": "completed"
    },
    "tags": []
   },
   "source": [
    "Lets look at a recap of all our columns, and what we are going to do with each one:\n",
    "\n",
    "`Date` - turn into ‘year’, ‘month’, ‘day’\\\n",
    "`Location` - one-hot encoding, drop first, no missing data\\\n",
    "`MinTemp` - \\\n",
    "`MaxTemp`\\\n",
    "`Rainfall` - remove outliers < -2.4 or > 3.2\\\n",
    "`Evaporation` - remove outliers < -11.8 or > 21.8\\\n",
    "`Sunshine`\\\n",
    "`WindGustDir` - one-hot encoding, drop first, NaN for missing data\\\n",
    "`WindGustSpeed`\\\n",
    "`WindDir9am` - one-hot encoding, drop first, NaN for missing data\\\n",
    "`WindDir3pm` - one-hot encoding, drop first, NaN for missing data\\\n",
    "`WindSpeed9am` - remove outliers < -29.0 or > 55.0\\\n",
    "`WindSpeed3pm` - remove outliers < -20.0 or > 57.0\\\n",
    "`Humidity9am`\\\n",
    "`Humidity3pm`\\\n",
    "`Pressure9am`\\\n",
    "`Pressure3pm`\\\n",
    "`Cloud9am`\\\n",
    "`Cloud3pm`\\\n",
    "`Temp9am`\\\n",
    "`Temp3pm`\\\n",
    "`RainToday` - one-hot encoding, drop first, NaN for missing data\\\n",
    "`RainTomorrow`\\\n",
    "\\\n",
    "Now, we need to deal with the missing values."
   ]
  },
  {
   "cell_type": "markdown",
   "id": "b2a6bb8b",
   "metadata": {
    "papermill": {
     "duration": 0.061845,
     "end_time": "2021-10-11T21:26:01.919649",
     "exception": false,
     "start_time": "2021-10-11T21:26:01.857804",
     "status": "completed"
    },
    "tags": []
   },
   "source": [
    "# **10. Missing Values** <a class=\"anchor\" id=\"7\"></a>\n",
    "\n",
    "\n",
    "[Table of Contents](#0.1)\n",
    "\n",
    "\n",
    "For this dataset, it is fair to assume that the missing values are missing at random. (MCAR, Missing Completely At Random). This means that we can either impute the missing values with the mean value or the median value. Because we have shown that this dataset is prone to outliers, inputing the missing values with the median value seems to be a better approach. \n",
    "\n",
    "We should only be filling in these missing values over the training dataset and not the train dataset, so lets split the data first and apply these measures along with all the other things listed in sections 2 and 3.\n",
    "\n",
    "Regarding the response variable,it's not certain why we have missing response variable data. Because of this reason, we should be wary of simply coding them as the mode or something similar. Deleting them completely may also be a risk, as it can introduce bias. However, that may be the best solution we have for now."
   ]
  },
  {
   "cell_type": "code",
   "execution_count": 25,
   "id": "f52a5c39",
   "metadata": {
    "execution": {
     "iopub.execute_input": "2021-10-11T21:26:02.049225Z",
     "iopub.status.busy": "2021-10-11T21:26:02.048507Z",
     "iopub.status.idle": "2021-10-11T21:26:02.132218Z",
     "shell.execute_reply": "2021-10-11T21:26:02.132763Z",
     "shell.execute_reply.started": "2021-10-11T21:06:20.181747Z"
    },
    "papermill": {
     "duration": 0.150663,
     "end_time": "2021-10-11T21:26:02.132968",
     "exception": false,
     "start_time": "2021-10-11T21:26:01.982305",
     "status": "completed"
    },
    "tags": []
   },
   "outputs": [
    {
     "name": "stdout",
     "output_type": "stream",
     "text": [
      "Number of missing values in response variable: 3267\n",
      "Number of missing values in response variable after dropping NA values: 0\n"
     ]
    }
   ],
   "source": [
    "print(f\"Number of missing values in response variable: {data['RainTomorrow'].isna().sum()}\")\n",
    "\n",
    "data = data.dropna(subset = ['RainTomorrow'])\n",
    "\n",
    "print(f\"Number of missing values in response variable after dropping NA values: {data['RainTomorrow'].isna().sum()}\")"
   ]
  },
  {
   "cell_type": "markdown",
   "id": "a0f91810",
   "metadata": {
    "papermill": {
     "duration": 0.062091,
     "end_time": "2021-10-11T21:26:02.257386",
     "exception": false,
     "start_time": "2021-10-11T21:26:02.195295",
     "status": "completed"
    },
    "tags": []
   },
   "source": [
    "# **11. Splitting Data into Training and Test Sets** <a class=\"anchor\" id=\"7\"></a>\n",
    "\n",
    "[Table of Contents](#0.1)\n",
    "\n"
   ]
  },
  {
   "cell_type": "code",
   "execution_count": 26,
   "id": "397b0656",
   "metadata": {
    "execution": {
     "iopub.execute_input": "2021-10-11T21:26:02.386113Z",
     "iopub.status.busy": "2021-10-11T21:26:02.385336Z",
     "iopub.status.idle": "2021-10-11T21:26:02.681677Z",
     "shell.execute_reply": "2021-10-11T21:26:02.681011Z",
     "shell.execute_reply.started": "2021-10-11T21:06:20.261688Z"
    },
    "papermill": {
     "duration": 0.361876,
     "end_time": "2021-10-11T21:26:02.681841",
     "exception": false,
     "start_time": "2021-10-11T21:26:02.319965",
     "status": "completed"
    },
    "tags": []
   },
   "outputs": [
    {
     "name": "stdout",
     "output_type": "stream",
     "text": [
      "The training sets have the following shapes: ((113754, 24), (113754,))\n",
      "The testing sets have the following shapes: ((28439, 24), (28439,))\n"
     ]
    }
   ],
   "source": [
    "from sklearn.model_selection import train_test_split\n",
    "\n",
    "X = data.drop(['RainTomorrow'], axis = 1)\n",
    "y = data['RainTomorrow']\n",
    "\n",
    "X_train, X_test, y_train, y_test = train_test_split(X, y, test_size = 0.2, random_state = 0)\n",
    "\n",
    "print(f\"The training sets have the following shapes: {X_train.shape, y_train.shape}\")\n",
    "print(f\"The testing sets have the following shapes: {X_test.shape, y_test.shape}\")"
   ]
  },
  {
   "cell_type": "markdown",
   "id": "582e516e",
   "metadata": {
    "papermill": {
     "duration": 0.074684,
     "end_time": "2021-10-11T21:26:02.840118",
     "exception": false,
     "start_time": "2021-10-11T21:26:02.765434",
     "status": "completed"
    },
    "tags": []
   },
   "source": [
    "# **12.Categorical Features (Feature Engineering)** <a class=\"anchor\" id=\"7\"></a>\n",
    "\n",
    "\n",
    "[Table of Contents](#0.1)"
   ]
  },
  {
   "cell_type": "code",
   "execution_count": 27,
   "id": "80911f99",
   "metadata": {
    "execution": {
     "iopub.execute_input": "2021-10-11T21:26:02.974369Z",
     "iopub.status.busy": "2021-10-11T21:26:02.973083Z",
     "iopub.status.idle": "2021-10-11T21:26:03.053024Z",
     "shell.execute_reply": "2021-10-11T21:26:03.052406Z",
     "shell.execute_reply.started": "2021-10-11T21:06:20.520319Z"
    },
    "papermill": {
     "duration": 0.150244,
     "end_time": "2021-10-11T21:26:03.053181",
     "exception": false,
     "start_time": "2021-10-11T21:26:02.902937",
     "status": "completed"
    },
    "tags": []
   },
   "outputs": [
    {
     "data": {
      "text/plain": [
       "Location          0\n",
       "WindGustDir    7407\n",
       "WindDir9am     7978\n",
       "WindDir3pm     3008\n",
       "RainToday      1139\n",
       "dtype: int64"
      ]
     },
     "execution_count": 27,
     "metadata": {},
     "output_type": "execute_result"
    }
   ],
   "source": [
    "# Listing out categorical columns and their missing values\n",
    "# This doesn't include 'Year', 'Month', and 'Day' because they're integers\n",
    "\n",
    "categorical_cols = list(X_train.select_dtypes(include=['object']).columns)\n",
    "X_train[categorical_cols].isna().sum()"
   ]
  },
  {
   "cell_type": "code",
   "execution_count": 28,
   "id": "5a7d6b29",
   "metadata": {
    "execution": {
     "iopub.execute_input": "2021-10-11T21:26:03.213775Z",
     "iopub.status.busy": "2021-10-11T21:26:03.181922Z",
     "iopub.status.idle": "2021-10-11T21:26:03.460817Z",
     "shell.execute_reply": "2021-10-11T21:26:03.460212Z",
     "shell.execute_reply.started": "2021-10-11T21:06:20.60424Z"
    },
    "papermill": {
     "duration": 0.345223,
     "end_time": "2021-10-11T21:26:03.460992",
     "exception": false,
     "start_time": "2021-10-11T21:26:03.115769",
     "status": "completed"
    },
    "tags": []
   },
   "outputs": [
    {
     "name": "stderr",
     "output_type": "stream",
     "text": [
      "/home/ssauto/anaconda3/lib/python3.7/site-packages/pandas/core/generic.py:6245: SettingWithCopyWarning: \n",
      "A value is trying to be set on a copy of a slice from a DataFrame\n",
      "\n",
      "See the caveats in the documentation: https://pandas.pydata.org/pandas-docs/stable/user_guide/indexing.html#returning-a-view-versus-a-copy\n",
      "  self._update_inplace(new_data)\n"
     ]
    },
    {
     "data": {
      "text/plain": [
       "Location       0\n",
       "WindGustDir    0\n",
       "WindDir9am     0\n",
       "WindDir3pm     0\n",
       "RainToday      0\n",
       "dtype: int64"
      ]
     },
     "execution_count": 28,
     "metadata": {},
     "output_type": "execute_result"
    }
   ],
   "source": [
    "# Filling in missing values in X_train with the mode.\n",
    "for i in categorical_cols:\n",
    "    X_train[i].fillna(X_train[i].mode()[0], inplace=True)\n",
    "    X_test[i].fillna(X_test[i].mode()[0], inplace=True)\n",
    "    \n",
    "# Checking missing values in X_train\n",
    "X_train[categorical_cols].isna().sum()"
   ]
  },
  {
   "cell_type": "code",
   "execution_count": 29,
   "id": "c9330859",
   "metadata": {
    "execution": {
     "iopub.execute_input": "2021-10-11T21:26:03.611393Z",
     "iopub.status.busy": "2021-10-11T21:26:03.610657Z",
     "iopub.status.idle": "2021-10-11T21:26:03.618724Z",
     "shell.execute_reply": "2021-10-11T21:26:03.618197Z",
     "shell.execute_reply.started": "2021-10-11T21:06:20.889308Z"
    },
    "papermill": {
     "duration": 0.094143,
     "end_time": "2021-10-11T21:26:03.618884",
     "exception": false,
     "start_time": "2021-10-11T21:26:03.524741",
     "status": "completed"
    },
    "tags": []
   },
   "outputs": [
    {
     "data": {
      "text/plain": [
       "Location       0\n",
       "WindGustDir    0\n",
       "WindDir9am     0\n",
       "WindDir3pm     0\n",
       "RainToday      0\n",
       "dtype: int64"
      ]
     },
     "execution_count": 29,
     "metadata": {},
     "output_type": "execute_result"
    }
   ],
   "source": [
    "# Checking missing values in X_test\n",
    "X_test[categorical_cols].isna().sum()"
   ]
  },
  {
   "cell_type": "code",
   "execution_count": 30,
   "id": "78d3e86b",
   "metadata": {
    "execution": {
     "iopub.execute_input": "2021-10-11T21:26:03.753888Z",
     "iopub.status.busy": "2021-10-11T21:26:03.753177Z",
     "iopub.status.idle": "2021-10-11T21:26:04.396000Z",
     "shell.execute_reply": "2021-10-11T21:26:04.395402Z",
     "shell.execute_reply.started": "2021-10-11T21:06:20.920101Z"
    },
    "papermill": {
     "duration": 0.713298,
     "end_time": "2021-10-11T21:26:04.396149",
     "exception": false,
     "start_time": "2021-10-11T21:26:03.682851",
     "status": "completed"
    },
    "tags": []
   },
   "outputs": [
    {
     "data": {
      "text/html": [
       "<div>\n",
       "<style scoped>\n",
       "    .dataframe tbody tr th:only-of-type {\n",
       "        vertical-align: middle;\n",
       "    }\n",
       "\n",
       "    .dataframe tbody tr th {\n",
       "        vertical-align: top;\n",
       "    }\n",
       "\n",
       "    .dataframe thead th {\n",
       "        text-align: right;\n",
       "    }\n",
       "</style>\n",
       "<table border=\"1\" class=\"dataframe\">\n",
       "  <thead>\n",
       "    <tr style=\"text-align: right;\">\n",
       "      <th></th>\n",
       "      <th>Location</th>\n",
       "      <th>MinTemp</th>\n",
       "      <th>MaxTemp</th>\n",
       "      <th>Rainfall</th>\n",
       "      <th>Evaporation</th>\n",
       "      <th>Sunshine</th>\n",
       "      <th>WindGustDir</th>\n",
       "      <th>WindGustSpeed</th>\n",
       "      <th>WindDir9am</th>\n",
       "      <th>WindDir3pm</th>\n",
       "      <th>...</th>\n",
       "      <th>Pressure3pm</th>\n",
       "      <th>Cloud9am</th>\n",
       "      <th>Cloud3pm</th>\n",
       "      <th>Temp9am</th>\n",
       "      <th>Temp3pm</th>\n",
       "      <th>RainToday_0</th>\n",
       "      <th>RainToday_1</th>\n",
       "      <th>Year</th>\n",
       "      <th>Month</th>\n",
       "      <th>Day</th>\n",
       "    </tr>\n",
       "  </thead>\n",
       "  <tbody>\n",
       "    <tr>\n",
       "      <th>113462</th>\n",
       "      <td>Witchcliffe</td>\n",
       "      <td>13.9</td>\n",
       "      <td>22.6</td>\n",
       "      <td>0.2</td>\n",
       "      <td>NaN</td>\n",
       "      <td>NaN</td>\n",
       "      <td>S</td>\n",
       "      <td>41.0</td>\n",
       "      <td>SSE</td>\n",
       "      <td>S</td>\n",
       "      <td>...</td>\n",
       "      <td>1013.4</td>\n",
       "      <td>NaN</td>\n",
       "      <td>NaN</td>\n",
       "      <td>18.8</td>\n",
       "      <td>20.4</td>\n",
       "      <td>0</td>\n",
       "      <td>1</td>\n",
       "      <td>2014</td>\n",
       "      <td>4</td>\n",
       "      <td>25</td>\n",
       "    </tr>\n",
       "    <tr>\n",
       "      <th>89638</th>\n",
       "      <td>Cairns</td>\n",
       "      <td>22.4</td>\n",
       "      <td>29.4</td>\n",
       "      <td>2.0</td>\n",
       "      <td>6.0</td>\n",
       "      <td>6.3</td>\n",
       "      <td>ENE</td>\n",
       "      <td>33.0</td>\n",
       "      <td>SSE</td>\n",
       "      <td>SE</td>\n",
       "      <td>...</td>\n",
       "      <td>1013.1</td>\n",
       "      <td>7.0</td>\n",
       "      <td>5.0</td>\n",
       "      <td>26.4</td>\n",
       "      <td>27.5</td>\n",
       "      <td>1</td>\n",
       "      <td>0</td>\n",
       "      <td>2015</td>\n",
       "      <td>11</td>\n",
       "      <td>2</td>\n",
       "    </tr>\n",
       "    <tr>\n",
       "      <th>138130</th>\n",
       "      <td>AliceSprings</td>\n",
       "      <td>9.7</td>\n",
       "      <td>36.2</td>\n",
       "      <td>0.0</td>\n",
       "      <td>11.4</td>\n",
       "      <td>12.3</td>\n",
       "      <td>E</td>\n",
       "      <td>31.0</td>\n",
       "      <td>NE</td>\n",
       "      <td>N</td>\n",
       "      <td>...</td>\n",
       "      <td>1013.6</td>\n",
       "      <td>1.0</td>\n",
       "      <td>1.0</td>\n",
       "      <td>28.5</td>\n",
       "      <td>35.0</td>\n",
       "      <td>0</td>\n",
       "      <td>1</td>\n",
       "      <td>2014</td>\n",
       "      <td>10</td>\n",
       "      <td>19</td>\n",
       "    </tr>\n",
       "    <tr>\n",
       "      <th>87898</th>\n",
       "      <td>Cairns</td>\n",
       "      <td>20.5</td>\n",
       "      <td>30.1</td>\n",
       "      <td>0.0</td>\n",
       "      <td>8.8</td>\n",
       "      <td>11.1</td>\n",
       "      <td>ESE</td>\n",
       "      <td>37.0</td>\n",
       "      <td>SSE</td>\n",
       "      <td>E</td>\n",
       "      <td>...</td>\n",
       "      <td>1010.8</td>\n",
       "      <td>2.0</td>\n",
       "      <td>3.0</td>\n",
       "      <td>27.3</td>\n",
       "      <td>29.4</td>\n",
       "      <td>0</td>\n",
       "      <td>1</td>\n",
       "      <td>2010</td>\n",
       "      <td>10</td>\n",
       "      <td>30</td>\n",
       "    </tr>\n",
       "    <tr>\n",
       "      <th>16484</th>\n",
       "      <td>Newcastle</td>\n",
       "      <td>16.8</td>\n",
       "      <td>29.2</td>\n",
       "      <td>0.0</td>\n",
       "      <td>NaN</td>\n",
       "      <td>NaN</td>\n",
       "      <td>W</td>\n",
       "      <td>NaN</td>\n",
       "      <td>N</td>\n",
       "      <td>SE</td>\n",
       "      <td>...</td>\n",
       "      <td>NaN</td>\n",
       "      <td>5.0</td>\n",
       "      <td>8.0</td>\n",
       "      <td>22.2</td>\n",
       "      <td>27.0</td>\n",
       "      <td>0</td>\n",
       "      <td>1</td>\n",
       "      <td>2012</td>\n",
       "      <td>11</td>\n",
       "      <td>8</td>\n",
       "    </tr>\n",
       "  </tbody>\n",
       "</table>\n",
       "<p>5 rows × 25 columns</p>\n",
       "</div>"
      ],
      "text/plain": [
       "            Location  MinTemp  MaxTemp  Rainfall  Evaporation  Sunshine  \\\n",
       "113462   Witchcliffe     13.9     22.6       0.2          NaN       NaN   \n",
       "89638         Cairns     22.4     29.4       2.0          6.0       6.3   \n",
       "138130  AliceSprings      9.7     36.2       0.0         11.4      12.3   \n",
       "87898         Cairns     20.5     30.1       0.0          8.8      11.1   \n",
       "16484      Newcastle     16.8     29.2       0.0          NaN       NaN   \n",
       "\n",
       "       WindGustDir  WindGustSpeed WindDir9am WindDir3pm  ...  Pressure3pm  \\\n",
       "113462           S           41.0        SSE          S  ...       1013.4   \n",
       "89638          ENE           33.0        SSE         SE  ...       1013.1   \n",
       "138130           E           31.0         NE          N  ...       1013.6   \n",
       "87898          ESE           37.0        SSE          E  ...       1010.8   \n",
       "16484            W            NaN          N         SE  ...          NaN   \n",
       "\n",
       "        Cloud9am  Cloud3pm  Temp9am  Temp3pm  RainToday_0  RainToday_1  Year  \\\n",
       "113462       NaN       NaN     18.8     20.4            0            1  2014   \n",
       "89638        7.0       5.0     26.4     27.5            1            0  2015   \n",
       "138130       1.0       1.0     28.5     35.0            0            1  2014   \n",
       "87898        2.0       3.0     27.3     29.4            0            1  2010   \n",
       "16484        5.0       8.0     22.2     27.0            0            1  2012   \n",
       "\n",
       "        Month  Day  \n",
       "113462      4   25  \n",
       "89638      11    2  \n",
       "138130     10   19  \n",
       "87898      10   30  \n",
       "16484      11    8  \n",
       "\n",
       "[5 rows x 25 columns]"
      ]
     },
     "execution_count": 30,
     "metadata": {},
     "output_type": "execute_result"
    }
   ],
   "source": [
    "# Encoding categorical variables\n",
    "import category_encoders as ce\n",
    "\n",
    "onehotencoder = ce.BinaryEncoder(cols=['RainToday'])\n",
    "X_train = onehotencoder.fit_transform(X_train)\n",
    "X_test = onehotencoder.fit_transform(X_test)\n",
    "\n",
    "X_train.head()"
   ]
  },
  {
   "cell_type": "markdown",
   "id": "7f99c947",
   "metadata": {
    "papermill": {
     "duration": 0.06417,
     "end_time": "2021-10-11T21:26:04.525368",
     "exception": false,
     "start_time": "2021-10-11T21:26:04.461198",
     "status": "completed"
    },
    "tags": []
   },
   "source": [
    "Note that the binary encoder has created an additional column: `RainToday_0` and `RainToday_1`. \n",
    "\n",
    "# **13.Continuous Features (Feature Engineering)** <a class=\"anchor\" id=\"7\"></a>\n",
    "\n",
    "\n",
    "[Table of Contents](#0.1)"
   ]
  },
  {
   "cell_type": "code",
   "execution_count": 31,
   "id": "09e091bf",
   "metadata": {
    "execution": {
     "iopub.execute_input": "2021-10-11T21:26:04.671407Z",
     "iopub.status.busy": "2021-10-11T21:26:04.670646Z",
     "iopub.status.idle": "2021-10-11T21:26:04.681988Z",
     "shell.execute_reply": "2021-10-11T21:26:04.681417Z",
     "shell.execute_reply.started": "2021-10-11T21:06:21.513496Z"
    },
    "papermill": {
     "duration": 0.092199,
     "end_time": "2021-10-11T21:26:04.682141",
     "exception": false,
     "start_time": "2021-10-11T21:26:04.589942",
     "status": "completed"
    },
    "tags": []
   },
   "outputs": [
    {
     "data": {
      "text/plain": [
       "MinTemp            495\n",
       "MaxTemp            264\n",
       "Rainfall          1139\n",
       "Evaporation      48718\n",
       "Sunshine         54314\n",
       "WindGustSpeed     7367\n",
       "WindSpeed9am      1086\n",
       "WindSpeed3pm      2094\n",
       "Humidity9am       1449\n",
       "Humidity3pm       2890\n",
       "Pressure9am      11212\n",
       "Pressure3pm      11186\n",
       "Cloud9am         43137\n",
       "Cloud3pm         45768\n",
       "Temp9am            740\n",
       "Temp3pm           2171\n",
       "dtype: int64"
      ]
     },
     "execution_count": 31,
     "metadata": {},
     "output_type": "execute_result"
    }
   ],
   "source": [
    "continuous_cols = list(X_train.select_dtypes(include=['float64']).columns)\n",
    "X_train[continuous_cols].isna().sum()"
   ]
  },
  {
   "cell_type": "code",
   "execution_count": 32,
   "id": "1cf737de",
   "metadata": {
    "execution": {
     "iopub.execute_input": "2021-10-11T21:26:04.818655Z",
     "iopub.status.busy": "2021-10-11T21:26:04.814991Z",
     "iopub.status.idle": "2021-10-11T21:26:04.929477Z",
     "shell.execute_reply": "2021-10-11T21:26:04.928803Z",
     "shell.execute_reply.started": "2021-10-11T21:06:21.535367Z"
    },
    "papermill": {
     "duration": 0.182525,
     "end_time": "2021-10-11T21:26:04.929638",
     "exception": false,
     "start_time": "2021-10-11T21:26:04.747113",
     "status": "completed"
    },
    "tags": []
   },
   "outputs": [
    {
     "data": {
      "text/plain": [
       "Location         0\n",
       "MinTemp          0\n",
       "MaxTemp          0\n",
       "Rainfall         0\n",
       "Evaporation      0\n",
       "Sunshine         0\n",
       "WindGustDir      0\n",
       "WindGustSpeed    0\n",
       "WindDir9am       0\n",
       "WindDir3pm       0\n",
       "WindSpeed9am     0\n",
       "WindSpeed3pm     0\n",
       "Humidity9am      0\n",
       "Humidity3pm      0\n",
       "Pressure9am      0\n",
       "Pressure3pm      0\n",
       "Cloud9am         0\n",
       "Cloud3pm         0\n",
       "Temp9am          0\n",
       "Temp3pm          0\n",
       "RainToday_0      0\n",
       "RainToday_1      0\n",
       "Year             0\n",
       "Month            0\n",
       "Day              0\n",
       "dtype: int64"
      ]
     },
     "execution_count": 32,
     "metadata": {},
     "output_type": "execute_result"
    }
   ],
   "source": [
    "# Fill in missing values with median\n",
    "\n",
    "for column in continuous_cols:\n",
    "    X_train[column].fillna(X_train[column].median(), inplace = True)\n",
    "    X_test[column].fillna(X_test[column].median(), inplace = True)\n",
    "    \n",
    "# Checking missing values \n",
    "X_train.isna().sum()"
   ]
  },
  {
   "cell_type": "code",
   "execution_count": 33,
   "id": "f3b1ec63",
   "metadata": {
    "execution": {
     "iopub.execute_input": "2021-10-11T21:26:05.080740Z",
     "iopub.status.busy": "2021-10-11T21:26:05.066109Z",
     "iopub.status.idle": "2021-10-11T21:26:05.089400Z",
     "shell.execute_reply": "2021-10-11T21:26:05.088790Z",
     "shell.execute_reply.started": "2021-10-11T21:06:21.649817Z"
    },
    "papermill": {
     "duration": 0.094678,
     "end_time": "2021-10-11T21:26:05.089569",
     "exception": false,
     "start_time": "2021-10-11T21:26:04.994891",
     "status": "completed"
    },
    "tags": []
   },
   "outputs": [
    {
     "data": {
      "text/plain": [
       "Location         0\n",
       "MinTemp          0\n",
       "MaxTemp          0\n",
       "Rainfall         0\n",
       "Evaporation      0\n",
       "Sunshine         0\n",
       "WindGustDir      0\n",
       "WindGustSpeed    0\n",
       "WindDir9am       0\n",
       "WindDir3pm       0\n",
       "WindSpeed9am     0\n",
       "WindSpeed3pm     0\n",
       "Humidity9am      0\n",
       "Humidity3pm      0\n",
       "Pressure9am      0\n",
       "Pressure3pm      0\n",
       "Cloud9am         0\n",
       "Cloud3pm         0\n",
       "Temp9am          0\n",
       "Temp3pm          0\n",
       "RainToday_0      0\n",
       "RainToday_1      0\n",
       "Year             0\n",
       "Month            0\n",
       "Day              0\n",
       "dtype: int64"
      ]
     },
     "execution_count": 33,
     "metadata": {},
     "output_type": "execute_result"
    }
   ],
   "source": [
    "# Checking missing values \n",
    "X_test.isna().sum()"
   ]
  },
  {
   "cell_type": "code",
   "execution_count": 34,
   "id": "18fba5ad",
   "metadata": {
    "execution": {
     "iopub.execute_input": "2021-10-11T21:26:05.227783Z",
     "iopub.status.busy": "2021-10-11T21:26:05.227114Z",
     "iopub.status.idle": "2021-10-11T21:26:05.409944Z",
     "shell.execute_reply": "2021-10-11T21:26:05.409391Z",
     "shell.execute_reply.started": "2021-10-11T21:06:21.673411Z"
    },
    "papermill": {
     "duration": 0.252972,
     "end_time": "2021-10-11T21:26:05.410105",
     "exception": false,
     "start_time": "2021-10-11T21:26:05.157133",
     "status": "completed"
    },
    "tags": []
   },
   "outputs": [
    {
     "data": {
      "text/html": [
       "<div>\n",
       "<style scoped>\n",
       "    .dataframe tbody tr th:only-of-type {\n",
       "        vertical-align: middle;\n",
       "    }\n",
       "\n",
       "    .dataframe tbody tr th {\n",
       "        vertical-align: top;\n",
       "    }\n",
       "\n",
       "    .dataframe thead th {\n",
       "        text-align: right;\n",
       "    }\n",
       "</style>\n",
       "<table border=\"1\" class=\"dataframe\">\n",
       "  <thead>\n",
       "    <tr style=\"text-align: right;\">\n",
       "      <th></th>\n",
       "      <th>MinTemp</th>\n",
       "      <th>MaxTemp</th>\n",
       "      <th>Rainfall</th>\n",
       "      <th>Evaporation</th>\n",
       "      <th>Sunshine</th>\n",
       "      <th>WindGustSpeed</th>\n",
       "      <th>WindSpeed9am</th>\n",
       "      <th>WindSpeed3pm</th>\n",
       "      <th>Humidity9am</th>\n",
       "      <th>Humidity3pm</th>\n",
       "      <th>...</th>\n",
       "      <th>Pressure3pm</th>\n",
       "      <th>Cloud9am</th>\n",
       "      <th>Cloud3pm</th>\n",
       "      <th>Temp9am</th>\n",
       "      <th>Temp3pm</th>\n",
       "      <th>RainToday_0</th>\n",
       "      <th>RainToday_1</th>\n",
       "      <th>Year</th>\n",
       "      <th>Month</th>\n",
       "      <th>Day</th>\n",
       "    </tr>\n",
       "  </thead>\n",
       "  <tbody>\n",
       "    <tr>\n",
       "      <th>count</th>\n",
       "      <td>113754.0</td>\n",
       "      <td>113754.0</td>\n",
       "      <td>113754.0</td>\n",
       "      <td>113754.0</td>\n",
       "      <td>113754.0</td>\n",
       "      <td>113754.0</td>\n",
       "      <td>113754.0</td>\n",
       "      <td>113754.0</td>\n",
       "      <td>113754.0</td>\n",
       "      <td>113754.0</td>\n",
       "      <td>...</td>\n",
       "      <td>113754.0</td>\n",
       "      <td>113754.0</td>\n",
       "      <td>113754.0</td>\n",
       "      <td>113754.0</td>\n",
       "      <td>113754.0</td>\n",
       "      <td>113754.0</td>\n",
       "      <td>113754.0</td>\n",
       "      <td>113754.0</td>\n",
       "      <td>113754.0</td>\n",
       "      <td>113754.0</td>\n",
       "    </tr>\n",
       "    <tr>\n",
       "      <th>mean</th>\n",
       "      <td>12.0</td>\n",
       "      <td>23.0</td>\n",
       "      <td>1.0</td>\n",
       "      <td>5.0</td>\n",
       "      <td>8.0</td>\n",
       "      <td>40.0</td>\n",
       "      <td>14.0</td>\n",
       "      <td>19.0</td>\n",
       "      <td>69.0</td>\n",
       "      <td>52.0</td>\n",
       "      <td>...</td>\n",
       "      <td>1015.0</td>\n",
       "      <td>5.0</td>\n",
       "      <td>5.0</td>\n",
       "      <td>17.0</td>\n",
       "      <td>22.0</td>\n",
       "      <td>0.0</td>\n",
       "      <td>1.0</td>\n",
       "      <td>2013.0</td>\n",
       "      <td>6.0</td>\n",
       "      <td>16.0</td>\n",
       "    </tr>\n",
       "    <tr>\n",
       "      <th>std</th>\n",
       "      <td>6.0</td>\n",
       "      <td>7.0</td>\n",
       "      <td>1.0</td>\n",
       "      <td>3.0</td>\n",
       "      <td>3.0</td>\n",
       "      <td>13.0</td>\n",
       "      <td>9.0</td>\n",
       "      <td>9.0</td>\n",
       "      <td>19.0</td>\n",
       "      <td>21.0</td>\n",
       "      <td>...</td>\n",
       "      <td>7.0</td>\n",
       "      <td>2.0</td>\n",
       "      <td>2.0</td>\n",
       "      <td>6.0</td>\n",
       "      <td>7.0</td>\n",
       "      <td>0.0</td>\n",
       "      <td>0.0</td>\n",
       "      <td>3.0</td>\n",
       "      <td>3.0</td>\n",
       "      <td>9.0</td>\n",
       "    </tr>\n",
       "    <tr>\n",
       "      <th>min</th>\n",
       "      <td>-8.0</td>\n",
       "      <td>-5.0</td>\n",
       "      <td>0.0</td>\n",
       "      <td>0.0</td>\n",
       "      <td>0.0</td>\n",
       "      <td>6.0</td>\n",
       "      <td>0.0</td>\n",
       "      <td>0.0</td>\n",
       "      <td>0.0</td>\n",
       "      <td>0.0</td>\n",
       "      <td>...</td>\n",
       "      <td>977.0</td>\n",
       "      <td>0.0</td>\n",
       "      <td>0.0</td>\n",
       "      <td>-7.0</td>\n",
       "      <td>-5.0</td>\n",
       "      <td>0.0</td>\n",
       "      <td>0.0</td>\n",
       "      <td>2007.0</td>\n",
       "      <td>1.0</td>\n",
       "      <td>1.0</td>\n",
       "    </tr>\n",
       "    <tr>\n",
       "      <th>25%</th>\n",
       "      <td>8.0</td>\n",
       "      <td>18.0</td>\n",
       "      <td>0.0</td>\n",
       "      <td>4.0</td>\n",
       "      <td>8.0</td>\n",
       "      <td>31.0</td>\n",
       "      <td>7.0</td>\n",
       "      <td>13.0</td>\n",
       "      <td>57.0</td>\n",
       "      <td>37.0</td>\n",
       "      <td>...</td>\n",
       "      <td>1011.0</td>\n",
       "      <td>3.0</td>\n",
       "      <td>4.0</td>\n",
       "      <td>12.0</td>\n",
       "      <td>17.0</td>\n",
       "      <td>0.0</td>\n",
       "      <td>1.0</td>\n",
       "      <td>2011.0</td>\n",
       "      <td>3.0</td>\n",
       "      <td>8.0</td>\n",
       "    </tr>\n",
       "    <tr>\n",
       "      <th>50%</th>\n",
       "      <td>12.0</td>\n",
       "      <td>23.0</td>\n",
       "      <td>0.0</td>\n",
       "      <td>5.0</td>\n",
       "      <td>8.0</td>\n",
       "      <td>39.0</td>\n",
       "      <td>13.0</td>\n",
       "      <td>19.0</td>\n",
       "      <td>70.0</td>\n",
       "      <td>52.0</td>\n",
       "      <td>...</td>\n",
       "      <td>1015.0</td>\n",
       "      <td>5.0</td>\n",
       "      <td>5.0</td>\n",
       "      <td>17.0</td>\n",
       "      <td>21.0</td>\n",
       "      <td>0.0</td>\n",
       "      <td>1.0</td>\n",
       "      <td>2013.0</td>\n",
       "      <td>6.0</td>\n",
       "      <td>16.0</td>\n",
       "    </tr>\n",
       "    <tr>\n",
       "      <th>75%</th>\n",
       "      <td>17.0</td>\n",
       "      <td>28.0</td>\n",
       "      <td>1.0</td>\n",
       "      <td>5.0</td>\n",
       "      <td>9.0</td>\n",
       "      <td>46.0</td>\n",
       "      <td>19.0</td>\n",
       "      <td>24.0</td>\n",
       "      <td>83.0</td>\n",
       "      <td>65.0</td>\n",
       "      <td>...</td>\n",
       "      <td>1019.0</td>\n",
       "      <td>6.0</td>\n",
       "      <td>6.0</td>\n",
       "      <td>22.0</td>\n",
       "      <td>26.0</td>\n",
       "      <td>0.0</td>\n",
       "      <td>1.0</td>\n",
       "      <td>2015.0</td>\n",
       "      <td>9.0</td>\n",
       "      <td>23.0</td>\n",
       "    </tr>\n",
       "    <tr>\n",
       "      <th>max</th>\n",
       "      <td>34.0</td>\n",
       "      <td>48.0</td>\n",
       "      <td>3.0</td>\n",
       "      <td>22.0</td>\n",
       "      <td>14.0</td>\n",
       "      <td>135.0</td>\n",
       "      <td>55.0</td>\n",
       "      <td>57.0</td>\n",
       "      <td>100.0</td>\n",
       "      <td>100.0</td>\n",
       "      <td>...</td>\n",
       "      <td>1040.0</td>\n",
       "      <td>9.0</td>\n",
       "      <td>8.0</td>\n",
       "      <td>40.0</td>\n",
       "      <td>47.0</td>\n",
       "      <td>1.0</td>\n",
       "      <td>1.0</td>\n",
       "      <td>2017.0</td>\n",
       "      <td>12.0</td>\n",
       "      <td>31.0</td>\n",
       "    </tr>\n",
       "  </tbody>\n",
       "</table>\n",
       "<p>8 rows × 21 columns</p>\n",
       "</div>"
      ],
      "text/plain": [
       "        MinTemp   MaxTemp  Rainfall  Evaporation  Sunshine  WindGustSpeed  \\\n",
       "count  113754.0  113754.0  113754.0     113754.0  113754.0       113754.0   \n",
       "mean       12.0      23.0       1.0          5.0       8.0           40.0   \n",
       "std         6.0       7.0       1.0          3.0       3.0           13.0   \n",
       "min        -8.0      -5.0       0.0          0.0       0.0            6.0   \n",
       "25%         8.0      18.0       0.0          4.0       8.0           31.0   \n",
       "50%        12.0      23.0       0.0          5.0       8.0           39.0   \n",
       "75%        17.0      28.0       1.0          5.0       9.0           46.0   \n",
       "max        34.0      48.0       3.0         22.0      14.0          135.0   \n",
       "\n",
       "       WindSpeed9am  WindSpeed3pm  Humidity9am  Humidity3pm  ...  Pressure3pm  \\\n",
       "count      113754.0      113754.0     113754.0     113754.0  ...     113754.0   \n",
       "mean           14.0          19.0         69.0         52.0  ...       1015.0   \n",
       "std             9.0           9.0         19.0         21.0  ...          7.0   \n",
       "min             0.0           0.0          0.0          0.0  ...        977.0   \n",
       "25%             7.0          13.0         57.0         37.0  ...       1011.0   \n",
       "50%            13.0          19.0         70.0         52.0  ...       1015.0   \n",
       "75%            19.0          24.0         83.0         65.0  ...       1019.0   \n",
       "max            55.0          57.0        100.0        100.0  ...       1040.0   \n",
       "\n",
       "       Cloud9am  Cloud3pm   Temp9am   Temp3pm  RainToday_0  RainToday_1  \\\n",
       "count  113754.0  113754.0  113754.0  113754.0     113754.0     113754.0   \n",
       "mean        5.0       5.0      17.0      22.0          0.0          1.0   \n",
       "std         2.0       2.0       6.0       7.0          0.0          0.0   \n",
       "min         0.0       0.0      -7.0      -5.0          0.0          0.0   \n",
       "25%         3.0       4.0      12.0      17.0          0.0          1.0   \n",
       "50%         5.0       5.0      17.0      21.0          0.0          1.0   \n",
       "75%         6.0       6.0      22.0      26.0          0.0          1.0   \n",
       "max         9.0       8.0      40.0      47.0          1.0          1.0   \n",
       "\n",
       "           Year     Month       Day  \n",
       "count  113754.0  113754.0  113754.0  \n",
       "mean     2013.0       6.0      16.0  \n",
       "std         3.0       3.0       9.0  \n",
       "min      2007.0       1.0       1.0  \n",
       "25%      2011.0       3.0       8.0  \n",
       "50%      2013.0       6.0      16.0  \n",
       "75%      2015.0       9.0      23.0  \n",
       "max      2017.0      12.0      31.0  \n",
       "\n",
       "[8 rows x 21 columns]"
      ]
     },
     "execution_count": 34,
     "metadata": {},
     "output_type": "execute_result"
    }
   ],
   "source": [
    "# Removing outliers in certain continous columns\n",
    "def upper_outlier(df, variable, top):\n",
    "    return np.where(df[variable]>top, top, df[variable])\n",
    "def lower_outlier(df, variable, bot):\n",
    "    return np.where(df[variable]<bot, bot, df[variable])\n",
    "\n",
    "for X_df in [X_train, X_test]:\n",
    "    X_df['Rainfall'] = upper_outlier(X_df, 'Rainfall', 3.2)\n",
    "    X_df['Rainfall'] = lower_outlier(X_df, 'Rainfall', -2.4)\n",
    "    \n",
    "    X_df['Evaporation'] = upper_outlier(X_df, 'Evaporation', 21.8)\n",
    "    X_df['Evaporation'] = lower_outlier(X_df, 'Evaporation', -11.8)\n",
    "\n",
    "    X_df['WindSpeed9am'] = upper_outlier(X_df, 'WindSpeed9am', 55.0)\n",
    "    X_df['WindSpeed9am'] = lower_outlier(X_df, 'WindSpeed9am', -29.0)\n",
    "\n",
    "    X_df['WindSpeed3pm'] = upper_outlier(X_df, 'WindSpeed3pm', 57.0)\n",
    "    X_df['WindSpeed3pm'] = lower_outlier(X_df, 'WindSpeed3pm', -20.0)\n",
    "\n",
    "X_train.describe().apply(round)"
   ]
  },
  {
   "cell_type": "code",
   "execution_count": 35,
   "id": "a30fdf35",
   "metadata": {
    "execution": {
     "iopub.execute_input": "2021-10-11T21:26:05.554003Z",
     "iopub.status.busy": "2021-10-11T21:26:05.553164Z",
     "iopub.status.idle": "2021-10-11T21:26:05.656014Z",
     "shell.execute_reply": "2021-10-11T21:26:05.656583Z",
     "shell.execute_reply.started": "2021-10-11T21:06:21.862613Z"
    },
    "papermill": {
     "duration": 0.18018,
     "end_time": "2021-10-11T21:26:05.656812",
     "exception": false,
     "start_time": "2021-10-11T21:26:05.476632",
     "status": "completed"
    },
    "tags": []
   },
   "outputs": [],
   "source": [
    "# Include the other columns that are to be encoded (outlined above)\n",
    "\n",
    "X_train = pd.concat([X_train[continuous_cols], X_train[['RainToday_0', 'RainToday_1']],\n",
    "                     pd.get_dummies(X_train.Location), \n",
    "                     pd.get_dummies(X_train.WindGustDir, prefix = 'WGD'),\n",
    "                     pd.get_dummies(X_train.WindDir9am, prefix = 'WD9am'),\n",
    "                     pd.get_dummies(X_train.WindDir3pm, prefix = 'WD3pm')], axis=1)\n",
    "\n",
    "X_test = pd.concat([X_test[continuous_cols], X_test[['RainToday_0', 'RainToday_1']],\n",
    "                     pd.get_dummies(X_test.Location), \n",
    "                     pd.get_dummies(X_test.WindGustDir, prefix = 'WGD'),\n",
    "                     pd.get_dummies(X_test.WindDir9am, prefix = 'WD9am'),\n",
    "                     pd.get_dummies(X_test.WindDir3pm, prefix = 'WD3pm')], axis=1)"
   ]
  },
  {
   "cell_type": "markdown",
   "id": "c81db89a",
   "metadata": {
    "papermill": {
     "duration": 0.06586,
     "end_time": "2021-10-11T21:26:05.789379",
     "exception": false,
     "start_time": "2021-10-11T21:26:05.723519",
     "status": "completed"
    },
    "tags": []
   },
   "source": [
    "# **14. Response Variable** <a class=\"anchor\" id=\"7\"></a>\n",
    "\n",
    "\n",
    "[Table of Contents](#0.1)"
   ]
  },
  {
   "cell_type": "code",
   "execution_count": 36,
   "id": "4226a921",
   "metadata": {
    "execution": {
     "iopub.execute_input": "2021-10-11T21:26:05.927854Z",
     "iopub.status.busy": "2021-10-11T21:26:05.927078Z",
     "iopub.status.idle": "2021-10-11T21:26:05.935635Z",
     "shell.execute_reply": "2021-10-11T21:26:05.936146Z",
     "shell.execute_reply.started": "2021-10-11T21:06:21.967208Z"
    },
    "papermill": {
     "duration": 0.079772,
     "end_time": "2021-10-11T21:26:05.936338",
     "exception": false,
     "start_time": "2021-10-11T21:26:05.856566",
     "status": "completed"
    },
    "tags": []
   },
   "outputs": [
    {
     "data": {
      "text/plain": [
       "0"
      ]
     },
     "execution_count": 36,
     "metadata": {},
     "output_type": "execute_result"
    }
   ],
   "source": [
    "y_test.isna().sum()"
   ]
  },
  {
   "cell_type": "code",
   "execution_count": 37,
   "id": "57b4cc48",
   "metadata": {
    "execution": {
     "iopub.execute_input": "2021-10-11T21:26:06.075703Z",
     "iopub.status.busy": "2021-10-11T21:26:06.075024Z",
     "iopub.status.idle": "2021-10-11T21:26:06.093422Z",
     "shell.execute_reply": "2021-10-11T21:26:06.093934Z",
     "shell.execute_reply.started": "2021-10-11T21:06:21.978081Z"
    },
    "papermill": {
     "duration": 0.089916,
     "end_time": "2021-10-11T21:26:06.094146",
     "exception": false,
     "start_time": "2021-10-11T21:26:06.004230",
     "status": "completed"
    },
    "tags": []
   },
   "outputs": [
    {
     "data": {
      "text/plain": [
       "0"
      ]
     },
     "execution_count": 37,
     "metadata": {},
     "output_type": "execute_result"
    }
   ],
   "source": [
    "y_train.isna().sum()"
   ]
  },
  {
   "cell_type": "markdown",
   "id": "055bd6b0",
   "metadata": {
    "papermill": {
     "duration": 0.067105,
     "end_time": "2021-10-11T21:26:06.228880",
     "exception": false,
     "start_time": "2021-10-11T21:26:06.161775",
     "status": "completed"
    },
    "tags": []
   },
   "source": [
    "At this point, it's not certain why we have missing data. Because of this reason, we should be wary of simply coding them as the mode or something similar. Deleting them completely may also be a risk, as it can introduce bias. However, that may be the best solution we have for now."
   ]
  },
  {
   "cell_type": "markdown",
   "id": "f5757624",
   "metadata": {
    "papermill": {
     "duration": 0.066813,
     "end_time": "2021-10-11T21:26:06.363190",
     "exception": false,
     "start_time": "2021-10-11T21:26:06.296377",
     "status": "completed"
    },
    "tags": []
   },
   "source": [
    "# **15. Scaling** <a class=\"anchor\" id=\"7\"></a>\n",
    "\n",
    "\n",
    "[Table of Contents](#0.1)"
   ]
  },
  {
   "cell_type": "markdown",
   "id": "d5a48e5b",
   "metadata": {
    "papermill": {
     "duration": 0.066836,
     "end_time": "2021-10-11T21:26:06.497690",
     "exception": false,
     "start_time": "2021-10-11T21:26:06.430854",
     "status": "completed"
    },
    "tags": []
   },
   "source": []
  },
  {
   "cell_type": "code",
   "execution_count": 38,
   "id": "abb9e150",
   "metadata": {
    "execution": {
     "iopub.execute_input": "2021-10-11T21:26:06.639629Z",
     "iopub.status.busy": "2021-10-11T21:26:06.638915Z",
     "iopub.status.idle": "2021-10-11T21:26:07.100513Z",
     "shell.execute_reply": "2021-10-11T21:26:07.101163Z",
     "shell.execute_reply.started": "2021-10-11T21:06:22.004746Z"
    },
    "papermill": {
     "duration": 0.53643,
     "end_time": "2021-10-11T21:26:07.101371",
     "exception": false,
     "start_time": "2021-10-11T21:26:06.564941",
     "status": "completed"
    },
    "tags": []
   },
   "outputs": [
    {
     "data": {
      "text/html": [
       "<div>\n",
       "<style scoped>\n",
       "    .dataframe tbody tr th:only-of-type {\n",
       "        vertical-align: middle;\n",
       "    }\n",
       "\n",
       "    .dataframe tbody tr th {\n",
       "        vertical-align: top;\n",
       "    }\n",
       "\n",
       "    .dataframe thead th {\n",
       "        text-align: right;\n",
       "    }\n",
       "</style>\n",
       "<table border=\"1\" class=\"dataframe\">\n",
       "  <thead>\n",
       "    <tr style=\"text-align: right;\">\n",
       "      <th></th>\n",
       "      <th>MinTemp</th>\n",
       "      <th>MaxTemp</th>\n",
       "      <th>Rainfall</th>\n",
       "      <th>Evaporation</th>\n",
       "      <th>Sunshine</th>\n",
       "      <th>WindGustSpeed</th>\n",
       "      <th>WindSpeed9am</th>\n",
       "      <th>WindSpeed3pm</th>\n",
       "      <th>Humidity9am</th>\n",
       "      <th>Humidity3pm</th>\n",
       "      <th>...</th>\n",
       "      <th>WD3pm_NNW</th>\n",
       "      <th>WD3pm_NW</th>\n",
       "      <th>WD3pm_S</th>\n",
       "      <th>WD3pm_SE</th>\n",
       "      <th>WD3pm_SSE</th>\n",
       "      <th>WD3pm_SSW</th>\n",
       "      <th>WD3pm_SW</th>\n",
       "      <th>WD3pm_W</th>\n",
       "      <th>WD3pm_WNW</th>\n",
       "      <th>WD3pm_WSW</th>\n",
       "    </tr>\n",
       "  </thead>\n",
       "  <tbody>\n",
       "    <tr>\n",
       "      <th>count</th>\n",
       "      <td>113754.000000</td>\n",
       "      <td>113754.000000</td>\n",
       "      <td>113754.000000</td>\n",
       "      <td>113754.000000</td>\n",
       "      <td>113754.000000</td>\n",
       "      <td>113754.000000</td>\n",
       "      <td>113754.000000</td>\n",
       "      <td>113754.000000</td>\n",
       "      <td>113754.000000</td>\n",
       "      <td>113754.000000</td>\n",
       "      <td>...</td>\n",
       "      <td>113754.000000</td>\n",
       "      <td>113754.000000</td>\n",
       "      <td>113754.000000</td>\n",
       "      <td>113754.000000</td>\n",
       "      <td>113754.000000</td>\n",
       "      <td>113754.000000</td>\n",
       "      <td>113754.000000</td>\n",
       "      <td>113754.000000</td>\n",
       "      <td>113754.000000</td>\n",
       "      <td>113754.000000</td>\n",
       "    </tr>\n",
       "    <tr>\n",
       "      <th>mean</th>\n",
       "      <td>12.193497</td>\n",
       "      <td>23.237216</td>\n",
       "      <td>0.675080</td>\n",
       "      <td>5.151606</td>\n",
       "      <td>8.041154</td>\n",
       "      <td>39.884074</td>\n",
       "      <td>13.978155</td>\n",
       "      <td>18.614756</td>\n",
       "      <td>68.867486</td>\n",
       "      <td>51.509547</td>\n",
       "      <td>...</td>\n",
       "      <td>0.054530</td>\n",
       "      <td>0.060288</td>\n",
       "      <td>0.067259</td>\n",
       "      <td>0.101605</td>\n",
       "      <td>0.064059</td>\n",
       "      <td>0.056402</td>\n",
       "      <td>0.064464</td>\n",
       "      <td>0.069334</td>\n",
       "      <td>0.060798</td>\n",
       "      <td>0.065483</td>\n",
       "    </tr>\n",
       "    <tr>\n",
       "      <th>std</th>\n",
       "      <td>6.388279</td>\n",
       "      <td>7.094149</td>\n",
       "      <td>1.183837</td>\n",
       "      <td>2.823707</td>\n",
       "      <td>2.769480</td>\n",
       "      <td>13.116959</td>\n",
       "      <td>8.806558</td>\n",
       "      <td>8.685862</td>\n",
       "      <td>18.935587</td>\n",
       "      <td>20.530723</td>\n",
       "      <td>...</td>\n",
       "      <td>0.227061</td>\n",
       "      <td>0.238021</td>\n",
       "      <td>0.250471</td>\n",
       "      <td>0.302130</td>\n",
       "      <td>0.244860</td>\n",
       "      <td>0.230698</td>\n",
       "      <td>0.245578</td>\n",
       "      <td>0.254022</td>\n",
       "      <td>0.238960</td>\n",
       "      <td>0.247378</td>\n",
       "    </tr>\n",
       "    <tr>\n",
       "      <th>min</th>\n",
       "      <td>-8.200000</td>\n",
       "      <td>-4.800000</td>\n",
       "      <td>0.000000</td>\n",
       "      <td>0.000000</td>\n",
       "      <td>0.000000</td>\n",
       "      <td>6.000000</td>\n",
       "      <td>0.000000</td>\n",
       "      <td>0.000000</td>\n",
       "      <td>0.000000</td>\n",
       "      <td>0.000000</td>\n",
       "      <td>...</td>\n",
       "      <td>0.000000</td>\n",
       "      <td>0.000000</td>\n",
       "      <td>0.000000</td>\n",
       "      <td>0.000000</td>\n",
       "      <td>0.000000</td>\n",
       "      <td>0.000000</td>\n",
       "      <td>0.000000</td>\n",
       "      <td>0.000000</td>\n",
       "      <td>0.000000</td>\n",
       "      <td>0.000000</td>\n",
       "    </tr>\n",
       "    <tr>\n",
       "      <th>25%</th>\n",
       "      <td>7.600000</td>\n",
       "      <td>18.000000</td>\n",
       "      <td>0.000000</td>\n",
       "      <td>4.000000</td>\n",
       "      <td>8.200000</td>\n",
       "      <td>31.000000</td>\n",
       "      <td>7.000000</td>\n",
       "      <td>13.000000</td>\n",
       "      <td>57.000000</td>\n",
       "      <td>37.000000</td>\n",
       "      <td>...</td>\n",
       "      <td>0.000000</td>\n",
       "      <td>0.000000</td>\n",
       "      <td>0.000000</td>\n",
       "      <td>0.000000</td>\n",
       "      <td>0.000000</td>\n",
       "      <td>0.000000</td>\n",
       "      <td>0.000000</td>\n",
       "      <td>0.000000</td>\n",
       "      <td>0.000000</td>\n",
       "      <td>0.000000</td>\n",
       "    </tr>\n",
       "    <tr>\n",
       "      <th>50%</th>\n",
       "      <td>12.000000</td>\n",
       "      <td>22.600000</td>\n",
       "      <td>0.000000</td>\n",
       "      <td>4.800000</td>\n",
       "      <td>8.500000</td>\n",
       "      <td>39.000000</td>\n",
       "      <td>13.000000</td>\n",
       "      <td>19.000000</td>\n",
       "      <td>70.000000</td>\n",
       "      <td>52.000000</td>\n",
       "      <td>...</td>\n",
       "      <td>0.000000</td>\n",
       "      <td>0.000000</td>\n",
       "      <td>0.000000</td>\n",
       "      <td>0.000000</td>\n",
       "      <td>0.000000</td>\n",
       "      <td>0.000000</td>\n",
       "      <td>0.000000</td>\n",
       "      <td>0.000000</td>\n",
       "      <td>0.000000</td>\n",
       "      <td>0.000000</td>\n",
       "    </tr>\n",
       "    <tr>\n",
       "      <th>75%</th>\n",
       "      <td>16.800000</td>\n",
       "      <td>28.200000</td>\n",
       "      <td>0.600000</td>\n",
       "      <td>5.400000</td>\n",
       "      <td>8.700000</td>\n",
       "      <td>46.000000</td>\n",
       "      <td>19.000000</td>\n",
       "      <td>24.000000</td>\n",
       "      <td>83.000000</td>\n",
       "      <td>65.000000</td>\n",
       "      <td>...</td>\n",
       "      <td>0.000000</td>\n",
       "      <td>0.000000</td>\n",
       "      <td>0.000000</td>\n",
       "      <td>0.000000</td>\n",
       "      <td>0.000000</td>\n",
       "      <td>0.000000</td>\n",
       "      <td>0.000000</td>\n",
       "      <td>0.000000</td>\n",
       "      <td>0.000000</td>\n",
       "      <td>0.000000</td>\n",
       "    </tr>\n",
       "    <tr>\n",
       "      <th>max</th>\n",
       "      <td>33.900000</td>\n",
       "      <td>48.100000</td>\n",
       "      <td>3.200000</td>\n",
       "      <td>21.800000</td>\n",
       "      <td>14.500000</td>\n",
       "      <td>135.000000</td>\n",
       "      <td>55.000000</td>\n",
       "      <td>57.000000</td>\n",
       "      <td>100.000000</td>\n",
       "      <td>100.000000</td>\n",
       "      <td>...</td>\n",
       "      <td>1.000000</td>\n",
       "      <td>1.000000</td>\n",
       "      <td>1.000000</td>\n",
       "      <td>1.000000</td>\n",
       "      <td>1.000000</td>\n",
       "      <td>1.000000</td>\n",
       "      <td>1.000000</td>\n",
       "      <td>1.000000</td>\n",
       "      <td>1.000000</td>\n",
       "      <td>1.000000</td>\n",
       "    </tr>\n",
       "  </tbody>\n",
       "</table>\n",
       "<p>8 rows × 115 columns</p>\n",
       "</div>"
      ],
      "text/plain": [
       "             MinTemp        MaxTemp       Rainfall    Evaporation  \\\n",
       "count  113754.000000  113754.000000  113754.000000  113754.000000   \n",
       "mean       12.193497      23.237216       0.675080       5.151606   \n",
       "std         6.388279       7.094149       1.183837       2.823707   \n",
       "min        -8.200000      -4.800000       0.000000       0.000000   \n",
       "25%         7.600000      18.000000       0.000000       4.000000   \n",
       "50%        12.000000      22.600000       0.000000       4.800000   \n",
       "75%        16.800000      28.200000       0.600000       5.400000   \n",
       "max        33.900000      48.100000       3.200000      21.800000   \n",
       "\n",
       "            Sunshine  WindGustSpeed   WindSpeed9am   WindSpeed3pm  \\\n",
       "count  113754.000000  113754.000000  113754.000000  113754.000000   \n",
       "mean        8.041154      39.884074      13.978155      18.614756   \n",
       "std         2.769480      13.116959       8.806558       8.685862   \n",
       "min         0.000000       6.000000       0.000000       0.000000   \n",
       "25%         8.200000      31.000000       7.000000      13.000000   \n",
       "50%         8.500000      39.000000      13.000000      19.000000   \n",
       "75%         8.700000      46.000000      19.000000      24.000000   \n",
       "max        14.500000     135.000000      55.000000      57.000000   \n",
       "\n",
       "         Humidity9am    Humidity3pm  ...      WD3pm_NNW       WD3pm_NW  \\\n",
       "count  113754.000000  113754.000000  ...  113754.000000  113754.000000   \n",
       "mean       68.867486      51.509547  ...       0.054530       0.060288   \n",
       "std        18.935587      20.530723  ...       0.227061       0.238021   \n",
       "min         0.000000       0.000000  ...       0.000000       0.000000   \n",
       "25%        57.000000      37.000000  ...       0.000000       0.000000   \n",
       "50%        70.000000      52.000000  ...       0.000000       0.000000   \n",
       "75%        83.000000      65.000000  ...       0.000000       0.000000   \n",
       "max       100.000000     100.000000  ...       1.000000       1.000000   \n",
       "\n",
       "             WD3pm_S       WD3pm_SE      WD3pm_SSE      WD3pm_SSW  \\\n",
       "count  113754.000000  113754.000000  113754.000000  113754.000000   \n",
       "mean        0.067259       0.101605       0.064059       0.056402   \n",
       "std         0.250471       0.302130       0.244860       0.230698   \n",
       "min         0.000000       0.000000       0.000000       0.000000   \n",
       "25%         0.000000       0.000000       0.000000       0.000000   \n",
       "50%         0.000000       0.000000       0.000000       0.000000   \n",
       "75%         0.000000       0.000000       0.000000       0.000000   \n",
       "max         1.000000       1.000000       1.000000       1.000000   \n",
       "\n",
       "            WD3pm_SW        WD3pm_W      WD3pm_WNW      WD3pm_WSW  \n",
       "count  113754.000000  113754.000000  113754.000000  113754.000000  \n",
       "mean        0.064464       0.069334       0.060798       0.065483  \n",
       "std         0.245578       0.254022       0.238960       0.247378  \n",
       "min         0.000000       0.000000       0.000000       0.000000  \n",
       "25%         0.000000       0.000000       0.000000       0.000000  \n",
       "50%         0.000000       0.000000       0.000000       0.000000  \n",
       "75%         0.000000       0.000000       0.000000       0.000000  \n",
       "max         1.000000       1.000000       1.000000       1.000000  \n",
       "\n",
       "[8 rows x 115 columns]"
      ]
     },
     "execution_count": 38,
     "metadata": {},
     "output_type": "execute_result"
    }
   ],
   "source": [
    "X_train.describe()"
   ]
  },
  {
   "cell_type": "code",
   "execution_count": 39,
   "id": "b4b26bb9",
   "metadata": {
    "execution": {
     "iopub.execute_input": "2021-10-11T21:26:07.243730Z",
     "iopub.status.busy": "2021-10-11T21:26:07.242726Z",
     "iopub.status.idle": "2021-10-11T21:26:08.203321Z",
     "shell.execute_reply": "2021-10-11T21:26:08.203871Z",
     "shell.execute_reply.started": "2021-10-11T21:06:22.478219Z"
    },
    "papermill": {
     "duration": 1.034135,
     "end_time": "2021-10-11T21:26:08.204079",
     "exception": false,
     "start_time": "2021-10-11T21:26:07.169944",
     "status": "completed"
    },
    "tags": []
   },
   "outputs": [
    {
     "data": {
      "text/html": [
       "<div>\n",
       "<style scoped>\n",
       "    .dataframe tbody tr th:only-of-type {\n",
       "        vertical-align: middle;\n",
       "    }\n",
       "\n",
       "    .dataframe tbody tr th {\n",
       "        vertical-align: top;\n",
       "    }\n",
       "\n",
       "    .dataframe thead tr th {\n",
       "        text-align: left;\n",
       "    }\n",
       "</style>\n",
       "<table border=\"1\" class=\"dataframe\">\n",
       "  <thead>\n",
       "    <tr>\n",
       "      <th></th>\n",
       "      <th>MinTemp</th>\n",
       "      <th>MaxTemp</th>\n",
       "      <th>Rainfall</th>\n",
       "      <th>Evaporation</th>\n",
       "      <th>Sunshine</th>\n",
       "      <th>WindGustSpeed</th>\n",
       "      <th>WindSpeed9am</th>\n",
       "      <th>WindSpeed3pm</th>\n",
       "      <th>Humidity9am</th>\n",
       "      <th>Humidity3pm</th>\n",
       "      <th>...</th>\n",
       "      <th>WD3pm_NNW</th>\n",
       "      <th>WD3pm_NW</th>\n",
       "      <th>WD3pm_S</th>\n",
       "      <th>WD3pm_SE</th>\n",
       "      <th>WD3pm_SSE</th>\n",
       "      <th>WD3pm_SSW</th>\n",
       "      <th>WD3pm_SW</th>\n",
       "      <th>WD3pm_W</th>\n",
       "      <th>WD3pm_WNW</th>\n",
       "      <th>WD3pm_WSW</th>\n",
       "    </tr>\n",
       "  </thead>\n",
       "  <tbody>\n",
       "    <tr>\n",
       "      <th>count</th>\n",
       "      <td>113754.000000</td>\n",
       "      <td>113754.000000</td>\n",
       "      <td>113754.000000</td>\n",
       "      <td>113754.000000</td>\n",
       "      <td>113754.000000</td>\n",
       "      <td>113754.000000</td>\n",
       "      <td>113754.000000</td>\n",
       "      <td>113754.000000</td>\n",
       "      <td>113754.000000</td>\n",
       "      <td>113754.000000</td>\n",
       "      <td>...</td>\n",
       "      <td>113754.000000</td>\n",
       "      <td>113754.000000</td>\n",
       "      <td>113754.000000</td>\n",
       "      <td>113754.000000</td>\n",
       "      <td>113754.000000</td>\n",
       "      <td>113754.000000</td>\n",
       "      <td>113754.000000</td>\n",
       "      <td>113754.000000</td>\n",
       "      <td>113754.000000</td>\n",
       "      <td>113754.000000</td>\n",
       "    </tr>\n",
       "    <tr>\n",
       "      <th>mean</th>\n",
       "      <td>0.484406</td>\n",
       "      <td>0.530004</td>\n",
       "      <td>0.210962</td>\n",
       "      <td>0.236312</td>\n",
       "      <td>0.554562</td>\n",
       "      <td>0.262667</td>\n",
       "      <td>0.254148</td>\n",
       "      <td>0.326575</td>\n",
       "      <td>0.688675</td>\n",
       "      <td>0.515095</td>\n",
       "      <td>...</td>\n",
       "      <td>0.054530</td>\n",
       "      <td>0.060288</td>\n",
       "      <td>0.067259</td>\n",
       "      <td>0.101605</td>\n",
       "      <td>0.064059</td>\n",
       "      <td>0.056402</td>\n",
       "      <td>0.064464</td>\n",
       "      <td>0.069334</td>\n",
       "      <td>0.060798</td>\n",
       "      <td>0.065483</td>\n",
       "    </tr>\n",
       "    <tr>\n",
       "      <th>std</th>\n",
       "      <td>0.151741</td>\n",
       "      <td>0.134105</td>\n",
       "      <td>0.369949</td>\n",
       "      <td>0.129528</td>\n",
       "      <td>0.190999</td>\n",
       "      <td>0.101682</td>\n",
       "      <td>0.160119</td>\n",
       "      <td>0.152384</td>\n",
       "      <td>0.189356</td>\n",
       "      <td>0.205307</td>\n",
       "      <td>...</td>\n",
       "      <td>0.227061</td>\n",
       "      <td>0.238021</td>\n",
       "      <td>0.250471</td>\n",
       "      <td>0.302130</td>\n",
       "      <td>0.244860</td>\n",
       "      <td>0.230698</td>\n",
       "      <td>0.245578</td>\n",
       "      <td>0.254022</td>\n",
       "      <td>0.238960</td>\n",
       "      <td>0.247378</td>\n",
       "    </tr>\n",
       "    <tr>\n",
       "      <th>min</th>\n",
       "      <td>0.000000</td>\n",
       "      <td>0.000000</td>\n",
       "      <td>0.000000</td>\n",
       "      <td>0.000000</td>\n",
       "      <td>0.000000</td>\n",
       "      <td>0.000000</td>\n",
       "      <td>0.000000</td>\n",
       "      <td>0.000000</td>\n",
       "      <td>0.000000</td>\n",
       "      <td>0.000000</td>\n",
       "      <td>...</td>\n",
       "      <td>0.000000</td>\n",
       "      <td>0.000000</td>\n",
       "      <td>0.000000</td>\n",
       "      <td>0.000000</td>\n",
       "      <td>0.000000</td>\n",
       "      <td>0.000000</td>\n",
       "      <td>0.000000</td>\n",
       "      <td>0.000000</td>\n",
       "      <td>0.000000</td>\n",
       "      <td>0.000000</td>\n",
       "    </tr>\n",
       "    <tr>\n",
       "      <th>25%</th>\n",
       "      <td>0.375297</td>\n",
       "      <td>0.431002</td>\n",
       "      <td>0.000000</td>\n",
       "      <td>0.183486</td>\n",
       "      <td>0.565517</td>\n",
       "      <td>0.193798</td>\n",
       "      <td>0.127273</td>\n",
       "      <td>0.228070</td>\n",
       "      <td>0.570000</td>\n",
       "      <td>0.370000</td>\n",
       "      <td>...</td>\n",
       "      <td>0.000000</td>\n",
       "      <td>0.000000</td>\n",
       "      <td>0.000000</td>\n",
       "      <td>0.000000</td>\n",
       "      <td>0.000000</td>\n",
       "      <td>0.000000</td>\n",
       "      <td>0.000000</td>\n",
       "      <td>0.000000</td>\n",
       "      <td>0.000000</td>\n",
       "      <td>0.000000</td>\n",
       "    </tr>\n",
       "    <tr>\n",
       "      <th>50%</th>\n",
       "      <td>0.479810</td>\n",
       "      <td>0.517958</td>\n",
       "      <td>0.000000</td>\n",
       "      <td>0.220183</td>\n",
       "      <td>0.586207</td>\n",
       "      <td>0.255814</td>\n",
       "      <td>0.236364</td>\n",
       "      <td>0.333333</td>\n",
       "      <td>0.700000</td>\n",
       "      <td>0.520000</td>\n",
       "      <td>...</td>\n",
       "      <td>0.000000</td>\n",
       "      <td>0.000000</td>\n",
       "      <td>0.000000</td>\n",
       "      <td>0.000000</td>\n",
       "      <td>0.000000</td>\n",
       "      <td>0.000000</td>\n",
       "      <td>0.000000</td>\n",
       "      <td>0.000000</td>\n",
       "      <td>0.000000</td>\n",
       "      <td>0.000000</td>\n",
       "    </tr>\n",
       "    <tr>\n",
       "      <th>75%</th>\n",
       "      <td>0.593824</td>\n",
       "      <td>0.623819</td>\n",
       "      <td>0.187500</td>\n",
       "      <td>0.247706</td>\n",
       "      <td>0.600000</td>\n",
       "      <td>0.310078</td>\n",
       "      <td>0.345455</td>\n",
       "      <td>0.421053</td>\n",
       "      <td>0.830000</td>\n",
       "      <td>0.650000</td>\n",
       "      <td>...</td>\n",
       "      <td>0.000000</td>\n",
       "      <td>0.000000</td>\n",
       "      <td>0.000000</td>\n",
       "      <td>0.000000</td>\n",
       "      <td>0.000000</td>\n",
       "      <td>0.000000</td>\n",
       "      <td>0.000000</td>\n",
       "      <td>0.000000</td>\n",
       "      <td>0.000000</td>\n",
       "      <td>0.000000</td>\n",
       "    </tr>\n",
       "    <tr>\n",
       "      <th>max</th>\n",
       "      <td>1.000000</td>\n",
       "      <td>1.000000</td>\n",
       "      <td>1.000000</td>\n",
       "      <td>1.000000</td>\n",
       "      <td>1.000000</td>\n",
       "      <td>1.000000</td>\n",
       "      <td>1.000000</td>\n",
       "      <td>1.000000</td>\n",
       "      <td>1.000000</td>\n",
       "      <td>1.000000</td>\n",
       "      <td>...</td>\n",
       "      <td>1.000000</td>\n",
       "      <td>1.000000</td>\n",
       "      <td>1.000000</td>\n",
       "      <td>1.000000</td>\n",
       "      <td>1.000000</td>\n",
       "      <td>1.000000</td>\n",
       "      <td>1.000000</td>\n",
       "      <td>1.000000</td>\n",
       "      <td>1.000000</td>\n",
       "      <td>1.000000</td>\n",
       "    </tr>\n",
       "  </tbody>\n",
       "</table>\n",
       "<p>8 rows × 115 columns</p>\n",
       "</div>"
      ],
      "text/plain": [
       "             MinTemp        MaxTemp       Rainfall    Evaporation  \\\n",
       "count  113754.000000  113754.000000  113754.000000  113754.000000   \n",
       "mean        0.484406       0.530004       0.210962       0.236312   \n",
       "std         0.151741       0.134105       0.369949       0.129528   \n",
       "min         0.000000       0.000000       0.000000       0.000000   \n",
       "25%         0.375297       0.431002       0.000000       0.183486   \n",
       "50%         0.479810       0.517958       0.000000       0.220183   \n",
       "75%         0.593824       0.623819       0.187500       0.247706   \n",
       "max         1.000000       1.000000       1.000000       1.000000   \n",
       "\n",
       "            Sunshine  WindGustSpeed   WindSpeed9am   WindSpeed3pm  \\\n",
       "count  113754.000000  113754.000000  113754.000000  113754.000000   \n",
       "mean        0.554562       0.262667       0.254148       0.326575   \n",
       "std         0.190999       0.101682       0.160119       0.152384   \n",
       "min         0.000000       0.000000       0.000000       0.000000   \n",
       "25%         0.565517       0.193798       0.127273       0.228070   \n",
       "50%         0.586207       0.255814       0.236364       0.333333   \n",
       "75%         0.600000       0.310078       0.345455       0.421053   \n",
       "max         1.000000       1.000000       1.000000       1.000000   \n",
       "\n",
       "         Humidity9am    Humidity3pm  ...      WD3pm_NNW       WD3pm_NW  \\\n",
       "count  113754.000000  113754.000000  ...  113754.000000  113754.000000   \n",
       "mean        0.688675       0.515095  ...       0.054530       0.060288   \n",
       "std         0.189356       0.205307  ...       0.227061       0.238021   \n",
       "min         0.000000       0.000000  ...       0.000000       0.000000   \n",
       "25%         0.570000       0.370000  ...       0.000000       0.000000   \n",
       "50%         0.700000       0.520000  ...       0.000000       0.000000   \n",
       "75%         0.830000       0.650000  ...       0.000000       0.000000   \n",
       "max         1.000000       1.000000  ...       1.000000       1.000000   \n",
       "\n",
       "             WD3pm_S       WD3pm_SE      WD3pm_SSE      WD3pm_SSW  \\\n",
       "count  113754.000000  113754.000000  113754.000000  113754.000000   \n",
       "mean        0.067259       0.101605       0.064059       0.056402   \n",
       "std         0.250471       0.302130       0.244860       0.230698   \n",
       "min         0.000000       0.000000       0.000000       0.000000   \n",
       "25%         0.000000       0.000000       0.000000       0.000000   \n",
       "50%         0.000000       0.000000       0.000000       0.000000   \n",
       "75%         0.000000       0.000000       0.000000       0.000000   \n",
       "max         1.000000       1.000000       1.000000       1.000000   \n",
       "\n",
       "            WD3pm_SW        WD3pm_W      WD3pm_WNW      WD3pm_WSW  \n",
       "count  113754.000000  113754.000000  113754.000000  113754.000000  \n",
       "mean        0.064464       0.069334       0.060798       0.065483  \n",
       "std         0.245578       0.254022       0.238960       0.247378  \n",
       "min         0.000000       0.000000       0.000000       0.000000  \n",
       "25%         0.000000       0.000000       0.000000       0.000000  \n",
       "50%         0.000000       0.000000       0.000000       0.000000  \n",
       "75%         0.000000       0.000000       0.000000       0.000000  \n",
       "max         1.000000       1.000000       1.000000       1.000000  \n",
       "\n",
       "[8 rows x 115 columns]"
      ]
     },
     "execution_count": 39,
     "metadata": {},
     "output_type": "execute_result"
    }
   ],
   "source": [
    "# Scaling using MinMax Scaler\n",
    "from sklearn.preprocessing import MinMaxScaler\n",
    "\n",
    "cols = list(X_train.columns)\n",
    "\n",
    "scaler = MinMaxScaler()\n",
    "X_train = scaler.fit_transform(X_train)\n",
    "X_train = pd.DataFrame(X_train, columns=[cols])\n",
    "\n",
    "X_test = scaler.transform(X_test)\n",
    "X_test = pd.DataFrame(X_test, columns=[cols])\n",
    "\n",
    "X_train.describe()"
   ]
  },
  {
   "cell_type": "code",
   "execution_count": 40,
   "id": "cfb1201f",
   "metadata": {
    "execution": {
     "iopub.execute_input": "2021-10-11T21:26:08.347064Z",
     "iopub.status.busy": "2021-10-11T21:26:08.346122Z",
     "iopub.status.idle": "2021-10-11T21:26:08.999595Z",
     "shell.execute_reply": "2021-10-11T21:26:09.000143Z",
     "shell.execute_reply.started": "2021-10-11T21:06:23.360268Z"
    },
    "papermill": {
     "duration": 0.726841,
     "end_time": "2021-10-11T21:26:09.000343",
     "exception": false,
     "start_time": "2021-10-11T21:26:08.273502",
     "status": "completed"
    },
    "tags": []
   },
   "outputs": [
    {
     "data": {
      "text/html": [
       "<div>\n",
       "<style scoped>\n",
       "    .dataframe tbody tr th:only-of-type {\n",
       "        vertical-align: middle;\n",
       "    }\n",
       "\n",
       "    .dataframe tbody tr th {\n",
       "        vertical-align: top;\n",
       "    }\n",
       "\n",
       "    .dataframe thead tr th {\n",
       "        text-align: left;\n",
       "    }\n",
       "</style>\n",
       "<table border=\"1\" class=\"dataframe\">\n",
       "  <thead>\n",
       "    <tr>\n",
       "      <th></th>\n",
       "      <th>MinTemp</th>\n",
       "      <th>MaxTemp</th>\n",
       "      <th>Rainfall</th>\n",
       "      <th>Evaporation</th>\n",
       "      <th>Sunshine</th>\n",
       "      <th>WindGustSpeed</th>\n",
       "      <th>WindSpeed9am</th>\n",
       "      <th>WindSpeed3pm</th>\n",
       "      <th>Humidity9am</th>\n",
       "      <th>Humidity3pm</th>\n",
       "      <th>...</th>\n",
       "      <th>WD3pm_NNW</th>\n",
       "      <th>WD3pm_NW</th>\n",
       "      <th>WD3pm_S</th>\n",
       "      <th>WD3pm_SE</th>\n",
       "      <th>WD3pm_SSE</th>\n",
       "      <th>WD3pm_SSW</th>\n",
       "      <th>WD3pm_SW</th>\n",
       "      <th>WD3pm_W</th>\n",
       "      <th>WD3pm_WNW</th>\n",
       "      <th>WD3pm_WSW</th>\n",
       "    </tr>\n",
       "  </thead>\n",
       "  <tbody>\n",
       "    <tr>\n",
       "      <th>count</th>\n",
       "      <td>113754.000000</td>\n",
       "      <td>113754.000000</td>\n",
       "      <td>113754.000000</td>\n",
       "      <td>113754.000000</td>\n",
       "      <td>113754.000000</td>\n",
       "      <td>113754.000000</td>\n",
       "      <td>113754.000000</td>\n",
       "      <td>113754.000000</td>\n",
       "      <td>113754.000000</td>\n",
       "      <td>113754.000000</td>\n",
       "      <td>...</td>\n",
       "      <td>113754.000000</td>\n",
       "      <td>113754.000000</td>\n",
       "      <td>113754.000000</td>\n",
       "      <td>113754.000000</td>\n",
       "      <td>113754.000000</td>\n",
       "      <td>113754.000000</td>\n",
       "      <td>113754.000000</td>\n",
       "      <td>113754.000000</td>\n",
       "      <td>113754.000000</td>\n",
       "      <td>113754.000000</td>\n",
       "    </tr>\n",
       "    <tr>\n",
       "      <th>mean</th>\n",
       "      <td>0.484406</td>\n",
       "      <td>0.530004</td>\n",
       "      <td>0.210962</td>\n",
       "      <td>0.236312</td>\n",
       "      <td>0.554562</td>\n",
       "      <td>0.262667</td>\n",
       "      <td>0.254148</td>\n",
       "      <td>0.326575</td>\n",
       "      <td>0.688675</td>\n",
       "      <td>0.515095</td>\n",
       "      <td>...</td>\n",
       "      <td>0.054530</td>\n",
       "      <td>0.060288</td>\n",
       "      <td>0.067259</td>\n",
       "      <td>0.101605</td>\n",
       "      <td>0.064059</td>\n",
       "      <td>0.056402</td>\n",
       "      <td>0.064464</td>\n",
       "      <td>0.069334</td>\n",
       "      <td>0.060798</td>\n",
       "      <td>0.065483</td>\n",
       "    </tr>\n",
       "    <tr>\n",
       "      <th>std</th>\n",
       "      <td>0.151741</td>\n",
       "      <td>0.134105</td>\n",
       "      <td>0.369949</td>\n",
       "      <td>0.129528</td>\n",
       "      <td>0.190999</td>\n",
       "      <td>0.101682</td>\n",
       "      <td>0.160119</td>\n",
       "      <td>0.152384</td>\n",
       "      <td>0.189356</td>\n",
       "      <td>0.205307</td>\n",
       "      <td>...</td>\n",
       "      <td>0.227061</td>\n",
       "      <td>0.238021</td>\n",
       "      <td>0.250471</td>\n",
       "      <td>0.302130</td>\n",
       "      <td>0.244860</td>\n",
       "      <td>0.230698</td>\n",
       "      <td>0.245578</td>\n",
       "      <td>0.254022</td>\n",
       "      <td>0.238960</td>\n",
       "      <td>0.247378</td>\n",
       "    </tr>\n",
       "    <tr>\n",
       "      <th>min</th>\n",
       "      <td>0.000000</td>\n",
       "      <td>0.000000</td>\n",
       "      <td>0.000000</td>\n",
       "      <td>0.000000</td>\n",
       "      <td>0.000000</td>\n",
       "      <td>0.000000</td>\n",
       "      <td>0.000000</td>\n",
       "      <td>0.000000</td>\n",
       "      <td>0.000000</td>\n",
       "      <td>0.000000</td>\n",
       "      <td>...</td>\n",
       "      <td>0.000000</td>\n",
       "      <td>0.000000</td>\n",
       "      <td>0.000000</td>\n",
       "      <td>0.000000</td>\n",
       "      <td>0.000000</td>\n",
       "      <td>0.000000</td>\n",
       "      <td>0.000000</td>\n",
       "      <td>0.000000</td>\n",
       "      <td>0.000000</td>\n",
       "      <td>0.000000</td>\n",
       "    </tr>\n",
       "    <tr>\n",
       "      <th>25%</th>\n",
       "      <td>0.375297</td>\n",
       "      <td>0.431002</td>\n",
       "      <td>0.000000</td>\n",
       "      <td>0.183486</td>\n",
       "      <td>0.565517</td>\n",
       "      <td>0.193798</td>\n",
       "      <td>0.127273</td>\n",
       "      <td>0.228070</td>\n",
       "      <td>0.570000</td>\n",
       "      <td>0.370000</td>\n",
       "      <td>...</td>\n",
       "      <td>0.000000</td>\n",
       "      <td>0.000000</td>\n",
       "      <td>0.000000</td>\n",
       "      <td>0.000000</td>\n",
       "      <td>0.000000</td>\n",
       "      <td>0.000000</td>\n",
       "      <td>0.000000</td>\n",
       "      <td>0.000000</td>\n",
       "      <td>0.000000</td>\n",
       "      <td>0.000000</td>\n",
       "    </tr>\n",
       "    <tr>\n",
       "      <th>50%</th>\n",
       "      <td>0.479810</td>\n",
       "      <td>0.517958</td>\n",
       "      <td>0.000000</td>\n",
       "      <td>0.220183</td>\n",
       "      <td>0.586207</td>\n",
       "      <td>0.255814</td>\n",
       "      <td>0.236364</td>\n",
       "      <td>0.333333</td>\n",
       "      <td>0.700000</td>\n",
       "      <td>0.520000</td>\n",
       "      <td>...</td>\n",
       "      <td>0.000000</td>\n",
       "      <td>0.000000</td>\n",
       "      <td>0.000000</td>\n",
       "      <td>0.000000</td>\n",
       "      <td>0.000000</td>\n",
       "      <td>0.000000</td>\n",
       "      <td>0.000000</td>\n",
       "      <td>0.000000</td>\n",
       "      <td>0.000000</td>\n",
       "      <td>0.000000</td>\n",
       "    </tr>\n",
       "    <tr>\n",
       "      <th>75%</th>\n",
       "      <td>0.593824</td>\n",
       "      <td>0.623819</td>\n",
       "      <td>0.187500</td>\n",
       "      <td>0.247706</td>\n",
       "      <td>0.600000</td>\n",
       "      <td>0.310078</td>\n",
       "      <td>0.345455</td>\n",
       "      <td>0.421053</td>\n",
       "      <td>0.830000</td>\n",
       "      <td>0.650000</td>\n",
       "      <td>...</td>\n",
       "      <td>0.000000</td>\n",
       "      <td>0.000000</td>\n",
       "      <td>0.000000</td>\n",
       "      <td>0.000000</td>\n",
       "      <td>0.000000</td>\n",
       "      <td>0.000000</td>\n",
       "      <td>0.000000</td>\n",
       "      <td>0.000000</td>\n",
       "      <td>0.000000</td>\n",
       "      <td>0.000000</td>\n",
       "    </tr>\n",
       "    <tr>\n",
       "      <th>max</th>\n",
       "      <td>1.000000</td>\n",
       "      <td>1.000000</td>\n",
       "      <td>1.000000</td>\n",
       "      <td>1.000000</td>\n",
       "      <td>1.000000</td>\n",
       "      <td>1.000000</td>\n",
       "      <td>1.000000</td>\n",
       "      <td>1.000000</td>\n",
       "      <td>1.000000</td>\n",
       "      <td>1.000000</td>\n",
       "      <td>...</td>\n",
       "      <td>1.000000</td>\n",
       "      <td>1.000000</td>\n",
       "      <td>1.000000</td>\n",
       "      <td>1.000000</td>\n",
       "      <td>1.000000</td>\n",
       "      <td>1.000000</td>\n",
       "      <td>1.000000</td>\n",
       "      <td>1.000000</td>\n",
       "      <td>1.000000</td>\n",
       "      <td>1.000000</td>\n",
       "    </tr>\n",
       "  </tbody>\n",
       "</table>\n",
       "<p>8 rows × 115 columns</p>\n",
       "</div>"
      ],
      "text/plain": [
       "             MinTemp        MaxTemp       Rainfall    Evaporation  \\\n",
       "count  113754.000000  113754.000000  113754.000000  113754.000000   \n",
       "mean        0.484406       0.530004       0.210962       0.236312   \n",
       "std         0.151741       0.134105       0.369949       0.129528   \n",
       "min         0.000000       0.000000       0.000000       0.000000   \n",
       "25%         0.375297       0.431002       0.000000       0.183486   \n",
       "50%         0.479810       0.517958       0.000000       0.220183   \n",
       "75%         0.593824       0.623819       0.187500       0.247706   \n",
       "max         1.000000       1.000000       1.000000       1.000000   \n",
       "\n",
       "            Sunshine  WindGustSpeed   WindSpeed9am   WindSpeed3pm  \\\n",
       "count  113754.000000  113754.000000  113754.000000  113754.000000   \n",
       "mean        0.554562       0.262667       0.254148       0.326575   \n",
       "std         0.190999       0.101682       0.160119       0.152384   \n",
       "min         0.000000       0.000000       0.000000       0.000000   \n",
       "25%         0.565517       0.193798       0.127273       0.228070   \n",
       "50%         0.586207       0.255814       0.236364       0.333333   \n",
       "75%         0.600000       0.310078       0.345455       0.421053   \n",
       "max         1.000000       1.000000       1.000000       1.000000   \n",
       "\n",
       "         Humidity9am    Humidity3pm  ...      WD3pm_NNW       WD3pm_NW  \\\n",
       "count  113754.000000  113754.000000  ...  113754.000000  113754.000000   \n",
       "mean        0.688675       0.515095  ...       0.054530       0.060288   \n",
       "std         0.189356       0.205307  ...       0.227061       0.238021   \n",
       "min         0.000000       0.000000  ...       0.000000       0.000000   \n",
       "25%         0.570000       0.370000  ...       0.000000       0.000000   \n",
       "50%         0.700000       0.520000  ...       0.000000       0.000000   \n",
       "75%         0.830000       0.650000  ...       0.000000       0.000000   \n",
       "max         1.000000       1.000000  ...       1.000000       1.000000   \n",
       "\n",
       "             WD3pm_S       WD3pm_SE      WD3pm_SSE      WD3pm_SSW  \\\n",
       "count  113754.000000  113754.000000  113754.000000  113754.000000   \n",
       "mean        0.067259       0.101605       0.064059       0.056402   \n",
       "std         0.250471       0.302130       0.244860       0.230698   \n",
       "min         0.000000       0.000000       0.000000       0.000000   \n",
       "25%         0.000000       0.000000       0.000000       0.000000   \n",
       "50%         0.000000       0.000000       0.000000       0.000000   \n",
       "75%         0.000000       0.000000       0.000000       0.000000   \n",
       "max         1.000000       1.000000       1.000000       1.000000   \n",
       "\n",
       "            WD3pm_SW        WD3pm_W      WD3pm_WNW      WD3pm_WSW  \n",
       "count  113754.000000  113754.000000  113754.000000  113754.000000  \n",
       "mean        0.064464       0.069334       0.060798       0.065483  \n",
       "std         0.245578       0.254022       0.238960       0.247378  \n",
       "min         0.000000       0.000000       0.000000       0.000000  \n",
       "25%         0.000000       0.000000       0.000000       0.000000  \n",
       "50%         0.000000       0.000000       0.000000       0.000000  \n",
       "75%         0.000000       0.000000       0.000000       0.000000  \n",
       "max         1.000000       1.000000       1.000000       1.000000  \n",
       "\n",
       "[8 rows x 115 columns]"
      ]
     },
     "execution_count": 40,
     "metadata": {},
     "output_type": "execute_result"
    }
   ],
   "source": [
    "X_train.describe()"
   ]
  },
  {
   "cell_type": "markdown",
   "id": "e371babd",
   "metadata": {
    "papermill": {
     "duration": 0.069366,
     "end_time": "2021-10-11T21:26:09.140270",
     "exception": false,
     "start_time": "2021-10-11T21:26:09.070904",
     "status": "completed"
    },
    "tags": []
   },
   "source": [
    "# **16. Model Training and Results** <a class=\"anchor\" id=\"7\"></a>\n",
    "\n",
    "[Table of Contents](#0.1)"
   ]
  },
  {
   "cell_type": "code",
   "execution_count": 41,
   "id": "1234c6d2",
   "metadata": {
    "execution": {
     "iopub.execute_input": "2021-10-11T21:26:09.287071Z",
     "iopub.status.busy": "2021-10-11T21:26:09.286212Z",
     "iopub.status.idle": "2021-10-11T21:26:12.656492Z",
     "shell.execute_reply": "2021-10-11T21:26:12.655588Z",
     "shell.execute_reply.started": "2021-10-11T21:06:24.030463Z"
    },
    "papermill": {
     "duration": 3.446499,
     "end_time": "2021-10-11T21:26:12.656709",
     "exception": false,
     "start_time": "2021-10-11T21:26:09.210210",
     "status": "completed"
    },
    "tags": []
   },
   "outputs": [
    {
     "name": "stdout",
     "output_type": "stream",
     "text": [
      "Model accuracy score: 84.99%\n"
     ]
    }
   ],
   "source": [
    "from sklearn.linear_model import LogisticRegression\n",
    "from sklearn.metrics import accuracy_score\n",
    "\n",
    "# Initiatlize the model\n",
    "logreg = LogisticRegression(solver='liblinear', random_state = 0)\n",
    "\n",
    "# Fit the model\n",
    "logreg.fit(X_train, y_train)\n",
    "\n",
    "# Predict data points \n",
    "y_pred_test = logreg.predict(X_test)\n",
    "\n",
    "# Print accuracy scores\n",
    "print(f'Model accuracy score: {round(accuracy_score(y_test, y_pred_test) * 100, 2)}%')\n"
   ]
  },
  {
   "cell_type": "markdown",
   "id": "88585e76",
   "metadata": {
    "papermill": {
     "duration": 0.069871,
     "end_time": "2021-10-11T21:26:12.799278",
     "exception": false,
     "start_time": "2021-10-11T21:26:12.729407",
     "status": "completed"
    },
    "tags": []
   },
   "source": [
    "This model accuracy is quite high, although we cannot make any inferences from this yet. For example, this might be a high score because our model is overfitting. We should not only test for overfitting, but also compare this to the null accuracy (when the model predicts the most frequent class)"
   ]
  },
  {
   "cell_type": "code",
   "execution_count": 42,
   "id": "a65f86f0",
   "metadata": {
    "execution": {
     "iopub.execute_input": "2021-10-11T21:26:12.951721Z",
     "iopub.status.busy": "2021-10-11T21:26:12.950300Z",
     "iopub.status.idle": "2021-10-11T21:26:13.837373Z",
     "shell.execute_reply": "2021-10-11T21:26:13.837904Z",
     "shell.execute_reply.started": "2021-10-11T21:07:27.681004Z"
    },
    "papermill": {
     "duration": 0.966538,
     "end_time": "2021-10-11T21:26:13.838119",
     "exception": false,
     "start_time": "2021-10-11T21:26:12.871581",
     "status": "completed"
    },
    "tags": []
   },
   "outputs": [
    {
     "name": "stdout",
     "output_type": "stream",
     "text": [
      "Training set score: 84.73%\n",
      "Test set score: 84.99%\n",
      "Null Accuracy score: 77.59%\n"
     ]
    }
   ],
   "source": [
    "# Additional Metrics\n",
    "\n",
    "print(f'Training set score: {round(logreg.score(X_train, y_train) * 100, 2)}%')\n",
    "print(f'Test set score: {round(logreg.score(X_test, y_test) * 100, 2)}%')\n",
    "\n",
    "# Calculating null accuracy\n",
    "null_accuracy = (y_test.value_counts()[0]/(y_test.value_counts()[0]+y_test.value_counts()[1]))\n",
    "print(f'Null Accuracy score: {round(null_accuracy * 100, 2)}%')"
   ]
  },
  {
   "cell_type": "markdown",
   "id": "21dc8e06",
   "metadata": {
    "papermill": {
     "duration": 0.070041,
     "end_time": "2021-10-11T21:26:13.980490",
     "exception": false,
     "start_time": "2021-10-11T21:26:13.910449",
     "status": "completed"
    },
    "tags": []
   },
   "source": [
    "The null accuracy is significantly lower than that of our model, which is a great sign - it means that our model is better than if we predicted the most popular class every time. In other words, our model is better than nothing!\n",
    "\n",
    "The training and test set are quite comparable, which means that there are little signs of overfitting. I may want to consider increasing the value of $C$ for a more flexible model."
   ]
  },
  {
   "cell_type": "code",
   "execution_count": 43,
   "id": "5398823e",
   "metadata": {
    "execution": {
     "iopub.execute_input": "2021-10-11T21:26:14.128560Z",
     "iopub.status.busy": "2021-10-11T21:26:14.127520Z",
     "iopub.status.idle": "2021-10-11T21:26:18.727731Z",
     "shell.execute_reply": "2021-10-11T21:26:18.728243Z",
     "shell.execute_reply.started": "2021-10-11T21:09:31.621825Z"
    },
    "papermill": {
     "duration": 4.676435,
     "end_time": "2021-10-11T21:26:18.728444",
     "exception": false,
     "start_time": "2021-10-11T21:26:14.052009",
     "status": "completed"
    },
    "tags": []
   },
   "outputs": [
    {
     "name": "stdout",
     "output_type": "stream",
     "text": [
      "Training set score: 84.75%\n",
      "Test set score: 85.01%\n"
     ]
    }
   ],
   "source": [
    "# Initiatlize the model with C=100\n",
    "logreg_c100 = LogisticRegression(C=100, solver='liblinear', random_state = 0)\n",
    "\n",
    "# Fit the model\n",
    "logreg_c100.fit(X_train, y_train)\n",
    "\n",
    "print(f'Training set score: {round(logreg_c100.score(X_train, y_train) * 100, 2)}%')\n",
    "print(f'Test set score: {round(logreg_c100.score(X_test, y_test) * 100, 2)}%')"
   ]
  },
  {
   "cell_type": "markdown",
   "id": "03f7af1d",
   "metadata": {
    "papermill": {
     "duration": 0.07193,
     "end_time": "2021-10-11T21:26:18.872109",
     "exception": false,
     "start_time": "2021-10-11T21:26:18.800179",
     "status": "completed"
    },
    "tags": []
   },
   "source": [
    "Increasing $C$ doesn't seem to have a large impact. I recognize that employing a hyperparamter optimization technique here will help me find an ideal $C$ value."
   ]
  },
  {
   "cell_type": "markdown",
   "id": "eecc93e4",
   "metadata": {},
   "source": [
    "# **17. Confusion matrix** <a class=\"anchor\" id=\"15\"></a>\n",
    "\n",
    "\n",
    "[Table of Contents](#0.1)\n",
    "\n",
    "\n",
    "A confusion matrix is a tool for summarizing the performance of a classification algorithm. A confusion matrix will give us a clear picture of classification model performance and the types of errors produced by the model. It gives us a summary of correct and incorrect predictions broken down by each category. The summary is represented in a tabular form.\n",
    "\n",
    "\n",
    "Four types of outcomes are possible while evaluating a classification model performance. These four outcomes are described below:-\n",
    "\n",
    "\n",
    "**True Positives (TP)** – True Positives occur when we predict an observation belongs to a certain class and the observation actually belongs to that class.\n",
    "\n",
    "\n",
    "**True Negatives (TN)** – True Negatives occur when we predict an observation does not belong to a certain class and the observation actually does not belong to that class.\n",
    "\n",
    "\n",
    "**False Positives (FP)** – False Positives occur when we predict an observation belongs to a    certain class but the observation actually does not belong to that class. This type of error is called **Type I error.**\n",
    "\n",
    "\n",
    "\n",
    "**False Negatives (FN)** – False Negatives occur when we predict an observation does not belong to a certain class but the observation actually belongs to that class. This is a very serious error and it is called **Type II error.**\n",
    "\n",
    "\n",
    "\n",
    "These four outcomes are summarized in a confusion matrix given below.\n"
   ]
  },
  {
   "cell_type": "code",
   "execution_count": 44,
   "id": "a1731136",
   "metadata": {},
   "outputs": [
    {
     "name": "stdout",
     "output_type": "stream",
     "text": [
      "Confusion matrix\n",
      "\n",
      " [[20905  1162]\n",
      " [ 3106  3266]]\n",
      "\n",
      "True Positives(TP) =  20905\n",
      "\n",
      "True Negatives(TN) =  3266\n",
      "\n",
      "False Positives(FP) =  1162\n",
      "\n",
      "False Negatives(FN) =  3106\n"
     ]
    }
   ],
   "source": [
    "from sklearn.metrics import confusion_matrix\n",
    "\n",
    "cm = confusion_matrix(y_test, y_pred_test)\n",
    "\n",
    "print('Confusion matrix\\n\\n', cm)\n",
    "\n",
    "print('\\nTrue Positives(TP) = ', cm[0,0])\n",
    "print('\\nTrue Negatives(TN) = ', cm[1,1])\n",
    "print('\\nFalse Positives(FP) = ', cm[0,1])\n",
    "print('\\nFalse Negatives(FN) = ', cm[1,0])"
   ]
  },
  {
   "cell_type": "markdown",
   "id": "673cfab4",
   "metadata": {},
   "source": [
    "The confusion matrix shows `20905 + 3266 = 24171 correct predictions` and `3106 + 1162 = 4268 incorrect predictions`.\n",
    "\n",
    "\n",
    "In this case, we have\n",
    "\n",
    "\n",
    "- `True Positives` (Actual Positive:1 and Predict Positive:1) - 20905\n",
    "\n",
    "\n",
    "- `True Negatives` (Actual Negative:0 and Predict Negative:0) - 3266\n",
    "\n",
    "\n",
    "- `False Positives` (Actual Negative:0 but Predict Positive:1) - 1162 `(Type I error)`\n",
    "\n",
    "\n",
    "- `False Negatives` (Actual Positive:1 but Predict Negative:0) - 3106 `(Type II error)`"
   ]
  },
  {
   "cell_type": "code",
   "execution_count": 45,
   "id": "1682fad2",
   "metadata": {},
   "outputs": [
    {
     "data": {
      "text/plain": [
       "<matplotlib.axes._subplots.AxesSubplot at 0x7fa6a0f16c10>"
      ]
     },
     "execution_count": 45,
     "metadata": {},
     "output_type": "execute_result"
    },
    {
     "data": {
      "image/png": "[encoded data removed]",
      "text/plain": [
       "<Figure size 432x288 with 2 Axes>"
      ]
     },
     "metadata": {
      "needs_background": "light"
     },
     "output_type": "display_data"
    }
   ],
   "source": [
    "# visualize confusion matrix with seaborn heatmap\n",
    "\n",
    "cm_matrix = pd.DataFrame(data=cm, columns=['Actual Positive:1', 'Actual Negative:0'], \n",
    "                                 index=['Predict Positive:1', 'Predict Negative:0'])\n",
    "\n",
    "sns.heatmap(cm_matrix, annot=True, fmt='d', cmap='YlGnBu')"
   ]
  },
  {
   "cell_type": "markdown",
   "id": "b96c4559",
   "metadata": {},
   "source": [
    "# **18. Classification metrices** <a class=\"anchor\" id=\"16\"></a>\n",
    "\n",
    "\n",
    "[Table of Contents](#0.1)"
   ]
  },
  {
   "cell_type": "markdown",
   "id": "7656fa7d",
   "metadata": {},
   "source": [
    "## Classification Report\n",
    "\n",
    "\n",
    "**Classification report** is another way to evaluate the classification model performance. It displays the  **precision**, **recall**, **f1** and **support** scores for the model. I have described these terms in later.\n",
    "\n",
    "We can print a classification report as follows:-"
   ]
  },
  {
   "cell_type": "code",
   "execution_count": 46,
   "id": "fb0d72fd",
   "metadata": {},
   "outputs": [
    {
     "name": "stdout",
     "output_type": "stream",
     "text": [
      "              precision    recall  f1-score   support\n",
      "\n",
      "          No       0.87      0.95      0.91     22067\n",
      "         Yes       0.74      0.51      0.60      6372\n",
      "\n",
      "    accuracy                           0.85     28439\n",
      "   macro avg       0.80      0.73      0.76     28439\n",
      "weighted avg       0.84      0.85      0.84     28439\n",
      "\n"
     ]
    }
   ],
   "source": [
    "from sklearn.metrics import classification_report\n",
    "\n",
    "print(classification_report(y_test, y_pred_test))"
   ]
  },
  {
   "cell_type": "markdown",
   "id": "dae5fd27",
   "metadata": {},
   "source": [
    "The classification report provides a great summary of our model. The precision is the proportion of correctly predicted positive outcomes; the Recall is the proportion of correctly predicted actual positives; F1 score is the harmonic mean of precision and r ecall. Because we're only using one model, the F1 score is quite irrelevant in this case. \n",
    "\n",
    "Overall, I'm quite happy with the results. The model has a model accuracy score of 85%, which means that it is an adequate model in predicting the raining status of given locations in Australia. Luckily, it seems that the model is predicting 'no rain tomorrow' more than 'rain tomorrow'. \n",
    "\n",
    "The model does not show any signs of overfitting, which is also a great sign. I would recommend the following next steps for the model that can potentially improve its performance:\n",
    "\n",
    "* k-fold Cross Validation\n",
    "* Hyperparameter Optimization \n",
    "* Consider adjusting the threshold level. "
   ]
  },
  {
   "cell_type": "markdown",
   "id": "4a036cde",
   "metadata": {},
   "source": [
    "## Classification accuracy"
   ]
  },
  {
   "cell_type": "code",
   "execution_count": 47,
   "id": "8dbba44f",
   "metadata": {
    "execution": {
     "iopub.execute_input": "2021-10-11T21:26:19.018941Z",
     "iopub.status.busy": "2021-10-11T21:26:19.018177Z",
     "iopub.status.idle": "2021-10-11T21:26:21.314116Z",
     "shell.execute_reply": "2021-10-11T21:26:21.313509Z",
     "shell.execute_reply.started": "2021-10-11T21:06:27.573779Z"
    },
    "papermill": {
     "duration": 2.370248,
     "end_time": "2021-10-11T21:26:21.314281",
     "exception": false,
     "start_time": "2021-10-11T21:26:18.944033",
     "status": "completed"
    },
    "tags": []
   },
   "outputs": [],
   "source": [
    "TP = cm[0,0]\n",
    "TN = cm[1,1]\n",
    "FP = cm[0,1]\n",
    "FN = cm[1,0]"
   ]
  },
  {
   "cell_type": "code",
   "execution_count": 48,
   "id": "118064f6",
   "metadata": {},
   "outputs": [
    {
     "name": "stdout",
     "output_type": "stream",
     "text": [
      "Classification accuracy : 0.8499\n"
     ]
    }
   ],
   "source": [
    "# print classification accuracy\n",
    "\n",
    "classification_accuracy = (TP + TN) / float(TP + TN + FP + FN)\n",
    "\n",
    "print('Classification accuracy : {0:0.4f}'.format(classification_accuracy))\n"
   ]
  },
  {
   "cell_type": "markdown",
   "id": "8f5852c3",
   "metadata": {},
   "source": [
    "## Classification error"
   ]
  },
  {
   "cell_type": "code",
   "execution_count": 49,
   "id": "e829db44",
   "metadata": {},
   "outputs": [
    {
     "name": "stdout",
     "output_type": "stream",
     "text": [
      "Classification error : 0.1501\n"
     ]
    }
   ],
   "source": [
    "# print classification error\n",
    "\n",
    "classification_error = (FP + FN) / float(TP + TN + FP + FN)\n",
    "print('Classification error : {0:0.4f}'.format(classification_error))"
   ]
  },
  {
   "cell_type": "markdown",
   "id": "10230349",
   "metadata": {},
   "source": [
    "## Precision\n",
    "\n",
    "\n",
    "**Precision** can be defined as the percentage of correctly predicted positive outcomes out of all the predicted positive outcomes. It can be given as the ratio of true positives (TP) to the sum of true and false positives (TP + FP). \n",
    "\n",
    "\n",
    "So, **Precision** identifies the proportion of correctly predicted positive outcome. It is more concerned with the positive class than the negative class.\n",
    "\n",
    "\n",
    "\n",
    "Mathematically, precision can be defined as the ratio of `TP to (TP + FP).`\n",
    "\n",
    "\n"
   ]
  },
  {
   "cell_type": "code",
   "execution_count": 50,
   "id": "e970903f",
   "metadata": {},
   "outputs": [
    {
     "name": "stdout",
     "output_type": "stream",
     "text": [
      "Precision : 0.9473\n"
     ]
    }
   ],
   "source": [
    "# print precision score\n",
    "\n",
    "precision = TP / float(TP + FP)\n",
    "print('Precision : {0:0.4f}'.format(precision))"
   ]
  },
  {
   "cell_type": "markdown",
   "id": "78f055d4",
   "metadata": {},
   "source": [
    "## Recall\n",
    "\n",
    "\n",
    "Recall can be defined as the percentage of correctly predicted positive outcomes out of all the actual positive outcomes.\n",
    "It can be given as the ratio of true positives (TP) to the sum of true positives and false negatives (TP + FN). **Recall** is also called **Sensitivity**.\n",
    "\n",
    "\n",
    "**Recall** identifies the proportion of correctly predicted actual positives.\n",
    "\n",
    "\n",
    "Mathematically, recall can be given as the ratio of `TP to (TP + FN).`\n",
    "\n"
   ]
  },
  {
   "cell_type": "code",
   "execution_count": 51,
   "id": "cd8ee698",
   "metadata": {},
   "outputs": [
    {
     "name": "stdout",
     "output_type": "stream",
     "text": [
      "Recall or Sensitivity : 0.8706\n"
     ]
    }
   ],
   "source": [
    "# Print Recall \n",
    "\n",
    "recall = TP / float(TP + FN)\n",
    "print('Recall or Sensitivity : {0:0.4f}'.format(recall))"
   ]
  },
  {
   "cell_type": "markdown",
   "id": "6869e1c0",
   "metadata": {},
   "source": [
    "## True Positive Rate\n",
    "\n",
    "\n",
    "**True Positive Rate** is synonymous with **Recall**.\n"
   ]
  },
  {
   "cell_type": "code",
   "execution_count": 52,
   "id": "fc42c3f0",
   "metadata": {},
   "outputs": [
    {
     "name": "stdout",
     "output_type": "stream",
     "text": [
      "True Positive Rate : 0.8706\n"
     ]
    }
   ],
   "source": [
    "true_positive_rate = TP / float(TP + FN)\n",
    "print('True Positive Rate : {0:0.4f}'.format(true_positive_rate))"
   ]
  },
  {
   "cell_type": "markdown",
   "id": "e4011bc0",
   "metadata": {},
   "source": [
    "## False Positive Rate"
   ]
  },
  {
   "cell_type": "code",
   "execution_count": 53,
   "id": "68946d82",
   "metadata": {},
   "outputs": [
    {
     "name": "stdout",
     "output_type": "stream",
     "text": [
      "False Positive Rate : 0.2624\n"
     ]
    }
   ],
   "source": [
    "false_positive_rate = FP / float(FP + TN)\n",
    "print('False Positive Rate : {0:0.4f}'.format(false_positive_rate))"
   ]
  },
  {
   "cell_type": "markdown",
   "id": "297633be",
   "metadata": {},
   "source": [
    "## Specificity"
   ]
  },
  {
   "cell_type": "code",
   "execution_count": 54,
   "id": "a0e409d1",
   "metadata": {},
   "outputs": [
    {
     "name": "stdout",
     "output_type": "stream",
     "text": [
      "Specificity : 0.7376\n"
     ]
    }
   ],
   "source": [
    "specificity = TN / (TN + FP)\n",
    "print('Specificity : {0:0.4f}'.format(specificity))"
   ]
  },
  {
   "cell_type": "markdown",
   "id": "0eb80b6b",
   "metadata": {},
   "source": [
    "## f1-score\n",
    "\n",
    "\n",
    "**f1-score** is the weighted harmonic mean of precision and recall. The best possible **f1-score** would be 1.0 and the worst \n",
    "would be 0.0.  **f1-score** is the harmonic mean of precision and recall. So, **f1-score** is always lower than accuracy measures as they embed precision and recall into their computation. The weighted average of `f1-score` should be used to \n",
    "compare classifier models, not global accuracy.\n",
    "\n"
   ]
  },
  {
   "cell_type": "markdown",
   "id": "f6f03b0d",
   "metadata": {},
   "source": [
    "## Support\n",
    "\n",
    "\n",
    "**Support** is the actual number of occurrences of the class in our dataset."
   ]
  },
  {
   "cell_type": "markdown",
   "id": "e2257afd",
   "metadata": {},
   "source": [
    "## **Adjusting the threshold level** "
   ]
  },
  {
   "cell_type": "code",
   "execution_count": 55,
   "id": "49fd0a9b",
   "metadata": {},
   "outputs": [
    {
     "data": {
      "text/plain": [
       "array([[0.91647443, 0.08352557],\n",
       "       [0.82790536, 0.17209464],\n",
       "       [0.81418887, 0.18581113],\n",
       "       [0.98941825, 0.01058175],\n",
       "       [0.95646921, 0.04353079],\n",
       "       [0.97908935, 0.02091065],\n",
       "       [0.16580525, 0.83419475],\n",
       "       [0.2306909 , 0.7693091 ],\n",
       "       [0.8997908 , 0.1002092 ],\n",
       "       [0.86674594, 0.13325406]])"
      ]
     },
     "execution_count": 55,
     "metadata": {},
     "output_type": "execute_result"
    }
   ],
   "source": [
    "# print the first 10 predicted probabilities of two classes- 0 and 1\n",
    "\n",
    "y_pred_prob = logreg.predict_proba(X_test)[0:10]\n",
    "y_pred_prob"
   ]
  },
  {
   "cell_type": "markdown",
   "id": "f44b4ec0",
   "metadata": {},
   "source": [
    "### Observations\n",
    "\n",
    "\n",
    "- In each row, the numbers sum to 1.\n",
    "\n",
    "\n",
    "- There are 2 columns which correspond to 2 classes - 0 and 1.\n",
    "\n",
    "    - Class 0 - predicted probability that there is no rain tomorrow.    \n",
    "    \n",
    "    - Class 1 - predicted probability that there is rain tomorrow.\n",
    "        \n",
    "    \n",
    "- Importance of predicted probabilities\n",
    "\n",
    "    - We can rank the observations by probability of rain or no rain.\n",
    "\n",
    "\n",
    "- predict_proba process\n",
    "\n",
    "    - Predicts the probabilities    \n",
    "    \n",
    "    - Choose the class with the highest probability    \n",
    "    \n",
    "    \n",
    "- Classification threshold level\n",
    "\n",
    "    - There is a classification threshold level of 0.5.    \n",
    "    \n",
    "    - Class 1 - probability of rain is predicted if probability > 0.5.    \n",
    "    \n",
    "    - Class 0 - probability of no rain is predicted if probability < 0.5.    \n",
    "    \n"
   ]
  },
  {
   "cell_type": "code",
   "execution_count": 56,
   "id": "b02fe818",
   "metadata": {},
   "outputs": [
    {
     "data": {
      "text/html": [
       "<div>\n",
       "<style scoped>\n",
       "    .dataframe tbody tr th:only-of-type {\n",
       "        vertical-align: middle;\n",
       "    }\n",
       "\n",
       "    .dataframe tbody tr th {\n",
       "        vertical-align: top;\n",
       "    }\n",
       "\n",
       "    .dataframe thead th {\n",
       "        text-align: right;\n",
       "    }\n",
       "</style>\n",
       "<table border=\"1\" class=\"dataframe\">\n",
       "  <thead>\n",
       "    <tr style=\"text-align: right;\">\n",
       "      <th></th>\n",
       "      <th>Prob of - No rain tomorrow (0)</th>\n",
       "      <th>Prob of - Rain tomorrow (1)</th>\n",
       "    </tr>\n",
       "  </thead>\n",
       "  <tbody>\n",
       "    <tr>\n",
       "      <th>0</th>\n",
       "      <td>0.916474</td>\n",
       "      <td>0.083526</td>\n",
       "    </tr>\n",
       "    <tr>\n",
       "      <th>1</th>\n",
       "      <td>0.827905</td>\n",
       "      <td>0.172095</td>\n",
       "    </tr>\n",
       "    <tr>\n",
       "      <th>2</th>\n",
       "      <td>0.814189</td>\n",
       "      <td>0.185811</td>\n",
       "    </tr>\n",
       "    <tr>\n",
       "      <th>3</th>\n",
       "      <td>0.989418</td>\n",
       "      <td>0.010582</td>\n",
       "    </tr>\n",
       "    <tr>\n",
       "      <th>4</th>\n",
       "      <td>0.956469</td>\n",
       "      <td>0.043531</td>\n",
       "    </tr>\n",
       "    <tr>\n",
       "      <th>5</th>\n",
       "      <td>0.979089</td>\n",
       "      <td>0.020911</td>\n",
       "    </tr>\n",
       "    <tr>\n",
       "      <th>6</th>\n",
       "      <td>0.165805</td>\n",
       "      <td>0.834195</td>\n",
       "    </tr>\n",
       "    <tr>\n",
       "      <th>7</th>\n",
       "      <td>0.230691</td>\n",
       "      <td>0.769309</td>\n",
       "    </tr>\n",
       "    <tr>\n",
       "      <th>8</th>\n",
       "      <td>0.899791</td>\n",
       "      <td>0.100209</td>\n",
       "    </tr>\n",
       "    <tr>\n",
       "      <th>9</th>\n",
       "      <td>0.866746</td>\n",
       "      <td>0.133254</td>\n",
       "    </tr>\n",
       "  </tbody>\n",
       "</table>\n",
       "</div>"
      ],
      "text/plain": [
       "   Prob of - No rain tomorrow (0)  Prob of - Rain tomorrow (1)\n",
       "0                        0.916474                     0.083526\n",
       "1                        0.827905                     0.172095\n",
       "2                        0.814189                     0.185811\n",
       "3                        0.989418                     0.010582\n",
       "4                        0.956469                     0.043531\n",
       "5                        0.979089                     0.020911\n",
       "6                        0.165805                     0.834195\n",
       "7                        0.230691                     0.769309\n",
       "8                        0.899791                     0.100209\n",
       "9                        0.866746                     0.133254"
      ]
     },
     "execution_count": 56,
     "metadata": {},
     "output_type": "execute_result"
    }
   ],
   "source": [
    "# store the probabilities in dataframe\n",
    "\n",
    "y_pred_prob_df = pd.DataFrame(data=y_pred_prob, columns=['Prob of - No rain tomorrow (0)', 'Prob of - Rain tomorrow (1)'])\n",
    "y_pred_prob_df"
   ]
  },
  {
   "cell_type": "code",
   "execution_count": 57,
   "id": "18a47085",
   "metadata": {},
   "outputs": [
    {
     "data": {
      "text/plain": [
       "array([0.08352557, 0.17209464, 0.18581113, 0.01058175, 0.04353079,\n",
       "       0.02091065, 0.83419475, 0.7693091 , 0.1002092 , 0.13325406])"
      ]
     },
     "execution_count": 57,
     "metadata": {},
     "output_type": "execute_result"
    }
   ],
   "source": [
    "# print the first 10 predicted probabilities for class 1 - Probability of rain\n",
    "\n",
    "logreg.predict_proba(X_test)[0:10, 1]"
   ]
  },
  {
   "cell_type": "code",
   "execution_count": 58,
   "id": "fd8d1674",
   "metadata": {},
   "outputs": [],
   "source": [
    "# store the predicted probabilities for class 1 - Probability of rain\n",
    "\n",
    "y_pred1 = logreg.predict_proba(X_test)[:, 1]"
   ]
  },
  {
   "cell_type": "code",
   "execution_count": 59,
   "id": "4c988748",
   "metadata": {},
   "outputs": [
    {
     "data": {
      "text/plain": [
       "Text(0, 0.5, 'Frequency')"
      ]
     },
     "execution_count": 59,
     "metadata": {},
     "output_type": "execute_result"
    },
    {
     "data": {
      "image/png": "[encoded data removed]",
      "text/plain": [
       "<Figure size 432x288 with 1 Axes>"
      ]
     },
     "metadata": {
      "needs_background": "light"
     },
     "output_type": "display_data"
    }
   ],
   "source": [
    "# plot histogram of predicted probabilities\n",
    "\n",
    "# adjust the font size \n",
    "plt.rcParams['font.size'] = 12\n",
    "\n",
    "# plot histogram with 10 bins\n",
    "plt.hist(y_pred1, bins = 10)\n",
    "\n",
    "# set the title of predicted probabilities\n",
    "plt.title('Histogram of predicted probabilities of rain')\n",
    "\n",
    "# set the x-axis limit\n",
    "plt.xlim(0,1)\n",
    "\n",
    "# set the title\n",
    "plt.xlabel('Predicted probabilities of rain')\n",
    "plt.ylabel('Frequency')"
   ]
  },
  {
   "cell_type": "markdown",
   "id": "f5596ef1",
   "metadata": {},
   "source": [
    "### Observations\n",
    "\n",
    "\n",
    "- We can see that the above histogram is highly positive skewed.\n",
    "\n",
    "\n",
    "- The first column tell us that there are approximately 15000 observations with probability between 0.0 and 0.1.\n",
    "\n",
    "\n",
    "- There are small number of observations with probability > 0.5.\n",
    "\n",
    "\n",
    "- So, these small number of observations predict that there will be rain tomorrow.\n",
    "\n",
    "\n",
    "- Majority of observations predict that there will be no rain tomorrow."
   ]
  },
  {
   "cell_type": "markdown",
   "id": "6fb57f47",
   "metadata": {},
   "source": [
    "### Lower the threshold"
   ]
  },
  {
   "cell_type": "code",
   "execution_count": 60,
   "id": "d3fc5491",
   "metadata": {},
   "outputs": [
    {
     "name": "stdout",
     "output_type": "stream",
     "text": [
      "With 0.1 threshold the Confusion Matrix is  \n",
      "\n",
      " [[12747  9320]\n",
      " [  548  5824]] \n",
      "\n",
      " with 18571 correct predictions,  \n",
      "\n",
      " 9320 Type I errors( False Positives),  \n",
      "\n",
      " 548 Type II errors( False Negatives),  \n",
      "\n",
      " Accuracy score:  0.653011709272478 \n",
      "\n",
      " Sensitivity:  0.9139987445072191 \n",
      "\n",
      " Specificity:  0.5776498844428332 \n",
      "\n",
      " ==================================================== \n",
      "\n",
      "\n",
      "With 0.2 threshold the Confusion Matrix is  \n",
      "\n",
      " [[17057  5010]\n",
      " [ 1241  5131]] \n",
      "\n",
      " with 22188 correct predictions,  \n",
      "\n",
      " 5010 Type I errors( False Positives),  \n",
      "\n",
      " 1241 Type II errors( False Negatives),  \n",
      "\n",
      " Accuracy score:  0.7801962094307113 \n",
      "\n",
      " Sensitivity:  0.8052416823603264 \n",
      "\n",
      " Specificity:  0.7729641546200209 \n",
      "\n",
      " ==================================================== \n",
      "\n",
      "\n",
      "With 0.3 threshold the Confusion Matrix is  \n",
      "\n",
      " [[19071  2996]\n",
      " [ 1864  4508]] \n",
      "\n",
      " with 23579 correct predictions,  \n",
      "\n",
      " 2996 Type I errors( False Positives),  \n",
      "\n",
      " 1864 Type II errors( False Negatives),  \n",
      "\n",
      " Accuracy score:  0.8291079151868912 \n",
      "\n",
      " Sensitivity:  0.7074701820464532 \n",
      "\n",
      " Specificity:  0.8642316581320524 \n",
      "\n",
      " ==================================================== \n",
      "\n",
      "\n",
      "With 0.4 threshold the Confusion Matrix is  \n",
      "\n",
      " [[20213  1854]\n",
      " [ 2503  3869]] \n",
      "\n",
      " with 24082 correct predictions,  \n",
      "\n",
      " 1854 Type I errors( False Positives),  \n",
      "\n",
      " 2503 Type II errors( False Negatives),  \n",
      "\n",
      " Accuracy score:  0.8467948943352439 \n",
      "\n",
      " Sensitivity:  0.607187696170747 \n",
      "\n",
      " Specificity:  0.9159831422486066 \n",
      "\n",
      " ==================================================== \n",
      "\n",
      "\n"
     ]
    }
   ],
   "source": [
    "from sklearn.preprocessing import binarize\n",
    "\n",
    "for i in range(1,5):   \n",
    "    cm1=0\n",
    "    \n",
    "    y_pred1 = logreg.predict_proba(X_test)[:,1]   \n",
    "    y_pred1 = y_pred1.reshape(-1,1)\n",
    "    y_pred2 = binarize(y_pred1, i/10)   \n",
    "    y_pred2 = np.where(y_pred2 == 1, 'Yes', 'No')   \n",
    "    cm1 = confusion_matrix(y_test, y_pred2)\n",
    "        \n",
    "    print ('With',i/10,'threshold the Confusion Matrix is ','\\n\\n',cm1,'\\n\\n',\n",
    "           \n",
    "            'with',cm1[0,0]+cm1[1,1],'correct predictions, ', '\\n\\n', \n",
    "           \n",
    "            cm1[0,1],'Type I errors( False Positives), ','\\n\\n',\n",
    "           \n",
    "            cm1[1,0],'Type II errors( False Negatives), ','\\n\\n',\n",
    "           \n",
    "           'Accuracy score: ', (accuracy_score(y_test, y_pred2)), '\\n\\n',\n",
    "           \n",
    "           'Sensitivity: ',cm1[1,1]/(float(cm1[1,1]+cm1[1,0])), '\\n\\n',\n",
    "           \n",
    "           'Specificity: ',cm1[0,0]/(float(cm1[0,0]+cm1[0,1])),'\\n\\n',\n",
    "          \n",
    "            '====================================================', '\\n\\n')"
   ]
  },
  {
   "cell_type": "markdown",
   "id": "a0f205f7",
   "metadata": {},
   "source": [
    "### Comments\n",
    "\n",
    "\n",
    "- In binary problems, the threshold of 0.5 is used by default to convert predicted probabilities into class predictions.\n",
    "\n",
    "\n",
    "- Threshold can be adjusted to increase sensitivity or specificity. \n",
    "\n",
    "\n",
    "- Sensitivity and specificity have an inverse relationship. Increasing one would always decrease the other and vice versa.\n",
    "\n",
    "\n",
    "- We can see that increasing the threshold level results in increased accuracy.\n",
    "\n",
    "\n",
    "- Adjusting the threshold level should be one of the last step you do in the model-building process."
   ]
  },
  {
   "cell_type": "markdown",
   "id": "598f04de",
   "metadata": {},
   "source": [
    "# **19. ROC - AUC** <a class=\"anchor\" id=\"18\"></a>\n",
    "\n",
    "\n",
    "[Table of Contents](#0.1)\n",
    "\n",
    "\n",
    "\n",
    "## ROC Curve\n",
    "\n",
    "\n",
    "Another tool to measure the classification model performance visually is **ROC Curve**. ROC Curve stands for **Receiver Operating Characteristic Curve**. An **ROC Curve** is a plot which shows the performance of a classification model at various \n",
    "classification threshold levels. \n",
    "\n",
    "\n",
    "\n",
    "The **ROC Curve** plots the **True Positive Rate (TPR)** against the **False Positive Rate (FPR)** at various threshold levels.\n",
    "\n",
    "\n",
    "\n",
    "**True Positive Rate (TPR)** is also called **Recall**. It is defined as the ratio of `TP to (TP + FN).`\n",
    "\n",
    "\n",
    "\n",
    "**False Positive Rate (FPR)** is defined as the ratio of `FP to (FP + TN).`\n",
    "\n",
    "\n",
    "\n",
    "\n",
    "In the ROC Curve, we will focus on the TPR (True Positive Rate) and FPR (False Positive Rate) of a single point. This will give us the general performance of the ROC curve which consists of the TPR and FPR at various threshold levels. So, an ROC Curve plots TPR vs FPR at different classification threshold levels. If we lower the threshold levels, it may result in more items being classified as positve. It will increase both True Positives (TP) and False Positives (FP).\n",
    "\n"
   ]
  },
  {
   "cell_type": "code",
   "execution_count": 61,
   "id": "88cd66a7",
   "metadata": {},
   "outputs": [
    {
     "data": {
      "image/png": "[encoded data removed]",
      "text/plain": [
       "<Figure size 432x288 with 1 Axes>"
      ]
     },
     "metadata": {
      "needs_background": "light"
     },
     "output_type": "display_data"
    }
   ],
   "source": [
    "# plot ROC Curve\n",
    "\n",
    "from sklearn.metrics import roc_curve\n",
    "\n",
    "fpr, tpr, thresholds = roc_curve(y_test, y_pred1, pos_label = 'Yes')\n",
    "\n",
    "plt.figure(figsize=(6,4))\n",
    "plt.plot(fpr, tpr, linewidth=2)\n",
    "plt.plot([0,1], [0,1], 'k--' )\n",
    "plt.rcParams['font.size'] = 12\n",
    "plt.title('ROC curve for RainTomorrow classifier')\n",
    "plt.xlabel('False Positive Rate (1 - Specificity)')\n",
    "plt.ylabel('True Positive Rate (Sensitivity)')\n",
    "plt.show()"
   ]
  },
  {
   "cell_type": "markdown",
   "id": "633bf2e1",
   "metadata": {},
   "source": [
    "ROC curve help us to choose a threshold level that balances sensitivity and specificity for a particular context."
   ]
  },
  {
   "cell_type": "markdown",
   "id": "86ba3981",
   "metadata": {},
   "source": [
    "## ROC-AUC\n",
    "\n",
    "\n",
    "**ROC AUC** stands for **Receiver Operating Characteristic - Area Under Curve**. It is a technique to compare classifier performance. In this technique, we measure the `area under the curve (AUC)`. A perfect classifier will have a ROC AUC equal to 1, whereas a purely random classifier will have a ROC AUC equal to 0.5. \n",
    "\n",
    "\n",
    "So, **ROC AUC** is the percentage of the ROC plot that is underneath the curve."
   ]
  },
  {
   "cell_type": "code",
   "execution_count": 62,
   "id": "1211fc77",
   "metadata": {},
   "outputs": [
    {
     "name": "stdout",
     "output_type": "stream",
     "text": [
      "ROC AUC : 0.8729\n"
     ]
    }
   ],
   "source": [
    "# compute ROC AUC\n",
    "\n",
    "from sklearn.metrics import roc_auc_score\n",
    "\n",
    "ROC_AUC = roc_auc_score(y_test, y_pred1)\n",
    "print('ROC AUC : {:.4f}'.format(ROC_AUC))"
   ]
  },
  {
   "cell_type": "markdown",
   "id": "e244e217",
   "metadata": {},
   "source": [
    "### Comments\n",
    "\n",
    "\n",
    "- ROC AUC is a single number summary of classifier performance. The higher the value, the better the classifier.\n",
    "\n",
    "- ROC AUC of our model approaches towards 1. So, we can conclude that our classifier does a good job in predicting whether it will rain tomorrow or not."
   ]
  },
  {
   "cell_type": "code",
   "execution_count": 63,
   "id": "18f98ba0",
   "metadata": {},
   "outputs": [
    {
     "name": "stdout",
     "output_type": "stream",
     "text": [
      "Cross validated ROC AUC : 0.8694\n"
     ]
    }
   ],
   "source": [
    "# calculate cross-validated ROC AUC \n",
    "\n",
    "from sklearn.model_selection import cross_val_score\n",
    "\n",
    "Cross_validated_ROC_AUC = cross_val_score(logreg, X_train, y_train, cv=5, scoring='roc_auc').mean()\n",
    "print('Cross validated ROC AUC : {:.4f}'.format(Cross_validated_ROC_AUC))"
   ]
  },
  {
   "cell_type": "markdown",
   "id": "dffe5f42",
   "metadata": {},
   "source": [
    "# **20. k-Fold Cross Validation** <a class=\"anchor\" id=\"19\"></a>\n",
    "\n",
    "\n",
    "[Table of Contents](#0.1)"
   ]
  },
  {
   "cell_type": "code",
   "execution_count": 64,
   "id": "d98452f4",
   "metadata": {},
   "outputs": [
    {
     "name": "stdout",
     "output_type": "stream",
     "text": [
      "Cross-validation scores:[0.84743528 0.84576502 0.84611665 0.84844622 0.84747253]\n"
     ]
    }
   ],
   "source": [
    "# Applying 5-Fold Cross Validation\n",
    "\n",
    "from sklearn.model_selection import cross_val_score\n",
    "\n",
    "scores = cross_val_score(logreg, X_train, y_train, cv = 5, scoring='accuracy')\n",
    "print('Cross-validation scores:{}'.format(scores))"
   ]
  },
  {
   "cell_type": "markdown",
   "id": "30696504",
   "metadata": {},
   "source": [
    "We can summarize the cross-validation accuracy by calculating its mean."
   ]
  },
  {
   "cell_type": "code",
   "execution_count": 65,
   "id": "c8999c3d",
   "metadata": {},
   "outputs": [
    {
     "name": "stdout",
     "output_type": "stream",
     "text": [
      "Average cross-validation score: 0.8470\n"
     ]
    }
   ],
   "source": [
    "# compute Average cross-validation score\n",
    "\n",
    "print('Average cross-validation score: {:.4f}'.format(scores.mean()))"
   ]
  },
  {
   "cell_type": "markdown",
   "id": "d012fbe3",
   "metadata": {},
   "source": [
    "Our, original model score is found to be 0.8470. The average cross-validation score is 0.8470. So, we can conclude that cross-validation does not result in performance improvement."
   ]
  },
  {
   "cell_type": "markdown",
   "id": "22ab2e5f",
   "metadata": {},
   "source": [
    "# **21. Hyperparameter Optimization using GridSearch CV** <a class=\"anchor\" id=\"20\"></a>\n",
    "\n",
    "\n",
    "[Table of Contents](#0.1)"
   ]
  },
  {
   "cell_type": "code",
   "execution_count": 66,
   "id": "ede35cc6",
   "metadata": {},
   "outputs": [
    {
     "data": {
      "text/plain": [
       "GridSearchCV(cv=5, error_score=nan,\n",
       "             estimator=LogisticRegression(C=1.0, class_weight=None, dual=False,\n",
       "                                          fit_intercept=True,\n",
       "                                          intercept_scaling=1, l1_ratio=None,\n",
       "                                          max_iter=100, multi_class='auto',\n",
       "                                          n_jobs=None, penalty='l2',\n",
       "                                          random_state=0, solver='liblinear',\n",
       "                                          tol=0.0001, verbose=0,\n",
       "                                          warm_start=False),\n",
       "             iid='deprecated', n_jobs=None,\n",
       "             param_grid=[{'penalty': ['l1', 'l2']}, {'C': [1, 10, 100, 1000]}],\n",
       "             pre_dispatch='2*n_jobs', refit=True, return_train_score=False,\n",
       "             scoring='accuracy', verbose=0)"
      ]
     },
     "execution_count": 66,
     "metadata": {},
     "output_type": "execute_result"
    }
   ],
   "source": [
    "from sklearn.model_selection import GridSearchCV\n",
    "\n",
    "parameters = [{'penalty':['l1','l2']}, \n",
    "              {'C':[1, 10, 100, 1000]}]\n",
    "\n",
    "grid_search = GridSearchCV(estimator = logreg,  \n",
    "                           param_grid = parameters,\n",
    "                           scoring = 'accuracy',\n",
    "                           cv = 5,\n",
    "                           verbose=0)\n",
    "grid_search.fit(X_train, y_train)"
   ]
  },
  {
   "cell_type": "code",
   "execution_count": 67,
   "id": "dc7ae0b9",
   "metadata": {},
   "outputs": [
    {
     "name": "stdout",
     "output_type": "stream",
     "text": [
      "GridSearch CV best score : 0.8472\n",
      "\n",
      "\n",
      "Parameters that give the best results : \n",
      "\n",
      " {'penalty': 'l1'}\n",
      "\n",
      "\n",
      "Estimator that was chosen by the search : \n",
      "\n",
      " LogisticRegression(C=1.0, class_weight=None, dual=False, fit_intercept=True,\n",
      "                   intercept_scaling=1, l1_ratio=None, max_iter=100,\n",
      "                   multi_class='auto', n_jobs=None, penalty='l1',\n",
      "                   random_state=0, solver='liblinear', tol=0.0001, verbose=0,\n",
      "                   warm_start=False)\n"
     ]
    }
   ],
   "source": [
    "# examine the best model\n",
    "\n",
    "# best score achieved during the GridSearchCV\n",
    "print('GridSearch CV best score : {:.4f}\\n\\n'.format(grid_search.best_score_))\n",
    "\n",
    "# print parameters that give the best results\n",
    "print('Parameters that give the best results :','\\n\\n', (grid_search.best_params_))\n",
    "\n",
    "# print estimator that was chosen by the GridSearch\n",
    "print('\\n\\nEstimator that was chosen by the search :','\\n\\n', (grid_search.best_estimator_))"
   ]
  },
  {
   "cell_type": "code",
   "execution_count": 68,
   "id": "72efe3ec",
   "metadata": {},
   "outputs": [
    {
     "name": "stdout",
     "output_type": "stream",
     "text": [
      "GridSearch CV score on test set: 0.8501\n"
     ]
    }
   ],
   "source": [
    "# calculate GridSearch CV score on test set\n",
    "\n",
    "print('GridSearch CV score on test set: {0:0.4f}'.format(grid_search.score(X_test, y_test)))"
   ]
  },
  {
   "cell_type": "markdown",
   "id": "6e163e51",
   "metadata": {},
   "source": [
    "### Comments\n",
    "\n",
    "\n",
    "- Our original model test accuracy is 0.8501 while GridSearch CV accuracy is 0.8507.\n",
    "\n",
    "\n",
    "- We can see that GridSearch CV improve the performance for this particular model."
   ]
  },
  {
   "cell_type": "markdown",
   "id": "38894638",
   "metadata": {},
   "source": [
    "# **22. Results and conclusion** <a class=\"anchor\" id=\"21\"></a>\n",
    "\n",
    "\n",
    "[Table of Contents](#0.1)"
   ]
  },
  {
   "cell_type": "markdown",
   "id": "79283e9b",
   "metadata": {},
   "source": [
    "1.\tThe logistic regression model accuracy score is 0.8501. So, the model does a very good job in predicting whether or not it will rain tomorrow in Australia.\n",
    "\n",
    "2.\tSmall number of observations predict that there will be rain tomorrow. Majority of observations predict that there will be no rain tomorrow.\n",
    "\n",
    "3.\tThe model shows no signs of overfitting.\n",
    "\n",
    "4.\tIncreasing the value of C results in higher test set accuracy and also a slightly increased training set accuracy. So, we can conclude that a more complex model should perform better.\n",
    "\n",
    "5.\tIncreasing the threshold level results in increased accuracy.\n",
    "\n",
    "6.\tROC AUC of our model approaches towards 1. So, we can conclude that our classifier does a good job in predicting whether it will rain tomorrow or not.\n",
    "\n",
    "7.\tOur original model accuracy score is 0.8501 whereas accuracy score after RFECV is 0.8500. So, we can obtain approximately similar accuracy but with reduced set of features.\n",
    "\n",
    "8.\tIn the original model, we have FP = 1175 whereas FP1 = 1174. So, we get approximately same number of false positives. Also, FN = 3087 whereas FN1 = 3091. So, we get slighly higher false negatives.\n",
    "\n",
    "9.\tOur, original model score is found to be 0.8476. The average cross-validation score is 0.8474. So, we can conclude that cross-validation does not result in performance improvement.\n",
    "\n",
    "10.\tOur original model test accuracy is 0.8501 while GridSearch CV accuracy is 0.8507. We can see that GridSearch CV improve the performance for this particular model.\n"
   ]
  }
 ],
 "metadata": {
  "kernelspec": {
   "display_name": "Python 3 (ipykernel)",
   "language": "python",
   "name": "python3"
  },
  "language_info": {
   "codemirror_mode": {
    "name": "ipython",
    "version": 3
   },
   "file_extension": ".py",
   "mimetype": "text/x-python",
   "name": "python",
   "nbconvert_exporter": "python",
   "pygments_lexer": "ipython3",
   "version": "3.9.7"
  },
  "papermill": {
   "default_parameters": {},
   "duration": 39.977368,
   "end_time": "2021-10-11T21:26:22.867847",
   "environment_variables": {},
   "exception": null,
   "input_path": "__notebook__.ipynb",
   "output_path": "__notebook__.ipynb",
   "parameters": {},
   "start_time": "2021-10-11T21:25:42.890479",
   "version": "2.3.3"
  }
 },
 "nbformat": 4,
 "nbformat_minor": 5
}
