{
 "cells": [
  {
   "cell_type": "markdown",
   "metadata": {
    "_cell_guid": "da532de7-7dc0-4861-9354-a0ab2d633e87",
    "_execution_state": "idle",
    "_uuid": "eceab7fff78d63f99a0ff35582731f5a2a59d29f"
   },
   "source": [
    "# Logistic Regression Hr Data"
   ]
  },
  {
   "cell_type": "markdown",
   "metadata": {
    "_cell_guid": "4794babf-3571-48aa-8d96-89317114a0b0",
    "_uuid": "be1c38b896789f57f6302ae697002f9d93bf2846"
   },
   "source": [
    "# EMPLOYEE TURNOVER\n",
    "**\"You don't build a business. You build people, and people build the business.\" -Zig Ziglar**"
   ]
  },
  {
   "cell_type": "markdown",
   "metadata": {
    "_cell_guid": "5bfa660e-d6dd-423b-9770-5c7388ee01b4",
    "_uuid": "6ecd558ce849ba0a93c878b570135c0e3508d764"
   },
   "source": [
    "*\"I QUIT!\" That is the last thing a company wants to hear from their employees. In a sense, it’s the employees who make the company. It’s the employees who do the work. It’s the employees who shape the company’s culture. Long-term success, a healthy work environment, and high employee retention are all signs of a successful company. But when a company experiences a high rate of employee turnover, then something is going wrong. This can lead the company to huge monetary losses by these innovative and valuable employees.* "
   ]
  },
  {
   "cell_type": "markdown",
   "metadata": {
    "_cell_guid": "fc1e382a-4945-464e-b7ec-60460e65c0a8",
    "_uuid": "fccae7319c2fd696ad27164195bcc8c1e2cff6d2"
   },
   "source": [
    "*Companies that maintain a healthy organization and culture are always a good sign of future prosperity. Recognizing and understanding what factors that were associated with employee turnover will allow companies and individuals to limit this from happening and may even increase employee productivity and growth. These predictive insights give managers the opportunity to take corrective steps to build and preserve their successful business. *\n"
   ]
  },
  {
   "cell_type": "markdown",
   "metadata": {
    "_cell_guid": "57c25532-459b-436d-92c7-bbfb8426a6be",
    "_uuid": "d0a5449e54a3a1b8a2486202762ce27573925d21"
   },
   "source": [
    "**My goal is to understand what factors contribute most to employee turnover and create a model that can predict if a certain employee will leave the company or not.**"
   ]
  },
  {
   "cell_type": "markdown",
   "metadata": {
    "_cell_guid": "a9198061-e3d7-4c42-a234-760bdcaa1ef8",
    "_uuid": "ab12f5f07dd009de57d80143d09b4f0ce22e76ac"
   },
   "source": [
    "*I’ll be following a typical data science pipeline, which I call “OSEMN” (pronounced awesome).*\n",
    "\n",
    "**1.** **O**btaining the required data is the first approach in solving the problem. I would have to download the dataset from Kaggle’s website and import it as a csv file to my working environment.\n",
    "\n",
    "\n",
    "**2.** **S**crubbing or cleaning the data is the next step. This includes data imputation of missing or invalid data and fixing column names.\n",
    "\n",
    "\n",
    "**3.** **E**xploring the data with exploratory data analysis will follow right after and allow further insight of what our dataset contains. Looking for any outliers or weird data. Understanding the relationship each explanatory variable has with the response variable resides here and we can do this with a correlation matrix. The creation or removing of features through the use of feature engineering is a possibility. The use of various graphs plays a significant role here as well because it will give us a visual representation of how the variables interact with one another. We will get to see whether some variables have a linear or non-linear relationship. Taking the time to examine and understand our dataset will then give us the suggestions on what type of predictive model to use. \n",
    "\n",
    "\n",
    "**4.** **M**odeling the data will give us our predictive power on whether an employee will leave. Types of models to use could be RF, SVM, LM, GBM, etc. Cross validation is used here, which will be used to examine the model’s accuracy and tune the model’s hyperparameters if necessary. After predicting any uncertainties, optimization is next. Feature selection from RandomForest could be used as well. A confusion matrix gives the precision of the model with the number of True Positives and True Negatives. We can graph this with a ROC curve. Understand the reasoning behind choosing the right model for this problem. \n",
    "\n",
    "\n",
    "**5.** I**N**terpreting the data is last. With all the results and analysis of the data, what conclusion is made? What factors contributed most to employee turnover? What relationship of variables were found? If the model’s accuracy is too high from our test set, a chance of overfitting is likely. Ways to prevent overfitting include: collecting more data, choosing simpler models, cross validation, regularization, use of ensemble methods, or better parameter tuning. Give a brief overview of the feature importance that affected our model. How can we improve our model in the future? After a prediction, this is the opportunity to gain more insight about our features and ask more questions. Which subsets of the data are most impactful to the prediction? What features were the bad ones that did not help with the model? What makes features made good predictions?\n",
    "\n",
    "\n",
    "**Note:** *The data was found from the “Human Resources Analytics” dataset provided by Kaggle’s website. https://www.kaggle.com/ludobenistant/hr-analytics*\n",
    "\n",
    "**Note:** THIS DATASET IS SIMULATED"
   ]
  },
  {
   "cell_type": "markdown",
   "metadata": {
    "_cell_guid": "bc9ae6b8-fc1f-475b-ad23-3b5fc5665cca",
    "_uuid": "bcdcf1d61b19755fe879c0d733e7c8e593b7e2a9",
    "collapsed": true,
    "jupyter": {
     "outputs_hidden": true
    }
   },
   "source": [
    "# Part 1: Obtaining the Data "
   ]
  },
  {
   "cell_type": "code",
   "execution_count": 1,
   "metadata": {
    "_cell_guid": "05a9803f-d369-4021-aaab-28b24b35bc46",
    "_execution_state": "idle",
    "_uuid": "3521cef3855ed011d4f914b6f0d98754c89d91e1"
   },
   "outputs": [],
   "source": [
    "# Import the neccessary modules for data manipulation and visual representation\n",
    "%matplotlib inline\n",
    "import matplotlib.pyplot as plt\n",
    "import pandas as pd\n",
    "import seaborn as sns\n",
    "\n",
    "import warnings\n",
    "warnings.simplefilter(action='ignore')"
   ]
  },
  {
   "cell_type": "code",
   "execution_count": 2,
   "metadata": {
    "_cell_guid": "43230024-ed0e-427e-827d-e89b75371c68",
    "_execution_state": "idle",
    "_uuid": "9d19b98ca79adf18b34f742ccb9f37b16c327f92"
   },
   "outputs": [],
   "source": [
    "#Read the analytics csv file and store our dataset into a dataframe called \"df\"\n",
    "df = pd.read_csv('HR_comma_sep.csv', index_col=None)"
   ]
  },
  {
   "cell_type": "markdown",
   "metadata": {
    "_cell_guid": "79b0ec2e-b51b-4826-91c8-a92712e18d95",
    "_uuid": "3c8718eef79221cc69a33ad6048993aed8e62554"
   },
   "source": [
    "# Part 2: Scrubbing the Data "
   ]
  },
  {
   "cell_type": "markdown",
   "metadata": {
    "_cell_guid": "f7efb6e1-ccc2-451b-b9af-f075f9632856",
    "_uuid": "bac61ec6f6ff5d1d26f08ef11291d9fb519c9c58"
   },
   "source": [
    "*Typically, cleaning the data requires a lot of work and can be a very tedious procedure. This dataset from Kaggle is super clean and contains no missing values. But still, I will have to examine the dataset to make sure that everything else is readable and that the observation values match the feature names appropriately.*"
   ]
  },
  {
   "cell_type": "code",
   "execution_count": 3,
   "metadata": {
    "_cell_guid": "4e3636bc-019c-4b2f-93d1-f5540adc786a",
    "_execution_state": "idle",
    "_uuid": "5e2fcfcf8d7927d89692e1e7b902691ef4f4f7e4"
   },
   "outputs": [
    {
     "data": {
      "text/plain": [
       "satisfaction_level       False\n",
       "last_evaluation          False\n",
       "number_project           False\n",
       "average_montly_hours     False\n",
       "time_spend_company       False\n",
       "Work_accident            False\n",
       "left                     False\n",
       "promotion_last_5years    False\n",
       "Department               False\n",
       "salary                   False\n",
       "dtype: bool"
      ]
     },
     "execution_count": 3,
     "metadata": {},
     "output_type": "execute_result"
    }
   ],
   "source": [
    "# Check to see if there are any missing values in our data set\n",
    "df.isnull().any()"
   ]
  },
  {
   "cell_type": "code",
   "execution_count": 4,
   "metadata": {
    "_cell_guid": "9b013b51-d5ea-4109-90ea-ed87a4b79e6f",
    "_execution_state": "idle",
    "_uuid": "95ec66ae685f5f4312b3f5ad4f5796242417f1fe"
   },
   "outputs": [
    {
     "data": {
      "text/html": [
       "<div>\n",
       "<style scoped>\n",
       "    .dataframe tbody tr th:only-of-type {\n",
       "        vertical-align: middle;\n",
       "    }\n",
       "\n",
       "    .dataframe tbody tr th {\n",
       "        vertical-align: top;\n",
       "    }\n",
       "\n",
       "    .dataframe thead th {\n",
       "        text-align: right;\n",
       "    }\n",
       "</style>\n",
       "<table border=\"1\" class=\"dataframe\">\n",
       "  <thead>\n",
       "    <tr style=\"text-align: right;\">\n",
       "      <th></th>\n",
       "      <th>satisfaction_level</th>\n",
       "      <th>last_evaluation</th>\n",
       "      <th>number_project</th>\n",
       "      <th>average_montly_hours</th>\n",
       "      <th>time_spend_company</th>\n",
       "      <th>Work_accident</th>\n",
       "      <th>left</th>\n",
       "      <th>promotion_last_5years</th>\n",
       "      <th>Department</th>\n",
       "      <th>salary</th>\n",
       "    </tr>\n",
       "  </thead>\n",
       "  <tbody>\n",
       "    <tr>\n",
       "      <th>0</th>\n",
       "      <td>0.38</td>\n",
       "      <td>0.53</td>\n",
       "      <td>2</td>\n",
       "      <td>157</td>\n",
       "      <td>3</td>\n",
       "      <td>0</td>\n",
       "      <td>1</td>\n",
       "      <td>0</td>\n",
       "      <td>sales</td>\n",
       "      <td>low</td>\n",
       "    </tr>\n",
       "    <tr>\n",
       "      <th>1</th>\n",
       "      <td>0.80</td>\n",
       "      <td>0.86</td>\n",
       "      <td>5</td>\n",
       "      <td>262</td>\n",
       "      <td>6</td>\n",
       "      <td>0</td>\n",
       "      <td>1</td>\n",
       "      <td>0</td>\n",
       "      <td>sales</td>\n",
       "      <td>medium</td>\n",
       "    </tr>\n",
       "    <tr>\n",
       "      <th>2</th>\n",
       "      <td>0.11</td>\n",
       "      <td>0.88</td>\n",
       "      <td>7</td>\n",
       "      <td>272</td>\n",
       "      <td>4</td>\n",
       "      <td>0</td>\n",
       "      <td>1</td>\n",
       "      <td>0</td>\n",
       "      <td>sales</td>\n",
       "      <td>medium</td>\n",
       "    </tr>\n",
       "    <tr>\n",
       "      <th>3</th>\n",
       "      <td>0.72</td>\n",
       "      <td>0.87</td>\n",
       "      <td>5</td>\n",
       "      <td>223</td>\n",
       "      <td>5</td>\n",
       "      <td>0</td>\n",
       "      <td>1</td>\n",
       "      <td>0</td>\n",
       "      <td>sales</td>\n",
       "      <td>low</td>\n",
       "    </tr>\n",
       "    <tr>\n",
       "      <th>4</th>\n",
       "      <td>0.37</td>\n",
       "      <td>0.52</td>\n",
       "      <td>2</td>\n",
       "      <td>159</td>\n",
       "      <td>3</td>\n",
       "      <td>0</td>\n",
       "      <td>1</td>\n",
       "      <td>0</td>\n",
       "      <td>sales</td>\n",
       "      <td>low</td>\n",
       "    </tr>\n",
       "  </tbody>\n",
       "</table>\n",
       "</div>"
      ],
      "text/plain": [
       "   satisfaction_level  last_evaluation  number_project  average_montly_hours  \\\n",
       "0                0.38             0.53               2                   157   \n",
       "1                0.80             0.86               5                   262   \n",
       "2                0.11             0.88               7                   272   \n",
       "3                0.72             0.87               5                   223   \n",
       "4                0.37             0.52               2                   159   \n",
       "\n",
       "   time_spend_company  Work_accident  left  promotion_last_5years Department  \\\n",
       "0                   3              0     1                      0      sales   \n",
       "1                   6              0     1                      0      sales   \n",
       "2                   4              0     1                      0      sales   \n",
       "3                   5              0     1                      0      sales   \n",
       "4                   3              0     1                      0      sales   \n",
       "\n",
       "   salary  \n",
       "0     low  \n",
       "1  medium  \n",
       "2  medium  \n",
       "3     low  \n",
       "4     low  "
      ]
     },
     "execution_count": 4,
     "metadata": {},
     "output_type": "execute_result"
    }
   ],
   "source": [
    "# Get a quick overview of what we are dealing with in our dataset\n",
    "df.head()"
   ]
  },
  {
   "cell_type": "markdown",
   "metadata": {
    "_cell_guid": "b5e04893-303a-4a63-9e2e-39f24a7df44f",
    "_uuid": "a52762fa92194218b3436d3b0e42d61e2948972b"
   },
   "source": [
    "###  2a. Labeling\n",
    "*Something that I normally do when look at my data is to make sure that the column names are easy to read. This process is known as labeling. Labeling your column names appropriately and periodically is the best way for you to understand the problem because it lets you see what features you get to work with and it encourages potential feature development. Like the saying goes, \"Garbage in, Garbage out\".*\n",
    "\n",
    "#### Lookup Table for Department and Salary values:\n",
    "##### Department: \n",
    "*{0} Sales **/** {1} Accounting **/** {2} HR **/** {3} Technical **/** {4} Support **/** {5} Management **/** {6} IT **/** {7} Product_Mng **/** {8} Marketing **/** {9} RandD*\n",
    "##### Salary:\n",
    "*{0} Low / {1} Medium / {2} High*"
   ]
  },
  {
   "cell_type": "code",
   "execution_count": 5,
   "metadata": {
    "_cell_guid": "903fcc7f-6d49-4215-9e58-383373cf7207",
    "_execution_state": "idle",
    "_uuid": "83fd52630f41654caabc99db159eb27406d00a54",
    "scrolled": true
   },
   "outputs": [],
   "source": [
    "# Renaming certain columns for better readability\n",
    "df = df.rename(columns={'satisfaction_level': 'satisfaction', \n",
    "                        'last_evaluation': 'evaluation',\n",
    "                        'number_project': 'projectCount',\n",
    "                        'average_montly_hours': 'averageMonthlyHours',\n",
    "                        'time_spend_company': 'yearsAtCompany',\n",
    "                        'Work_accident': 'workAccident',\n",
    "                        'promotion_last_5years': 'promotion',\n",
    "                        'sales' : 'department',\n",
    "                        'left' : 'turnover'\n",
    "                        })\n"
   ]
  },
  {
   "cell_type": "markdown",
   "metadata": {
    "_cell_guid": "f2dc942b-125b-4a86-ae92-d5bf65d31a1d",
    "_uuid": "5e7a3c2188c73fa2a79b8409b3d94e751f4d5649"
   },
   "source": [
    "###  2b. Feature Conversion \n",
    "\n",
    "Since the 'department' and 'salary' features are categorical, I'm going to convert it into numeric values for better analysis."
   ]
  },
  {
   "cell_type": "code",
   "execution_count": 6,
   "metadata": {
    "_cell_guid": "e3825e92-37a6-4e1e-bd01-cf0b8c2664b7",
    "_execution_state": "idle",
    "_uuid": "77363c502e127d58bebb4125bf60fe7bd414cd39"
   },
   "outputs": [
    {
     "data": {
      "text/html": [
       "<div>\n",
       "<style scoped>\n",
       "    .dataframe tbody tr th:only-of-type {\n",
       "        vertical-align: middle;\n",
       "    }\n",
       "\n",
       "    .dataframe tbody tr th {\n",
       "        vertical-align: top;\n",
       "    }\n",
       "\n",
       "    .dataframe thead th {\n",
       "        text-align: right;\n",
       "    }\n",
       "</style>\n",
       "<table border=\"1\" class=\"dataframe\">\n",
       "  <thead>\n",
       "    <tr style=\"text-align: right;\">\n",
       "      <th></th>\n",
       "      <th>satisfaction</th>\n",
       "      <th>evaluation</th>\n",
       "      <th>projectCount</th>\n",
       "      <th>averageMonthlyHours</th>\n",
       "      <th>yearsAtCompany</th>\n",
       "      <th>workAccident</th>\n",
       "      <th>turnover</th>\n",
       "      <th>promotion</th>\n",
       "      <th>Department</th>\n",
       "      <th>salary</th>\n",
       "    </tr>\n",
       "  </thead>\n",
       "  <tbody>\n",
       "    <tr>\n",
       "      <th>0</th>\n",
       "      <td>0.38</td>\n",
       "      <td>0.53</td>\n",
       "      <td>2</td>\n",
       "      <td>157</td>\n",
       "      <td>3</td>\n",
       "      <td>0</td>\n",
       "      <td>1</td>\n",
       "      <td>0</td>\n",
       "      <td>0</td>\n",
       "      <td>0</td>\n",
       "    </tr>\n",
       "    <tr>\n",
       "      <th>1</th>\n",
       "      <td>0.80</td>\n",
       "      <td>0.86</td>\n",
       "      <td>5</td>\n",
       "      <td>262</td>\n",
       "      <td>6</td>\n",
       "      <td>0</td>\n",
       "      <td>1</td>\n",
       "      <td>0</td>\n",
       "      <td>0</td>\n",
       "      <td>1</td>\n",
       "    </tr>\n",
       "    <tr>\n",
       "      <th>2</th>\n",
       "      <td>0.11</td>\n",
       "      <td>0.88</td>\n",
       "      <td>7</td>\n",
       "      <td>272</td>\n",
       "      <td>4</td>\n",
       "      <td>0</td>\n",
       "      <td>1</td>\n",
       "      <td>0</td>\n",
       "      <td>0</td>\n",
       "      <td>1</td>\n",
       "    </tr>\n",
       "    <tr>\n",
       "      <th>3</th>\n",
       "      <td>0.72</td>\n",
       "      <td>0.87</td>\n",
       "      <td>5</td>\n",
       "      <td>223</td>\n",
       "      <td>5</td>\n",
       "      <td>0</td>\n",
       "      <td>1</td>\n",
       "      <td>0</td>\n",
       "      <td>0</td>\n",
       "      <td>0</td>\n",
       "    </tr>\n",
       "    <tr>\n",
       "      <th>4</th>\n",
       "      <td>0.37</td>\n",
       "      <td>0.52</td>\n",
       "      <td>2</td>\n",
       "      <td>159</td>\n",
       "      <td>3</td>\n",
       "      <td>0</td>\n",
       "      <td>1</td>\n",
       "      <td>0</td>\n",
       "      <td>0</td>\n",
       "      <td>0</td>\n",
       "    </tr>\n",
       "  </tbody>\n",
       "</table>\n",
       "</div>"
      ],
      "text/plain": [
       "   satisfaction  evaluation  projectCount  averageMonthlyHours  \\\n",
       "0          0.38        0.53             2                  157   \n",
       "1          0.80        0.86             5                  262   \n",
       "2          0.11        0.88             7                  272   \n",
       "3          0.72        0.87             5                  223   \n",
       "4          0.37        0.52             2                  159   \n",
       "\n",
       "   yearsAtCompany  workAccident  turnover  promotion  Department  salary  \n",
       "0               3             0         1          0           0       0  \n",
       "1               6             0         1          0           0       1  \n",
       "2               4             0         1          0           0       1  \n",
       "3               5             0         1          0           0       0  \n",
       "4               3             0         1          0           0       0  "
      ]
     },
     "execution_count": 6,
     "metadata": {},
     "output_type": "execute_result"
    }
   ],
   "source": [
    "# Convert \"department\" and \"salary\" features to numeric types because some functions won't be able to work with string types\n",
    "df['Department'].replace(['sales', 'accounting', 'hr', 'technical', 'support', 'management',\n",
    "        'IT', 'product_mng', 'marketing', 'RandD'], [0, 1, 2, 3, 4, 5, 6, 7, 8, 9], inplace = True)\n",
    "df['salary'].replace(['low', 'medium', 'high'], [0, 1, 2], inplace = True)\n",
    "\n",
    "df.head()"
   ]
  },
  {
   "cell_type": "code",
   "execution_count": 7,
   "metadata": {
    "_cell_guid": "b6995494-69a7-41ba-9470-e2590faf49e7",
    "_execution_state": "idle",
    "_uuid": "d6433ea903b2fcc01a607f2f218abd7ccb4ed625"
   },
   "outputs": [
    {
     "data": {
      "text/html": [
       "<div>\n",
       "<style scoped>\n",
       "    .dataframe tbody tr th:only-of-type {\n",
       "        vertical-align: middle;\n",
       "    }\n",
       "\n",
       "    .dataframe tbody tr th {\n",
       "        vertical-align: top;\n",
       "    }\n",
       "\n",
       "    .dataframe thead th {\n",
       "        text-align: right;\n",
       "    }\n",
       "</style>\n",
       "<table border=\"1\" class=\"dataframe\">\n",
       "  <thead>\n",
       "    <tr style=\"text-align: right;\">\n",
       "      <th></th>\n",
       "      <th>turnover</th>\n",
       "      <th>satisfaction</th>\n",
       "      <th>evaluation</th>\n",
       "      <th>projectCount</th>\n",
       "      <th>averageMonthlyHours</th>\n",
       "      <th>yearsAtCompany</th>\n",
       "      <th>workAccident</th>\n",
       "      <th>promotion</th>\n",
       "      <th>Department</th>\n",
       "      <th>salary</th>\n",
       "    </tr>\n",
       "  </thead>\n",
       "  <tbody>\n",
       "    <tr>\n",
       "      <th>0</th>\n",
       "      <td>1</td>\n",
       "      <td>0.38</td>\n",
       "      <td>0.53</td>\n",
       "      <td>2</td>\n",
       "      <td>157</td>\n",
       "      <td>3</td>\n",
       "      <td>0</td>\n",
       "      <td>0</td>\n",
       "      <td>0</td>\n",
       "      <td>0</td>\n",
       "    </tr>\n",
       "    <tr>\n",
       "      <th>1</th>\n",
       "      <td>1</td>\n",
       "      <td>0.80</td>\n",
       "      <td>0.86</td>\n",
       "      <td>5</td>\n",
       "      <td>262</td>\n",
       "      <td>6</td>\n",
       "      <td>0</td>\n",
       "      <td>0</td>\n",
       "      <td>0</td>\n",
       "      <td>1</td>\n",
       "    </tr>\n",
       "    <tr>\n",
       "      <th>2</th>\n",
       "      <td>1</td>\n",
       "      <td>0.11</td>\n",
       "      <td>0.88</td>\n",
       "      <td>7</td>\n",
       "      <td>272</td>\n",
       "      <td>4</td>\n",
       "      <td>0</td>\n",
       "      <td>0</td>\n",
       "      <td>0</td>\n",
       "      <td>1</td>\n",
       "    </tr>\n",
       "    <tr>\n",
       "      <th>3</th>\n",
       "      <td>1</td>\n",
       "      <td>0.72</td>\n",
       "      <td>0.87</td>\n",
       "      <td>5</td>\n",
       "      <td>223</td>\n",
       "      <td>5</td>\n",
       "      <td>0</td>\n",
       "      <td>0</td>\n",
       "      <td>0</td>\n",
       "      <td>0</td>\n",
       "    </tr>\n",
       "    <tr>\n",
       "      <th>4</th>\n",
       "      <td>1</td>\n",
       "      <td>0.37</td>\n",
       "      <td>0.52</td>\n",
       "      <td>2</td>\n",
       "      <td>159</td>\n",
       "      <td>3</td>\n",
       "      <td>0</td>\n",
       "      <td>0</td>\n",
       "      <td>0</td>\n",
       "      <td>0</td>\n",
       "    </tr>\n",
       "  </tbody>\n",
       "</table>\n",
       "</div>"
      ],
      "text/plain": [
       "   turnover  satisfaction  evaluation  projectCount  averageMonthlyHours  \\\n",
       "0         1          0.38        0.53             2                  157   \n",
       "1         1          0.80        0.86             5                  262   \n",
       "2         1          0.11        0.88             7                  272   \n",
       "3         1          0.72        0.87             5                  223   \n",
       "4         1          0.37        0.52             2                  159   \n",
       "\n",
       "   yearsAtCompany  workAccident  promotion  Department  salary  \n",
       "0               3             0          0           0       0  \n",
       "1               6             0          0           0       1  \n",
       "2               4             0          0           0       1  \n",
       "3               5             0          0           0       0  \n",
       "4               3             0          0           0       0  "
      ]
     },
     "execution_count": 7,
     "metadata": {},
     "output_type": "execute_result"
    }
   ],
   "source": [
    "# Move the reponse variable \"turnover\" to the front of the table\n",
    "front = df['turnover']\n",
    "df.drop(labels=['turnover'], axis=1,inplace = True)\n",
    "df.insert(0, 'turnover', front)\n",
    "df.head()"
   ]
  },
  {
   "cell_type": "markdown",
   "metadata": {
    "_cell_guid": "25c44fb3-597e-4f6b-96e1-2d8379233738",
    "_uuid": "5a259555236ece8e4a9f199f5734029233592475"
   },
   "source": [
    "# Part 3 - Exploratory Data Analysis"
   ]
  },
  {
   "cell_type": "markdown",
   "metadata": {
    "_cell_guid": "48e10ede-77e7-4e36-94fb-c7573ccc192c",
    "_uuid": "4464662b02df6bb662d8d19c451e2a539c34e8a5"
   },
   "source": [
    "###  3a. Statistical Overview \n"
   ]
  },
  {
   "cell_type": "code",
   "execution_count": 8,
   "metadata": {
    "_cell_guid": "e2374581-b88c-42e0-8182-a88c0d40bd0e",
    "_execution_state": "idle",
    "_uuid": "893201c49d8115fca458991a900d3687e077bccf",
    "scrolled": true
   },
   "outputs": [
    {
     "data": {
      "text/plain": [
       "(14999, 10)"
      ]
     },
     "execution_count": 8,
     "metadata": {},
     "output_type": "execute_result"
    }
   ],
   "source": [
    "# The dataset contains 10 columns and 14999 observations\n",
    "df.shape"
   ]
  },
  {
   "cell_type": "code",
   "execution_count": 9,
   "metadata": {
    "_cell_guid": "a31728b9-a53c-426d-b5d4-b6526dfdabab",
    "_execution_state": "idle",
    "_uuid": "defb4bc18b8bf1e4bfad077ae21a0170a188d6f5"
   },
   "outputs": [
    {
     "data": {
      "text/plain": [
       "turnover                 int64\n",
       "satisfaction           float64\n",
       "evaluation             float64\n",
       "projectCount             int64\n",
       "averageMonthlyHours      int64\n",
       "yearsAtCompany           int64\n",
       "workAccident             int64\n",
       "promotion                int64\n",
       "Department               int64\n",
       "salary                   int64\n",
       "dtype: object"
      ]
     },
     "execution_count": 9,
     "metadata": {},
     "output_type": "execute_result"
    }
   ],
   "source": [
    "# Check the type of our features. \n",
    "df.dtypes"
   ]
  },
  {
   "cell_type": "code",
   "execution_count": 10,
   "metadata": {
    "_cell_guid": "770c2a57-8244-4edb-ba64-28f3f1efebcb",
    "_execution_state": "idle",
    "_uuid": "455e4019b15ebb9796d37f5951117fd6d98597b7"
   },
   "outputs": [
    {
     "data": {
      "text/plain": [
       "0    0.761917\n",
       "1    0.238083\n",
       "Name: turnover, dtype: float64"
      ]
     },
     "execution_count": 10,
     "metadata": {},
     "output_type": "execute_result"
    }
   ],
   "source": [
    "# Looks like about 76% of employees stayed and 24% of employees left. \n",
    "# NOTE: When performing cross validation, its important to maintain this turnover ratio\n",
    "turnover_rate = df.turnover.value_counts() / 14999\n",
    "turnover_rate"
   ]
  },
  {
   "cell_type": "code",
   "execution_count": 11,
   "metadata": {
    "_cell_guid": "0890128c-7c52-4f9a-abec-2c8d2729394e",
    "_execution_state": "idle",
    "_uuid": "caf8e1c9337a54413c6280525d017fccc4518723"
   },
   "outputs": [
    {
     "data": {
      "text/html": [
       "<div>\n",
       "<style scoped>\n",
       "    .dataframe tbody tr th:only-of-type {\n",
       "        vertical-align: middle;\n",
       "    }\n",
       "\n",
       "    .dataframe tbody tr th {\n",
       "        vertical-align: top;\n",
       "    }\n",
       "\n",
       "    .dataframe thead th {\n",
       "        text-align: right;\n",
       "    }\n",
       "</style>\n",
       "<table border=\"1\" class=\"dataframe\">\n",
       "  <thead>\n",
       "    <tr style=\"text-align: right;\">\n",
       "      <th></th>\n",
       "      <th>satisfaction</th>\n",
       "      <th>evaluation</th>\n",
       "      <th>projectCount</th>\n",
       "      <th>averageMonthlyHours</th>\n",
       "      <th>yearsAtCompany</th>\n",
       "      <th>workAccident</th>\n",
       "      <th>promotion</th>\n",
       "      <th>Department</th>\n",
       "      <th>salary</th>\n",
       "    </tr>\n",
       "    <tr>\n",
       "      <th>turnover</th>\n",
       "      <th></th>\n",
       "      <th></th>\n",
       "      <th></th>\n",
       "      <th></th>\n",
       "      <th></th>\n",
       "      <th></th>\n",
       "      <th></th>\n",
       "      <th></th>\n",
       "      <th></th>\n",
       "    </tr>\n",
       "  </thead>\n",
       "  <tbody>\n",
       "    <tr>\n",
       "      <th>0</th>\n",
       "      <td>0.666810</td>\n",
       "      <td>0.715473</td>\n",
       "      <td>3.786664</td>\n",
       "      <td>199.060203</td>\n",
       "      <td>3.380032</td>\n",
       "      <td>0.175009</td>\n",
       "      <td>0.026251</td>\n",
       "      <td>3.408908</td>\n",
       "      <td>0.650945</td>\n",
       "    </tr>\n",
       "    <tr>\n",
       "      <th>1</th>\n",
       "      <td>0.440098</td>\n",
       "      <td>0.718113</td>\n",
       "      <td>3.855503</td>\n",
       "      <td>207.419210</td>\n",
       "      <td>3.876505</td>\n",
       "      <td>0.047326</td>\n",
       "      <td>0.005321</td>\n",
       "      <td>3.118734</td>\n",
       "      <td>0.414730</td>\n",
       "    </tr>\n",
       "  </tbody>\n",
       "</table>\n",
       "</div>"
      ],
      "text/plain": [
       "          satisfaction  evaluation  projectCount  averageMonthlyHours  \\\n",
       "turnover                                                                \n",
       "0             0.666810    0.715473      3.786664           199.060203   \n",
       "1             0.440098    0.718113      3.855503           207.419210   \n",
       "\n",
       "          yearsAtCompany  workAccident  promotion  Department    salary  \n",
       "turnover                                                                 \n",
       "0               3.380032      0.175009   0.026251    3.408908  0.650945  \n",
       "1               3.876505      0.047326   0.005321    3.118734  0.414730  "
      ]
     },
     "execution_count": 11,
     "metadata": {},
     "output_type": "execute_result"
    }
   ],
   "source": [
    "# Overview of summary\n",
    "# On average, employees who left had a lower satisfaction level of -20%**, worked 8hours more per month, \n",
    "# had lower salary, and had a lower promotion rate\n",
    "turnover_Summary = df.groupby('turnover')\n",
    "turnover_Summary.mean()"
   ]
  },
  {
   "cell_type": "code",
   "execution_count": 12,
   "metadata": {
    "_cell_guid": "0d14c24a-dddc-4fb5-bbfb-b4c0bc5a7b5e",
    "_execution_state": "idle",
    "_uuid": "b693c673978408734131e0e6a56d5110578154b4",
    "scrolled": true
   },
   "outputs": [
    {
     "data": {
      "text/html": [
       "<div>\n",
       "<style scoped>\n",
       "    .dataframe tbody tr th:only-of-type {\n",
       "        vertical-align: middle;\n",
       "    }\n",
       "\n",
       "    .dataframe tbody tr th {\n",
       "        vertical-align: top;\n",
       "    }\n",
       "\n",
       "    .dataframe thead th {\n",
       "        text-align: right;\n",
       "    }\n",
       "</style>\n",
       "<table border=\"1\" class=\"dataframe\">\n",
       "  <thead>\n",
       "    <tr style=\"text-align: right;\">\n",
       "      <th></th>\n",
       "      <th>turnover</th>\n",
       "      <th>satisfaction</th>\n",
       "      <th>evaluation</th>\n",
       "      <th>projectCount</th>\n",
       "      <th>averageMonthlyHours</th>\n",
       "      <th>yearsAtCompany</th>\n",
       "      <th>workAccident</th>\n",
       "      <th>promotion</th>\n",
       "      <th>Department</th>\n",
       "      <th>salary</th>\n",
       "    </tr>\n",
       "  </thead>\n",
       "  <tbody>\n",
       "    <tr>\n",
       "      <th>count</th>\n",
       "      <td>14999.000000</td>\n",
       "      <td>14999.000000</td>\n",
       "      <td>14999.000000</td>\n",
       "      <td>14999.000000</td>\n",
       "      <td>14999.000000</td>\n",
       "      <td>14999.000000</td>\n",
       "      <td>14999.000000</td>\n",
       "      <td>14999.000000</td>\n",
       "      <td>14999.000000</td>\n",
       "      <td>14999.000000</td>\n",
       "    </tr>\n",
       "    <tr>\n",
       "      <th>mean</th>\n",
       "      <td>0.238083</td>\n",
       "      <td>0.612834</td>\n",
       "      <td>0.716102</td>\n",
       "      <td>3.803054</td>\n",
       "      <td>201.050337</td>\n",
       "      <td>3.498233</td>\n",
       "      <td>0.144610</td>\n",
       "      <td>0.021268</td>\n",
       "      <td>3.339823</td>\n",
       "      <td>0.594706</td>\n",
       "    </tr>\n",
       "    <tr>\n",
       "      <th>std</th>\n",
       "      <td>0.425924</td>\n",
       "      <td>0.248631</td>\n",
       "      <td>0.171169</td>\n",
       "      <td>1.232592</td>\n",
       "      <td>49.943099</td>\n",
       "      <td>1.460136</td>\n",
       "      <td>0.351719</td>\n",
       "      <td>0.144281</td>\n",
       "      <td>2.820837</td>\n",
       "      <td>0.637183</td>\n",
       "    </tr>\n",
       "    <tr>\n",
       "      <th>min</th>\n",
       "      <td>0.000000</td>\n",
       "      <td>0.090000</td>\n",
       "      <td>0.360000</td>\n",
       "      <td>2.000000</td>\n",
       "      <td>96.000000</td>\n",
       "      <td>2.000000</td>\n",
       "      <td>0.000000</td>\n",
       "      <td>0.000000</td>\n",
       "      <td>0.000000</td>\n",
       "      <td>0.000000</td>\n",
       "    </tr>\n",
       "    <tr>\n",
       "      <th>25%</th>\n",
       "      <td>0.000000</td>\n",
       "      <td>0.440000</td>\n",
       "      <td>0.560000</td>\n",
       "      <td>3.000000</td>\n",
       "      <td>156.000000</td>\n",
       "      <td>3.000000</td>\n",
       "      <td>0.000000</td>\n",
       "      <td>0.000000</td>\n",
       "      <td>0.000000</td>\n",
       "      <td>0.000000</td>\n",
       "    </tr>\n",
       "    <tr>\n",
       "      <th>50%</th>\n",
       "      <td>0.000000</td>\n",
       "      <td>0.640000</td>\n",
       "      <td>0.720000</td>\n",
       "      <td>4.000000</td>\n",
       "      <td>200.000000</td>\n",
       "      <td>3.000000</td>\n",
       "      <td>0.000000</td>\n",
       "      <td>0.000000</td>\n",
       "      <td>3.000000</td>\n",
       "      <td>1.000000</td>\n",
       "    </tr>\n",
       "    <tr>\n",
       "      <th>75%</th>\n",
       "      <td>0.000000</td>\n",
       "      <td>0.820000</td>\n",
       "      <td>0.870000</td>\n",
       "      <td>5.000000</td>\n",
       "      <td>245.000000</td>\n",
       "      <td>4.000000</td>\n",
       "      <td>0.000000</td>\n",
       "      <td>0.000000</td>\n",
       "      <td>6.000000</td>\n",
       "      <td>1.000000</td>\n",
       "    </tr>\n",
       "    <tr>\n",
       "      <th>max</th>\n",
       "      <td>1.000000</td>\n",
       "      <td>1.000000</td>\n",
       "      <td>1.000000</td>\n",
       "      <td>7.000000</td>\n",
       "      <td>310.000000</td>\n",
       "      <td>10.000000</td>\n",
       "      <td>1.000000</td>\n",
       "      <td>1.000000</td>\n",
       "      <td>9.000000</td>\n",
       "      <td>2.000000</td>\n",
       "    </tr>\n",
       "  </tbody>\n",
       "</table>\n",
       "</div>"
      ],
      "text/plain": [
       "           turnover  satisfaction    evaluation  projectCount  \\\n",
       "count  14999.000000  14999.000000  14999.000000  14999.000000   \n",
       "mean       0.238083      0.612834      0.716102      3.803054   \n",
       "std        0.425924      0.248631      0.171169      1.232592   \n",
       "min        0.000000      0.090000      0.360000      2.000000   \n",
       "25%        0.000000      0.440000      0.560000      3.000000   \n",
       "50%        0.000000      0.640000      0.720000      4.000000   \n",
       "75%        0.000000      0.820000      0.870000      5.000000   \n",
       "max        1.000000      1.000000      1.000000      7.000000   \n",
       "\n",
       "       averageMonthlyHours  yearsAtCompany  workAccident     promotion  \\\n",
       "count         14999.000000    14999.000000  14999.000000  14999.000000   \n",
       "mean            201.050337        3.498233      0.144610      0.021268   \n",
       "std              49.943099        1.460136      0.351719      0.144281   \n",
       "min              96.000000        2.000000      0.000000      0.000000   \n",
       "25%             156.000000        3.000000      0.000000      0.000000   \n",
       "50%             200.000000        3.000000      0.000000      0.000000   \n",
       "75%             245.000000        4.000000      0.000000      0.000000   \n",
       "max             310.000000       10.000000      1.000000      1.000000   \n",
       "\n",
       "         Department        salary  \n",
       "count  14999.000000  14999.000000  \n",
       "mean       3.339823      0.594706  \n",
       "std        2.820837      0.637183  \n",
       "min        0.000000      0.000000  \n",
       "25%        0.000000      0.000000  \n",
       "50%        3.000000      1.000000  \n",
       "75%        6.000000      1.000000  \n",
       "max        9.000000      2.000000  "
      ]
     },
     "execution_count": 12,
     "metadata": {},
     "output_type": "execute_result"
    }
   ],
   "source": [
    "# Display the statistical overview of the employees\n",
    "df.describe()"
   ]
  },
  {
   "cell_type": "markdown",
   "metadata": {
    "_cell_guid": "ca85cdcb-f52b-46de-9e3b-867694d22e2b",
    "_uuid": "d778a2e6d9a5fd623b946df3b7232359efc6887b"
   },
   "source": [
    "###  3b. Correlation Matrix & Heatmap\n",
    "##### Highly correlated features:\n",
    "    1. (+) projectCount & averageMonthlyHours & evaluation\n",
    "    2. (-) turnover & satisfaction & salary\n",
    "*From the heatmap, there seems to be heavy **positive(+)** correlation between projectCount, averageMonthlyHours, and evaluation. Which could mean that the employees who spent more hours and did more projects were evaluated highly. But the feature evaluation, when compared independently with the response variable turnover, shows little to no relationship. What does this mean? For the **negative(-)** relationships, turnover, satisfaction, and salary are highly correlated. I'm assuming that people tend to leave a company more when they are less satisfied and are lowly paid. *"
   ]
  },
  {
   "cell_type": "code",
   "execution_count": 13,
   "metadata": {
    "_cell_guid": "6c46e3ba-906d-4d44-8a8a-f43f6e3087e1",
    "_execution_state": "idle",
    "_uuid": "34f12cc60cd67722dc6dd2921d57ed07c4034329"
   },
   "outputs": [
    {
     "data": {
      "text/html": [
       "<div>\n",
       "<style scoped>\n",
       "    .dataframe tbody tr th:only-of-type {\n",
       "        vertical-align: middle;\n",
       "    }\n",
       "\n",
       "    .dataframe tbody tr th {\n",
       "        vertical-align: top;\n",
       "    }\n",
       "\n",
       "    .dataframe thead th {\n",
       "        text-align: right;\n",
       "    }\n",
       "</style>\n",
       "<table border=\"1\" class=\"dataframe\">\n",
       "  <thead>\n",
       "    <tr style=\"text-align: right;\">\n",
       "      <th></th>\n",
       "      <th>turnover</th>\n",
       "      <th>satisfaction</th>\n",
       "      <th>evaluation</th>\n",
       "      <th>projectCount</th>\n",
       "      <th>averageMonthlyHours</th>\n",
       "      <th>yearsAtCompany</th>\n",
       "      <th>workAccident</th>\n",
       "      <th>promotion</th>\n",
       "      <th>Department</th>\n",
       "      <th>salary</th>\n",
       "    </tr>\n",
       "  </thead>\n",
       "  <tbody>\n",
       "    <tr>\n",
       "      <th>turnover</th>\n",
       "      <td>1.000000</td>\n",
       "      <td>-0.388375</td>\n",
       "      <td>0.006567</td>\n",
       "      <td>0.023787</td>\n",
       "      <td>0.071287</td>\n",
       "      <td>0.144822</td>\n",
       "      <td>-0.154622</td>\n",
       "      <td>-0.061788</td>\n",
       "      <td>-0.043814</td>\n",
       "      <td>-0.157898</td>\n",
       "    </tr>\n",
       "    <tr>\n",
       "      <th>satisfaction</th>\n",
       "      <td>-0.388375</td>\n",
       "      <td>1.000000</td>\n",
       "      <td>0.105021</td>\n",
       "      <td>-0.142970</td>\n",
       "      <td>-0.020048</td>\n",
       "      <td>-0.100866</td>\n",
       "      <td>0.058697</td>\n",
       "      <td>0.025605</td>\n",
       "      <td>0.015413</td>\n",
       "      <td>0.050022</td>\n",
       "    </tr>\n",
       "    <tr>\n",
       "      <th>evaluation</th>\n",
       "      <td>0.006567</td>\n",
       "      <td>0.105021</td>\n",
       "      <td>1.000000</td>\n",
       "      <td>0.349333</td>\n",
       "      <td>0.339742</td>\n",
       "      <td>0.131591</td>\n",
       "      <td>-0.007104</td>\n",
       "      <td>-0.008684</td>\n",
       "      <td>0.011855</td>\n",
       "      <td>-0.013002</td>\n",
       "    </tr>\n",
       "    <tr>\n",
       "      <th>projectCount</th>\n",
       "      <td>0.023787</td>\n",
       "      <td>-0.142970</td>\n",
       "      <td>0.349333</td>\n",
       "      <td>1.000000</td>\n",
       "      <td>0.417211</td>\n",
       "      <td>0.196786</td>\n",
       "      <td>-0.004741</td>\n",
       "      <td>-0.006064</td>\n",
       "      <td>0.005577</td>\n",
       "      <td>-0.001803</td>\n",
       "    </tr>\n",
       "    <tr>\n",
       "      <th>averageMonthlyHours</th>\n",
       "      <td>0.071287</td>\n",
       "      <td>-0.020048</td>\n",
       "      <td>0.339742</td>\n",
       "      <td>0.417211</td>\n",
       "      <td>1.000000</td>\n",
       "      <td>0.127755</td>\n",
       "      <td>-0.010143</td>\n",
       "      <td>-0.003544</td>\n",
       "      <td>-0.002387</td>\n",
       "      <td>-0.002242</td>\n",
       "    </tr>\n",
       "    <tr>\n",
       "      <th>yearsAtCompany</th>\n",
       "      <td>0.144822</td>\n",
       "      <td>-0.100866</td>\n",
       "      <td>0.131591</td>\n",
       "      <td>0.196786</td>\n",
       "      <td>0.127755</td>\n",
       "      <td>1.000000</td>\n",
       "      <td>0.002120</td>\n",
       "      <td>0.067433</td>\n",
       "      <td>-0.001611</td>\n",
       "      <td>0.048715</td>\n",
       "    </tr>\n",
       "    <tr>\n",
       "      <th>workAccident</th>\n",
       "      <td>-0.154622</td>\n",
       "      <td>0.058697</td>\n",
       "      <td>-0.007104</td>\n",
       "      <td>-0.004741</td>\n",
       "      <td>-0.010143</td>\n",
       "      <td>0.002120</td>\n",
       "      <td>1.000000</td>\n",
       "      <td>0.039245</td>\n",
       "      <td>0.019215</td>\n",
       "      <td>0.009247</td>\n",
       "    </tr>\n",
       "    <tr>\n",
       "      <th>promotion</th>\n",
       "      <td>-0.061788</td>\n",
       "      <td>0.025605</td>\n",
       "      <td>-0.008684</td>\n",
       "      <td>-0.006064</td>\n",
       "      <td>-0.003544</td>\n",
       "      <td>0.067433</td>\n",
       "      <td>0.039245</td>\n",
       "      <td>1.000000</td>\n",
       "      <td>0.015170</td>\n",
       "      <td>0.098119</td>\n",
       "    </tr>\n",
       "    <tr>\n",
       "      <th>Department</th>\n",
       "      <td>-0.043814</td>\n",
       "      <td>0.015413</td>\n",
       "      <td>0.011855</td>\n",
       "      <td>0.005577</td>\n",
       "      <td>-0.002387</td>\n",
       "      <td>-0.001611</td>\n",
       "      <td>0.019215</td>\n",
       "      <td>0.015170</td>\n",
       "      <td>1.000000</td>\n",
       "      <td>0.033415</td>\n",
       "    </tr>\n",
       "    <tr>\n",
       "      <th>salary</th>\n",
       "      <td>-0.157898</td>\n",
       "      <td>0.050022</td>\n",
       "      <td>-0.013002</td>\n",
       "      <td>-0.001803</td>\n",
       "      <td>-0.002242</td>\n",
       "      <td>0.048715</td>\n",
       "      <td>0.009247</td>\n",
       "      <td>0.098119</td>\n",
       "      <td>0.033415</td>\n",
       "      <td>1.000000</td>\n",
       "    </tr>\n",
       "  </tbody>\n",
       "</table>\n",
       "</div>"
      ],
      "text/plain": [
       "                     turnover  satisfaction  evaluation  projectCount  \\\n",
       "turnover             1.000000     -0.388375    0.006567      0.023787   \n",
       "satisfaction        -0.388375      1.000000    0.105021     -0.142970   \n",
       "evaluation           0.006567      0.105021    1.000000      0.349333   \n",
       "projectCount         0.023787     -0.142970    0.349333      1.000000   \n",
       "averageMonthlyHours  0.071287     -0.020048    0.339742      0.417211   \n",
       "yearsAtCompany       0.144822     -0.100866    0.131591      0.196786   \n",
       "workAccident        -0.154622      0.058697   -0.007104     -0.004741   \n",
       "promotion           -0.061788      0.025605   -0.008684     -0.006064   \n",
       "Department          -0.043814      0.015413    0.011855      0.005577   \n",
       "salary              -0.157898      0.050022   -0.013002     -0.001803   \n",
       "\n",
       "                     averageMonthlyHours  yearsAtCompany  workAccident  \\\n",
       "turnover                        0.071287        0.144822     -0.154622   \n",
       "satisfaction                   -0.020048       -0.100866      0.058697   \n",
       "evaluation                      0.339742        0.131591     -0.007104   \n",
       "projectCount                    0.417211        0.196786     -0.004741   \n",
       "averageMonthlyHours             1.000000        0.127755     -0.010143   \n",
       "yearsAtCompany                  0.127755        1.000000      0.002120   \n",
       "workAccident                   -0.010143        0.002120      1.000000   \n",
       "promotion                      -0.003544        0.067433      0.039245   \n",
       "Department                     -0.002387       -0.001611      0.019215   \n",
       "salary                         -0.002242        0.048715      0.009247   \n",
       "\n",
       "                     promotion  Department    salary  \n",
       "turnover             -0.061788   -0.043814 -0.157898  \n",
       "satisfaction          0.025605    0.015413  0.050022  \n",
       "evaluation           -0.008684    0.011855 -0.013002  \n",
       "projectCount         -0.006064    0.005577 -0.001803  \n",
       "averageMonthlyHours  -0.003544   -0.002387 -0.002242  \n",
       "yearsAtCompany        0.067433   -0.001611  0.048715  \n",
       "workAccident          0.039245    0.019215  0.009247  \n",
       "promotion             1.000000    0.015170  0.098119  \n",
       "Department            0.015170    1.000000  0.033415  \n",
       "salary                0.098119    0.033415  1.000000  "
      ]
     },
     "execution_count": 13,
     "metadata": {},
     "output_type": "execute_result"
    },
    {
     "data": {
      "image/png": "[encoded data removed]",
      "text/plain": [
       "<Figure size 432x288 with 2 Axes>"
      ]
     },
     "metadata": {
      "needs_background": "light"
     },
     "output_type": "display_data"
    }
   ],
   "source": [
    "#Correlation Matrix\n",
    "corr = df.corr()\n",
    "corr = (corr)\n",
    "sns.heatmap(corr, \n",
    "            xticklabels=corr.columns.values,\n",
    "            yticklabels=corr.columns.values)\n",
    "plt.title('Heatmap of Correlation Matrix')\n",
    "corr"
   ]
  },
  {
   "cell_type": "markdown",
   "metadata": {
    "_cell_guid": "bcc97a19-560d-41ca-aeae-ff94fdc5723d",
    "_uuid": "1ccf6e4a3a74ef50279410fd59ec50e4f6c021d5"
   },
   "source": [
    "###  3c. Turnover V.S. Department \n",
    "**Summary: **\n",
    "*Looks like the top three departments for the company are support, technical, and sales.*\n",
    "*Most of the departments have similar turnover rates, but management has the lowest. This could mean that people with a higher position tend to not leave.*\n"
   ]
  },
  {
   "cell_type": "markdown",
   "metadata": {
    "_cell_guid": "2f4ffee5-29fc-49fc-8aaa-84e4c84e5322",
    "_uuid": "2c768d9c43f87cde3d464cbf824ffa44440c94ea"
   },
   "source": [
    "*The management department has the highest salary ratio and lowest turnover rate.*"
   ]
  },
  {
   "cell_type": "code",
   "execution_count": 14,
   "metadata": {
    "_cell_guid": "d6cead00-3b7f-4cad-9c48-4fa9866344b7",
    "_execution_state": "idle",
    "_uuid": "137feac74ab1d25ade09725b23d0232d0ce430e4"
   },
   "outputs": [
    {
     "data": {
      "text/plain": [
       "<matplotlib.axes._subplots.AxesSubplot at 0x7f55cec66ad0>"
      ]
     },
     "execution_count": 14,
     "metadata": {},
     "output_type": "execute_result"
    },
    {
     "data": {
      "image/png": "[encoded data removed]",
      "text/plain": [
       "<Figure size 360x360 with 1 Axes>"
      ]
     },
     "metadata": {
      "needs_background": "light"
     },
     "output_type": "display_data"
    }
   ],
   "source": [
    "# Department   V.S.   Turnover\n",
    "clarity_color_table = pd.crosstab(index=df[\"Department\"], \n",
    "                          columns=df[\"turnover\"])\n",
    "\n",
    "clarity_color_table.plot(kind=\"bar\", \n",
    "                 figsize=(5,5),\n",
    "                 stacked=True)"
   ]
  },
  {
   "cell_type": "code",
   "execution_count": 15,
   "metadata": {
    "_cell_guid": "25116919-f621-44c0-b70d-498c73fb4637",
    "_execution_state": "idle",
    "_uuid": "3a97c297942b6ac09c287f6b8c8ac0e29c9d920a"
   },
   "outputs": [
    {
     "data": {
      "text/plain": [
       "<matplotlib.axes._subplots.AxesSubplot at 0x7f55ceafb810>"
      ]
     },
     "execution_count": 15,
     "metadata": {},
     "output_type": "execute_result"
    },
    {
     "data": {
      "image/png": "[encoded data removed]",
      "text/plain": [
       "<Figure size 360x360 with 1 Axes>"
      ]
     },
     "metadata": {
      "needs_background": "light"
     },
     "output_type": "display_data"
    }
   ],
   "source": [
    "#Department   V.S.   Salary\n",
    "clarity_color_table = pd.crosstab(index=df[\"Department\"], \n",
    "                          columns=df[\"salary\"])\n",
    "\n",
    "clarity_color_table.plot(kind=\"bar\", \n",
    "                 figsize=(5,5),\n",
    "                 stacked=True)"
   ]
  },
  {
   "cell_type": "markdown",
   "metadata": {
    "_cell_guid": "10dd3c8f-61d5-427b-8dd3-684d36a4a315",
    "_uuid": "7e78e71c6098baf03e87742c6422ebfe1d023761"
   },
   "source": [
    "###  3d. Turnover V.S. Salary \n",
    "**Summary:**\n",
    "*This is a very interesting observation. Almost all of the employees who turnovered came from **low** to **medium** salary levels. Barely anybody that had a **high** salary left the company*"
   ]
  },
  {
   "cell_type": "code",
   "execution_count": 16,
   "metadata": {
    "_cell_guid": "d0116998-be02-403c-9461-f587a8ae4a21",
    "_execution_state": "idle",
    "_uuid": "86ec0483052ac11bb834130d5ebd065578364b31"
   },
   "outputs": [
    {
     "data": {
      "text/plain": [
       "<matplotlib.axes._subplots.AxesSubplot at 0x7f55cea5e750>"
      ]
     },
     "execution_count": 16,
     "metadata": {},
     "output_type": "execute_result"
    },
    {
     "data": {
      "image/png": "[encoded data removed]",
      "text/plain": [
       "<Figure size 360x360 with 1 Axes>"
      ]
     },
     "metadata": {
      "needs_background": "light"
     },
     "output_type": "display_data"
    }
   ],
   "source": [
    "#Salary   V.S.   Turnover\n",
    "clarity_color_table = pd.crosstab(index=df[\"salary\"], \n",
    "                          columns=df[\"turnover\"])\n",
    "\n",
    "clarity_color_table.plot(kind=\"bar\", \n",
    "                 figsize=(5,5),\n",
    "                 stacked=True)"
   ]
  },
  {
   "cell_type": "markdown",
   "metadata": {
    "_cell_guid": "2492b84c-7fdc-458b-aed7-05b44dace683",
    "_uuid": "1a03fb76b9167fe94a8f764d49384aa7866b3473"
   },
   "source": [
    "###  3e. Turnover V.S. Promotion"
   ]
  },
  {
   "cell_type": "markdown",
   "metadata": {
    "_cell_guid": "0b3b59a7-fb64-4cb8-90d3-d82fcce9b886",
    "_uuid": "4b740968f766409d586772df9aedfe5341d7f9f2"
   },
   "source": [
    "**Summary:** Looks like MOSTLY all the employees who had a turnover were not promoted!"
   ]
  },
  {
   "cell_type": "code",
   "execution_count": 17,
   "metadata": {
    "_cell_guid": "acb0a761-483a-42a9-8465-a389afd2d902",
    "_execution_state": "idle",
    "_uuid": "587b0a6016e068641ae03cc816553e0f98d4b0ff"
   },
   "outputs": [
    {
     "data": {
      "text/plain": [
       "<matplotlib.axes._subplots.AxesSubplot at 0x7f55ce967990>"
      ]
     },
     "execution_count": 17,
     "metadata": {},
     "output_type": "execute_result"
    },
    {
     "data": {
      "image/png": "[encoded data removed]",
      "text/plain": [
       "<Figure size 360x360 with 1 Axes>"
      ]
     },
     "metadata": {
      "needs_background": "light"
     },
     "output_type": "display_data"
    }
   ],
   "source": [
    "#Promotion   V.S.   Turnover\n",
    "clarity_color_table = pd.crosstab(index=df[\"promotion\"], \n",
    "                          columns=df[\"turnover\"])\n",
    "\n",
    "clarity_color_table.plot(kind=\"bar\", \n",
    "                 figsize=(5,5),\n",
    "                 stacked=True)"
   ]
  },
  {
   "cell_type": "markdown",
   "metadata": {
    "_cell_guid": "5cd27bf8-86b4-42d8-bb1f-99d786c21d04",
    "_uuid": "d39d10383494b92efd731cf707ffa522bcc3e7d0"
   },
   "source": [
    "### 3f. Turnover V.S. YearsAtCompany "
   ]
  },
  {
   "cell_type": "markdown",
   "metadata": {
    "_cell_guid": "9b554393-0714-4a1d-a4a1-f47a7439a2a3",
    "_uuid": "271b0f58a8b934bf2fcab7691f71fedc0c8dd99f"
   },
   "source": [
    "**Summary:** Looks like the bulk of the employees worked for about 3-6 years before leaving. Employees that worked for 7-10 years did not have anybody who left."
   ]
  },
  {
   "cell_type": "code",
   "execution_count": 18,
   "metadata": {
    "_cell_guid": "2cbf0c67-f9bd-4b59-af63-4187a193546a",
    "_execution_state": "idle",
    "_uuid": "61aeb57761ac711fdf546091f6ba2cff52c1c496"
   },
   "outputs": [
    {
     "data": {
      "text/plain": [
       "<matplotlib.axes._subplots.AxesSubplot at 0x7f55cec3dbd0>"
      ]
     },
     "execution_count": 18,
     "metadata": {},
     "output_type": "execute_result"
    },
    {
     "data": {
      "image/png": "[encoded data removed]",
      "text/plain": [
       "<Figure size 360x360 with 1 Axes>"
      ]
     },
     "metadata": {
      "needs_background": "light"
     },
     "output_type": "display_data"
    }
   ],
   "source": [
    "#YearsAtCompany   V.S.   Turnover\n",
    "clarity_color_table = pd.crosstab(index=df[\"yearsAtCompany\"], \n",
    "                          columns=df[\"turnover\"])\n",
    "\n",
    "clarity_color_table.plot(kind=\"bar\", \n",
    "                 figsize=(5,5),\n",
    "                 stacked=True)"
   ]
  },
  {
   "cell_type": "code",
   "execution_count": 19,
   "metadata": {
    "_cell_guid": "3b1fe9df-184e-4312-b9bb-a94aa313fd21",
    "_execution_state": "idle",
    "_uuid": "66fdbdfb242533d9c576d84cdce0644cf5c664ca"
   },
   "outputs": [
    {
     "data": {
      "text/plain": [
       "<matplotlib.axes._subplots.AxesSubplot at 0x7f55ce86dd50>"
      ]
     },
     "execution_count": 19,
     "metadata": {},
     "output_type": "execute_result"
    },
    {
     "data": {
      "image/png": "[encoded data removed]",
      "text/plain": [
       "<Figure size 432x288 with 1 Axes>"
      ]
     },
     "metadata": {
      "needs_background": "light"
     },
     "output_type": "display_data"
    }
   ],
   "source": [
    "#Frequency table of Turnover VS YearsAtCompany\n",
    "df.loc[(df['turnover'] == 1),'yearsAtCompany'].plot(kind='hist', normed=1, bins=15, stacked=False, alpha=1)"
   ]
  },
  {
   "cell_type": "markdown",
   "metadata": {
    "_cell_guid": "b0ce0fe7-5066-4d29-9569-eb6e8c922f5f",
    "_uuid": "6012e49af7a11cfaf03bf77adf64d1b8caebf5d0"
   },
   "source": [
    "###  3g. Turnover V.S. ProjectCount \n",
    "**Summary:** *This graph is quite interesting as well. More than half of the employees that only had 2 projects left the company. Same can be said with employees who had project counts from 6-7. Maybe this means that employees with project counts 2 or less are not worked enough or are not highly valued, thus leaving the company? And maybe employees with 6+ projects are getting overworked, thus leaving the company?*\n",
    "\n",
    "It looks like a majority of the employes who left only had two projects. Also, you can see an increase in turnover as the number of projects increase. 3 Projects seems to be the sweet spot."
   ]
  },
  {
   "cell_type": "code",
   "execution_count": 20,
   "metadata": {
    "_cell_guid": "b0ebf49a-3917-4f65-a399-539569e3dda4",
    "_execution_state": "idle",
    "_uuid": "f0eb86a7bdee4828346121f42afe3c8879ce0c61"
   },
   "outputs": [
    {
     "data": {
      "text/plain": [
       "<matplotlib.axes._subplots.AxesSubplot at 0x7f55ce81ff50>"
      ]
     },
     "execution_count": 20,
     "metadata": {},
     "output_type": "execute_result"
    },
    {
     "data": {
      "image/png": "[encoded data removed]",
      "text/plain": [
       "<Figure size 360x360 with 1 Axes>"
      ]
     },
     "metadata": {
      "needs_background": "light"
     },
     "output_type": "display_data"
    }
   ],
   "source": [
    "#projectCount V.S. turnover\n",
    "clarity_color_table = pd.crosstab(index=df[\"projectCount\"], \n",
    "                          columns=df[\"turnover\"])\n",
    "\n",
    "clarity_color_table.plot(kind=\"bar\", \n",
    "                 figsize=(5,5),\n",
    "                 stacked=True)"
   ]
  },
  {
   "cell_type": "code",
   "execution_count": 21,
   "metadata": {
    "_cell_guid": "d7568e81-ee6c-4d07-b6db-8a7fcff32968",
    "_execution_state": "idle",
    "_uuid": "e60df82ebc3e8c56e785910eca8f382d3ac3f333"
   },
   "outputs": [
    {
     "data": {
      "text/plain": [
       "<matplotlib.axes._subplots.AxesSubplot at 0x7f55ce7a6090>"
      ]
     },
     "execution_count": 21,
     "metadata": {},
     "output_type": "execute_result"
    },
    {
     "data": {
      "image/png": "[encoded data removed]",
      "text/plain": [
       "<Figure size 432x288 with 1 Axes>"
      ]
     },
     "metadata": {
      "needs_background": "light"
     },
     "output_type": "display_data"
    }
   ],
   "source": [
    "# Here is a histogram that shows the frequency of people who left the company and the amount of projects they had.\n",
    "# It looks like a majority of the employes who left only had two projects\n",
    "# Also, you can see an increase in turnover as the number of projects increase. \n",
    "# 3 Projects seems to be the sweet spot.\n",
    "df.loc[(df['turnover'] == 1),'projectCount'].plot(kind='hist', normed=1, bins=15, stacked=False, alpha=1)"
   ]
  },
  {
   "cell_type": "markdown",
   "metadata": {
    "_cell_guid": "dadac107-bcc6-4500-ac88-5093556e417e",
    "_uuid": "e09b24cf438a1858b678b67a225ca7aa02176f89"
   },
   "source": [
    "###  3h. Turnover V.S. Evaluation \n",
    "**Summary:** *There seems to be a biomodal distrubtion for those that had a turnover. It looks like employees who performed bad or performed well left the company. The sweet spot seems for those that stayed seems to be within 0.6-0.8."
   ]
  },
  {
   "cell_type": "code",
   "execution_count": 22,
   "metadata": {
    "_cell_guid": "5162be79-9f83-466b-95dc-e1bda7edc346",
    "_execution_state": "idle",
    "_uuid": "12b1c53f9de31adc7a61ba10dde6a38bd325c350"
   },
   "outputs": [
    {
     "data": {
      "text/plain": [
       "Text(0.5, 1.0, 'Last evaluation')"
      ]
     },
     "execution_count": 22,
     "metadata": {},
     "output_type": "execute_result"
    },
    {
     "data": {
      "image/png": "[encoded data removed]",
      "text/plain": [
       "<Figure size 720x288 with 1 Axes>"
      ]
     },
     "metadata": {
      "needs_background": "light"
     },
     "output_type": "display_data"
    }
   ],
   "source": [
    "fig = plt.figure(figsize=(10,4),)\n",
    "ax=sns.kdeplot(df.loc[(df['turnover'] == 0),'evaluation'] , color='b',shade=True,label='no turnover')\n",
    "ax=sns.kdeplot(df.loc[(df['turnover'] == 1),'evaluation'] , color='r',shade=True, label='turnover')\n",
    "plt.title('Last evaluation')"
   ]
  },
  {
   "cell_type": "markdown",
   "metadata": {
    "_cell_guid": "a18e3311-b912-4329-8d08-0cdf04c45fa0",
    "_uuid": "4ebe5d466ebb0f0da00b7dab05bfce1b9b3dd28d"
   },
   "source": [
    "###  3i. Turnover V.S. AverageMonthlyHours \n",
    "**Summary:** Another noticeable bi-modal distrubtion for employees that turnovered. It looks like employees who had less hours of work (~150hours or less) and employees who had too many hours of work (~250 or more) left the company. Meaning that employees who left generally were underworked or overworked.\n"
   ]
  },
  {
   "cell_type": "code",
   "execution_count": 23,
   "metadata": {
    "_cell_guid": "fde71f8a-e90d-4fd4-b0c0-a8311719fbeb",
    "_execution_state": "idle",
    "_uuid": "3380986ab252fb613a9e72ba3acf1317b947a270",
    "scrolled": true
   },
   "outputs": [
    {
     "data": {
      "text/plain": [
       "Text(0.5, 1.0, 'Average monthly hours worked')"
      ]
     },
     "execution_count": 23,
     "metadata": {},
     "output_type": "execute_result"
    },
    {
     "data": {
      "image/png": "[encoded data removed]",
      "text/plain": [
       "<Figure size 720x288 with 1 Axes>"
      ]
     },
     "metadata": {
      "needs_background": "light"
     },
     "output_type": "display_data"
    }
   ],
   "source": [
    "#KDEPlot: Kernel Density Estimate Plot\n",
    "fig = plt.figure(figsize=(10,4))\n",
    "ax=sns.kdeplot(df.loc[(df['turnover'] == 0),'averageMonthlyHours'] , color='b',shade=True, label='no turnover')\n",
    "ax=sns.kdeplot(df.loc[(df['turnover'] == 1),'averageMonthlyHours'] , color='r',shade=True, label='turnover')\n",
    "plt.title('Average monthly hours worked')"
   ]
  },
  {
   "cell_type": "markdown",
   "metadata": {
    "_cell_guid": "07040dbd-b2c0-46a8-9389-faae1a4b88db",
    "_uuid": "8d38a4b61082a7aca2d45099cc50614c5e2b7861"
   },
   "source": [
    "###  3j. ProjectCount VS AverageMonthlyHours "
   ]
  },
  {
   "cell_type": "markdown",
   "metadata": {
    "_cell_guid": "96224e62-a538-46a7-913d-a9191926e4ba",
    "_uuid": "fc36991a4fab41d89f263b673977fac2ee767cf5"
   },
   "source": [
    "\n",
    "**Interesting Notice:**\n",
    "Something weird about the boxplot graph is the difference in averageMonthlyHours between people who had a turnver and did not. \n",
    "Looks like employees who did not have a turnover had consistent averageMonthlyHours, despite the increase in projects.\n",
    "In contrast, employees who did have a turnover had an increase in averageMonthlyHours with the increase in projects.\n",
    "\n",
    "**Questions to think about:** What could be the meaning for this? Why is it that employees who left worked more hours than employees who didn't, even with the same project count?"
   ]
  },
  {
   "cell_type": "code",
   "execution_count": 24,
   "metadata": {
    "_cell_guid": "f216d9bf-b5fc-4f67-bc4f-1b8d3262078b",
    "_execution_state": "idle",
    "_uuid": "96d213f3d5172532a74038f0c199e2ec99599e96"
   },
   "outputs": [
    {
     "data": {
      "text/plain": [
       "<matplotlib.axes._subplots.AxesSubplot at 0x7f55d1536f50>"
      ]
     },
     "execution_count": 24,
     "metadata": {},
     "output_type": "execute_result"
    },
    {
     "data": {
      "image/png": "[encoded data removed]",
      "text/plain": [
       "<Figure size 432x288 with 1 Axes>"
      ]
     },
     "metadata": {
      "needs_background": "light"
     },
     "output_type": "display_data"
    }
   ],
   "source": [
    "#ProjectCount VS AverageMonthlyHours [BOXPLOT]\n",
    "#Looks like the average employees who stayed worked about 200hours/month. Those that had a turnover worked about 250hours/month and 150hours/month\n",
    "\n",
    "import seaborn as sns\n",
    "sns.boxplot(x=\"projectCount\", y=\"averageMonthlyHours\", hue=\"turnover\", data=df)"
   ]
  },
  {
   "cell_type": "markdown",
   "metadata": {
    "_cell_guid": "8baee0c7-3a2b-4a25-8197-094a800d9731",
    "_uuid": "008448a39c8f58d094737ee1e8ff1eca54977975"
   },
   "source": [
    "###  3k. ProjectCount VS Evaluation"
   ]
  },
  {
   "cell_type": "markdown",
   "metadata": {
    "_cell_guid": "27ce20bf-6e0b-4a97-bb36-3d5c4d220485",
    "_uuid": "c3116e4b68f8b33cb3a6b8ecf09bfb799a9a0b93"
   },
   "source": [
    "**Interesting Notice:** This graph looks very similar to the graph above. What I find strange with this graph is with the turnover group. There seems to be an increase in evaluation for employees who did more projects within the turnover group. But, again for the non-turnover group, employees here had a consistent evaluation score despite the increase in project counts. \n",
    "\n",
    "**Questions to think about:** Why is it that employees who left, had on average, a higher evaluation than employees who did not leave, even with an increase in project count? Shouldn't employees with lower evaluations tend to leave the company more? "
   ]
  },
  {
   "cell_type": "code",
   "execution_count": 25,
   "metadata": {
    "_cell_guid": "92bb2ddf-364e-4981-b1d4-0e10b563532b",
    "_execution_state": "idle",
    "_uuid": "289be2b08ad71a6ccfd3cc3ec596515281196b93"
   },
   "outputs": [
    {
     "data": {
      "text/plain": [
       "<matplotlib.axes._subplots.AxesSubplot at 0x7f55cd711c90>"
      ]
     },
     "execution_count": 25,
     "metadata": {},
     "output_type": "execute_result"
    },
    {
     "data": {
      "image/png": "[encoded data removed]",
      "text/plain": [
       "<Figure size 432x288 with 1 Axes>"
      ]
     },
     "metadata": {
      "needs_background": "light"
     },
     "output_type": "display_data"
    }
   ],
   "source": [
    "#ProjectCount VS Evaluation\n",
    "#Looks like employees who did not leave the company had an average evaluation of around 70% even with different projectCounts\n",
    "#There is a huge skew in employees who had a turnover though. It drastically changes after 3 projectCounts. \n",
    "#Employees that had two projects and a horrible evaluation left. Employees with more than 3 projects and super high evaluations left\n",
    "import seaborn as sns\n",
    "sns.boxplot(x=\"projectCount\", y=\"evaluation\", hue=\"turnover\", data=df)"
   ]
  },
  {
   "cell_type": "markdown",
   "metadata": {
    "_cell_guid": "116e3207-c1c1-4ef4-80ae-b9d633047715",
    "_uuid": "7fcc2839b5aeb1630e0869f094c39893def73177"
   },
   "source": [
    "###  3l. ProjectCount VS Evaluation VS Satisfaction [SCATTER MATRIX]"
   ]
  },
  {
   "cell_type": "markdown",
   "metadata": {
    "_cell_guid": "9105282b-c1fa-4346-ae92-44c4696358a2",
    "_uuid": "2195d99f56f55036a2181a309aa29802548aa8e4"
   },
   "source": [
    "**Interesting Notice:** On the bottom left hand corner of the matrix (Evaluation VS Satisfaction)\n",
    "From the scatter matrix, you can see that there are three distinct clusters for Evluation VS Satisfaction. \n",
    "\n",
    "**Possible Feature Engineering?**\n",
    "\n",
    "*Cluster 1:* Satisfaction was below 0.2 and evaluations were greater than 0.75. Which could be a good indication that employees who left the company were good workers but felt horrible at their job. What could be the reason for feeling so horrible when you are highly evaluated? Could it be working too hard? Could this cluster mean employees who are \"overworked\"?\n",
    "\n",
    "*Cluster 2:* Satisfaction between about 0.35~0.45 and evaluations below ~0.58. This could be seen as employees who were badly evaluated and felt bad at work. Which could mean that employees in this cluster were not performing as well and felt bad. Could this cluster mean employees who \"under-performed\"?\n",
    "\n",
    "*Cluster 3:* Satisfaction between 0.7~1.0 and evaluations were greater than 0.8. Which could mean that employees in this cluster were \"ideal\". They loved their work and were evaluated highly for their performance. Maybe employees in this category left because they found another job opportunity?"
   ]
  },
  {
   "cell_type": "code",
   "execution_count": 26,
   "metadata": {
    "_cell_guid": "bda26595-3196-4bcb-b5cd-fde77f4c2295",
    "_execution_state": "idle",
    "_uuid": "95dd97c94f5913b4843383f79afd8bda2da631c7"
   },
   "outputs": [
    {
     "data": {
      "text/plain": [
       "array([[<matplotlib.axes._subplots.AxesSubplot object at 0x7f55cd36e110>,\n",
       "        <matplotlib.axes._subplots.AxesSubplot object at 0x7f55cd3a2f10>,\n",
       "        <matplotlib.axes._subplots.AxesSubplot object at 0x7f55cd35abd0>],\n",
       "       [<matplotlib.axes._subplots.AxesSubplot object at 0x7f55cd319f50>,\n",
       "        <matplotlib.axes._subplots.AxesSubplot object at 0x7f55cd2cdc10>,\n",
       "        <matplotlib.axes._subplots.AxesSubplot object at 0x7f55cd287b10>],\n",
       "       [<matplotlib.axes._subplots.AxesSubplot object at 0x7f55cd247f90>,\n",
       "        <matplotlib.axes._subplots.AxesSubplot object at 0x7f55cd1fab50>,\n",
       "        <matplotlib.axes._subplots.AxesSubplot object at 0x7f55cd2046d0>]],\n",
       "      dtype=object)"
      ]
     },
     "execution_count": 26,
     "metadata": {},
     "output_type": "execute_result"
    },
    {
     "data": {
      "image/png": "[encoded data removed]",
      "text/plain": [
       "<Figure size 720x720 with 9 Axes>"
      ]
     },
     "metadata": {
      "needs_background": "light"
     },
     "output_type": "display_data"
    }
   ],
   "source": [
    "from pandas.plotting import scatter_matrix\n",
    "import matplotlib.pyplot as plt\n",
    "\n",
    "# SCATTER MATRIX FOR EMPLOYEES WHO TURNOVERED\n",
    "fig, ax = plt.subplots(figsize=(10,10))\n",
    "turnoverDF = df[df['turnover']==1]\n",
    "scatter_matrix(turnoverDF[['satisfaction','projectCount','evaluation']], alpha=0.2, diagonal='hist', ax=ax)"
   ]
  },
  {
   "cell_type": "markdown",
   "metadata": {
    "_cell_guid": "bb5ccd6a-6966-4a17-b49c-89e6c730e160",
    "_uuid": "c7cadcfedde6ddb196897f7210e38b10b75ee8b3"
   },
   "source": [
    "# Part 4: Modeling the Data "
   ]
  },
  {
   "cell_type": "code",
   "execution_count": 27,
   "metadata": {
    "_cell_guid": "e31b3694-b63e-4075-9469-2a4a96741716",
    "_execution_state": "idle",
    "_uuid": "6b5ba3019309c839929c4fa3d029275537bfd11f"
   },
   "outputs": [],
   "source": [
    "# Train-Test split\n",
    "from sklearn.model_selection import train_test_split\n",
    "label = df.pop('turnover')\n",
    "data_train, data_test, label_train, label_test = train_test_split(df, label, test_size = 0.2, random_state = 15)"
   ]
  },
  {
   "cell_type": "code",
   "execution_count": 28,
   "metadata": {
    "_cell_guid": "8dd25c18-afaa-495c-a4aa-ef4e94935c85",
    "_execution_state": "idle",
    "_uuid": "f03d2c9ac1f18c0717c128de5929a3c8a7aa3d0e"
   },
   "outputs": [
    {
     "name": "stdout",
     "output_type": "stream",
     "text": [
      "Training score:  0.7879823318609884\n",
      "Testing score:  0.7853333333333333\n"
     ]
    }
   ],
   "source": [
    "# Logistic Regression\n",
    "from sklearn.linear_model import LogisticRegression\n",
    "lg = LogisticRegression()\n",
    "lg.fit(data_train, label_train)\n",
    "lg_score_train = lg.score(data_train, label_train)\n",
    "print(\"Training score: \",lg_score_train)\n",
    "lg_score_test = lg.score(data_test, label_test)\n",
    "print(\"Testing score: \",lg_score_test)"
   ]
  },
  {
   "cell_type": "markdown",
   "metadata": {
    "_cell_guid": "c6d252cb-24e2-4bcf-a8ec-3548d95cecd1",
    "_uuid": "90ba900ab997fc851dbeea5b41da5f1a88032237"
   },
   "source": [
    "# Part 5: Interpreting the Data "
   ]
  },
  {
   "cell_type": "markdown",
   "metadata": {
    "_cell_guid": "c42ca80f-44f2-4d4a-bfdb-1166fb2b1c53",
    "_uuid": "e52759603d612d9cd447888933472bf79ddfa325"
   },
   "source": [
    "**Brief Summary of Employee Turnover:**\n",
    "1. Employees leave when working ~6hours/day (underworked) and ~10hours/day (overworked)\n",
    "2. Majority of employees that left had LOW-MEDIUM salary\n",
    "3. Majority of employees that left did not get promoted\n",
    "4. Majority of employees who left had evaluation scores below 0.6 and above 0.8\n",
    "5. As the project count increased, so did the turnover rate. Majority of employees who left had 2 project. Every employee with 7 projects left. Project count of 3 seemed to be the sweet spot of having the least amount of turnovers."
   ]
  },
  {
   "cell_type": "markdown",
   "metadata": {
    "_cell_guid": "4c395caa-0e83-4034-b919-9afb5b804904",
    "_uuid": "3b705b461024a00c25e4160eb31f7fb58d78aeb6"
   },
   "source": [
    "**Can you find some trends?:**\n",
    "1. ProjectCount, Average Monthly Hours, and Evaluation had a POSITIVE correlation with each other. Meaning the more you worked the higher evaluation you get.\n",
    "2. Turnover, Satisfaction, and Salary had a NEGATIVE correlation with each other. Meaning the lower satisfaction and salary yielded a higher turnover rate."
   ]
  },
  {
   "cell_type": "markdown",
   "metadata": {
    "_cell_guid": "e5628a86-1f60-41e0-83a2-975c3040b0c3",
    "_uuid": "751a02cadca9c9f4fca4675a40acc9bd23904780"
   },
   "source": [
    "**Questions for Consideration:**\n",
    "    1. What happens when we lose employees?\n",
    "    2. Why does satisfaction affect turnover the most?\n",
    "    3. What contributes to higher satisfaction? Lower satisfaction?\n",
    "    4. Why was there so little promotions?\n",
    "    5. Why is it that employees who left worked more hours than employees who didn't, even with the same amount of projects?\n",
    "    6. Why is it that employees who left, had on average, a higher evaluation than employees who did not leave, even with an increase in project count? Shouldn't employees with lower evaluations tend to leave the company more?"
   ]
  },
  {
   "cell_type": "markdown",
   "metadata": {
    "_cell_guid": "b1a098e5-148d-4e7e-b610-d1b69dddc308",
    "_uuid": "1ac686cc217d27f6efb8cafd7113750b16f3ae57"
   },
   "source": [
    "**Quotes:** \n",
    "1. \"Clients do not come first. Employees come first. If you take care of your employees, they will take care of the clients\" - Richard Branson\n",
    "2. \"You don't build a business. You build people, and people build the business\" - Zig Ziglar"
   ]
  }
 ],
 "metadata": {
  "kernelspec": {
   "display_name": "Python 3 (ipykernel)",
   "language": "python",
   "name": "python3"
  },
  "language_info": {
   "codemirror_mode": {
    "name": "ipython",
    "version": 3
   },
   "file_extension": ".py",
   "mimetype": "text/x-python",
   "name": "python",
   "nbconvert_exporter": "python",
   "pygments_lexer": "ipython3",
   "version": "3.11.7"
  }
 },
 "nbformat": 4,
 "nbformat_minor": 4
}
