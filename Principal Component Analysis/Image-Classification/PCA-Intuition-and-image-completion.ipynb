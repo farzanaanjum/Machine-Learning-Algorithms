{
 "cells": [
  {
   "cell_type": "code",
   "execution_count": 1,
   "metadata": {
    "_cell_guid": "b1076dfc-b9ad-4769-8c92-a6c4dae69d19",
    "_uuid": "8f2839f25d086af736a60e9eeb907d3b93b6e0e5",
    "collapsed": true,
    "jupyter": {
     "outputs_hidden": true
    }
   },
   "outputs": [],
   "source": [
    "# This Python 3 environment comes with many helpful analytics libraries installed\n",
    "# It is defined by the kaggle/python docker image: https://github.com/kaggle/docker-python\n",
    "# For example, here's several helpful packages to load in \n",
    "\n",
    "import numpy as np # linear algebra\n",
    "import pandas as pd # data processing, CSV file I/O (e.g. pd.read_csv)\n",
    "import matplotlib.pyplot as plt\n",
    "from sklearn import linear_model\n",
    "from sklearn import decomposition\n",
    "from sklearn.linear_model import RidgeCV\n",
    "# Input data files are available in the \"../input/\" directory.\n",
    "# For example, running this (by clicking run or pressing Shift+Enter) will list the files in the input directory\n",
    "import time\n",
    "import os\n",
    "print(os.listdir(\"../input\"))\n",
    "import warnings\n",
    "warnings.filterwarnings('ignore')\n",
    "# Any results you write to the current directory are saved as output."
   ]
  },
  {
   "cell_type": "markdown",
   "metadata": {
    "_cell_guid": "5f9cae90-118b-481c-af6b-efce533df943",
    "_uuid": "4207651efde3a20f2ed796ba2dbefeeffdc4d858"
   },
   "source": [
    "# Sign Language Digits completion with a multi-output estimators\n",
    "* While searching on the internet and I saw completion with multi - output estimators.\n",
    "* It looks like very cool to me and I want to share with you :)\n",
    "* In this kernel use of multi-output estimator to complete images. The goal is to predict the lower half of a sign language digits given its upper half. For example, we will train our model with first part and it will predict the second part. \n",
    "<a href=\"http://ibb.co/jp0aNc\"><img src=\"http://preview.ibb.co/i3hphc/17.jpg\" alt=\"17\" border=\"0\"></a><br />\n",
    "* We will use **ridge regression with cross validation.**\n",
    "    * **What is ridge regression:** Linear least squares with l2 regularization\n",
    "        * **What is linear least square:** it is basically line fitting.<a href=\"http://ibb.co/ibwJ8H\"><img src=\"http://preview.ibb.co/eWkBTH/18.jpg\" alt=\"18\" border=\"0\"></a><br />\n",
    "        * **What is l2 regularization:** Shortly, regularization is penalty term. When our model learn too much (over fit), we need to avoid it with regularization(penalty). Because, if we do not use regularization data will memorize the training set and cannot predict test set very well. For further information check my machine learning tutorial. For this kernel dop not worried how to implement it, we will use sklearn. https://www.kaggle.com/kanncaa1/machine-learning-tutorial-for-beginners\n",
    "    * **What is cross validation:** Cross-validation is a technique to evaluate predictive models by partitioning the original sample into a training set to train the model, and a test set to evaluate it.  \n",
    "    <a href=\"http://imgbb.com/\"><img src=\"http://image.ibb.co/mHSdax/19.jpg\" alt=\"19\" border=\"0\"></a>"
   ]
  },
  {
   "cell_type": "markdown",
   "metadata": {
    "_cell_guid": "0ba4933e-c77e-4d22-8c57-275e92eb7339",
    "_uuid": "1594a243e7a70f34b1c9457a3d743ef464e3e841"
   },
   "source": [
    "* Our data is sign language digits dataset.\n",
    "* Shape of our data is (2062,64,64). \n",
    "    * 2062 is number of images.\n",
    "    * There are 64x64 pixels.\n",
    "* Lets load the data. We will use all images that are from zero to nine.\n",
    "* There are totally 2062 images.\n",
    "* I will plot one sample from each digits."
   ]
  },
  {
   "cell_type": "code",
   "execution_count": 2,
   "metadata": {
    "_cell_guid": "79c7e3d0-c299-4dcb-8224-4455121ee9b0",
    "_uuid": "d629ff2d2480ee46fbb7e2d37f6b5fab8052498a",
    "collapsed": true,
    "jupyter": {
     "outputs_hidden": true
    }
   },
   "outputs": [],
   "source": [
    "# load data set\n",
    "x_load = np.load('../input/Sign-language-digits-dataset/X.npy')\n",
    "y_load = np.load('../input/Sign-language-digits-dataset/Y.npy')\n",
    "img_size = 64\n",
    "\n",
    "# one sample from each digits\n",
    "image_index_list = [260,900,1800,1600,1400,2061,700,500,1111,100]\n",
    "for each in range(10):\n",
    "    plt.figure(figsize=(8,5))\n",
    "    plt.imshow(x_load[image_index_list[each]].reshape(img_size, img_size))\n",
    "    plt.axis('off')\n",
    "    title = \"Sign \" + str(each) \n",
    "    plt.title(title)\n",
    "plt.show()"
   ]
  },
  {
   "cell_type": "markdown",
   "metadata": {
    "_cell_guid": "0640b48d-890a-4c8d-b9d9-fb4206324de1",
    "_uuid": "d1697e3e5e203e2bb1a1272f1e1ca25788e1e451",
    "collapsed": true,
    "jupyter": {
     "outputs_hidden": true
    }
   },
   "source": [
    "* As a training set we will use all images.\n",
    "* As a test set we will choose ten images and use them.\n",
    "* reshape(-1) :  It simply means that it is an unknown dimension and we want numpy to figure it out\n",
    "* Difference between \"//\" and \"/\": for example 4097/2 = 2048.5 (division) and 4097//2 = 2048\n",
    " "
   ]
  },
  {
   "cell_type": "code",
   "execution_count": 3,
   "metadata": {
    "_cell_guid": "cf6a7cfe-017f-49a0-84a5-7391472c475b",
    "_uuid": "dfe30624ba3604339a59a041e24cbbec99f2784a",
    "collapsed": true,
    "jupyter": {
     "outputs_hidden": true
    }
   },
   "outputs": [],
   "source": [
    "X = x_load.reshape((len(x_load), -1)) \n",
    "train = X\n",
    "test = X[image_index_list]\n",
    "n_pixels = X.shape[1]\n",
    "# Upper half of the faces\n",
    "X_train = train[:, :(n_pixels + 1) // 2]\n",
    "X_test = test[:, :(n_pixels + 1) // 2]\n",
    "# Lower half of the faces\n",
    "y_train = train[:, n_pixels // 2:]\n",
    "y_test = test[:, n_pixels // 2:]\n",
    "print(X_train.shape)\n",
    "print(y_train.shape)\n",
    "print(X_test.shape)\n",
    "print(y_test.shape)"
   ]
  },
  {
   "cell_type": "markdown",
   "metadata": {
    "_cell_guid": "c50ef966-3cfb-4d18-8d00-e51901acc836",
    "_uuid": "cf1022cd12cefa3f14dc288435323437ed9fb6f4"
   },
   "source": [
    "* As I mentioned, we will use ridgeCV.\n",
    "* Also lets print the training and prediction time\n"
   ]
  },
  {
   "cell_type": "code",
   "execution_count": 4,
   "metadata": {
    "_cell_guid": "38f75236-2e19-4bf5-84cb-e5fba6dd3ff3",
    "_uuid": "cda4feaa79d0100c273e940828d3234b3dc5dfea",
    "collapsed": true,
    "jupyter": {
     "outputs_hidden": true
    }
   },
   "outputs": [],
   "source": [
    "# Fit estimators\n",
    "estimator = RidgeCV()\n",
    "start = time.time()   # returns in second\n",
    "estimator.fit(X_train, y_train)\n",
    "end = time.time()\n",
    "print(\"Training time is \"+ str(end - start) + \" second.\")\n",
    "start = time.time()   # returns in second\n",
    "y_test_predict = estimator.predict(X_test)\n",
    "end = time.time()\n",
    "print(\"Prediction time is \"+ str(end - start) + \" second.\")"
   ]
  },
  {
   "cell_type": "markdown",
   "metadata": {
    "_cell_guid": "33fb0beb-1113-4cef-9a9a-3165b5177a11",
    "_uuid": "3505e6fb7fd381465e70167ee843fbeb8a2ef16f"
   },
   "source": [
    "* Now lets visualize how we complete our images."
   ]
  },
  {
   "cell_type": "code",
   "execution_count": 5,
   "metadata": {
    "_cell_guid": "dc064c0b-b360-4219-a690-355db51b2ac9",
    "_uuid": "150b021753dacaca0269355cf1d8d064b9fc09e7",
    "collapsed": true,
    "jupyter": {
     "outputs_hidden": true
    }
   },
   "outputs": [],
   "source": [
    "# Plot the completed faces\n",
    "image_shape = (64, 64)\n",
    "n_faces = 10\n",
    "n_cols = 1"
   ]
  },
  {
   "cell_type": "code",
   "execution_count": 6,
   "metadata": {
    "_cell_guid": "81aef87a-ba38-47b8-83f1-e0677972a1b9",
    "_uuid": "bfe6019c15d612338cce3588f48cfaeb3397def3",
    "collapsed": true,
    "jupyter": {
     "outputs_hidden": true
    }
   },
   "outputs": [],
   "source": [
    "# Plot the completed faces\n",
    "image_shape = (64, 64)\n",
    "plt.figure(figsize=(8, 24))\n",
    "for i in range(10):\n",
    "    true_digits = np.hstack((X_test[i], y_test[i]))\n",
    "    if i:\n",
    "        sub = plt.subplot(10, 2, i * 2 + 1)\n",
    "    else:\n",
    "        sub = plt.subplot(10, 2, i * 2 + 1, title=\"true digits\")\n",
    "    \n",
    "    sub.imshow(true_digits.reshape(image_shape),interpolation=\"nearest\")\n",
    "    sub.axis(\"off\")\n",
    "    completed_digits = np.hstack((X_test[i], y_test_predict[i]))\n",
    "\n",
    "    if i:\n",
    "        sub = plt.subplot(10, 2, i * 2 + 2 )\n",
    "\n",
    "    else:\n",
    "        sub = plt.subplot(10, 2, i * 2 + 2,title=\"RidgeCV\")\n",
    "\n",
    "    sub.imshow(completed_digits.reshape(image_shape),interpolation=\"nearest\")\n",
    "    sub.axis(\"off\")\n",
    "\n",
    "plt.show()"
   ]
  },
  {
   "cell_type": "markdown",
   "metadata": {
    "_cell_guid": "4ca2b634-c818-486c-b7f1-3368d5cc4e3c",
    "_uuid": "2c08804e7c030d7c4892f319949810447af1433f",
    "collapsed": true,
    "jupyter": {
     "outputs_hidden": true
    }
   },
   "source": [
    "## Principle Componenet Analysis (PCA)\n",
    "* I think it is very cool and good understanding way of PCA. \n",
    "* Fundemental dimension reduction technique\n",
    "* It is real life example. I hope it makes more sence for you.\n",
    "* Now lets try one more thing. \n",
    "* As you remember training time is almost 45 second. I think it is too much time. The reason of this time is number of sample(2062) and number of feature(4096). \n",
    "* There is two way to decrease time spend.\n",
    "    1. Decrease number of sample that I do no recommend.\n",
    "    1. Decrease number of features. As you see from images all signs are in the middle of the frames. Therefore, around signs are same for all signs. <a href=\"http://imgbb.com/\"><img src=\"http://image.ibb.co/nAu55x/20.jpg\" alt=\"20\" border=\"0\"></a>\n",
    "    * Think that all of the pixels are feature. Features which are out of the red frame is useless but pixels in red frame take part in  training and prediction steps.  Therefore, we need to make dimension reduction. \n",
    "    * PCA: Principle componenet analysis\n",
    "        * One of the most popular dimension reduction technique.\n",
    "        * PCA  uses high variances. It means that it likes diversity. For example compare two images above. oUt of red frame there is no diversity (high variance). On the other hand, in red frames there is diversity.\n",
    "            * first step is decorrelation:\n",
    "                * rotates data samples to be aligned with axes\n",
    "                * shifts data SAmples so they have mean zero\n",
    "                * no information lost\n",
    "                * fit() : learn how to shift samples\n",
    "                * transform(): apply the learned transformation. It can also be applies test data( We do not use here but it is  good to know it.)\n",
    "                * Resulting PCA features are not linearly correlated\n",
    "                * Principle components: directions of variance\n",
    "            * Second step: intrinsic dimension: number of feature needed to approximate the data essential idea behind dimension reduction\n",
    "                * PCA identifies intrinsic dimension when samples have any number of features\n",
    "                * intrinsic dimension = number of PCA feature with significant variance\n",
    "* Lets apply PCA and visualize what PCA says to us."
   ]
  },
  {
   "cell_type": "code",
   "execution_count": 7,
   "metadata": {
    "_cell_guid": "3905a534-aa20-4111-a968-9ac84db817f8",
    "_uuid": "f9614a3fb93596a7198ed643d4d37c63a397edf0",
    "collapsed": true,
    "jupyter": {
     "outputs_hidden": true
    }
   },
   "outputs": [],
   "source": [
    "n_components = 5\n",
    "(n_samples, n_features) = X.shape\n",
    "estimator = decomposition.PCA(n_components=n_components, svd_solver='randomized', whiten=True)\n",
    "estimator.fit(X)\n",
    "components_ = estimator.components_\n",
    "images = components_[:n_components]\n",
    "plt.figure(figsize=(6, 5))\n",
    "for i, comp in enumerate(images):\n",
    "    vmax = max(comp.max(), -comp.min())\n",
    "    plt.imshow(comp.reshape((64, 64)),interpolation='nearest',vmin=-vmax, vmax=vmax)\n",
    "    plt.xticks(())\n",
    "    plt.yticks(())\n",
    "plt.savefig('graph.png')\n",
    "plt.show()"
   ]
  },
  {
   "cell_type": "markdown",
   "metadata": {
    "_cell_guid": "1c416afc-a24e-4070-939c-dd630da57272",
    "_uuid": "84b0f14c2f27257986f2093ed3b03f20318bdc3e"
   },
   "source": [
    "* In sign language digits, most important things are fingers\n",
    "* After PCA, as you can see fingers are emphasized.\n",
    "* Try other images and play with n_components"
   ]
  },
  {
   "cell_type": "markdown",
   "metadata": {
    "_cell_guid": "28422631-7884-4175-a478-aa2febdb850a",
    "_uuid": "861eaade7c62f052917a0849d48f9e184289a50e",
    "collapsed": true,
    "jupyter": {
     "outputs_hidden": true
    }
   },
   "source": [
    "# Conclusion\n",
    "* If you like it, thank you for you upvotes.\n",
    "* **If you have any question, I will happy to hear it**\n"
   ]
  }
 ],
 "metadata": {
  "kernelspec": {
   "display_name": "Python 3 (ipykernel)",
   "language": "python",
   "name": "python3"
  },
  "language_info": {
   "codemirror_mode": {
    "name": "ipython",
    "version": 3
   },
   "file_extension": ".py",
   "mimetype": "text/x-python",
   "name": "python",
   "nbconvert_exporter": "python",
   "pygments_lexer": "ipython3",
   "version": "3.11.7"
  }
 },
 "nbformat": 4,
 "nbformat_minor": 4
}
